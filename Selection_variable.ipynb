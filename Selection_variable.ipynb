{
 "cells": [
  {
   "cell_type": "markdown",
   "id": "46e12247",
   "metadata": {},
   "source": [
    "# Entrainement"
   ]
  },
  {
   "cell_type": "raw",
   "id": "6bf13dd8",
   "metadata": {},
   "source": [
    "# Génération du pairplot\n",
    "sns.pairplot(data=diabete, hue='Outcome', diag_kind='hist')\n",
    "plt.suptitle('Pairplot des variables numériques')\n",
    "plt.show()"
   ]
  },
  {
   "cell_type": "code",
   "execution_count": 17,
   "id": "a3af9019",
   "metadata": {},
   "outputs": [],
   "source": [
    "import pandas as pd\n",
    "import numpy as np\n",
    "import os\n",
    "import matplotlib.pyplot as plt\n",
    "import seaborn as sns\n",
    "\n",
    "%matplotlib inline "
   ]
  },
  {
   "cell_type": "code",
   "execution_count": 18,
   "id": "d91a6ba5",
   "metadata": {},
   "outputs": [],
   "source": [
    "train=pd.read_csv('Base.csv')\n",
    "train=train.drop('Unnamed: 0',axis=1)"
   ]
  },
  {
   "cell_type": "code",
   "execution_count": 19,
   "id": "6791dd35",
   "metadata": {},
   "outputs": [],
   "source": [
    "\n",
    "#train =train[train['duree_pret_souhaitee']<70]\n",
    "#train =train[train['montant_sollicite']<3000000]\n",
    "# Remplace les valeurs nulles dans nbr_credits_octroyes par 1 pour éviter la division par zéro\n",
    "#train['nbr_credits_octroyes'] = train['nbr_credits_octroyes'].replace(0, 1)\n",
    "train['rapport_rembourse'] = train['nbr_credits_rembourses'] /train['nbr_credits_octroyes'].replace(0, 1)\n",
    "train['rapport_montant'] = ((train['montant_credits_accorde']/train['nbr_credits_octroyes'].replace(0, 1)) - train['montant_sollicite'])/train['montant_sollicite']\n",
    "train=train.drop('nbr_credits_rembourses',axis=1)\n"
   ]
  },
  {
   "cell_type": "code",
   "execution_count": 20,
   "id": "408edc75",
   "metadata": {},
   "outputs": [],
   "source": [
    "X=train.drop('a_dette_encours',axis=1)\n",
    "y=train['a_dette_encours']"
   ]
  },
  {
   "cell_type": "code",
   "execution_count": 21,
   "id": "d07c15b2",
   "metadata": {},
   "outputs": [],
   "source": [
    "#train=train.drop('montant_credits_accorde',axis=1)\n",
    "#X=X.drop('montant_sollicite',axis=1)\n",
    "#X=X.drop('duree_pret_souhaitee',axis=1)\n",
    "#X=X.drop('nbr_mois_cotisation',axis=1)\n",
    "#X=X.drop('nbr_credits_octroyes',axis=1)\n",
    "#X=X.drop('nbr_credits_rembourses',axis=1)\n",
    "#X=X.drop('anciennete_agence',axis=1)\n",
    "#X=X.drop('nbr_echeances',axis=1)\n",
    "X=X.drop('sexe',axis=1)\n",
    "X=X.drop('r',axis=1)\n",
    "X=X.drop('secteur_activite',axis=1)\n",
    "X=X.drop('profession',axis=1)\n",
    "X=X.drop('ssecteur_activite',axis=1)\n",
    "X=X.drop('age',axis=1)\n",
    "X=X.drop('duree_pret_souhaitee',axis=1)"
   ]
  },
  {
   "cell_type": "code",
   "execution_count": 22,
   "id": "5cb8ee42",
   "metadata": {},
   "outputs": [],
   "source": [
    "#X.anciennete_agence.unique()"
   ]
  },
  {
   "cell_type": "code",
   "execution_count": 23,
   "id": "f7e67be1",
   "metadata": {},
   "outputs": [],
   "source": [
    "from sklearn.feature_selection import SelectKBest, f_classif\n",
    "from sklearn.model_selection import train_test_split\n",
    "train_X,test_X,train_y,test_y=train_test_split(X,y,test_size=0.3,random_state=1)"
   ]
  },
  {
   "cell_type": "code",
   "execution_count": 24,
   "id": "323e289b",
   "metadata": {},
   "outputs": [],
   "source": [
    "from sklearn.tree import DecisionTreeClassifier\n",
    "from sklearn.svm import SVC\n",
    "from sklearn.neighbors import KNeighborsClassifier\n",
    "from sklearn.naive_bayes import GaussianNB\n",
    "from sklearn.discriminant_analysis import LinearDiscriminantAnalysis\n",
    "from sklearn.linear_model import LogisticRegression\n",
    "from sklearn.ensemble import RandomForestClassifier\n",
    "from xgboost import XGBClassifier\n",
    "from sklearn.ensemble import AdaBoostClassifier\n",
    "models=[]\n",
    "models.append((\"Logistic Regression\",LogisticRegression()))\n",
    "models.append((\"Decision Tree\",DecisionTreeClassifier()))\n",
    "models.append((\"Linear Discriminant Analysis\",LinearDiscriminantAnalysis()))\n",
    "models.append((\"Random Forest\",RandomForestClassifier()))\n",
    "models.append((\"Support Vector Classifier\",SVC()))\n",
    "models.append((\"K- Neirest Neighbour\",KNeighborsClassifier()))\n",
    "models.append((\"Naive Bayes\",GaussianNB()))\n",
    "models.append((\"XG Boost\", XGBClassifier()))\n",
    "models.append((\"AdaBoost\",AdaBoostClassifier()))\n",
    "scoring='accuracy'\n",
    "from sklearn.model_selection import KFold \n",
    "from sklearn.model_selection import cross_val_score\n",
    "result=[]\n",
    "names=[]"
   ]
  },
  {
   "cell_type": "code",
   "execution_count": 25,
   "id": "5c5ea18d",
   "metadata": {},
   "outputs": [
    {
     "name": "stdout",
     "output_type": "stream",
     "text": [
      "Accuracy sans transformation: 0.948318293683347\n",
      "Accuracy avec normalisation: 0.948318293683347\n",
      "Accuracy avec standardisation: 0.948318293683347\n"
     ]
    }
   ],
   "source": [
    "import pandas as pd\n",
    "import numpy as np\n",
    "import xgboost as xgb\n",
    "import matplotlib.pyplot as plt\n",
    "from sklearn.preprocessing import StandardScaler, MinMaxScaler, RobustScaler, MaxAbsScaler\n",
    "from sklearn.metrics import accuracy_score\n",
    "\n",
    "# Supposons que vos données sont déjà chargées dans train_X, train_y, test_X, test_y\n",
    "\n",
    "# Normalisation\n",
    "min_max_scaler = MinMaxScaler()\n",
    "train_X_normalized = min_max_scaler.fit_transform(train_X)\n",
    "test_X_normalized = min_max_scaler.transform(test_X)\n",
    "\n",
    "# Standardisation\n",
    "standard_scaler =  RobustScaler()\n",
    "train_X_standardized = standard_scaler.fit_transform(train_X)\n",
    "test_X_standardized = standard_scaler.transform(test_X)\n",
    "\n",
    "# Entraîner un modèle XGBoost sans transformation\n",
    "model = xgb.XGBClassifier()\n",
    "model.fit(train_X, train_y)\n",
    "y_pred = model.predict(test_X)\n",
    "print(f\"Accuracy sans transformation: {accuracy_score(test_y, y_pred)}\")\n",
    "\n",
    "# Entraîner un modèle XGBoost avec normalisation\n",
    "model.fit(train_X_normalized, train_y)\n",
    "y_pred_normalized = model.predict(test_X_normalized)\n",
    "print(f\"Accuracy avec normalisation: {accuracy_score(test_y, y_pred_normalized)}\")\n",
    "\n",
    "# Entraîner un modèle XGBoost avec standardisation\n",
    "model.fit(train_X_standardized, train_y)\n",
    "y_pred_standardized = model.predict(test_X_standardized)\n",
    "print(f\"Accuracy avec standardisation: {accuracy_score(test_y, y_pred_standardized)}\")\n"
   ]
  },
  {
   "cell_type": "raw",
   "id": "a49e0663",
   "metadata": {},
   "source": [
    "from sklearn.preprocessing import StandardScaler, MinMaxScaler, RobustScaler, MaxAbsScaler\n",
    "# Standardisation des données\n",
    "# Normaliser les données\n",
    "scaler =  RobustScaler()\n",
    "train_X = scaler.fit_transform(train_X)\n",
    "test_X = scaler.fit_transform(test_X)"
   ]
  },
  {
   "cell_type": "raw",
   "id": "d21810c0",
   "metadata": {},
   "source": [
    "for name,model in models:\n",
    "    kfold=KFold(n_splits=10)\n",
    "    #random_state=0\n",
    "    cv_result=cross_val_score(model,train_X,train_y,cv=kfold,scoring=scoring)\n",
    "    result.append(cv_result)\n",
    "    names.append(name)\n",
    "    print(model)\n",
    "    print(\"%s %f\" % (name,cv_result.mean()))\n",
    "    #La définition d'un random_state n'a aucun effet puisque shuffle est False. Vous devez laisser random_state sa valeur par défaut (Aucun) ou définir shuffle=True"
   ]
  },
  {
   "cell_type": "code",
   "execution_count": 26,
   "id": "729a3fd5",
   "metadata": {},
   "outputs": [
    {
     "name": "stdout",
     "output_type": "stream",
     "text": [
      "              precision    recall  f1-score   support\n",
      "\n",
      "           0       0.96      0.98      0.97      3114\n",
      "           1       0.87      0.77      0.82       543\n",
      "\n",
      "    accuracy                           0.95      3657\n",
      "   macro avg       0.91      0.88      0.89      3657\n",
      "weighted avg       0.95      0.95      0.95      3657\n",
      "\n"
     ]
    }
   ],
   "source": [
    "from sklearn import metrics\n",
    "#from sklearn.metrics import classification_report\n",
    "mod1= XGBClassifier()\n",
    "#mod1=AdaBoostClassifier()\n",
    "mod1.fit(train_X,train_y)\n",
    "y_pred = mod1.predict(test_X)\n",
    "print(metrics.classification_report(test_y, y_pred))\n",
    "#max_depth=1, learning_rate=0.1, n_estimators=100"
   ]
  },
  {
   "cell_type": "code",
   "execution_count": 27,
   "id": "f64c6c50",
   "metadata": {},
   "outputs": [
    {
     "data": {
      "text/plain": [
       "Index(['anciennete_agence', 'montant_sollicite', 'nbr_echeances',\n",
       "       'taux_interet', 'nbr_mois_cotisation', 'nbr_credits_octroyes',\n",
       "       'montant_credits_accorde', 'rapport_rembourse', 'rapport_montant'],\n",
       "      dtype='object')"
      ]
     },
     "execution_count": 27,
     "metadata": {},
     "output_type": "execute_result"
    }
   ],
   "source": [
    "test_X.columns"
   ]
  },
  {
   "cell_type": "code",
   "execution_count": 28,
   "id": "720d4503",
   "metadata": {},
   "outputs": [
    {
     "name": "stdout",
     "output_type": "stream",
     "text": [
      "Fitting 5 folds for each of 75 candidates, totalling 375 fits\n"
     ]
    }
   ],
   "source": [
    "from sklearn.model_selection import  GridSearchCV\n",
    "import time\n",
    "# Définition des paramètres à optimiser\n",
    "param_grid = {\n",
    "    # max_depth est la profondeur maximale de chaque arbre. Une valeur plus élevée rendra le modèle plus complexe et pourrait entraîner un surapprentissage.\n",
    "    'max_depth': [3, 4, 5,7,8],\n",
    "    \n",
    "    # learning_rate (ou taux d'apprentissage) est le pas d'ajustement effectué à chaque étape de l'optimisation. Une valeur plus faible rendra l'apprentissage plus lent.\n",
    "    'learning_rate': [0.01, 0.1, 0.2],\n",
    "    \n",
    "    # n_estimators est le nombre d'arbres à construire.\n",
    "    'n_estimators': [100, 200, 300,500,1000],\n",
    "    \n",
    "    \n",
    "}\n",
    "\n",
    "# Création de l'objet GridSearch\n",
    "\n",
    "model = XGBClassifier()\n",
    "grid_search = GridSearchCV(model, param_grid, cv=5, n_jobs=-1, verbose=2)\n",
    "# Enregistrement du temps actuel\n",
    "start_time = time.time()\n",
    "\n",
    "# Entraînement du modèle avec GridSearch\n",
    "grid_search.fit(train_X, train_y)\n",
    "\n",
    "# Calcul du temps d'exécution\n",
    "execution_time = time.time() - start_time"
   ]
  },
  {
   "cell_type": "code",
   "execution_count": 13,
   "id": "5c3bccc2",
   "metadata": {},
   "outputs": [
    {
     "name": "stdout",
     "output_type": "stream",
     "text": [
      "Best parameters found:  {'learning_rate': 0.01, 'max_depth': 8, 'n_estimators': 500}\n",
      "Temps d'exécution: 175.69 secondes\n"
     ]
    }
   ],
   "source": [
    "# Affichage des meilleurs paramètres\n",
    "print(\"Best parameters found: \", grid_search.best_params_)\n",
    "\n",
    "# Affichage du temps d'exécution\n",
    "print(\"Temps d'exécution: %.2f secondes\" % execution_time)\n"
   ]
  },
  {
   "cell_type": "code",
   "execution_count": 14,
   "id": "4e33f741",
   "metadata": {},
   "outputs": [],
   "source": [
    "\n",
    "# Utilisation du meilleur modèle trouvé pour la prédiction\n",
    "best_model = grid_search.best_estimator_\n",
    "y_train_pred = best_model.predict(train_X)\n",
    "y_test_pred = best_model.predict(test_X)"
   ]
  },
  {
   "cell_type": "code",
   "execution_count": 15,
   "id": "6198d7d3",
   "metadata": {},
   "outputs": [
    {
     "name": "stdout",
     "output_type": "stream",
     "text": [
      "\n",
      "Train Classification Report:\n",
      "              precision    recall  f1-score   support\n",
      "\n",
      "           0       0.97      0.99      0.98      7183\n",
      "           1       0.93      0.84      0.88      1347\n",
      "\n",
      "    accuracy                           0.96      8530\n",
      "   macro avg       0.95      0.91      0.93      8530\n",
      "weighted avg       0.96      0.96      0.96      8530\n",
      "\n",
      "\n",
      "Test Classification Report:\n",
      "              precision    recall  f1-score   support\n",
      "\n",
      "           0       0.96      0.98      0.97      3114\n",
      "           1       0.88      0.76      0.82       543\n",
      "\n",
      "    accuracy                           0.95      3657\n",
      "   macro avg       0.92      0.87      0.89      3657\n",
      "weighted avg       0.95      0.95      0.95      3657\n",
      "\n"
     ]
    }
   ],
   "source": [
    "from sklearn.metrics import classification_report\n",
    "# Classification Report\n",
    "print(\"\\nTrain Classification Report:\")\n",
    "print(classification_report(train_y, y_train_pred))\n",
    "print(\"\\nTest Classification Report:\")\n",
    "print(classification_report(test_y, y_test_pred))"
   ]
  },
  {
   "cell_type": "raw",
   "id": "2ef76a80",
   "metadata": {},
   "source": [
    "import xgboost as xgb\n",
    "from xgboost import plot_importance\n",
    "import matplotlib.pyplot as plt\n",
    "\n",
    "\n",
    "\n",
    "# Entraîner un modèle XGBoost\n",
    "model = xgb.XGBClassifier()\n",
    "model.fit(train_X, train_y)\n",
    "\n",
    "# Afficher l'importance des caractéristiques\n",
    "plot_importance(model)\n",
    "plt.show()\n",
    "\n",
    "# Récupérer les caractéristiques les plus importantes\n",
    "importances = model.feature_importances_\n",
    "features = X.columns\n",
    "\n",
    "# Créer un DataFrame pour mieux visualiser\n",
    "importance_df = pd.DataFrame({'Feature': features, 'Importance': importances})\n",
    "importance_df = importance_df.sort_values(by='Importance', ascending=False)\n",
    "\n",
    "print(importance_df)\n"
   ]
  },
  {
   "cell_type": "code",
   "execution_count": 186,
   "id": "a66e6012",
   "metadata": {},
   "outputs": [
    {
     "data": {
      "image/png": "[encoded data removed]",
      "text/plain": [
       "<Figure size 640x480 with 1 Axes>"
      ]
     },
     "metadata": {},
     "output_type": "display_data"
    },
    {
     "name": "stdout",
     "output_type": "stream",
     "text": [
      "                   Feature  Importance\n",
      "8        rapport_rembourse    0.439925\n",
      "2     duree_pret_souhaitee    0.214918\n",
      "5      nbr_mois_cotisation    0.093978\n",
      "4             taux_interet    0.076374\n",
      "3            nbr_echeances    0.043002\n",
      "6     nbr_credits_octroyes    0.040568\n",
      "9          rapport_rembour    0.034539\n",
      "0        anciennete_agence    0.020579\n",
      "7  montant_credits_accorde    0.018484\n",
      "1        montant_sollicite    0.017635\n"
     ]
    },
    {
     "data": {
      "image/png": "[encoded data removed]",
      "text/plain": [
       "<Figure size 1000x500 with 1 Axes>"
      ]
     },
     "metadata": {},
     "output_type": "display_data"
    }
   ],
   "source": [
    "import pandas as pd\n",
    "import numpy as np\n",
    "import xgboost as xgb\n",
    "import matplotlib.pyplot as plt\n",
    "from xgboost import plot_importance\n",
    "\n",
    "# Entraîner un modèle XGBoost\n",
    "model = xgb.XGBClassifier()\n",
    "model.fit(train_X, train_y)\n",
    "\n",
    "# Afficher l'importance des caractéristiques\n",
    "plot_importance(model)\n",
    "plt.show()\n",
    "\n",
    "# Récupérer les caractéristiques les plus importantes\n",
    "importances = model.feature_importances_\n",
    "features = train_X.columns\n",
    "\n",
    "# Créer un DataFrame pour mieux visualiser\n",
    "importance_df = pd.DataFrame({'Feature': features, 'Importance': importances})\n",
    "importance_df = importance_df.sort_values(by='Importance', ascending=False)\n",
    "\n",
    "print(importance_df)\n",
    "\n",
    "# Affichage de l'importance des variables pour le modèle non transformé\n",
    "indices = np.argsort(importances)[::-1]\n",
    "\n",
    "plt.figure(figsize=(10, 5))\n",
    "plt.title(\"Importance des variables\")\n",
    "plt.bar(range(train_X.shape[1]), importances[indices])\n",
    "plt.xticks(range(train_X.shape[1]), features[indices], rotation=90)\n",
    "plt.show()\n"
   ]
  },
  {
   "cell_type": "raw",
   "id": "02f849d7",
   "metadata": {},
   "source": [
    "# Affichage de l'importance des variables\n",
    "indices = np.argsort(importances)[::-1]\n",
    "\n",
    "plt.figure(figsize=(10,5))\n",
    "plt.title(\"Importance des variables\")\n",
    "plt.bar(range(train_X.shape[1]), importances[indices])\n",
    "plt.xticks(range(train_X.shape[1]), X.columns[indices], rotation=90)\n",
    "plt.show()"
   ]
  },
  {
   "cell_type": "code",
   "execution_count": 188,
   "id": "371365f0",
   "metadata": {},
   "outputs": [
    {
     "data": {
      "image/png": "[encoded data removed]",
      "text/plain": [
       "<Figure size 800x550 with 1 Axes>"
      ]
     },
     "metadata": {},
     "output_type": "display_data"
    }
   ],
   "source": [
    "import shap\n",
    "# Création de l'objet explainer\n",
    "explainer = shap.TreeExplainer(grid_search.best_estimator_)\n",
    "\n",
    "# Calcul des valeurs SHAP\n",
    "shap_values = explainer.shap_values(train_X)\n",
    "\n",
    "# Tracer le graphique SHAP de synthèse\n",
    "shap.summary_plot(shap_values, train_X, plot_type=\"bar\")\n",
    "\n",
    "# Afficher le graphique\n",
    "plt.show()"
   ]
  },
  {
   "cell_type": "code",
   "execution_count": 189,
   "id": "7ff060e1",
   "metadata": {},
   "outputs": [
    {
     "data": {
      "image/png": "[encoded data removed]",
      "text/plain": [
       "<Figure size 1000x800 with 1 Axes>"
      ]
     },
     "metadata": {},
     "output_type": "display_data"
    }
   ],
   "source": [
    "from sklearn.metrics import roc_curve, auc\n",
    "# Obtenir les prédictions du modèle sur l'ensemble d'entraînement et de test\n",
    "result=mod1\n",
    "y_train_pred = result.predict(train_X)\n",
    "y_test_pred = result.predict(test_X)\n",
    "\n",
    "# Calculer les courbes ROC et les aires sous la courbe (AUC)\n",
    "fpr_train, tpr_train, thresholds_train = roc_curve(train_y, y_train_pred)\n",
    "roc_auc_train = auc(fpr_train, tpr_train)\n",
    "\n",
    "fpr_test, tpr_test, thresholds_test = roc_curve(test_y, y_test_pred)\n",
    "roc_auc_test = auc(fpr_test, tpr_test)\n",
    "\n",
    "# Tracer les courbes ROC\n",
    "plt.figure(figsize=(10, 8))\n",
    "plt.plot(fpr_train, tpr_train, color='darkorange', lw=2, label='ROC curve (train) (AUC = %0.2f)' % roc_auc_train)\n",
    "plt.plot(fpr_test, tpr_test, color='green', lw=2, label='ROC curve (test) (AUC = %0.2f)' % roc_auc_test)\n",
    "plt.plot([0, 1], [0, 1], color='navy', lw=2, linestyle='--')\n",
    "plt.xlim([0.0, 1.0])\n",
    "plt.ylim([0.0, 1.05])\n",
    "plt.xlabel('Taux de faux positifs')\n",
    "plt.ylabel('Taux de vrais positifs')\n",
    "plt.title('Courbes ROC')\n",
    "plt.legend(loc=\"lower right\")\n",
    "plt.show()"
   ]
  },
  {
   "cell_type": "code",
   "execution_count": 190,
   "id": "fb0a2a39",
   "metadata": {},
   "outputs": [
    {
     "name": "stdout",
     "output_type": "stream",
     "text": [
      "                   feature  importance\n",
      "8        rapport_rembourse    0.447866\n",
      "2     duree_pret_souhaitee    0.209968\n",
      "5      nbr_mois_cotisation    0.113261\n",
      "4             taux_interet    0.068763\n",
      "9          rapport_rembour    0.038856\n",
      "6     nbr_credits_octroyes    0.036463\n",
      "3            nbr_echeances    0.034093\n",
      "0        anciennete_agence    0.019213\n",
      "7  montant_credits_accorde    0.017529\n",
      "1        montant_sollicite    0.013989\n"
     ]
    }
   ],
   "source": [
    "# Importance des variables\n",
    "importance_scores = best_model.feature_importances_\n",
    "\n",
    "# Création du DataFrame d'importance des variables\n",
    "importance_df = pd.DataFrame({\n",
    "    'feature': X.columns,\n",
    "    'importance': importance_scores\n",
    "}).sort_values(by='importance', ascending=False)\n",
    "\n",
    "# Affichage du DataFrame d'importance des variables\n",
    "print(importance_df)\n",
    "\n"
   ]
  },
  {
   "cell_type": "code",
   "execution_count": 16,
   "id": "bdd65f6d",
   "metadata": {},
   "outputs": [
    {
     "data": {
      "text/plain": [
       "Index(['anciennete_agence', 'montant_sollicite', 'nbr_echeances',\n",
       "       'taux_interet', 'nbr_mois_cotisation', 'nbr_credits_octroyes',\n",
       "       'montant_credits_accorde', 'rapport_rembourse', 'rapport_montant'],\n",
       "      dtype='object')"
      ]
     },
     "execution_count": 16,
     "metadata": {},
     "output_type": "execute_result"
    }
   ],
   "source": [
    "X.columns"
   ]
  },
  {
   "cell_type": "code",
   "execution_count": 192,
   "id": "fdc4fe32",
   "metadata": {},
   "outputs": [
    {
     "data": {
      "text/plain": [
       "<bound method XGBClassifier.predict_proba of XGBClassifier(base_score=None, booster=None, callbacks=None,\n",
       "              colsample_bylevel=None, colsample_bynode=None,\n",
       "              colsample_bytree=None, device=None, early_stopping_rounds=None,\n",
       "              enable_categorical=False, eval_metric=None, feature_types=None,\n",
       "              gamma=None, grow_policy=None, importance_type=None,\n",
       "              interaction_constraints=None, learning_rate=0.2, max_bin=None,\n",
       "              max_cat_threshold=None, max_cat_to_onehot=None,\n",
       "              max_delta_step=None, max_depth=5, max_leaves=None,\n",
       "              min_child_weight=None, missing=nan, monotone_constraints=None,\n",
       "              multi_strategy=None, n_estimators=100, n_jobs=None,\n",
       "              num_parallel_tree=None, random_state=None, ...)>"
      ]
     },
     "execution_count": 192,
     "metadata": {},
     "output_type": "execute_result"
    }
   ],
   "source": [
    "best_model.predict_proba"
   ]
  },
  {
   "cell_type": "code",
   "execution_count": 193,
   "id": "0d0a41f9",
   "metadata": {},
   "outputs": [
    {
     "name": "stderr",
     "output_type": "stream",
     "text": [
      "[I 2024-07-13 22:26:21,829] A new study created in memory with name: no-name-525d9080-c821-44d1-b42a-c1e6c2c0f311\n",
      "[I 2024-07-13 22:26:22,027] Trial 0 finished with value: 0.9354581509239056 and parameters: {'max_depth': 2, 'learning_rate': 0.08461626269488381, 'n_estimators': 60, 'subsample': 0.9089462079716151, 'colsample_bytree': 0.9597661346131255, 'lambda': 0.829841815259935, 'alpha': 0.6674069476716332}. Best is trial 0 with value: 0.9354581509239056.\n",
      "[I 2024-07-13 22:26:22,662] Trial 1 finished with value: 0.9425489593688967 and parameters: {'max_depth': 6, 'learning_rate': 0.031063933384296527, 'n_estimators': 182, 'subsample': 0.718532188964019, 'colsample_bytree': 0.5507994035605204, 'lambda': 0.7308262096262085, 'alpha': 0.41178797033005865}. Best is trial 1 with value: 0.9425489593688967.\n",
      "[I 2024-07-13 22:26:23,104] Trial 2 finished with value: 0.9458643949581446 and parameters: {'max_depth': 2, 'learning_rate': 0.2617656572972166, 'n_estimators': 193, 'subsample': 0.8473793209805256, 'colsample_bytree': 0.8842630801420699, 'lambda': 0.4593394126652301, 'alpha': 0.1545199564140338}. Best is trial 2 with value: 0.9458643949581446.\n",
      "[I 2024-07-13 22:26:23,889] Trial 3 finished with value: 0.9444996508301305 and parameters: {'max_depth': 8, 'learning_rate': 0.1820074365544549, 'n_estimators': 175, 'subsample': 0.7388638561987579, 'colsample_bytree': 0.7207401407356562, 'lambda': 0.8926817480300261, 'alpha': 0.03944043297435473}. Best is trial 2 with value: 0.9458643949581446.\n",
      "[I 2024-07-13 22:26:24,286] Trial 4 finished with value: 0.9448027925057828 and parameters: {'max_depth': 4, 'learning_rate': 0.15540482277358023, 'n_estimators': 133, 'subsample': 0.9468638670645544, 'colsample_bytree': 0.6680501503163483, 'lambda': 0.37619039255896186, 'alpha': 0.24553048957950316}. Best is trial 2 with value: 0.9458643949581446.\n",
      "[I 2024-07-13 22:26:24,521] Trial 5 finished with value: 0.9411007828434758 and parameters: {'max_depth': 2, 'learning_rate': 0.12730603284777917, 'n_estimators': 108, 'subsample': 0.9676419897008939, 'colsample_bytree': 0.648829508492575, 'lambda': 0.8303518027631676, 'alpha': 0.7175113148580821}. Best is trial 2 with value: 0.9458643949581446.\n",
      "[I 2024-07-13 22:26:25,360] Trial 6 finished with value: 0.9465640359273485 and parameters: {'max_depth': 9, 'learning_rate': 0.06959468253925491, 'n_estimators': 167, 'subsample': 0.9900022428690138, 'colsample_bytree': 0.634475560838156, 'lambda': 0.305349906264163, 'alpha': 0.8918900087080488}. Best is trial 6 with value: 0.9465640359273485.\n",
      "[I 2024-07-13 22:26:26,006] Trial 7 finished with value: 0.9403197705773184 and parameters: {'max_depth': 6, 'learning_rate': 0.24063849505918128, 'n_estimators': 192, 'subsample': 0.6998005921768842, 'colsample_bytree': 0.5839887809253348, 'lambda': 0.048324774409110614, 'alpha': 0.23270070891037736}. Best is trial 6 with value: 0.9465640359273485.\n",
      "[I 2024-07-13 22:26:26,353] Trial 8 finished with value: 0.9419662883256373 and parameters: {'max_depth': 3, 'learning_rate': 0.07489713367208312, 'n_estimators': 131, 'subsample': 0.6092700040797967, 'colsample_bytree': 0.6155964995185365, 'lambda': 0.11144423163734088, 'alpha': 0.3888874138482839}. Best is trial 6 with value: 0.9465640359273485.\n",
      "[I 2024-07-13 22:26:26,907] Trial 9 finished with value: 0.9458787497500253 and parameters: {'max_depth': 7, 'learning_rate': 0.06060478168702067, 'n_estimators': 132, 'subsample': 0.7458742542114729, 'colsample_bytree': 0.823955027360624, 'lambda': 0.014478160061038825, 'alpha': 0.5382411180602124}. Best is trial 6 with value: 0.9465640359273485.\n",
      "[I 2024-07-13 22:26:27,697] Trial 10 finished with value: 0.9421908886252677 and parameters: {'max_depth': 10, 'learning_rate': 0.202978721049766, 'n_estimators': 163, 'subsample': 0.541506947894413, 'colsample_bytree': 0.501632642759107, 'lambda': 0.31975050889888623, 'alpha': 0.9327657798700533}. Best is trial 6 with value: 0.9465640359273485.\n",
      "[I 2024-07-13 22:26:28,481] Trial 11 finished with value: 0.9433325070288987 and parameters: {'max_depth': 9, 'learning_rate': 0.01508828671086998, 'n_estimators': 152, 'subsample': 0.823969474388282, 'colsample_bytree': 0.811380365283156, 'lambda': 0.21507380269004284, 'alpha': 0.9620712992225874}. Best is trial 6 with value: 0.9465640359273485.\n",
      "[I 2024-07-13 22:26:28,945] Trial 12 finished with value: 0.9442671720577689 and parameters: {'max_depth': 8, 'learning_rate': 0.08752493929485461, 'n_estimators': 99, 'subsample': 0.8191425332192815, 'colsample_bytree': 0.7906912923979287, 'lambda': 0.5913411445201278, 'alpha': 0.6762933508075029}. Best is trial 6 with value: 0.9465640359273485.\n",
      "[I 2024-07-13 22:26:29,557] Trial 13 finished with value: 0.947776560271079 and parameters: {'max_depth': 7, 'learning_rate': 0.055639922974835165, 'n_estimators': 148, 'subsample': 0.6459131399489362, 'colsample_bytree': 0.8581337930011734, 'lambda': 0.01668158749934684, 'alpha': 0.8424888903678627}. Best is trial 13 with value: 0.947776560271079.\n",
      "[I 2024-07-13 22:26:30,373] Trial 14 finished with value: 0.945105649813988 and parameters: {'max_depth': 10, 'learning_rate': 0.11482739510456358, 'n_estimators': 155, 'subsample': 0.6239836252318185, 'colsample_bytree': 0.9972809985175217, 'lambda': 0.23767936771420484, 'alpha': 0.7790059651117852}. Best is trial 13 with value: 0.947776560271079.\n",
      "[I 2024-07-13 22:26:30,694] Trial 15 finished with value: 0.940114236908715 and parameters: {'max_depth': 5, 'learning_rate': 0.042054158870983946, 'n_estimators': 87, 'subsample': 0.509995522235245, 'colsample_bytree': 0.7228077196779388, 'lambda': 0.5464294543417416, 'alpha': 0.8481384916275188}. Best is trial 13 with value: 0.947776560271079.\n",
      "[I 2024-07-13 22:26:31,437] Trial 16 finished with value: 0.9442588026619855 and parameters: {'max_depth': 8, 'learning_rate': 0.2998436066869271, 'n_estimators': 149, 'subsample': 0.6432643365703459, 'colsample_bytree': 0.9035453365183408, 'lambda': 0.17385042534390116, 'alpha': 0.5653222374636302}. Best is trial 13 with value: 0.947776560271079.\n",
      "[I 2024-07-13 22:26:32,103] Trial 17 finished with value: 0.943939041242556 and parameters: {'max_depth': 7, 'learning_rate': 0.109791923540452, 'n_estimators': 168, 'subsample': 0.8777075413193587, 'colsample_bytree': 0.8784791499601394, 'lambda': 0.3121969580402335, 'alpha': 0.9997982361858029}. Best is trial 13 with value: 0.947776560271079.\n",
      "[I 2024-07-13 22:26:32,721] Trial 18 finished with value: 0.943635381864016 and parameters: {'max_depth': 9, 'learning_rate': 0.14979208090719742, 'n_estimators': 115, 'subsample': 0.9893254668829415, 'colsample_bytree': 0.6838599109241947, 'lambda': 0.6598165971185521, 'alpha': 0.8555886511871738}. Best is trial 13 with value: 0.947776560271079.\n",
      "[I 2024-07-13 22:26:33,189] Trial 19 finished with value: 0.9227150469085734 and parameters: {'max_depth': 5, 'learning_rate': 0.010171090624273987, 'n_estimators': 140, 'subsample': 0.788290636032889, 'colsample_bytree': 0.7477292253561991, 'lambda': 0.9979359462398305, 'alpha': 0.7909215095697273}. Best is trial 13 with value: 0.947776560271079.\n",
      "[I 2024-07-13 22:26:33,556] Trial 20 finished with value: 0.9453719811857969 and parameters: {'max_depth': 7, 'learning_rate': 0.053606314357521785, 'n_estimators': 79, 'subsample': 0.6775017663059489, 'colsample_bytree': 0.7861781337084326, 'lambda': 0.4373643223462482, 'alpha': 0.8738253275861511}. Best is trial 13 with value: 0.947776560271079.\n",
      "[I 2024-07-13 22:26:34,201] Trial 21 finished with value: 0.9456657962444577 and parameters: {'max_depth': 7, 'learning_rate': 0.059056187282774, 'n_estimators': 127, 'subsample': 0.7873006607564308, 'colsample_bytree': 0.8490941566605366, 'lambda': 0.00704332246424933, 'alpha': 0.5508789950682518}. Best is trial 13 with value: 0.947776560271079.\n",
      "[I 2024-07-13 22:26:34,961] Trial 22 finished with value: 0.9445455033835186 and parameters: {'max_depth': 9, 'learning_rate': 0.09775771463652347, 'n_estimators': 143, 'subsample': 0.5724506179973199, 'colsample_bytree': 0.8341744116996676, 'lambda': 0.1228227945664605, 'alpha': 0.6264963419115567}. Best is trial 13 with value: 0.947776560271079.\n",
      "[I 2024-07-13 22:26:35,535] Trial 23 finished with value: 0.9465719806958858 and parameters: {'max_depth': 7, 'learning_rate': 0.06806326556528458, 'n_estimators': 115, 'subsample': 0.7744861134402834, 'colsample_bytree': 0.9322799694233028, 'lambda': 0.07841415845873166, 'alpha': 0.42345552728944175}. Best is trial 13 with value: 0.947776560271079.\n"
     ]
    },
    {
     "name": "stderr",
     "output_type": "stream",
     "text": [
      "[I 2024-07-13 22:26:36,097] Trial 24 finished with value: 0.9452070097815806 and parameters: {'max_depth': 6, 'learning_rate': 0.0344082895397194, 'n_estimators': 117, 'subsample': 0.9173685984817059, 'colsample_bytree': 0.9381061586805203, 'lambda': 0.10884512085573196, 'alpha': 0.4272015094687384}. Best is trial 13 with value: 0.947776560271079.\n",
      "[I 2024-07-13 22:26:36,915] Trial 25 finished with value: 0.94286506409211 and parameters: {'max_depth': 8, 'learning_rate': 0.13603883545508955, 'n_estimators': 163, 'subsample': 0.652438881866318, 'colsample_bytree': 0.9326704011560039, 'lambda': 0.2882098515192771, 'alpha': 0.30856405342291493}. Best is trial 13 with value: 0.947776560271079.\n",
      "[I 2024-07-13 22:26:37,555] Trial 26 finished with value: 0.9466978850385537 and parameters: {'max_depth': 9, 'learning_rate': 0.06887835581886692, 'n_estimators': 102, 'subsample': 0.5953733276737897, 'colsample_bytree': 0.9663948995591515, 'lambda': 0.16885536876233495, 'alpha': 0.4700151378658307}. Best is trial 13 with value: 0.947776560271079.\n",
      "[I 2024-07-13 22:26:37,919] Trial 27 finished with value: 0.9447570658070206 and parameters: {'max_depth': 4, 'learning_rate': 0.10126620108547371, 'n_estimators': 95, 'subsample': 0.5800815174193874, 'colsample_bytree': 0.992629012212575, 'lambda': 0.16151650350924568, 'alpha': 0.461892203993494}. Best is trial 13 with value: 0.947776560271079.\n",
      "[I 2024-07-13 22:26:38,391] Trial 28 finished with value: 0.9453246084317704 and parameters: {'max_depth': 10, 'learning_rate': 0.03853464565443901, 'n_estimators': 64, 'subsample': 0.6736707666021245, 'colsample_bytree': 0.9605267649226422, 'lambda': 0.07855307553463715, 'alpha': 0.3195896737949878}. Best is trial 13 with value: 0.947776560271079.\n",
      "[I 2024-07-13 22:26:38,661] Trial 29 finished with value: 0.9132320107757544 and parameters: {'max_depth': 1, 'learning_rate': 0.07886726256671112, 'n_estimators': 75, 'subsample': 0.5963683096720777, 'colsample_bytree': 0.9131496257759006, 'lambda': 0.21708969682347065, 'alpha': 0.6354083094675255}. Best is trial 13 with value: 0.947776560271079.\n",
      "[I 2024-07-13 22:26:38,972] Trial 30 finished with value: 0.9466592257363581 and parameters: {'max_depth': 7, 'learning_rate': 0.18080156163768749, 'n_estimators': 51, 'subsample': 0.5453561658707071, 'colsample_bytree': 0.9643846835293248, 'lambda': 0.018937620785508383, 'alpha': 0.3452179847615193}. Best is trial 13 with value: 0.947776560271079.\n",
      "[I 2024-07-13 22:26:39,289] Trial 31 finished with value: 0.9468298859388697 and parameters: {'max_depth': 7, 'learning_rate': 0.18378627618595453, 'n_estimators': 57, 'subsample': 0.5464343279875947, 'colsample_bytree': 0.9482554432693989, 'lambda': 0.00010627863040085783, 'alpha': 0.35789398917907933}. Best is trial 13 with value: 0.947776560271079.\n",
      "[I 2024-07-13 22:26:39,590] Trial 32 finished with value: 0.9471314363954052 and parameters: {'max_depth': 6, 'learning_rate': 0.19288533474868097, 'n_estimators': 53, 'subsample': 0.5022925904868996, 'colsample_bytree': 0.9616744693583636, 'lambda': 0.01573098232115694, 'alpha': 0.3457338825814599}. Best is trial 13 with value: 0.947776560271079.\n",
      "[I 2024-07-13 22:26:39,999] Trial 33 finished with value: 0.9411216622048574 and parameters: {'max_depth': 6, 'learning_rate': 0.21516905953102913, 'n_estimators': 64, 'subsample': 0.5167004413178699, 'colsample_bytree': 0.8752437690751939, 'lambda': 0.15210291604836915, 'alpha': 0.4933997581511791}. Best is trial 13 with value: 0.947776560271079.\n",
      "[I 2024-07-13 22:26:40,315] Trial 34 finished with value: 0.9448027925057828 and parameters: {'max_depth': 5, 'learning_rate': 0.1745458311923479, 'n_estimators': 54, 'subsample': 0.5471710692996935, 'colsample_bytree': 0.9757046104012767, 'lambda': 0.06393498199858927, 'alpha': 0.13676152003838954}. Best is trial 13 with value: 0.947776560271079.\n",
      "[I 2024-07-13 22:26:40,677] Trial 35 finished with value: 0.9454530692968469 and parameters: {'max_depth': 6, 'learning_rate': 0.20482995273795623, 'n_estimators': 72, 'subsample': 0.5661294447354286, 'colsample_bytree': 0.8583057218291219, 'lambda': 0.01416976492438635, 'alpha': 0.19680865213738047}. Best is trial 13 with value: 0.947776560271079.\n",
      "[I 2024-07-13 22:26:40,996] Trial 36 finished with value: 0.9479063819663355 and parameters: {'max_depth': 4, 'learning_rate': 0.23179835956394232, 'n_estimators': 84, 'subsample': 0.5045935590044128, 'colsample_bytree': 0.906660630578545, 'lambda': 0.3936786596515699, 'alpha': 0.09888193649507948}. Best is trial 36 with value: 0.9479063819663355.\n",
      "[I 2024-07-13 22:26:41,275] Trial 37 finished with value: 0.9491103868693804 and parameters: {'max_depth': 4, 'learning_rate': 0.2333186971658529, 'n_estimators': 60, 'subsample': 0.5092926411900092, 'colsample_bytree': 0.8947075719226155, 'lambda': 0.4092574827398802, 'alpha': 0.021031350494298495}. Best is trial 37 with value: 0.9491103868693804.\n",
      "[I 2024-07-13 22:26:41,657] Trial 38 finished with value: 0.943746682750852 and parameters: {'max_depth': 4, 'learning_rate': 0.24813157555681056, 'n_estimators': 89, 'subsample': 0.5012848873822465, 'colsample_bytree': 0.8807180118156207, 'lambda': 0.4071219429609383, 'alpha': 0.03538588409927186}. Best is trial 37 with value: 0.9491103868693804.\n",
      "[I 2024-07-13 22:26:41,895] Trial 39 finished with value: 0.9465280550114016 and parameters: {'max_depth': 3, 'learning_rate': 0.23209154614344085, 'n_estimators': 66, 'subsample': 0.5280367998381997, 'colsample_bytree': 0.9068134150463819, 'lambda': 0.5101378930566192, 'alpha': 0.0035427353215871926}. Best is trial 37 with value: 0.9491103868693804.\n",
      "[I 2024-07-13 22:26:42,172] Trial 40 finished with value: 0.9469563602110043 and parameters: {'max_depth': 3, 'learning_rate': 0.2557458709969905, 'n_estimators': 85, 'subsample': 0.626925477321839, 'colsample_bytree': 0.7940714314493453, 'lambda': 0.4732000032858766, 'alpha': 0.09139145355387157}. Best is trial 37 with value: 0.9491103868693804.\n",
      "[I 2024-07-13 22:26:42,453] Trial 41 finished with value: 0.9452724351383377 and parameters: {'max_depth': 3, 'learning_rate': 0.2772509286600388, 'n_estimators': 80, 'subsample': 0.5003701839686521, 'colsample_bytree': 0.7826761655945338, 'lambda': 0.7332494635107231, 'alpha': 0.11776220166904983}. Best is trial 37 with value: 0.9491103868693804.\n",
      "[I 2024-07-13 22:26:42,794] Trial 42 finished with value: 0.9418879471388379 and parameters: {'max_depth': 4, 'learning_rate': 0.2629264328813241, 'n_estimators': 69, 'subsample': 0.6161296176578475, 'colsample_bytree': 0.8525941683884937, 'lambda': 0.3684459296065176, 'alpha': 0.089864324217158}. Best is trial 37 with value: 0.9491103868693804.\n",
      "[I 2024-07-13 22:26:43,045] Trial 43 finished with value: 0.9412024154587266 and parameters: {'max_depth': 2, 'learning_rate': 0.22507855939143548, 'n_estimators': 50, 'subsample': 0.7229783066913726, 'colsample_bytree': 0.9030418274389751, 'lambda': 0.5095669686320096, 'alpha': 0.18295930067023336}. Best is trial 37 with value: 0.9491103868693804.\n",
      "[I 2024-07-13 22:26:43,342] Trial 44 finished with value: 0.9443797124412262 and parameters: {'max_depth': 3, 'learning_rate': 0.247678271991492, 'n_estimators': 86, 'subsample': 0.5609616853062941, 'colsample_bytree': 0.8124877159155254, 'lambda': 0.6112425831229319, 'alpha': 0.07603647469740797}. Best is trial 37 with value: 0.9491103868693804.\n",
      "[I 2024-07-13 22:26:43,603] Trial 45 finished with value: 0.9454530692968469 and parameters: {'max_depth': 4, 'learning_rate': 0.2624223636817571, 'n_estimators': 59, 'subsample': 0.5308257891929895, 'colsample_bytree': 0.7641924049051592, 'lambda': 0.4479880426372363, 'alpha': 0.2689571545156234}. Best is trial 37 with value: 0.9491103868693804.\n",
      "[I 2024-07-13 22:26:44,264] Trial 46 finished with value: 0.9445151218307387 and parameters: {'max_depth': 5, 'learning_rate': 0.2014884858981364, 'n_estimators': 185, 'subsample': 0.6967405664049252, 'colsample_bytree': 0.8351601647450965, 'lambda': 0.3679076261243591, 'alpha': 0.05708163513139919}. Best is trial 37 with value: 0.9491103868693804.\n",
      "[I 2024-07-13 22:26:44,559] Trial 47 finished with value: 0.9415603359475913 and parameters: {'max_depth': 2, 'learning_rate': 0.16138546589041852, 'n_estimators': 79, 'subsample': 0.588503595386344, 'colsample_bytree': 0.8608916091988371, 'lambda': 0.26405337494415126, 'alpha': 0.004778922657488416}. Best is trial 37 with value: 0.9491103868693804.\n"
     ]
    },
    {
     "name": "stderr",
     "output_type": "stream",
     "text": [
      "[I 2024-07-13 22:26:44,869] Trial 48 finished with value: 0.9485974126251361 and parameters: {'max_depth': 3, 'learning_rate': 0.27940806523181233, 'n_estimators': 93, 'subsample': 0.6328000927153291, 'colsample_bytree': 0.9221074518268144, 'lambda': 0.7735684583290916, 'alpha': 0.17940209360685688}. Best is trial 37 with value: 0.9491103868693804.\n",
      "[I 2024-07-13 22:26:45,090] Trial 49 finished with value: 0.9381615684695823 and parameters: {'max_depth': 1, 'learning_rate': 0.29789858918429846, 'n_estimators': 106, 'subsample': 0.6537874286804856, 'colsample_bytree': 0.9211976962520725, 'lambda': 0.8219242597607808, 'alpha': 0.2340950459669097}. Best is trial 37 with value: 0.9491103868693804.\n",
      "[I 2024-07-13 22:26:45,437] Trial 50 finished with value: 0.9437917670202851 and parameters: {'max_depth': 5, 'learning_rate': 0.27501935838860847, 'n_estimators': 96, 'subsample': 0.5224322540184358, 'colsample_bytree': 0.8912313382248487, 'lambda': 0.6817118161079412, 'alpha': 0.20109900020894397}. Best is trial 37 with value: 0.9491103868693804.\n",
      "[I 2024-07-13 22:26:45,759] Trial 51 finished with value: 0.9474720405235996 and parameters: {'max_depth': 3, 'learning_rate': 0.28276493579445533, 'n_estimators': 91, 'subsample': 0.6237089869487292, 'colsample_bytree': 0.8072146701489856, 'lambda': 0.5723677706386496, 'alpha': 0.15593215561331397}. Best is trial 37 with value: 0.9491103868693804.\n",
      "[I 2024-07-13 22:26:46,063] Trial 52 finished with value: 0.9455863702841097 and parameters: {'max_depth': 4, 'learning_rate': 0.28197943220735694, 'n_estimators': 93, 'subsample': 0.6374292721228249, 'colsample_bytree': 0.8932961245140552, 'lambda': 0.8215350946950085, 'alpha': 0.2788639612203525}. Best is trial 37 with value: 0.9491103868693804.\n",
      "[I 2024-07-13 22:26:46,374] Trial 53 finished with value: 0.9461006835974718 and parameters: {'max_depth': 3, 'learning_rate': 0.23018484605251052, 'n_estimators': 120, 'subsample': 0.680751289465391, 'colsample_bytree': 0.9869808712996957, 'lambda': 0.9439142081101224, 'alpha': 0.16046322313019137}. Best is trial 37 with value: 0.9491103868693804.\n",
      "[I 2024-07-13 22:26:46,633] Trial 54 finished with value: 0.9427959277345769 and parameters: {'max_depth': 2, 'learning_rate': 0.29009388194373736, 'n_estimators': 107, 'subsample': 0.6048640541603522, 'colsample_bytree': 0.951263550410347, 'lambda': 0.5661604535423277, 'alpha': 0.11402910671523814}. Best is trial 37 with value: 0.9491103868693804.\n",
      "[I 2024-07-13 22:26:46,958] Trial 55 finished with value: 0.9476478863200634 and parameters: {'max_depth': 6, 'learning_rate': 0.21452294541582148, 'n_estimators': 74, 'subsample': 0.7246871998251148, 'colsample_bytree': 0.8669416185497357, 'lambda': 0.7867985875130082, 'alpha': 0.15870117709267761}. Best is trial 37 with value: 0.9491103868693804.\n",
      "[I 2024-07-13 22:26:47,209] Trial 56 finished with value: 0.9460015520950049 and parameters: {'max_depth': 3, 'learning_rate': 0.21620602762935395, 'n_estimators': 72, 'subsample': 0.7223387460680857, 'colsample_bytree': 0.8361025490739972, 'lambda': 0.7558294511510097, 'alpha': 0.1561467707397968}. Best is trial 37 with value: 0.9491103868693804.\n",
      "[I 2024-07-13 22:26:47,607] Trial 57 finished with value: 0.9449387103061384 and parameters: {'max_depth': 4, 'learning_rate': 0.24460846768146632, 'n_estimators': 136, 'subsample': 0.7626795125535876, 'colsample_bytree': 0.8671833818986798, 'lambda': 0.8728041768916812, 'alpha': 0.21832598346126714}. Best is trial 37 with value: 0.9491103868693804.\n",
      "[I 2024-07-13 22:26:47,905] Trial 58 finished with value: 0.9464884505555061 and parameters: {'max_depth': 5, 'learning_rate': 0.27149917990712846, 'n_estimators': 77, 'subsample': 0.7410993023824071, 'colsample_bytree': 0.8120844592674006, 'lambda': 0.6154142147126864, 'alpha': 0.028015553893080483}. Best is trial 37 with value: 0.9491103868693804.\n",
      "[I 2024-07-13 22:26:48,182] Trial 59 finished with value: 0.9415188286023709 and parameters: {'max_depth': 3, 'learning_rate': 0.2872665038618265, 'n_estimators': 101, 'subsample': 0.6953621265245675, 'colsample_bytree': 0.7687269341314026, 'lambda': 0.6788083606773676, 'alpha': 0.0626082680405576}. Best is trial 37 with value: 0.9491103868693804.\n",
      "[I 2024-07-13 22:26:48,497] Trial 60 finished with value: 0.9464884505555061 and parameters: {'max_depth': 4, 'learning_rate': 0.26592350756463784, 'n_estimators': 88, 'subsample': 0.661915835233579, 'colsample_bytree': 0.7344036183998749, 'lambda': 0.3323412957075827, 'alpha': 0.11906050815891497}. Best is trial 37 with value: 0.9491103868693804.\n",
      "[I 2024-07-13 22:26:48,815] Trial 61 finished with value: 0.9469600690165986 and parameters: {'max_depth': 6, 'learning_rate': 0.19480658989850763, 'n_estimators': 62, 'subsample': 0.5645205396524917, 'colsample_bytree': 0.923991042765804, 'lambda': 0.7730656770243126, 'alpha': 0.1613583540733002}. Best is trial 37 with value: 0.9491103868693804.\n",
      "[I 2024-07-13 22:26:49,082] Trial 62 finished with value: 0.9453631702468409 and parameters: {'max_depth': 6, 'learning_rate': 0.21922069699124674, 'n_estimators': 57, 'subsample': 0.6269175768048825, 'colsample_bytree': 0.8929500773268522, 'lambda': 0.875595616343059, 'alpha': 0.27513826052810336}. Best is trial 37 with value: 0.9491103868693804.\n",
      "[I 2024-07-13 22:26:49,394] Trial 63 finished with value: 0.9450146603555607 and parameters: {'max_depth': 5, 'learning_rate': 0.23648233963351512, 'n_estimators': 82, 'subsample': 0.838396949174924, 'colsample_bytree': 0.8237829713904248, 'lambda': 0.7898156629528805, 'alpha': 0.7579047309484788}. Best is trial 37 with value: 0.9491103868693804.\n",
      "[I 2024-07-13 22:26:49,794] Trial 64 finished with value: 0.9441498184232266 and parameters: {'max_depth': 8, 'learning_rate': 0.16723646959021043, 'n_estimators': 67, 'subsample': 0.7101930740847072, 'colsample_bytree': 0.6913062493096938, 'lambda': 0.7079854019166743, 'alpha': 0.3708334556030407}. Best is trial 37 with value: 0.9491103868693804.\n",
      "[I 2024-07-13 22:26:50,242] Trial 65 finished with value: 0.9457550277618672 and parameters: {'max_depth': 6, 'learning_rate': 0.19297738097135703, 'n_estimators': 73, 'subsample': 0.5322999737669191, 'colsample_bytree': 0.9444669270558389, 'lambda': 0.9294991608855554, 'alpha': 0.23297558008173952}. Best is trial 37 with value: 0.9491103868693804.\n",
      "[I 2024-07-13 22:26:50,887] Trial 66 finished with value: 0.9459847375421804 and parameters: {'max_depth': 7, 'learning_rate': 0.0222999623409402, 'n_estimators': 147, 'subsample': 0.5798295348909853, 'colsample_bytree': 0.9169321376361211, 'lambda': 0.5440250267818205, 'alpha': 0.30473121102233125}. Best is trial 37 with value: 0.9491103868693804.\n",
      "[I 2024-07-13 22:26:51,324] Trial 67 finished with value: 0.9454082237027398 and parameters: {'max_depth': 6, 'learning_rate': 0.20983637726618012, 'n_estimators': 91, 'subsample': 0.5160744196896699, 'colsample_bytree': 0.8440443759476591, 'lambda': 0.4234126277791921, 'alpha': 0.10103112630284047}. Best is trial 37 with value: 0.9491103868693804.\n",
      "[I 2024-07-13 22:26:51,853] Trial 68 finished with value: 0.9434252105225797 and parameters: {'max_depth': 5, 'learning_rate': 0.13206334231025435, 'n_estimators': 126, 'subsample': 0.5584742943287068, 'colsample_bytree': 0.5474569419416518, 'lambda': 0.4800191257029024, 'alpha': 0.9249637149246352}. Best is trial 37 with value: 0.9491103868693804.\n",
      "[I 2024-07-13 22:26:52,109] Trial 69 finished with value: 0.9447111267807822 and parameters: {'max_depth': 4, 'learning_rate': 0.14648166541227226, 'n_estimators': 55, 'subsample': 0.6079605677551646, 'colsample_bytree': 0.875317808050425, 'lambda': 0.39896569887298594, 'alpha': 0.187580979579888}. Best is trial 37 with value: 0.9491103868693804.\n",
      "[I 2024-07-13 22:26:52,879] Trial 70 finished with value: 0.9420487297767546 and parameters: {'max_depth': 7, 'learning_rate': 0.19165206256936382, 'n_estimators': 174, 'subsample': 0.546268378667364, 'colsample_bytree': 0.9758861646080645, 'lambda': 0.20460418451268708, 'alpha': 0.5930391469248226}. Best is trial 37 with value: 0.9491103868693804.\n",
      "[I 2024-07-13 22:26:53,260] Trial 71 finished with value: 0.9447111267807822 and parameters: {'max_depth': 6, 'learning_rate': 0.19915695497796437, 'n_estimators': 69, 'subsample': 0.5126053807188503, 'colsample_bytree': 0.9163242411386029, 'lambda': 0.766574059920017, 'alpha': 0.148136405588473}. Best is trial 37 with value: 0.9491103868693804.\n"
     ]
    },
    {
     "name": "stderr",
     "output_type": "stream",
     "text": [
      "[I 2024-07-13 22:26:53,599] Trial 72 finished with value: 0.9435414204243298 and parameters: {'max_depth': 6, 'learning_rate': 0.2238651292453718, 'n_estimators': 62, 'subsample': 0.5701553003428514, 'colsample_bytree': 0.9250984804971558, 'lambda': 0.6324130799930876, 'alpha': 0.16150850421877422}. Best is trial 37 with value: 0.9491103868693804.\n",
      "[I 2024-07-13 22:26:53,954] Trial 73 finished with value: 0.9435181216901916 and parameters: {'max_depth': 7, 'learning_rate': 0.253319887483368, 'n_estimators': 61, 'subsample': 0.5888360945592678, 'colsample_bytree': 0.9320251063279893, 'lambda': 0.7962480475036838, 'alpha': 0.043110254824239164}. Best is trial 37 with value: 0.9491103868693804.\n",
      "[I 2024-07-13 22:26:54,158] Trial 74 finished with value: 0.9409391976039113 and parameters: {'max_depth': 2, 'learning_rate': 0.23849964491615847, 'n_estimators': 53, 'subsample': 0.6376674731507919, 'colsample_bytree': 0.9037387955497551, 'lambda': 0.03871423104937853, 'alpha': 0.2573576237380574}. Best is trial 37 with value: 0.9491103868693804.\n",
      "[I 2024-07-13 22:26:54,673] Trial 75 finished with value: 0.9414888141224236 and parameters: {'max_depth': 6, 'learning_rate': 0.1728204429407263, 'n_estimators': 112, 'subsample': 0.5359779074662592, 'colsample_bytree': 0.8845642509785188, 'lambda': 0.7090689531854024, 'alpha': 0.6893728201279121}. Best is trial 37 with value: 0.9491103868693804.\n",
      "[I 2024-07-13 22:26:55,138] Trial 76 finished with value: 0.9429588951722727 and parameters: {'max_depth': 8, 'learning_rate': 0.18934273605179258, 'n_estimators': 83, 'subsample': 0.5568762603270555, 'colsample_bytree': 0.9540857135349827, 'lambda': 0.09937045347660062, 'alpha': 0.07122275563086183}. Best is trial 37 with value: 0.9491103868693804.\n",
      "[I 2024-07-13 22:26:55,418] Trial 77 finished with value: 0.944664974246731 and parameters: {'max_depth': 3, 'learning_rate': 0.20969266146327073, 'n_estimators': 74, 'subsample': 0.8073645705377969, 'colsample_bytree': 0.8619023644091061, 'lambda': 0.9156677466903317, 'alpha': 0.3926435001813159}. Best is trial 37 with value: 0.9491103868693804.\n",
      "[I 2024-07-13 22:26:56,060] Trial 78 finished with value: 0.945923547987899 and parameters: {'max_depth': 5, 'learning_rate': 0.12093035314771668, 'n_estimators': 157, 'subsample': 0.5021194257294954, 'colsample_bytree': 0.9368173021851717, 'lambda': 0.9852337977311967, 'alpha': 0.2110000289967015}. Best is trial 37 with value: 0.9491103868693804.\n",
      "[I 2024-07-13 22:26:56,359] Trial 79 finished with value: 0.946225942674927 and parameters: {'max_depth': 4, 'learning_rate': 0.25279590059693613, 'n_estimators': 60, 'subsample': 0.8741314590005791, 'colsample_bytree': 0.9792543577070824, 'lambda': 0.5778482659339746, 'alpha': 0.1320194796951811}. Best is trial 37 with value: 0.9491103868693804.\n",
      "[I 2024-07-13 22:26:56,743] Trial 80 finished with value: 0.947346235535866 and parameters: {'max_depth': 7, 'learning_rate': 0.1787331526572954, 'n_estimators': 66, 'subsample': 0.6677380252503238, 'colsample_bytree': 0.8236349067868993, 'lambda': 0.3406856929498351, 'alpha': 0.17126142416109488}. Best is trial 37 with value: 0.9491103868693804.\n",
      "[I 2024-07-13 22:26:57,127] Trial 81 finished with value: 0.9481221176360344 and parameters: {'max_depth': 7, 'learning_rate': 0.17904672125153767, 'n_estimators': 66, 'subsample': 0.6787750971079114, 'colsample_bytree': 0.7955199362140992, 'lambda': 0.34233805387153765, 'alpha': 0.1797457183809107}. Best is trial 37 with value: 0.9491103868693804.\n",
      "[I 2024-07-13 22:26:57,585] Trial 82 finished with value: 0.9466157039008753 and parameters: {'max_depth': 7, 'learning_rate': 0.17645018755709513, 'n_estimators': 69, 'subsample': 0.6654048143360446, 'colsample_bytree': 0.8240248268583297, 'lambda': 0.27389040308738116, 'alpha': 0.09663528953350979}. Best is trial 37 with value: 0.9491103868693804.\n",
      "[I 2024-07-13 22:26:58,013] Trial 83 finished with value: 0.9450602604177049 and parameters: {'max_depth': 8, 'learning_rate': 0.18544684815557946, 'n_estimators': 77, 'subsample': 0.6839985905626395, 'colsample_bytree': 0.7990545617804722, 'lambda': 0.3608573875162117, 'alpha': 0.18368649198730855}. Best is trial 37 with value: 0.9491103868693804.\n",
      "[I 2024-07-13 22:26:58,490] Trial 84 finished with value: 0.9448301299157711 and parameters: {'max_depth': 7, 'learning_rate': 0.1570911159392772, 'n_estimators': 97, 'subsample': 0.7115955036061296, 'colsample_bytree': 0.7760585013279034, 'lambda': 0.33721939442924176, 'alpha': 0.020022173890321238}. Best is trial 37 with value: 0.9491103868693804.\n",
      "[I 2024-07-13 22:26:58,918] Trial 85 finished with value: 0.9446365747260294 and parameters: {'max_depth': 7, 'learning_rate': 0.16827912508202386, 'n_estimators': 67, 'subsample': 0.6478727357689564, 'colsample_bytree': 0.8045977994797903, 'lambda': 0.39605042945751356, 'alpha': 0.2948567190678693}. Best is trial 37 with value: 0.9491103868693804.\n",
      "[I 2024-07-13 22:26:59,268] Trial 86 finished with value: 0.9454082237027398 and parameters: {'max_depth': 8, 'learning_rate': 0.2097969227366393, 'n_estimators': 50, 'subsample': 0.7337081080756963, 'colsample_bytree': 0.8225632222997944, 'lambda': 0.24784684817809322, 'alpha': 0.23862873787031524}. Best is trial 37 with value: 0.9491103868693804.\n",
      "[I 2024-07-13 22:26:59,513] Trial 87 finished with value: 0.9434465827490202 and parameters: {'max_depth': 3, 'learning_rate': 0.14348319811547078, 'n_estimators': 64, 'subsample': 0.666706127061019, 'colsample_bytree': 0.7540199844891884, 'lambda': 0.43174692466085574, 'alpha': 0.05093794981201495}. Best is trial 37 with value: 0.9491103868693804.\n",
      "[I 2024-07-13 22:26:59,853] Trial 88 finished with value: 0.9453447098198795 and parameters: {'max_depth': 7, 'learning_rate': 0.04573572257769083, 'n_estimators': 57, 'subsample': 0.6275063202460541, 'colsample_bytree': 0.8708751690773193, 'lambda': 0.30443549195718894, 'alpha': 0.5185346311815747}. Best is trial 37 with value: 0.9491103868693804.\n",
      "[I 2024-07-13 22:27:00,130] Trial 89 finished with value: 0.9430448321955479 and parameters: {'max_depth': 2, 'learning_rate': 0.18069968207901788, 'n_estimators': 82, 'subsample': 0.689499089624324, 'colsample_bytree': 0.8518772041161705, 'lambda': 0.531629699553188, 'alpha': 0.8285818204732297}. Best is trial 37 with value: 0.9491103868693804.\n",
      "[I 2024-07-13 22:27:00,618] Trial 90 finished with value: 0.9458434388906323 and parameters: {'max_depth': 6, 'learning_rate': 0.2275509929537178, 'n_estimators': 92, 'subsample': 0.7593639719889361, 'colsample_bytree': 0.8344642909725715, 'lambda': 0.4736032633307893, 'alpha': 0.13881287444813986}. Best is trial 37 with value: 0.9491103868693804.\n",
      "[I 2024-07-13 22:27:00,915] Trial 91 finished with value: 0.9479063819663355 and parameters: {'max_depth': 6, 'learning_rate': 0.1635042882856141, 'n_estimators': 62, 'subsample': 0.6508294996048358, 'colsample_bytree': 0.9036962638172896, 'lambda': 0.7603691528835834, 'alpha': 0.3318100254727643}. Best is trial 37 with value: 0.9491103868693804.\n",
      "[I 2024-07-13 22:27:01,213] Trial 92 finished with value: 0.945105649813988 and parameters: {'max_depth': 5, 'learning_rate': 0.15297309042750687, 'n_estimators': 70, 'subsample': 0.6547858317913673, 'colsample_bytree': 0.9032305966021145, 'lambda': 0.33231934091273724, 'alpha': 0.3340424036592139}. Best is trial 37 with value: 0.9491103868693804.\n",
      "[I 2024-07-13 22:27:01,537] Trial 93 finished with value: 0.9456208700052792 and parameters: {'max_depth': 6, 'learning_rate': 0.16103978758883827, 'n_estimators': 76, 'subsample': 0.6151286271442675, 'colsample_bytree': 0.8868036240927936, 'lambda': 0.35409569684093717, 'alpha': 0.46158719857878977}. Best is trial 37 with value: 0.9491103868693804.\n",
      "[I 2024-07-13 22:27:01,875] Trial 94 finished with value: 0.9440773482081104 and parameters: {'max_depth': 7, 'learning_rate': 0.2925869638037798, 'n_estimators': 66, 'subsample': 0.641011968293538, 'colsample_bytree': 0.8416262080310083, 'lambda': 0.8398106962756152, 'alpha': 0.181399447252112}. Best is trial 37 with value: 0.9491103868693804.\n",
      "[I 2024-07-13 22:27:02,608] Trial 95 finished with value: 0.9406733464160022 and parameters: {'max_depth': 6, 'learning_rate': 0.2696701984770473, 'n_estimators': 197, 'subsample': 0.6732538858561451, 'colsample_bytree': 0.7862996407840835, 'lambda': 0.8469964581078346, 'alpha': 0.2133544863867306}. Best is trial 37 with value: 0.9491103868693804.\n"
     ]
    },
    {
     "name": "stderr",
     "output_type": "stream",
     "text": [
      "[I 2024-07-13 22:27:02,895] Trial 96 finished with value: 0.9469168747902847 and parameters: {'max_depth': 7, 'learning_rate': 0.20066473876219137, 'n_estimators': 53, 'subsample': 0.7095140864791676, 'colsample_bytree': 0.8553939876338066, 'lambda': 0.38821457165388706, 'alpha': 0.4296706486876175}. Best is trial 37 with value: 0.9491103868693804.\n",
      "[I 2024-07-13 22:27:03,235] Trial 97 finished with value: 0.9462702005277001 and parameters: {'max_depth': 4, 'learning_rate': 0.28129090389331324, 'n_estimators': 85, 'subsample': 0.702727480308248, 'colsample_bytree': 0.8951030104879694, 'lambda': 0.732721185749112, 'alpha': 0.11878187665943049}. Best is trial 37 with value: 0.9491103868693804.\n",
      "[I 2024-07-13 22:27:03,660] Trial 98 finished with value: 0.9435181216901916 and parameters: {'max_depth': 8, 'learning_rate': 0.21965266579171133, 'n_estimators': 58, 'subsample': 0.7339301737937682, 'colsample_bytree': 0.9993230034777291, 'lambda': 0.14650241152488908, 'alpha': 0.08353202927816106}. Best is trial 37 with value: 0.9491103868693804.\n",
      "[I 2024-07-13 22:27:04,019] Trial 99 finished with value: 0.9448936135973272 and parameters: {'max_depth': 5, 'learning_rate': 0.1420931866897101, 'n_estimators': 103, 'subsample': 0.6576219152742616, 'colsample_bytree': 0.8707538535620764, 'lambda': 0.05016468255630434, 'alpha': 0.2515214748734738}. Best is trial 37 with value: 0.9491103868693804.\n"
     ]
    },
    {
     "name": "stdout",
     "output_type": "stream",
     "text": [
      "Best hyperparameters:  {'max_depth': 4, 'learning_rate': 0.2333186971658529, 'n_estimators': 60, 'subsample': 0.5092926411900092, 'colsample_bytree': 0.8947075719226155, 'lambda': 0.4092574827398802, 'alpha': 0.021031350494298495}\n",
      "Best F1 Score:  0.9491103868693804\n",
      "              precision    recall  f1-score   support\n",
      "\n",
      "           0       0.96      0.98      0.97      3098\n",
      "           1       0.87      0.79      0.83       557\n",
      "\n",
      "    accuracy                           0.95      3655\n",
      "   macro avg       0.92      0.88      0.90      3655\n",
      "weighted avg       0.95      0.95      0.95      3655\n",
      "\n"
     ]
    }
   ],
   "source": [
    "import optuna\n",
    "from xgboost import XGBClassifier\n",
    "from sklearn import metrics\n",
    "from sklearn.model_selection import train_test_split\n",
    "\n",
    "# Supposons que train_X, train_y, test_X, test_y soient déjà définis\n",
    "# train_X, train_y = ...\n",
    "# test_X, test_y = ...\n",
    "\n",
    "# Fonction objectif pour Optuna\n",
    "def objective(trial):\n",
    "    param = {\n",
    "        'max_depth': trial.suggest_int('max_depth', 1, 10),\n",
    "        'learning_rate': trial.suggest_float('learning_rate', 0.01, 0.3),\n",
    "        'n_estimators': trial.suggest_int('n_estimators', 50, 200),\n",
    "        'subsample': trial.suggest_float('subsample', 0.5, 1.0),\n",
    "        'colsample_bytree': trial.suggest_float('colsample_bytree', 0.5, 1.0),\n",
    "        'lambda': trial.suggest_float('lambda', 1e-8, 1.0),\n",
    "        'alpha': trial.suggest_float('alpha', 1e-8, 1.0)\n",
    "    }\n",
    "    \n",
    "    model = XGBClassifier(**param)\n",
    "    model.fit(train_X, train_y)\n",
    "    y_pred = model.predict(test_X)\n",
    "    \n",
    "    f1 = metrics.f1_score(test_y, y_pred, average='weighted')\n",
    "    \n",
    "    return f1\n",
    "\n",
    "# Créer une étude et optimiser\n",
    "study = optuna.create_study(direction='maximize')\n",
    "study.optimize(objective, n_trials=100)\n",
    "\n",
    "# Afficher les meilleurs hyperparamètres trouvés\n",
    "print(\"Best hyperparameters: \", study.best_params)\n",
    "print(\"Best F1 Score: \", study.best_value)\n",
    "\n",
    "# Entraîner le modèle final avec les meilleurs hyperparamètres\n",
    "best_params = study.best_params\n",
    "mod2 = XGBClassifier(**best_params)\n",
    "mod2.fit(train_X, train_y)\n",
    "y_pred = mod2.predict(test_X)\n",
    "\n",
    "# Afficher le rapport de classification\n",
    "print(metrics.classification_report(test_y, y_pred))\n"
   ]
  },
  {
   "cell_type": "code",
   "execution_count": 194,
   "id": "80a12db4",
   "metadata": {},
   "outputs": [
    {
     "name": "stdout",
     "output_type": "stream",
     "text": [
      "                   Feature  Importance\n",
      "8        rapport_rembourse    0.473653\n",
      "2     duree_pret_souhaitee    0.160110\n",
      "5      nbr_mois_cotisation    0.109422\n",
      "6     nbr_credits_octroyes    0.060505\n",
      "4             taux_interet    0.051712\n",
      "3            nbr_echeances    0.051657\n",
      "9          rapport_rembour    0.041681\n",
      "0        anciennete_agence    0.023140\n",
      "7  montant_credits_accorde    0.015012\n",
      "1        montant_sollicite    0.013107\n"
     ]
    }
   ],
   "source": [
    "import xgboost as xgb\n",
    "import matplotlib.pyplot as plt\n",
    "import pandas as pd\n",
    "best_params = {\n",
    "    'max_depth': 6, 'learning_rate': 0.05377603618110085, 'n_estimators': 66, 'subsample': 0.6300572809942016, 'colsample_bytree': 0.9980267693595002, 'lambda': 0.44431541111857664, 'alpha': 0.6450900554076081\n",
    "}\n",
    "model = xgb.XGBClassifier(**best_params)\n",
    "model.fit(train_X, train_y)\n",
    "\n",
    "importances = model.feature_importances_\n",
    "features = train_X.columns\n",
    "\n",
    "# Créer un DataFrame pour mieux visualiser\n",
    "importance_df = pd.DataFrame({'Feature': features, 'Importance': importances})\n",
    "importance_df = importance_df.sort_values(by='Importance', ascending=False)\n",
    "\n",
    "print(importance_df)\n",
    "\n",
    "# Sélectionner les 5 variables les plus importantes\n",
    "top_features = importance_df['Feature'].head(5)\n",
    "train_X_top = train_X[top_features]\n",
    "test_X_top = test_X[top_features]\n"
   ]
  },
  {
   "cell_type": "code",
   "execution_count": 195,
   "id": "b8587fe2",
   "metadata": {},
   "outputs": [
    {
     "name": "stdout",
     "output_type": "stream",
     "text": [
      "              precision    recall  f1-score   support\n",
      "\n",
      "           0       0.96      0.98      0.97      3098\n",
      "           1       0.86      0.77      0.81       557\n",
      "\n",
      "    accuracy                           0.95      3655\n",
      "   macro avg       0.91      0.87      0.89      3655\n",
      "weighted avg       0.94      0.95      0.94      3655\n",
      "\n"
     ]
    }
   ],
   "source": [
    "from xgboost import XGBClassifier\n",
    "from sklearn import metrics\n",
    "\n",
    "# Meilleurs hyperparamètres trouvés par Optuna\n",
    "best_params = {\n",
    "    #'max_depth': 3, 'learning_rate': 0.21552128414365848, 'n_estimators': 197, 'subsample': 0.8442403365178374, 'colsample_bytree': 0.8339564713754671, 'lambda': 0.41224886654377585, 'alpha': 0.6000433341080003\n",
    "#'max_depth': 9, 'learning_rate': 0.06430562964500937, 'n_estimators': 110, 'subsample': 0.8620070064769113, 'colsample_bytree': 0.9478255507285523, 'lambda': 0.5023805601126564, 'alpha': 0.39637212224286883}\n",
    "#'max_depth': 8, 'learning_rate': 0.07673273604335576, 'n_estimators': 111, 'subsample': 0.5270548790127724, 'colsample_bytree': 0.9330741509762083, 'lambda': 0.812727984072264, 'alpha': 0.06944423987626255}\n",
    "'max_depth': 5, 'learning_rate': 0.19289303731984522, 'n_estimators': 123, 'subsample': 0.8235760223359552, 'colsample_bytree': 0.593459846746113, 'lambda': 0.0029601668782274944, 'alpha': 0.43816528122952253}\n",
    "#Entraîner le modèle final avec les meilleurs hyperparamètres\n",
    "mod1 = XGBClassifier(**best_params)\n",
    "mod1.fit(train_X, train_y)\n",
    "y_pred = mod1.predict(test_X)\n",
    "\n",
    "# Afficher le rapport de classification\n",
    "print(metrics.classification_report(test_y, y_pred))\n"
   ]
  },
  {
   "cell_type": "code",
   "execution_count": null,
   "id": "3a412ea6",
   "metadata": {},
   "outputs": [],
   "source": []
  },
  {
   "cell_type": "code",
   "execution_count": null,
   "id": "4917cf75",
   "metadata": {},
   "outputs": [],
   "source": []
  },
  {
   "cell_type": "code",
   "execution_count": null,
   "id": "a2a3b7c3",
   "metadata": {},
   "outputs": [],
   "source": []
  },
  {
   "cell_type": "code",
   "execution_count": null,
   "id": "a83d9d41",
   "metadata": {},
   "outputs": [],
   "source": []
  },
  {
   "cell_type": "code",
   "execution_count": null,
   "id": "4fd10d64",
   "metadata": {},
   "outputs": [],
   "source": []
  },
  {
   "cell_type": "code",
   "execution_count": null,
   "id": "c9d1aa0e",
   "metadata": {},
   "outputs": [],
   "source": []
  },
  {
   "cell_type": "code",
   "execution_count": null,
   "id": "83e9838c",
   "metadata": {},
   "outputs": [],
   "source": []
  },
  {
   "cell_type": "code",
   "execution_count": null,
   "id": "328fe457",
   "metadata": {},
   "outputs": [],
   "source": []
  },
  {
   "cell_type": "code",
   "execution_count": null,
   "id": "99e7fcb5",
   "metadata": {},
   "outputs": [],
   "source": []
  },
  {
   "cell_type": "code",
   "execution_count": null,
   "id": "6b81ac73",
   "metadata": {},
   "outputs": [],
   "source": []
  },
  {
   "cell_type": "code",
   "execution_count": null,
   "id": "0c3effe9",
   "metadata": {},
   "outputs": [],
   "source": []
  },
  {
   "cell_type": "code",
   "execution_count": null,
   "id": "ba9189ec",
   "metadata": {},
   "outputs": [],
   "source": []
  },
  {
   "cell_type": "code",
   "execution_count": null,
   "id": "b4cd8173",
   "metadata": {},
   "outputs": [],
   "source": []
  },
  {
   "cell_type": "code",
   "execution_count": null,
   "id": "aac9b8b7",
   "metadata": {},
   "outputs": [],
   "source": []
  },
  {
   "cell_type": "code",
   "execution_count": null,
   "id": "61a9a893",
   "metadata": {},
   "outputs": [],
   "source": []
  },
  {
   "cell_type": "code",
   "execution_count": 40,
   "id": "0e244565",
   "metadata": {},
   "outputs": [],
   "source": [
    "train =train[train['montant_sollicite']<3000000]\n",
    "X=train.drop('a_dette_encours',axis=1)\n",
    "y=train['a_dette_encours']\n",
    "X=X.drop('anciennete_agence',axis=1)\n",
    "X=X.drop('nbr_echeances',axis=1)\n",
    "X=X.drop('age',axis=1)\n",
    "X=X.drop('r',axis=1)\n",
    "X=X.drop('sexe',axis=1)\n",
    "X=X.drop('profession',axis=1)\n",
    "X=X.drop('secteur_activite',axis=1)\n",
    "from sklearn.preprocessing import StandardScaler, MinMaxScaler, RobustScaler, MaxAbsScaler\n",
    "\n",
    "#X=X.drop('ssecteur_activite',axis=1)\n",
    "from sklearn.feature_selection import SelectKBest, f_classif\n",
    "from sklearn.model_selection import train_test_split\n",
    "train_X,test_X,train_y,test_y=train_test_split(X,y,test_size=0.3,random_state=1)"
   ]
  },
  {
   "cell_type": "code",
   "execution_count": 41,
   "id": "aa902bd1",
   "metadata": {},
   "outputs": [
    {
     "name": "stdout",
     "output_type": "stream",
     "text": [
      "              precision    recall  f1-score   support\n",
      "\n",
      "           0       0.97      0.97      0.97      2866\n",
      "           1       0.84      0.80      0.82       497\n",
      "\n",
      "    accuracy                           0.95      3363\n",
      "   macro avg       0.90      0.89      0.89      3363\n",
      "weighted avg       0.95      0.95      0.95      3363\n",
      "\n"
     ]
    }
   ],
   "source": [
    "from sklearn import metrics\n",
    "#from sklearn.metrics import classification_report\n",
    "mod1= XGBClassifier()\n",
    "mod1.fit(train_X,train_y)\n",
    "y_pred = mod1.predict(test_X)\n",
    "print(metrics.classification_report(test_y, y_pred))\n",
    "#max_depth=1, learning_rate=0.1, n_estimators=100"
   ]
  },
  {
   "cell_type": "code",
   "execution_count": 42,
   "id": "91c6502b",
   "metadata": {},
   "outputs": [
    {
     "data": {
      "image/png": "[encoded data removed]",
      "text/plain": [
       "<Figure size 640x480 with 1 Axes>"
      ]
     },
     "metadata": {},
     "output_type": "display_data"
    },
    {
     "name": "stdout",
     "output_type": "stream",
     "text": [
      "                   Feature  Importance\n",
      "6   nbr_credits_rembourses    0.333001\n",
      "1     duree_pret_souhaitee    0.312508\n",
      "4      nbr_mois_cotisation    0.115682\n",
      "2             taux_interet    0.096247\n",
      "5     nbr_credits_octroyes    0.045786\n",
      "3        ssecteur_activite    0.042835\n",
      "0        montant_sollicite    0.031013\n",
      "7  montant_credits_accorde    0.022928\n"
     ]
    }
   ],
   "source": [
    "import xgboost as xgb\n",
    "from xgboost import plot_importance\n",
    "import matplotlib.pyplot as plt\n",
    "\n",
    "\n",
    "\n",
    "# Entraîner un modèle XGBoost\n",
    "model = xgb.XGBClassifier()\n",
    "model.fit(train_X, train_y)\n",
    "\n",
    "# Afficher l'importance des caractéristiques\n",
    "plot_importance(model)\n",
    "plt.show()\n",
    "\n",
    "# Récupérer les caractéristiques les plus importantes\n",
    "importances = model.feature_importances_\n",
    "features = X.columns\n",
    "\n",
    "# Créer un DataFrame pour mieux visualiser\n",
    "importance_df = pd.DataFrame({'Feature': features, 'Importance': importances})\n",
    "importance_df = importance_df.sort_values(by='Importance', ascending=False)\n",
    "\n",
    "print(importance_df)\n"
   ]
  },
  {
   "cell_type": "code",
   "execution_count": 32,
   "id": "eff1ac67",
   "metadata": {},
   "outputs": [
    {
     "name": "stderr",
     "output_type": "stream",
     "text": [
      "[I 2024-07-13 13:08:05,964] A new study created in memory with name: no-name-f0049493-7497-4b0d-83a4-61034ebf53b5\n",
      "[I 2024-07-13 13:08:06,406] Trial 0 finished with value: 0.9711351429455641 and parameters: {'max_depth': 5, 'learning_rate': 0.1140017638689655, 'n_estimators': 156, 'subsample': 0.9414442884974554, 'colsample_bytree': 0.6938119777685304, 'lambda': 0.6764775227633568, 'alpha': 0.7467546585693614}. Best is trial 0 with value: 0.9711351429455641.\n",
      "[I 2024-07-13 13:08:06,701] Trial 1 finished with value: 0.969618414757763 and parameters: {'max_depth': 4, 'learning_rate': 0.10725979132647182, 'n_estimators': 128, 'subsample': 0.5940866923089394, 'colsample_bytree': 0.6980315073854791, 'lambda': 0.9191250653548397, 'alpha': 0.9612548687252602}. Best is trial 0 with value: 0.9711351429455641.\n",
      "[I 2024-07-13 13:08:07,423] Trial 2 finished with value: 0.9717612497250289 and parameters: {'max_depth': 9, 'learning_rate': 0.1551718247786053, 'n_estimators': 175, 'subsample': 0.7646025844137256, 'colsample_bytree': 0.8088108516320626, 'lambda': 0.7408862137076424, 'alpha': 0.8171368075135638}. Best is trial 2 with value: 0.9717612497250289.\n",
      "[I 2024-07-13 13:08:07,813] Trial 3 finished with value: 0.9693579518292867 and parameters: {'max_depth': 9, 'learning_rate': 0.08125650872840008, 'n_estimators': 87, 'subsample': 0.8988083392990784, 'colsample_bytree': 0.923217316778436, 'lambda': 0.6289303739801206, 'alpha': 0.3488425455551637}. Best is trial 2 with value: 0.9717612497250289.\n",
      "[I 2024-07-13 13:08:08,108] Trial 4 finished with value: 0.9690167992084118 and parameters: {'max_depth': 3, 'learning_rate': 0.07940246367714598, 'n_estimators': 158, 'subsample': 0.7019471269634696, 'colsample_bytree': 0.9326838051159353, 'lambda': 0.04137619128174535, 'alpha': 0.6053753200364973}. Best is trial 2 with value: 0.9717612497250289.\n",
      "[I 2024-07-13 13:08:08,564] Trial 5 finished with value: 0.9690979714790372 and parameters: {'max_depth': 5, 'learning_rate': 0.2065936765430625, 'n_estimators': 171, 'subsample': 0.5232453455230079, 'colsample_bytree': 0.9776200392354588, 'lambda': 0.9691999366286521, 'alpha': 0.4872334392545833}. Best is trial 2 with value: 0.9717612497250289.\n",
      "[I 2024-07-13 13:08:09,041] Trial 6 finished with value: 0.970220030307114 and parameters: {'max_depth': 6, 'learning_rate': 0.25303220424137574, 'n_estimators': 159, 'subsample': 0.5760769761647644, 'colsample_bytree': 0.8651254776633184, 'lambda': 0.024430971961720737, 'alpha': 0.16805136360664408}. Best is trial 2 with value: 0.9717612497250289.\n",
      "[I 2024-07-13 13:08:09,409] Trial 7 finished with value: 0.9688384675037921 and parameters: {'max_depth': 4, 'learning_rate': 0.15198855174823558, 'n_estimators': 163, 'subsample': 0.8080043867288683, 'colsample_bytree': 0.7261224434128353, 'lambda': 0.39766200345023006, 'alpha': 0.7112454766775299}. Best is trial 2 with value: 0.9717612497250289.\n",
      "[I 2024-07-13 13:08:09,764] Trial 8 finished with value: 0.9711120937480339 and parameters: {'max_depth': 8, 'learning_rate': 0.03656178109124542, 'n_estimators': 81, 'subsample': 0.9492245078597665, 'colsample_bytree': 0.8509049790447134, 'lambda': 0.6583775282336933, 'alpha': 0.11933878927229821}. Best is trial 2 with value: 0.9717612497250289.\n",
      "[I 2024-07-13 13:08:09,901] Trial 9 finished with value: 0.9573690230377065 and parameters: {'max_depth': 1, 'learning_rate': 0.12253297456720176, 'n_estimators': 91, 'subsample': 0.6419512693732459, 'colsample_bytree': 0.8065630759022775, 'lambda': 0.5989328081771907, 'alpha': 0.6525343384052271}. Best is trial 2 with value: 0.9717612497250289.\n",
      "[I 2024-07-13 13:08:10,749] Trial 10 finished with value: 0.969984978922467 and parameters: {'max_depth': 10, 'learning_rate': 0.20814531726326188, 'n_estimators': 199, 'subsample': 0.8017047139424595, 'colsample_bytree': 0.5564210711928472, 'lambda': 0.3541537739539946, 'alpha': 0.9620886440951466}. Best is trial 2 with value: 0.9717612497250289.\n",
      "[I 2024-07-13 13:08:11,229] Trial 11 finished with value: 0.9702980502565505 and parameters: {'max_depth': 7, 'learning_rate': 0.17925234495249592, 'n_estimators': 124, 'subsample': 0.8782069729208987, 'colsample_bytree': 0.6314880041002766, 'lambda': 0.8091912754596157, 'alpha': 0.8223238795308154}. Best is trial 2 with value: 0.9717612497250289.\n",
      "[I 2024-07-13 13:08:11,927] Trial 12 finished with value: 0.9640146721805338 and parameters: {'max_depth': 7, 'learning_rate': 0.011394500838700194, 'n_estimators': 186, 'subsample': 0.9995970910958446, 'colsample_bytree': 0.6604194752725092, 'lambda': 0.7836977755456893, 'alpha': 0.7840834447150563}. Best is trial 2 with value: 0.9717612497250289.\n",
      "[I 2024-07-13 13:08:12,535] Trial 13 finished with value: 0.9705337917569301 and parameters: {'max_depth': 10, 'learning_rate': 0.29209795528694504, 'n_estimators': 131, 'subsample': 0.7217726569500728, 'colsample_bytree': 0.7626303035225142, 'lambda': 0.43480674048115686, 'alpha': 0.45591057316774897}. Best is trial 2 with value: 0.9717612497250289.\n",
      "[I 2024-07-13 13:08:12,818] Trial 14 finished with value: 0.965350532629024 and parameters: {'max_depth': 2, 'learning_rate': 0.14444002553863572, 'n_estimators': 146, 'subsample': 0.8173649810756645, 'colsample_bytree': 0.5021997020718341, 'lambda': 0.22558921375113772, 'alpha': 0.853864255774422}. Best is trial 2 with value: 0.9717612497250289.\n",
      "[I 2024-07-13 13:08:13,067] Trial 15 finished with value: 0.9693846785009163 and parameters: {'max_depth': 6, 'learning_rate': 0.1801596778777533, 'n_estimators': 55, 'subsample': 0.8876301483334738, 'colsample_bytree': 0.610397649643946, 'lambda': 0.7532735394294088, 'alpha': 0.5928071076630569}. Best is trial 2 with value: 0.9717612497250289.\n",
      "[I 2024-07-13 13:08:13,800] Trial 16 finished with value: 0.9708216458564654 and parameters: {'max_depth': 8, 'learning_rate': 0.07828696471308469, 'n_estimators': 184, 'subsample': 0.9955041637933375, 'colsample_bytree': 0.8028661846184658, 'lambda': 0.5501053095563102, 'alpha': 0.32221954318554286}. Best is trial 2 with value: 0.9717612497250289.\n",
      "[I 2024-07-13 13:08:14,225] Trial 17 finished with value: 0.9678978927015244 and parameters: {'max_depth': 5, 'learning_rate': 0.11337188142300804, 'n_estimators': 139, 'subsample': 0.6762193508390565, 'colsample_bytree': 0.6925339462636922, 'lambda': 0.85870067552, 'alpha': 0.7426318969848029}. Best is trial 2 with value: 0.9717612497250289.\n",
      "[I 2024-07-13 13:08:14,703] Trial 18 finished with value: 0.9714232614058166 and parameters: {'max_depth': 8, 'learning_rate': 0.22855853975416987, 'n_estimators': 112, 'subsample': 0.7636293789697488, 'colsample_bytree': 0.7588863344165493, 'lambda': 0.7355862478977924, 'alpha': 0.9096936182721478}. Best is trial 2 with value: 0.9717612497250289.\n",
      "[I 2024-07-13 13:08:15,290] Trial 19 finished with value: 0.9685794337727147 and parameters: {'max_depth': 9, 'learning_rate': 0.2465265959643635, 'n_estimators': 109, 'subsample': 0.7578906757920073, 'colsample_bytree': 0.7831702379836265, 'lambda': 0.5038591941260129, 'alpha': 0.9969207127281092}. Best is trial 2 with value: 0.9717612497250289.\n",
      "[I 2024-07-13 13:08:15,836] Trial 20 finished with value: 0.970246168873867 and parameters: {'max_depth': 8, 'learning_rate': 0.23906814798991122, 'n_estimators': 109, 'subsample': 0.7614801649736629, 'colsample_bytree': 0.8460980576729754, 'lambda': 0.720778717344696, 'alpha': 0.8882796090913294}. Best is trial 2 with value: 0.9717612497250289.\n",
      "[I 2024-07-13 13:08:16,522] Trial 21 finished with value: 0.9717364941341983 and parameters: {'max_depth': 7, 'learning_rate': 0.2999517776961337, 'n_estimators': 175, 'subsample': 0.8483143613654042, 'colsample_bytree': 0.7385736824223845, 'lambda': 0.7143513691995281, 'alpha': 0.864669805920874}. Best is trial 2 with value: 0.9717612497250289.\n",
      "[I 2024-07-13 13:08:17,293] Trial 22 finished with value: 0.9684704889126347 and parameters: {'max_depth': 7, 'learning_rate': 0.2957993334495847, 'n_estimators': 177, 'subsample': 0.8419629573310706, 'colsample_bytree': 0.7247695092957118, 'lambda': 0.8596046426661319, 'alpha': 0.890102367871072}. Best is trial 2 with value: 0.9717612497250289.\n",
      "[I 2024-07-13 13:08:18,164] Trial 23 finished with value: 0.9693040903351475 and parameters: {'max_depth': 9, 'learning_rate': 0.2642693437583873, 'n_estimators': 198, 'subsample': 0.7630124524109893, 'colsample_bytree': 0.7612650287633108, 'lambda': 0.7211548326315812, 'alpha': 0.8904443066987082}. Best is trial 2 with value: 0.9717612497250289.\n"
     ]
    },
    {
     "name": "stderr",
     "output_type": "stream",
     "text": [
      "[I 2024-07-13 13:08:18,821] Trial 24 finished with value: 0.971347245307574 and parameters: {'max_depth': 8, 'learning_rate': 0.2157324489496574, 'n_estimators': 145, 'subsample': 0.8553451126092253, 'colsample_bytree': 0.8852785161878833, 'lambda': 0.9079776395825674, 'alpha': 0.6880211627432649}. Best is trial 2 with value: 0.9717612497250289.\n",
      "[I 2024-07-13 13:08:19,454] Trial 25 finished with value: 0.9690439938788719 and parameters: {'max_depth': 10, 'learning_rate': 0.28204169327528383, 'n_estimators': 114, 'subsample': 0.7895674273702343, 'colsample_bytree': 0.8058892408833864, 'lambda': 0.998260669758261, 'alpha': 0.5676775113387195}. Best is trial 2 with value: 0.9717612497250289.\n",
      "[I 2024-07-13 13:08:19,921] Trial 26 finished with value: 0.9690167992084118 and parameters: {'max_depth': 7, 'learning_rate': 0.22359515301131977, 'n_estimators': 97, 'subsample': 0.7208280353063206, 'colsample_bytree': 0.8201156884302394, 'lambda': 0.5705014326526736, 'alpha': 0.8080210939068411}. Best is trial 2 with value: 0.9717612497250289.\n",
      "[I 2024-07-13 13:08:20,330] Trial 27 finished with value: 0.9678135681097092 and parameters: {'max_depth': 9, 'learning_rate': 0.1721735841253022, 'n_estimators': 70, 'subsample': 0.6486517086458169, 'colsample_bytree': 0.7355275522925155, 'lambda': 0.8095072735928565, 'alpha': 0.010886515568654831}. Best is trial 2 with value: 0.9717612497250289.\n",
      "[I 2024-07-13 13:08:21,016] Trial 28 finished with value: 0.9696716131445342 and parameters: {'max_depth': 6, 'learning_rate': 0.27544757922504204, 'n_estimators': 187, 'subsample': 0.934658749143218, 'colsample_bytree': 0.8983197734092998, 'lambda': 0.6903752181856759, 'alpha': 0.9395875559157679}. Best is trial 2 with value: 0.9717612497250289.\n",
      "[I 2024-07-13 13:08:21,812] Trial 29 finished with value: 0.9696716131445342 and parameters: {'max_depth': 8, 'learning_rate': 0.20122224160262475, 'n_estimators': 169, 'subsample': 0.8460899283658585, 'colsample_bytree': 0.6803657879851623, 'lambda': 0.4764867389957082, 'alpha': 0.7536336594396381}. Best is trial 2 with value: 0.9717612497250289.\n",
      "[I 2024-07-13 13:08:22,504] Trial 30 finished with value: 0.9699587763032224 and parameters: {'max_depth': 9, 'learning_rate': 0.2279683516790466, 'n_estimators': 148, 'subsample': 0.9173157984278408, 'colsample_bytree': 0.6106940061759595, 'lambda': 0.3161597482845105, 'alpha': 0.8339001359018049}. Best is trial 2 with value: 0.9717612497250289.\n",
      "[I 2024-07-13 13:08:23,190] Trial 31 finished with value: 0.9701408135310506 and parameters: {'max_depth': 8, 'learning_rate': 0.19253411694380435, 'n_estimators': 150, 'subsample': 0.8565563471144014, 'colsample_bytree': 0.8844928786354589, 'lambda': 0.9005638380120501, 'alpha': 0.6756397135177453}. Best is trial 2 with value: 0.9717612497250289.\n",
      "[I 2024-07-13 13:08:23,783] Trial 32 finished with value: 0.9696450813763695 and parameters: {'max_depth': 7, 'learning_rate': 0.13395910241119852, 'n_estimators': 134, 'subsample': 0.832599783851045, 'colsample_bytree': 0.9935681113654385, 'lambda': 0.9225616278414761, 'alpha': 0.6888590609484568}. Best is trial 2 with value: 0.9717612497250289.\n",
      "[I 2024-07-13 13:08:24,397] Trial 33 finished with value: 0.9693846785009163 and parameters: {'max_depth': 9, 'learning_rate': 0.22347773240960514, 'n_estimators': 120, 'subsample': 0.7765605045423873, 'colsample_bytree': 0.9495682049099786, 'lambda': 0.6594630397122374, 'alpha': 0.9322920324210373}. Best is trial 2 with value: 0.9717612497250289.\n",
      "[I 2024-07-13 13:08:25,163] Trial 34 finished with value: 0.970246168873867 and parameters: {'max_depth': 8, 'learning_rate': 0.16327471784779582, 'n_estimators': 176, 'subsample': 0.7368232406539974, 'colsample_bytree': 0.7729677604117041, 'lambda': 0.8609446840950068, 'alpha': 0.7683484303395842}. Best is trial 2 with value: 0.9717612497250289.\n",
      "[I 2024-07-13 13:08:25,796] Trial 35 finished with value: 0.9716866045487371 and parameters: {'max_depth': 6, 'learning_rate': 0.09808985295136163, 'n_estimators': 164, 'subsample': 0.87241200663518, 'colsample_bytree': 0.8312979058266038, 'lambda': 0.9287530615819488, 'alpha': 0.41653508506383263}. Best is trial 2 with value: 0.9717612497250289.\n",
      "[I 2024-07-13 13:08:26,271] Trial 36 finished with value: 0.9695916124764631 and parameters: {'max_depth': 4, 'learning_rate': 0.09886129727089724, 'n_estimators': 162, 'subsample': 0.962792788413195, 'colsample_bytree': 0.8301202993715214, 'lambda': 0.7710140589828686, 'alpha': 0.3427372335503813}. Best is trial 2 with value: 0.9717612497250289.\n",
      "[I 2024-07-13 13:08:26,978] Trial 37 finished with value: 0.9710585215620933 and parameters: {'max_depth': 6, 'learning_rate': 0.0523055660664359, 'n_estimators': 193, 'subsample': 0.6949030320974434, 'colsample_bytree': 0.7125307438263503, 'lambda': 0.9567059062730164, 'alpha': 0.42985161437684305}. Best is trial 2 with value: 0.9717612497250289.\n",
      "[I 2024-07-13 13:08:27,578] Trial 38 finished with value: 0.9701937587640578 and parameters: {'max_depth': 5, 'learning_rate': 0.06565350469681915, 'n_estimators': 169, 'subsample': 0.9038325278588271, 'colsample_bytree': 0.7457205621205486, 'lambda': 0.6237220114680547, 'alpha': 0.2979928918362201}. Best is trial 2 with value: 0.9717612497250289.\n",
      "[I 2024-07-13 13:08:28,000] Trial 39 finished with value: 0.9695916124764631 and parameters: {'max_depth': 6, 'learning_rate': 0.09435010583455003, 'n_estimators': 101, 'subsample': 0.8166115087441445, 'colsample_bytree': 0.7793586304715651, 'lambda': 0.8340164264632003, 'alpha': 0.22651397817223698}. Best is trial 2 with value: 0.9717612497250289.\n",
      "[I 2024-07-13 13:08:28,679] Trial 40 finished with value: 0.9702721752604841 and parameters: {'max_depth': 7, 'learning_rate': 0.12712160190505714, 'n_estimators': 179, 'subsample': 0.8706360765409569, 'colsample_bytree': 0.9208383628427244, 'lambda': 0.16059452460379303, 'alpha': 0.5273658460327393}. Best is trial 2 with value: 0.9717612497250289.\n",
      "[I 2024-07-13 13:08:29,312] Trial 41 finished with value: 0.9693310893796618 and parameters: {'max_depth': 8, 'learning_rate': 0.2709663775523119, 'n_estimators': 151, 'subsample': 0.8674746816146989, 'colsample_bytree': 0.8650481503435211, 'lambda': 0.9114261436162421, 'alpha': 0.6198301967686979}. Best is trial 2 with value: 0.9717612497250289.\n",
      "[I 2024-07-13 13:08:29,855] Trial 42 finished with value: 0.9684704889126347 and parameters: {'max_depth': 7, 'learning_rate': 0.2584222822189067, 'n_estimators': 142, 'subsample': 0.7914409630282038, 'colsample_bytree': 0.892446343892134, 'lambda': 0.7362429614817287, 'alpha': 0.41218909191452946}. Best is trial 2 with value: 0.9717612497250289.\n",
      "[I 2024-07-13 13:08:30,572] Trial 43 finished with value: 0.9688653078359163 and parameters: {'max_depth': 10, 'learning_rate': 0.1469208503572359, 'n_estimators': 157, 'subsample': 0.5157220951045287, 'colsample_bytree': 0.952561686533249, 'lambda': 0.9530686333079263, 'alpha': 0.7204885381614756}. Best is trial 2 with value: 0.9717612497250289.\n",
      "[I 2024-07-13 13:08:31,278] Trial 44 finished with value: 0.9683873199012738 and parameters: {'max_depth': 8, 'learning_rate': 0.21019903679696392, 'n_estimators': 165, 'subsample': 0.5790489833218455, 'colsample_bytree': 0.8487850215250858, 'lambda': 0.6749564973660733, 'alpha': 0.9971768397957599}. Best is trial 2 with value: 0.9717612497250289.\n",
      "[I 2024-07-13 13:08:31,875] Trial 45 finished with value: 0.9681563028814156 and parameters: {'max_depth': 6, 'learning_rate': 0.2400125930838957, 'n_estimators': 155, 'subsample': 0.819679855914636, 'colsample_bytree': 0.7914963495735892, 'lambda': 0.8872987881260138, 'alpha': 0.5379508898396897}. Best is trial 2 with value: 0.9717612497250289.\n",
      "[I 2024-07-13 13:08:32,459] Trial 46 finished with value: 0.9701937587640578 and parameters: {'max_depth': 7, 'learning_rate': 0.18980600023476757, 'n_estimators': 136, 'subsample': 0.9087895941919016, 'colsample_bytree': 0.8281215707831571, 'lambda': 0.8002825012555523, 'alpha': 0.8557526252424978}. Best is trial 2 with value: 0.9717612497250289.\n",
      "[I 2024-07-13 13:08:32,782] Trial 47 finished with value: 0.9675837772362643 and parameters: {'max_depth': 3, 'learning_rate': 0.15848268777187036, 'n_estimators': 126, 'subsample': 0.7931333004309248, 'colsample_bytree': 0.9015241134430472, 'lambda': 0.9878784017245301, 'alpha': 0.6357098540306081}. Best is trial 2 with value: 0.9717612497250289.\n"
     ]
    },
    {
     "name": "stderr",
     "output_type": "stream",
     "text": [
      "[I 2024-07-13 13:08:33,616] Trial 48 finished with value: 0.9670516737425909 and parameters: {'max_depth': 9, 'learning_rate': 0.014373055137619134, 'n_estimators': 173, 'subsample': 0.7355692329295097, 'colsample_bytree': 0.6633218292797771, 'lambda': 0.6205631529620623, 'alpha': 0.7880821705558605}. Best is trial 2 with value: 0.9717612497250289.\n",
      "[I 2024-07-13 13:08:34,083] Trial 49 finished with value: 0.970220030307114 and parameters: {'max_depth': 4, 'learning_rate': 0.2851359082392808, 'n_estimators': 166, 'subsample': 0.930654450483635, 'colsample_bytree': 0.7089106633759538, 'lambda': 0.7694660705333025, 'alpha': 0.4871061228094894}. Best is trial 2 with value: 0.9717612497250289.\n",
      "[I 2024-07-13 13:08:34,727] Trial 50 finished with value: 0.9712106072514806 and parameters: {'max_depth': 5, 'learning_rate': 0.29939721244132406, 'n_estimators': 189, 'subsample': 0.8921792789255599, 'colsample_bytree': 0.7444070699931632, 'lambda': 0.5293691004660648, 'alpha': 0.9212320816704275}. Best is trial 2 with value: 0.9717612497250289.\n",
      "[I 2024-07-13 13:08:35,359] Trial 51 finished with value: 0.9676119331579158 and parameters: {'max_depth': 5, 'learning_rate': 0.29333888801816455, 'n_estimators': 191, 'subsample': 0.8913613857260532, 'colsample_bytree': 0.7469560863722409, 'lambda': 0.5893037989690494, 'alpha': 0.9185186995819737}. Best is trial 2 with value: 0.9717612497250289.\n",
      "[I 2024-07-13 13:08:35,990] Trial 52 finished with value: 0.9697242753450391 and parameters: {'max_depth': 5, 'learning_rate': 0.2638960216086187, 'n_estimators': 187, 'subsample': 0.9588083607310841, 'colsample_bytree': 0.8641072325598356, 'lambda': 0.5519383286131765, 'alpha': 0.8649942447596864}. Best is trial 2 with value: 0.9717612497250289.\n",
      "[I 2024-07-13 13:08:36,643] Trial 53 finished with value: 0.969984978922467 and parameters: {'max_depth': 6, 'learning_rate': 0.24817972782021566, 'n_estimators': 183, 'subsample': 0.862781221169041, 'colsample_bytree': 0.7612765791784146, 'lambda': 0.6945252617421543, 'alpha': 0.95218419037057}. Best is trial 2 with value: 0.9717612497250289.\n",
      "[I 2024-07-13 13:08:37,364] Trial 54 finished with value: 0.9693579518292867 and parameters: {'max_depth': 7, 'learning_rate': 0.2986362856060529, 'n_estimators': 180, 'subsample': 0.827934163443096, 'colsample_bytree': 0.792954780976499, 'lambda': 0.5048054494869753, 'alpha': 0.8190572319518695}. Best is trial 2 with value: 0.9717612497250289.\n",
      "[I 2024-07-13 13:08:38,228] Trial 55 finished with value: 0.9699587763032224 and parameters: {'max_depth': 8, 'learning_rate': 0.2809559723203695, 'n_estimators': 195, 'subsample': 0.8858563494786145, 'colsample_bytree': 0.8252891902257733, 'lambda': 0.8295274586289744, 'alpha': 0.9002541732202662}. Best is trial 2 with value: 0.9717612497250289.\n",
      "[I 2024-07-13 13:08:38,627] Trial 56 finished with value: 0.9692496791597239 and parameters: {'max_depth': 3, 'learning_rate': 0.13843356616873942, 'n_estimators': 159, 'subsample': 0.6601651057740773, 'colsample_bytree': 0.7257744729650909, 'lambda': 0.3920510019350274, 'alpha': 0.3857170877330326}. Best is trial 2 with value: 0.9717612497250289.\n",
      "[I 2024-07-13 13:08:39,314] Trial 57 finished with value: 0.9690167992084118 and parameters: {'max_depth': 9, 'learning_rate': 0.2163181860724483, 'n_estimators': 144, 'subsample': 0.9728181416306052, 'colsample_bytree': 0.6842975392299414, 'lambda': 0.9491722043410168, 'alpha': 0.7144725442305665}. Best is trial 2 with value: 0.9717612497250289.\n",
      "[I 2024-07-13 13:08:39,942] Trial 58 finished with value: 0.9705852793440175 and parameters: {'max_depth': 6, 'learning_rate': 0.18180668070119843, 'n_estimators': 173, 'subsample': 0.849543674244029, 'colsample_bytree': 0.8135246390630868, 'lambda': 0.28781866616631374, 'alpha': 0.9760874085935098}. Best is trial 2 with value: 0.9717612497250289.\n",
      "[I 2024-07-13 13:08:40,620] Trial 59 finished with value: 0.9707959050516528 and parameters: {'max_depth': 10, 'learning_rate': 0.11801837761420171, 'n_estimators': 120, 'subsample': 0.7023523819722735, 'colsample_bytree': 0.8370241098572906, 'lambda': 0.4506991395723019, 'alpha': 0.7896064990969989}. Best is trial 2 with value: 0.9717612497250289.\n",
      "[I 2024-07-13 13:08:41,412] Trial 60 finished with value: 0.9688384675037921 and parameters: {'max_depth': 7, 'learning_rate': 0.2365735965343202, 'n_estimators': 200, 'subsample': 0.7710230122376185, 'colsample_bytree': 0.8763006666702493, 'lambda': 0.7178771206966268, 'alpha': 0.8575189766207201}. Best is trial 2 with value: 0.9717612497250289.\n",
      "[I 2024-07-13 13:08:41,926] Trial 61 finished with value: 0.9714232614058166 and parameters: {'max_depth': 4, 'learning_rate': 0.10569485319751247, 'n_estimators': 162, 'subsample': 0.9308695324476991, 'colsample_bytree': 0.7064593342879744, 'lambda': 0.646100227761123, 'alpha': 0.7499810908685748}. Best is trial 2 with value: 0.9717612497250289.\n",
      "[I 2024-07-13 13:08:42,395] Trial 62 finished with value: 0.969618414757763 and parameters: {'max_depth': 4, 'learning_rate': 0.10010100990428912, 'n_estimators': 162, 'subsample': 0.6179158414634789, 'colsample_bytree': 0.6531041339420226, 'lambda': 0.646959267161695, 'alpha': 0.8292611481519389}. Best is trial 2 with value: 0.9717612497250289.\n",
      "[I 2024-07-13 13:08:42,827] Trial 63 finished with value: 0.9676701409477294 and parameters: {'max_depth': 3, 'learning_rate': 0.07051703380351142, 'n_estimators': 170, 'subsample': 0.919091779097319, 'colsample_bytree': 0.7068334113059147, 'lambda': 0.5299815627642012, 'alpha': 0.9149366289069082}. Best is trial 2 with value: 0.9717612497250289.\n",
      "[I 2024-07-13 13:08:43,353] Trial 64 finished with value: 0.9717116126618027 and parameters: {'max_depth': 5, 'learning_rate': 0.08961083280171199, 'n_estimators': 152, 'subsample': 0.9453202538750219, 'colsample_bytree': 0.7648146663488845, 'lambda': 0.599674840840093, 'alpha': 0.7570062848459822}. Best is trial 2 with value: 0.9717612497250289.\n",
      "[I 2024-07-13 13:08:43,688] Trial 65 finished with value: 0.9630880399735701 and parameters: {'max_depth': 2, 'learning_rate': 0.08302480795174517, 'n_estimators': 155, 'subsample': 0.976725305952393, 'colsample_bytree': 0.7744056200850644, 'lambda': 0.6041808296971672, 'alpha': 0.6762680714586337}. Best is trial 2 with value: 0.9717612497250289.\n",
      "[I 2024-07-13 13:08:44,126] Trial 66 finished with value: 0.9677566345280947 and parameters: {'max_depth': 4, 'learning_rate': 0.08642300930446446, 'n_estimators': 152, 'subsample': 0.9407669350955825, 'colsample_bytree': 0.7969596750810345, 'lambda': 0.7566034156250275, 'alpha': 0.7348407465232324}. Best is trial 2 with value: 0.9717612497250289.\n",
      "[I 2024-07-13 13:08:44,706] Trial 67 finished with value: 0.9707959050516528 and parameters: {'max_depth': 8, 'learning_rate': 0.10871923210360625, 'n_estimators': 140, 'subsample': 0.8040581758508847, 'colsample_bytree': 0.7614876975926557, 'lambda': 0.6978801665989616, 'alpha': 0.7977686994572747}. Best is trial 2 with value: 0.9717612497250289.\n",
      "[I 2024-07-13 13:08:45,080] Trial 68 finished with value: 0.9711097320801388 and parameters: {'max_depth': 5, 'learning_rate': 0.12680902533537108, 'n_estimators': 112, 'subsample': 0.9873201622483166, 'colsample_bytree': 0.7264493832747914, 'lambda': 0.6554503295163716, 'alpha': 0.5839451687141561}. Best is trial 2 with value: 0.9717612497250289.\n",
      "[I 2024-07-13 13:08:45,581] Trial 69 finished with value: 0.9707959050516528 and parameters: {'max_depth': 9, 'learning_rate': 0.05912679495311406, 'n_estimators': 103, 'subsample': 0.9205463257895191, 'colsample_bytree': 0.8074024200599677, 'lambda': 0.870880359093449, 'alpha': 0.7474173035540177}. Best is trial 2 with value: 0.9717612497250289.\n",
      "[I 2024-07-13 13:08:45,982] Trial 70 finished with value: 0.9694001282802405 and parameters: {'max_depth': 8, 'learning_rate': 0.04773739218449466, 'n_estimators': 82, 'subsample': 0.946275521773246, 'colsample_bytree': 0.6957418976348662, 'lambda': 0.7934468791020977, 'alpha': 0.655355644859879}. Best is trial 2 with value: 0.9717612497250289.\n",
      "[I 2024-07-13 13:08:46,394] Trial 71 finished with value: 0.9699059709168114 and parameters: {'max_depth': 5, 'learning_rate': 0.09451143492034175, 'n_estimators': 130, 'subsample': 0.8787847082725296, 'colsample_bytree': 0.7348224296859938, 'lambda': 0.5651634608949528, 'alpha': 0.8363360360459777}. Best is trial 2 with value: 0.9717612497250289.\n"
     ]
    },
    {
     "name": "stderr",
     "output_type": "stream",
     "text": [
      "[I 2024-07-13 13:08:46,912] Trial 72 finished with value: 0.9693846785009163 and parameters: {'max_depth': 5, 'learning_rate': 0.16840141620951599, 'n_estimators': 176, 'subsample': 0.841043712424187, 'colsample_bytree': 0.7498070032604914, 'lambda': 0.8286746869439203, 'alpha': 0.8809709318901737}. Best is trial 2 with value: 0.9717612497250289.\n",
      "[I 2024-07-13 13:08:47,501] Trial 73 finished with value: 0.9706108282358867 and parameters: {'max_depth': 4, 'learning_rate': 0.27329558040125235, 'n_estimators': 182, 'subsample': 0.8929632260397756, 'colsample_bytree': 0.7745777909249836, 'lambda': 0.5863320870456639, 'alpha': 0.9670436586347262}. Best is trial 2 with value: 0.9717612497250289.\n",
      "[I 2024-07-13 13:08:48,142] Trial 74 finished with value: 0.9713980513392474 and parameters: {'max_depth': 6, 'learning_rate': 0.10406565411056376, 'n_estimators': 166, 'subsample': 0.906260685294966, 'colsample_bytree': 0.9157862988266069, 'lambda': 0.7407987587991824, 'alpha': 0.763250749274153}. Best is trial 2 with value: 0.9717612497250289.\n",
      "[I 2024-07-13 13:08:48,742] Trial 75 finished with value: 0.9711097320801388 and parameters: {'max_depth': 6, 'learning_rate': 0.10648786378537409, 'n_estimators': 166, 'subsample': 0.9263898806565058, 'colsample_bytree': 0.9119412194709801, 'lambda': 0.7282189787615353, 'alpha': 0.7590665063945711}. Best is trial 2 with value: 0.9717612497250289.\n",
      "[I 2024-07-13 13:08:49,352] Trial 76 finished with value: 0.9707959050516528 and parameters: {'max_depth': 6, 'learning_rate': 0.11625780033273443, 'n_estimators': 161, 'subsample': 0.9031549218897859, 'colsample_bytree': 0.9333332672988109, 'lambda': 0.9295754094444304, 'alpha': 0.6943454822049243}. Best is trial 2 with value: 0.9717612497250289.\n",
      "[I 2024-07-13 13:08:50,107] Trial 77 finished with value: 0.9707959050516528 and parameters: {'max_depth': 7, 'learning_rate': 0.08849223643715197, 'n_estimators': 172, 'subsample': 0.7436633287050121, 'colsample_bytree': 0.8780600919302635, 'lambda': 0.6407370586039833, 'alpha': 0.763225141492758}. Best is trial 2 with value: 0.9717612497250289.\n",
      "[I 2024-07-13 13:08:50,731] Trial 78 finished with value: 0.9707700331703287 and parameters: {'max_depth': 7, 'learning_rate': 0.07359605202872399, 'n_estimators': 146, 'subsample': 0.7782700867386291, 'colsample_bytree': 0.9704840931317488, 'lambda': 0.7141524721646764, 'alpha': 0.2976540141541204}. Best is trial 2 with value: 0.9717612497250289.\n",
      "[I 2024-07-13 13:08:51,361] Trial 79 finished with value: 0.9705337917569301 and parameters: {'max_depth': 6, 'learning_rate': 0.1954284377855765, 'n_estimators': 157, 'subsample': 0.8749441648613753, 'colsample_bytree': 0.8601770392820729, 'lambda': 0.744256905710905, 'alpha': 0.8024926080542798}. Best is trial 2 with value: 0.9717612497250289.\n",
      "[I 2024-07-13 13:08:52,108] Trial 80 finished with value: 0.9711351429455641 and parameters: {'max_depth': 8, 'learning_rate': 0.15238366971859788, 'n_estimators': 153, 'subsample': 0.8587143175769701, 'colsample_bytree': 0.8454391286457555, 'lambda': 0.6723409940802149, 'alpha': 0.7093126616157404}. Best is trial 2 with value: 0.9717612497250289.\n",
      "[I 2024-07-13 13:08:52,716] Trial 81 finished with value: 0.9690710510285845 and parameters: {'max_depth': 5, 'learning_rate': 0.13687619278341895, 'n_estimators': 190, 'subsample': 0.899877092985629, 'colsample_bytree': 0.7391193303457795, 'lambda': 0.6122104030242524, 'alpha': 0.9306290956781833}. Best is trial 2 with value: 0.9717612497250289.\n",
      "[I 2024-07-13 13:08:53,268] Trial 82 finished with value: 0.9697242753450391 and parameters: {'max_depth': 5, 'learning_rate': 0.28592639044358914, 'n_estimators': 167, 'subsample': 0.8331670402370492, 'colsample_bytree': 0.7885973346032538, 'lambda': 0.7829024798745822, 'alpha': 0.84117682975077}. Best is trial 2 with value: 0.9717612497250289.\n",
      "[I 2024-07-13 13:08:53,923] Trial 83 finished with value: 0.9696716131445342 and parameters: {'max_depth': 6, 'learning_rate': 0.10256612989376382, 'n_estimators': 177, 'subsample': 0.9593790397961028, 'colsample_bytree': 0.7177445219093562, 'lambda': 0.5350631665387751, 'alpha': 0.8717547456568361}. Best is trial 2 with value: 0.9717612497250289.\n",
      "[I 2024-07-13 13:08:54,419] Trial 84 finished with value: 0.969276953872034 and parameters: {'max_depth': 5, 'learning_rate': 0.25549301883741865, 'n_estimators': 148, 'subsample': 0.8831709697248346, 'colsample_bytree': 0.5652392868850948, 'lambda': 0.07099145045696631, 'alpha': 0.4449118332107937}. Best is trial 2 with value: 0.9717612497250289.\n",
      "[I 2024-07-13 13:08:54,881] Trial 85 finished with value: 0.9711604252510934 and parameters: {'max_depth': 4, 'learning_rate': 0.11987780525225367, 'n_estimators': 163, 'subsample': 0.9153292273922831, 'colsample_bytree': 0.7546851840434122, 'lambda': 0.45821005102845397, 'alpha': 0.9057329229850707}. Best is trial 2 with value: 0.9717612497250289.\n",
      "[I 2024-07-13 13:08:55,726] Trial 86 finished with value: 0.9713980513392474 and parameters: {'max_depth': 9, 'learning_rate': 0.07729188941261016, 'n_estimators': 174, 'subsample': 0.7134114844176442, 'colsample_bytree': 0.8174394620493223, 'lambda': 0.8444228358878678, 'alpha': 0.7736304011836299}. Best is trial 2 with value: 0.9717612497250289.\n",
      "[I 2024-07-13 13:08:56,413] Trial 87 finished with value: 0.9699059709168114 and parameters: {'max_depth': 9, 'learning_rate': 0.07741032415253127, 'n_estimators': 136, 'subsample': 0.7198356764015865, 'colsample_bytree': 0.8203848874832635, 'lambda': 0.8815034516910479, 'alpha': 0.7722027291321583}. Best is trial 2 with value: 0.9717612497250289.\n",
      "[I 2024-07-13 13:08:57,319] Trial 88 finished with value: 0.9708472563713647 and parameters: {'max_depth': 10, 'learning_rate': 0.09139041513941992, 'n_estimators': 174, 'subsample': 0.6825834674487719, 'colsample_bytree': 0.9283021553056555, 'lambda': 0.8444058224709956, 'alpha': 0.6556407495062939}. Best is trial 2 with value: 0.9717612497250289.\n",
      "[I 2024-07-13 13:08:57,950] Trial 89 finished with value: 0.9696716131445342 and parameters: {'max_depth': 8, 'learning_rate': 0.06467346748999897, 'n_estimators': 121, 'subsample': 0.7579483978457938, 'colsample_bytree': 0.8385160182251156, 'lambda': 0.9765000762822373, 'alpha': 0.7320001896386565}. Best is trial 2 with value: 0.9717612497250289.\n",
      "[I 2024-07-13 13:08:58,775] Trial 90 finished with value: 0.970246168873867 and parameters: {'max_depth': 9, 'learning_rate': 0.04446312809711664, 'n_estimators': 169, 'subsample': 0.7051823310730289, 'colsample_bytree': 0.9089096115251445, 'lambda': 0.8130233614249702, 'alpha': 0.8144136257867606}. Best is trial 2 with value: 0.9717612497250289.\n",
      "[I 2024-07-13 13:08:59,643] Trial 91 finished with value: 0.9705337917569301 and parameters: {'max_depth': 9, 'learning_rate': 0.1101208993010595, 'n_estimators': 185, 'subsample': 0.730801085181709, 'colsample_bytree': 0.7817423933665995, 'lambda': 0.6855120495138053, 'alpha': 0.3673352581554867}. Best is trial 2 with value: 0.9717612497250289.\n",
      "[I 2024-07-13 13:09:00,352] Trial 92 finished with value: 0.9693846785009163 and parameters: {'max_depth': 7, 'learning_rate': 0.23228075622672018, 'n_estimators': 181, 'subsample': 0.9380586645868902, 'colsample_bytree': 0.7644411584837111, 'lambda': 0.9189405090156515, 'alpha': 0.7754493265007809}. Best is trial 2 with value: 0.9717612497250289.\n",
      "[I 2024-07-13 13:09:00,606] Trial 93 finished with value: 0.9670582193846491 and parameters: {'max_depth': 6, 'learning_rate': 0.023864562169857953, 'n_estimators': 58, 'subsample': 0.8108158619819017, 'colsample_bytree': 0.8094338319510388, 'lambda': 0.7607647590618044, 'alpha': 0.8862159421397072}. Best is trial 2 with value: 0.9717612497250289.\n",
      "[I 2024-07-13 13:09:01,402] Trial 94 finished with value: 0.9708216458564654 and parameters: {'max_depth': 9, 'learning_rate': 0.08150388243850344, 'n_estimators': 178, 'subsample': 0.8500186418105335, 'colsample_bytree': 0.7345421543733014, 'lambda': 0.8928026786399149, 'alpha': 0.8447201314739978}. Best is trial 2 with value: 0.9717612497250289.\n",
      "[I 2024-07-13 13:09:02,081] Trial 95 finished with value: 0.9707959050516528 and parameters: {'max_depth': 8, 'learning_rate': 0.12969275232608257, 'n_estimators': 159, 'subsample': 0.9492539000636552, 'colsample_bytree': 0.6835559629394958, 'lambda': 0.6348837679010165, 'alpha': 0.48572397543794654}. Best is trial 2 with value: 0.9717612497250289.\n"
     ]
    },
    {
     "name": "stderr",
     "output_type": "stream",
     "text": [
      "[I 2024-07-13 13:09:02,561] Trial 96 finished with value: 0.9683208642262393 and parameters: {'max_depth': 4, 'learning_rate': 0.288975222845246, 'n_estimators': 188, 'subsample': 0.8664454601547545, 'colsample_bytree': 0.6664336287893377, 'lambda': 0.8504804365898563, 'alpha': 0.9418301098207794}. Best is trial 2 with value: 0.9717612497250289.\n",
      "[I 2024-07-13 13:09:03,392] Trial 97 finished with value: 0.9702980502565505 and parameters: {'max_depth': 10, 'learning_rate': 0.2147253919998409, 'n_estimators': 164, 'subsample': 0.9092174938239613, 'colsample_bytree': 0.9453525095957751, 'lambda': 0.8181922992925831, 'alpha': 0.8109482543840013}. Best is trial 2 with value: 0.9717612497250289.\n",
      "[I 2024-07-13 13:09:04,095] Trial 98 finished with value: 0.9703494092028694 and parameters: {'max_depth': 6, 'learning_rate': 0.2987474155499835, 'n_estimators': 194, 'subsample': 0.8945897587272653, 'colsample_bytree': 0.7977775573655421, 'lambda': 0.49840354872553705, 'alpha': 0.6961892328701085}. Best is trial 2 with value: 0.9717612497250289.\n",
      "[I 2024-07-13 13:09:04,528] Trial 99 finished with value: 0.9690710510285845 and parameters: {'max_depth': 7, 'learning_rate': 0.24581812001040226, 'n_estimators': 93, 'subsample': 0.7508302797412393, 'colsample_bytree': 0.8574576376162741, 'lambda': 0.7092891564199091, 'alpha': 0.7423015755362351}. Best is trial 2 with value: 0.9717612497250289.\n"
     ]
    },
    {
     "name": "stdout",
     "output_type": "stream",
     "text": [
      "Best hyperparameters:  {'max_depth': 9, 'learning_rate': 0.1551718247786053, 'n_estimators': 175, 'subsample': 0.7646025844137256, 'colsample_bytree': 0.8088108516320626, 'lambda': 0.7408862137076424, 'alpha': 0.8171368075135638}\n",
      "Best F1 Score:  0.9717612497250289\n",
      "              precision    recall  f1-score   support\n",
      "\n",
      "           0       0.98      0.99      0.98      2866\n",
      "           1       0.93      0.88      0.90       497\n",
      "\n",
      "    accuracy                           0.97      3363\n",
      "   macro avg       0.95      0.93      0.94      3363\n",
      "weighted avg       0.97      0.97      0.97      3363\n",
      "\n"
     ]
    }
   ],
   "source": [
    "import optuna\n",
    "from xgboost import XGBClassifier\n",
    "from sklearn import metrics\n",
    "from sklearn.model_selection import train_test_split\n",
    "\n",
    "# Supposons que train_X, train_y, test_X, test_y soient déjà définis\n",
    "# train_X, train_y = ...\n",
    "# test_X, test_y = ...\n",
    "\n",
    "# Fonction objectif pour Optuna\n",
    "def objective(trial):\n",
    "    param = {\n",
    "        'max_depth': trial.suggest_int('max_depth', 1, 10),\n",
    "        'learning_rate': trial.suggest_float('learning_rate', 0.01, 0.3),\n",
    "        'n_estimators': trial.suggest_int('n_estimators', 50, 200),\n",
    "        'subsample': trial.suggest_float('subsample', 0.5, 1.0),\n",
    "        'colsample_bytree': trial.suggest_float('colsample_bytree', 0.5, 1.0),\n",
    "        'lambda': trial.suggest_float('lambda', 1e-8, 1.0),\n",
    "        'alpha': trial.suggest_float('alpha', 1e-8, 1.0)\n",
    "    }\n",
    "    \n",
    "    model = XGBClassifier(**param)\n",
    "    model.fit(train_X, train_y)\n",
    "    y_pred = model.predict(test_X)\n",
    "    \n",
    "    f1 = metrics.f1_score(test_y, y_pred, average='weighted')\n",
    "    \n",
    "    return f1\n",
    "\n",
    "# Créer une étude et optimiser\n",
    "study = optuna.create_study(direction='maximize')\n",
    "study.optimize(objective, n_trials=100)\n",
    "\n",
    "# Afficher les meilleurs hyperparamètres trouvés\n",
    "print(\"Best hyperparameters: \", study.best_params)\n",
    "print(\"Best F1 Score: \", study.best_value)\n",
    "\n",
    "# Entraîner le modèle final avec les meilleurs hyperparamètres\n",
    "best_params = study.best_params\n",
    "mod2 = XGBClassifier(**best_params)\n",
    "mod2.fit(train_X, train_y)\n",
    "y_pred = mod2.predict(test_X)\n",
    "\n",
    "# Afficher le rapport de classification\n",
    "print(metrics.classification_report(test_y, y_pred))\n"
   ]
  },
  {
   "cell_type": "code",
   "execution_count": null,
   "id": "bf869a6b",
   "metadata": {},
   "outputs": [],
   "source": [
    "'max_depth': 9, 'learning_rate': 0.021599567632155852, 'n_estimators': 119, 'subsample': 0.992685142235708, 'colsample_bytree': 0.842983618254443, 'lambda': 0.18087389926715097, 'alpha': 0.812862979006105"
   ]
  },
  {
   "cell_type": "code",
   "execution_count": 74,
   "id": "6f29fc49",
   "metadata": {},
   "outputs": [
    {
     "name": "stdout",
     "output_type": "stream",
     "text": [
      "              precision    recall  f1-score   support\n",
      "\n",
      "           0       0.95      0.99      0.97      3098\n",
      "           1       0.90      0.73      0.81       557\n",
      "\n",
      "    accuracy                           0.95      3655\n",
      "   macro avg       0.93      0.86      0.89      3655\n",
      "weighted avg       0.95      0.95      0.94      3655\n",
      "\n"
     ]
    }
   ],
   "source": [
    "from xgboost import XGBClassifier\n",
    "from sklearn import metrics\n",
    "\n",
    "# Meilleurs hyperparamètres trouvés par Optuna\n",
    "best_params = {\n",
    "    'max_depth': 9, 'learning_rate': 0.021599567632155852, 'n_estimators': 119, 'subsample': 0.992685142235708, 'colsample_bytree': 0.842983618254443, 'lambda': 0.18087389926715097, 'alpha': 0.812862979006105}\n",
    "    #Entraîner le modèle final avec les meilleurs hyperparamètres\n",
    "mod1 = XGBClassifier(**best_params)\n",
    "mod1.fit(train_X, train_y)\n",
    "y_pred = mod1.predict(test_X)\n",
    "\n",
    "# Afficher le rapport de classification\n",
    "print(metrics.classification_report(test_y, y_pred))\n"
   ]
  },
  {
   "cell_type": "code",
   "execution_count": 75,
   "id": "ba0d2b25",
   "metadata": {},
   "outputs": [
    {
     "data": {
      "text/html": [
       "<div>\n",
       "<style scoped>\n",
       "    .dataframe tbody tr th:only-of-type {\n",
       "        vertical-align: middle;\n",
       "    }\n",
       "\n",
       "    .dataframe tbody tr th {\n",
       "        vertical-align: top;\n",
       "    }\n",
       "\n",
       "    .dataframe thead th {\n",
       "        text-align: right;\n",
       "    }\n",
       "</style>\n",
       "<table border=\"1\" class=\"dataframe\">\n",
       "  <thead>\n",
       "    <tr style=\"text-align: right;\">\n",
       "      <th></th>\n",
       "      <th>anciennete_agence</th>\n",
       "      <th>duree_pret_souhaitee</th>\n",
       "      <th>taux_interet</th>\n",
       "      <th>ssecteur_activite</th>\n",
       "      <th>nbr_mois_cotisation</th>\n",
       "      <th>rapport_rembourse</th>\n",
       "      <th>rapport_rembour</th>\n",
       "    </tr>\n",
       "  </thead>\n",
       "  <tbody>\n",
       "    <tr>\n",
       "      <th>4471</th>\n",
       "      <td>8.000000</td>\n",
       "      <td>12.0</td>\n",
       "      <td>19.0000</td>\n",
       "      <td>32</td>\n",
       "      <td>10.000000</td>\n",
       "      <td>0.900000</td>\n",
       "      <td>4.150000e+05</td>\n",
       "    </tr>\n",
       "    <tr>\n",
       "      <th>10179</th>\n",
       "      <td>4.000000</td>\n",
       "      <td>12.0</td>\n",
       "      <td>18.0000</td>\n",
       "      <td>32</td>\n",
       "      <td>11.183644</td>\n",
       "      <td>0.666667</td>\n",
       "      <td>-2.000000e+04</td>\n",
       "    </tr>\n",
       "    <tr>\n",
       "      <th>12020</th>\n",
       "      <td>4.000000</td>\n",
       "      <td>12.0</td>\n",
       "      <td>19.0000</td>\n",
       "      <td>19</td>\n",
       "      <td>1.000000</td>\n",
       "      <td>0.000000</td>\n",
       "      <td>-5.000000e+05</td>\n",
       "    </tr>\n",
       "    <tr>\n",
       "      <th>11431</th>\n",
       "      <td>9.000000</td>\n",
       "      <td>12.0</td>\n",
       "      <td>19.0000</td>\n",
       "      <td>19</td>\n",
       "      <td>9.000000</td>\n",
       "      <td>0.833333</td>\n",
       "      <td>-2.833333e+05</td>\n",
       "    </tr>\n",
       "    <tr>\n",
       "      <th>9962</th>\n",
       "      <td>8.196027</td>\n",
       "      <td>12.0</td>\n",
       "      <td>19.0000</td>\n",
       "      <td>32</td>\n",
       "      <td>12.000000</td>\n",
       "      <td>0.857143</td>\n",
       "      <td>-2.142857e+04</td>\n",
       "    </tr>\n",
       "    <tr>\n",
       "      <th>...</th>\n",
       "      <td>...</td>\n",
       "      <td>...</td>\n",
       "      <td>...</td>\n",
       "      <td>...</td>\n",
       "      <td>...</td>\n",
       "      <td>...</td>\n",
       "      <td>...</td>\n",
       "    </tr>\n",
       "    <tr>\n",
       "      <th>10955</th>\n",
       "      <td>8.196027</td>\n",
       "      <td>12.0</td>\n",
       "      <td>0.0000</td>\n",
       "      <td>19</td>\n",
       "      <td>11.000000</td>\n",
       "      <td>0.000000</td>\n",
       "      <td>0.000000e+00</td>\n",
       "    </tr>\n",
       "    <tr>\n",
       "      <th>905</th>\n",
       "      <td>8.196027</td>\n",
       "      <td>12.0</td>\n",
       "      <td>24.0000</td>\n",
       "      <td>3</td>\n",
       "      <td>12.000000</td>\n",
       "      <td>0.000000</td>\n",
       "      <td>0.000000e+00</td>\n",
       "    </tr>\n",
       "    <tr>\n",
       "      <th>5192</th>\n",
       "      <td>11.000000</td>\n",
       "      <td>60.0</td>\n",
       "      <td>5.7145</td>\n",
       "      <td>34</td>\n",
       "      <td>12.000000</td>\n",
       "      <td>0.978723</td>\n",
       "      <td>-1.637021e+06</td>\n",
       "    </tr>\n",
       "    <tr>\n",
       "      <th>12172</th>\n",
       "      <td>4.000000</td>\n",
       "      <td>12.0</td>\n",
       "      <td>19.0000</td>\n",
       "      <td>19</td>\n",
       "      <td>0.000000</td>\n",
       "      <td>0.000000</td>\n",
       "      <td>-4.000000e+06</td>\n",
       "    </tr>\n",
       "    <tr>\n",
       "      <th>235</th>\n",
       "      <td>8.196027</td>\n",
       "      <td>3.0</td>\n",
       "      <td>24.0000</td>\n",
       "      <td>6</td>\n",
       "      <td>4.000000</td>\n",
       "      <td>0.000000</td>\n",
       "      <td>0.000000e+00</td>\n",
       "    </tr>\n",
       "  </tbody>\n",
       "</table>\n",
       "<p>8528 rows × 7 columns</p>\n",
       "</div>"
      ],
      "text/plain": [
       "       anciennete_agence  duree_pret_souhaitee  taux_interet  \\\n",
       "4471            8.000000                  12.0       19.0000   \n",
       "10179           4.000000                  12.0       18.0000   \n",
       "12020           4.000000                  12.0       19.0000   \n",
       "11431           9.000000                  12.0       19.0000   \n",
       "9962            8.196027                  12.0       19.0000   \n",
       "...                  ...                   ...           ...   \n",
       "10955           8.196027                  12.0        0.0000   \n",
       "905             8.196027                  12.0       24.0000   \n",
       "5192           11.000000                  60.0        5.7145   \n",
       "12172           4.000000                  12.0       19.0000   \n",
       "235             8.196027                   3.0       24.0000   \n",
       "\n",
       "       ssecteur_activite  nbr_mois_cotisation  rapport_rembourse  \\\n",
       "4471                  32            10.000000           0.900000   \n",
       "10179                 32            11.183644           0.666667   \n",
       "12020                 19             1.000000           0.000000   \n",
       "11431                 19             9.000000           0.833333   \n",
       "9962                  32            12.000000           0.857143   \n",
       "...                  ...                  ...                ...   \n",
       "10955                 19            11.000000           0.000000   \n",
       "905                    3            12.000000           0.000000   \n",
       "5192                  34            12.000000           0.978723   \n",
       "12172                 19             0.000000           0.000000   \n",
       "235                    6             4.000000           0.000000   \n",
       "\n",
       "       rapport_rembour  \n",
       "4471      4.150000e+05  \n",
       "10179    -2.000000e+04  \n",
       "12020    -5.000000e+05  \n",
       "11431    -2.833333e+05  \n",
       "9962     -2.142857e+04  \n",
       "...                ...  \n",
       "10955     0.000000e+00  \n",
       "905       0.000000e+00  \n",
       "5192     -1.637021e+06  \n",
       "12172    -4.000000e+06  \n",
       "235       0.000000e+00  \n",
       "\n",
       "[8528 rows x 7 columns]"
      ]
     },
     "execution_count": 75,
     "metadata": {},
     "output_type": "execute_result"
    }
   ],
   "source": [
    "train_X"
   ]
  },
  {
   "cell_type": "code",
   "execution_count": 67,
   "id": "de22bfe2",
   "metadata": {},
   "outputs": [],
   "source": [
    "train=pd.read_csv('Base.csv')\n",
    "train=train.drop('Unnamed: 0',axis=1)"
   ]
  },
  {
   "cell_type": "code",
   "execution_count": 68,
   "id": "4dc8367d",
   "metadata": {},
   "outputs": [],
   "source": [
    "#train =train[train['duree_pret_souhaitee']<84]\n",
    "#train =train[train['montant_sollicite']<1000000]\n",
    "# Remplace les valeurs nulles dans nbr_credits_octroyes par 1 pour éviter la division par zéro\n",
    "#train['nbr_credits_octroyes'] = train['nbr_credits_octroyes'].replace(0, 1)\n",
    "train['rapport_rembourse'] = train['nbr_credits_rembourses'] / train['nbr_credits_octroyes'].replace(0, 1)\n",
    "train['rapport_rembour'] = (train['montant_credits_accorde']/ train['nbr_credits_octroyes'].replace(0, 1)) - train['montant_sollicite']\n",
    "train=train.drop('nbr_credits_octroyes',axis=1)\n",
    "train=train.drop('nbr_credits_rembourses',axis=1)\n",
    "train=train.drop('montant_sollicite',axis=1)\n",
    "train=train.drop('montant_credits_accorde',axis=1)\n"
   ]
  },
  {
   "cell_type": "code",
   "execution_count": 69,
   "id": "3a8f3f5c",
   "metadata": {},
   "outputs": [],
   "source": [
    "X=train.drop('a_dette_encours',axis=1)\n",
    "y=train['a_dette_encours']"
   ]
  },
  {
   "cell_type": "code",
   "execution_count": 70,
   "id": "5e127860",
   "metadata": {},
   "outputs": [],
   "source": [
    "#X=X.drop('montant_sollicite',axis=1)\n",
    "#X=X.drop('duree_pret_souhaitee',axis=1)\n",
    "#X=X.drop('nbr_mois_cotisation',axis=1)\n",
    "#X=X.drop('nbr_credits_octroyes',axis=1)\n",
    "#X=X.drop('nbr_credits_rembourses',axis=1)\n",
    "#X=X.drop('anciennete_agence',axis=1)\n",
    "X=X.drop('nbr_echeances',axis=1)\n",
    "X=X.drop('age',axis=1)\n",
    "X=X.drop('r',axis=1)\n",
    "X=X.drop('sexe',axis=1)\n",
    "X=X.drop('profession',axis=1)\n",
    "X=X.drop('secteur_activite',axis=1)\n",
    "#X=X.drop('ssecteur_activite',axis=1)"
   ]
  },
  {
   "cell_type": "code",
   "execution_count": 71,
   "id": "157ae9b6",
   "metadata": {},
   "outputs": [],
   "source": [
    "#X=X.drop('ssecteur_activite',axis=1)\n",
    "from sklearn.feature_selection import SelectKBest, f_classif\n",
    "from sklearn.model_selection import train_test_split\n",
    "train_X,test_X,train_y,test_y=train_test_split(X,y,test_size=0.3,random_state=1)"
   ]
  },
  {
   "cell_type": "markdown",
   "id": "639fe048",
   "metadata": {},
   "source": [
    "from sklearn.model_selection import train_test_split, GridSearchCV\n",
    "# Définir les hyperparamètres à tester à l'aide de GridSearch\n",
    "param_grid = {\n",
    "    'n_estimators': [100, 200, 300,500],\n",
    "    'max_depth': [1,2,3,4,6,7,8]\n",
    "}\n",
    "\n",
    "# Créer un modèle de forêt aléatoire\n",
    "rf_model = RandomForestClassifier(oob_score=True, random_state=42)\n",
    "\n",
    "# Utiliser GridSearch pour trouver les meilleurs paramètres\n",
    "grid_search = GridSearchCV(rf_model, param_grid, cv=5)\n",
    "grid_search.fit(X_train, y_train)\n",
    "\n",
    "# Afficher les meilleurs paramètres trouvés\n",
    "print(\"Meilleurs paramètres :\", grid_search.best_params_)"
   ]
  },
  {
   "cell_type": "markdown",
   "id": "faaef188",
   "metadata": {},
   "source": [
    "for name,model in models:\n",
    "    kfold=KFold(n_splits=10)\n",
    "    #random_state=0\n",
    "    cv_result=cross_val_score(model,train_X,train_y,cv=kfold,scoring=scoring)\n",
    "    result.append(cv_result)\n",
    "    names.append(name)\n",
    "    print(model)\n",
    "    print(\"%s %f\" % (name,cv_result.mean()))\n",
    "    #La définition d'un random_state n'a aucun effet puisque shuffle est False. Vous devez laisser random_state sa valeur par défaut (Aucun) ou définir shuffle=True"
   ]
  },
  {
   "cell_type": "code",
   "execution_count": 72,
   "id": "ea32a258",
   "metadata": {},
   "outputs": [
    {
     "name": "stdout",
     "output_type": "stream",
     "text": [
      "              precision    recall  f1-score   support\n",
      "\n",
      "           0       0.96      0.98      0.97      3098\n",
      "           1       0.87      0.78      0.82       557\n",
      "\n",
      "    accuracy                           0.95      3655\n",
      "   macro avg       0.91      0.88      0.90      3655\n",
      "weighted avg       0.95      0.95      0.95      3655\n",
      "\n"
     ]
    }
   ],
   "source": [
    "from sklearn import metrics\n",
    "#from sklearn.metrics import classification_report\n",
    "mod1= XGBClassifier()\n",
    "mod1.fit(train_X,train_y)\n",
    "y_pred = mod1.predict(test_X)\n",
    "print(metrics.classification_report(test_y, y_pred))\n",
    "#max_depth=1, learning_rate=0.1, n_estimators=100"
   ]
  },
  {
   "cell_type": "code",
   "execution_count": 73,
   "id": "dd62a653",
   "metadata": {},
   "outputs": [
    {
     "data": {
      "image/png": "[encoded data removed]",
      "text/plain": [
       "<Figure size 640x480 with 1 Axes>"
      ]
     },
     "metadata": {},
     "output_type": "display_data"
    },
    {
     "name": "stdout",
     "output_type": "stream",
     "text": [
      "                Feature  Importance\n",
      "5     rapport_rembourse    0.385124\n",
      "1  duree_pret_souhaitee    0.288084\n",
      "4   nbr_mois_cotisation    0.127736\n",
      "2          taux_interet    0.099919\n",
      "6       rapport_rembour    0.040159\n",
      "3     ssecteur_activite    0.031172\n",
      "0     anciennete_agence    0.027806\n"
     ]
    }
   ],
   "source": [
    "import xgboost as xgb\n",
    "from xgboost import plot_importance\n",
    "import matplotlib.pyplot as plt\n",
    "\n",
    "\n",
    "\n",
    "# Entraîner un modèle XGBoost\n",
    "model = xgb.XGBClassifier()\n",
    "model.fit(train_X, train_y)\n",
    "\n",
    "# Afficher l'importance des caractéristiques\n",
    "plot_importance(model)\n",
    "plt.show()\n",
    "\n",
    "# Récupérer les caractéristiques les plus importantes\n",
    "importances = model.feature_importances_\n",
    "features = train_X.columns\n",
    "\n",
    "# Créer un DataFrame pour mieux visualiser\n",
    "importance_df = pd.DataFrame({'Feature': features, 'Importance': importances})\n",
    "importance_df = importance_df.sort_values(by='Importance', ascending=False)\n",
    "\n",
    "print(importance_df)\n"
   ]
  },
  {
   "cell_type": "code",
   "execution_count": 46,
   "id": "32348a27",
   "metadata": {},
   "outputs": [
    {
     "name": "stderr",
     "output_type": "stream",
     "text": [
      "[I 2024-07-13 13:16:16,557] A new study created in memory with name: no-name-1f04fe60-ccf4-4309-b6ce-0e5cafbc6a24\n",
      "[I 2024-07-13 13:16:17,240] Trial 0 finished with value: 0.9678978927015244 and parameters: {'max_depth': 8, 'learning_rate': 0.17773530885119354, 'n_estimators': 161, 'subsample': 0.823791625530794, 'colsample_bytree': 0.7276939491180632, 'lambda': 0.3403544430843102, 'alpha': 0.5352599027748127}. Best is trial 0 with value: 0.9678978927015244.\n",
      "[I 2024-07-13 13:16:17,549] Trial 1 finished with value: 0.969464051915995 and parameters: {'max_depth': 7, 'learning_rate': 0.2604531687829861, 'n_estimators': 74, 'subsample': 0.9186541122552649, 'colsample_bytree': 0.9573986223261731, 'lambda': 0.61239686371041, 'alpha': 0.16422045863997417}. Best is trial 1 with value: 0.969464051915995.\n",
      "[I 2024-07-13 13:16:17,800] Trial 2 finished with value: 0.958301945184594 and parameters: {'max_depth': 1, 'learning_rate': 0.06504006849903127, 'n_estimators': 178, 'subsample': 0.705349969297477, 'colsample_bytree': 0.9510144702428645, 'lambda': 0.9174035011865582, 'alpha': 0.05472108211703702}. Best is trial 1 with value: 0.969464051915995.\n",
      "[I 2024-07-13 13:16:18,650] Trial 3 finished with value: 0.9716108126788703 and parameters: {'max_depth': 8, 'learning_rate': 0.02616796350727476, 'n_estimators': 197, 'subsample': 0.8846070501165737, 'colsample_bytree': 0.8003892169536778, 'lambda': 0.12037728372743899, 'alpha': 0.11252908203049945}. Best is trial 3 with value: 0.9716108126788703.\n",
      "[I 2024-07-13 13:16:19,057] Trial 4 finished with value: 0.9708216458564654 and parameters: {'max_depth': 8, 'learning_rate': 0.10613593916604569, 'n_estimators': 98, 'subsample': 0.8515602158954159, 'colsample_bytree': 0.6085201594329941, 'lambda': 0.11639955059850557, 'alpha': 0.5997262947472665}. Best is trial 3 with value: 0.9716108126788703.\n",
      "[I 2024-07-13 13:16:19,533] Trial 5 finished with value: 0.967269364680735 and parameters: {'max_depth': 8, 'learning_rate': 0.16461304600622664, 'n_estimators': 111, 'subsample': 0.5412184011001218, 'colsample_bytree': 0.635931612386476, 'lambda': 0.47788596248893256, 'alpha': 0.17728334205363797}. Best is trial 3 with value: 0.9716108126788703.\n",
      "[I 2024-07-13 13:16:19,961] Trial 6 finished with value: 0.9690710510285845 and parameters: {'max_depth': 8, 'learning_rate': 0.20863213245504486, 'n_estimators': 95, 'subsample': 0.9982636552621822, 'colsample_bytree': 0.9773203748906478, 'lambda': 0.22661253545536703, 'alpha': 0.63356757153596}. Best is trial 3 with value: 0.9716108126788703.\n",
      "[I 2024-07-13 13:16:20,226] Trial 7 finished with value: 0.965535717154863 and parameters: {'max_depth': 7, 'learning_rate': 0.025894662390964114, 'n_estimators': 70, 'subsample': 0.8066467662602774, 'colsample_bytree': 0.761194686188529, 'lambda': 0.6489563561501928, 'alpha': 0.7428537092851694}. Best is trial 3 with value: 0.9716108126788703.\n",
      "[I 2024-07-13 13:16:20,401] Trial 8 finished with value: 0.9223498606268739 and parameters: {'max_depth': 4, 'learning_rate': 0.013470456925502352, 'n_estimators': 52, 'subsample': 0.5471052945792005, 'colsample_bytree': 0.6582522469410219, 'lambda': 0.8716888968315769, 'alpha': 0.7605728794645522}. Best is trial 3 with value: 0.9716108126788703.\n",
      "[I 2024-07-13 13:16:20,689] Trial 9 finished with value: 0.970661540076152 and parameters: {'max_depth': 4, 'learning_rate': 0.19811002084148327, 'n_estimators': 109, 'subsample': 0.7067032699887037, 'colsample_bytree': 0.8605216077606821, 'lambda': 0.14509305136268247, 'alpha': 0.9856830614716442}. Best is trial 3 with value: 0.9716108126788703.\n",
      "[I 2024-07-13 13:16:21,440] Trial 10 finished with value: 0.9692222653606626 and parameters: {'max_depth': 10, 'learning_rate': 0.10644355694281563, 'n_estimators': 145, 'subsample': 0.9970198441056651, 'colsample_bytree': 0.5393021645659277, 'lambda': 0.008159247003962866, 'alpha': 0.337611192641819}. Best is trial 3 with value: 0.9716108126788703.\n",
      "[I 2024-07-13 13:16:22,499] Trial 11 finished with value: 0.9695646737134351 and parameters: {'max_depth': 10, 'learning_rate': 0.10406374750399185, 'n_estimators': 196, 'subsample': 0.8880101952811151, 'colsample_bytree': 0.5380443225652375, 'lambda': 0.003417014739666116, 'alpha': 0.3873846960141021}. Best is trial 3 with value: 0.9716108126788703.\n",
      "[I 2024-07-13 13:16:22,972] Trial 12 finished with value: 0.9714232614058166 and parameters: {'max_depth': 5, 'learning_rate': 0.10184131248954129, 'n_estimators': 135, 'subsample': 0.8696211868729485, 'colsample_bytree': 0.812099710164674, 'lambda': 0.2771085809009228, 'alpha': 0.3773714216589312}. Best is trial 3 with value: 0.9716108126788703.\n",
      "[I 2024-07-13 13:16:23,432] Trial 13 finished with value: 0.9695103834317089 and parameters: {'max_depth': 5, 'learning_rate': 0.07649709740413743, 'n_estimators': 139, 'subsample': 0.7526034456359401, 'colsample_bytree': 0.8331470019286578, 'lambda': 0.3344201515610812, 'alpha': 0.3217346274953624}. Best is trial 3 with value: 0.9716108126788703.\n",
      "[I 2024-07-13 13:16:23,775] Trial 14 finished with value: 0.9572892067033586 and parameters: {'max_depth': 1, 'learning_rate': 0.05154903265205793, 'n_estimators': 198, 'subsample': 0.9284134739263492, 'colsample_bytree': 0.843708577375982, 'lambda': 0.3253436023985494, 'alpha': 0.0640548753283326}. Best is trial 3 with value: 0.9716108126788703.\n",
      "[I 2024-07-13 13:16:24,228] Trial 15 finished with value: 0.9689619939849883 and parameters: {'max_depth': 3, 'learning_rate': 0.1300883189053173, 'n_estimators': 168, 'subsample': 0.6297097983056379, 'colsample_bytree': 0.7610878443763033, 'lambda': 0.46036806188510426, 'alpha': 0.22063464136741429}. Best is trial 3 with value: 0.9716108126788703.\n",
      "[I 2024-07-13 13:16:24,788] Trial 16 finished with value: 0.9700873266712637 and parameters: {'max_depth': 6, 'learning_rate': 0.044517052863402115, 'n_estimators': 139, 'subsample': 0.9324986250748558, 'colsample_bytree': 0.8995774890336521, 'lambda': 0.2065809117526904, 'alpha': 0.42193404297525805}. Best is trial 3 with value: 0.9716108126788703.\n",
      "[I 2024-07-13 13:16:25,478] Trial 17 finished with value: 0.9678699267966848 and parameters: {'max_depth': 6, 'learning_rate': 0.2984787373815347, 'n_estimators': 182, 'subsample': 0.767320096558163, 'colsample_bytree': 0.7078178309900865, 'lambda': 0.2715816733881122, 'alpha': 0.012540129312797355}. Best is trial 3 with value: 0.9716108126788703.\n",
      "[I 2024-07-13 13:16:25,895] Trial 18 finished with value: 0.9680721285336823 and parameters: {'max_depth': 3, 'learning_rate': 0.13572250138551956, 'n_estimators': 157, 'subsample': 0.862934307188599, 'colsample_bytree': 0.7947999215577566, 'lambda': 0.1140328961824808, 'alpha': 0.2749216443925543}. Best is trial 3 with value: 0.9716108126788703.\n",
      "[I 2024-07-13 13:16:26,527] Trial 19 finished with value: 0.9713980513392474 and parameters: {'max_depth': 9, 'learning_rate': 0.07602424143475531, 'n_estimators': 127, 'subsample': 0.7898168450210495, 'colsample_bytree': 0.8815169569120096, 'lambda': 0.6254926846405784, 'alpha': 0.45559638204230907}. Best is trial 3 with value: 0.9716108126788703.\n",
      "[I 2024-07-13 13:16:27,140] Trial 20 finished with value: 0.970167353441882 and parameters: {'max_depth': 5, 'learning_rate': 0.035637320409529175, 'n_estimators': 179, 'subsample': 0.6965928175030593, 'colsample_bytree': 0.7929905273243709, 'lambda': 0.43309829039806014, 'alpha': 0.1453540237379733}. Best is trial 3 with value: 0.9716108126788703.\n",
      "[I 2024-07-13 13:16:27,780] Trial 21 finished with value: 0.9717364941341983 and parameters: {'max_depth': 9, 'learning_rate': 0.08746559037195929, 'n_estimators': 120, 'subsample': 0.7855528804665259, 'colsample_bytree': 0.9037368290770886, 'lambda': 0.6457947155406659, 'alpha': 0.4838151307688882}. Best is trial 21 with value: 0.9717364941341983.\n",
      "[I 2024-07-13 13:16:28,385] Trial 22 finished with value: 0.970246168873867 and parameters: {'max_depth': 9, 'learning_rate': 0.08591405767404427, 'n_estimators': 121, 'subsample': 0.8398024587037864, 'colsample_bytree': 0.9167255734270557, 'lambda': 0.9981274090636796, 'alpha': 0.5514322510418654}. Best is trial 21 with value: 0.9717364941341983.\n",
      "[I 2024-07-13 13:16:28,753] Trial 23 finished with value: 0.9710841918795614 and parameters: {'max_depth': 7, 'learning_rate': 0.1395039990174362, 'n_estimators': 84, 'subsample': 0.8844357133533991, 'colsample_bytree': 0.8040133478923815, 'lambda': 0.7517496311060785, 'alpha': 0.713700961292244}. Best is trial 21 with value: 0.9717364941341983.\n"
     ]
    },
    {
     "name": "stderr",
     "output_type": "stream",
     "text": [
      "[I 2024-07-13 13:16:29,433] Trial 24 finished with value: 0.9697546530231534 and parameters: {'max_depth': 9, 'learning_rate': 0.0120596057895578, 'n_estimators': 125, 'subsample': 0.9537119403442239, 'colsample_bytree': 0.9082276159091369, 'lambda': 0.735150238429445, 'alpha': 0.8829441561154261}. Best is trial 21 with value: 0.9717364941341983.\n",
      "[I 2024-07-13 13:16:30,143] Trial 25 finished with value: 0.9701937587640578 and parameters: {'max_depth': 10, 'learning_rate': 0.09672200909154083, 'n_estimators': 147, 'subsample': 0.651725986757985, 'colsample_bytree': 0.9956395935916741, 'lambda': 0.5250602235052825, 'alpha': 0.4748491912864913}. Best is trial 21 with value: 0.9717364941341983.\n",
      "[I 2024-07-13 13:16:30,545] Trial 26 finished with value: 0.969455537221917 and parameters: {'max_depth': 6, 'learning_rate': 0.059870657324138196, 'n_estimators': 107, 'subsample': 0.7895843469820664, 'colsample_bytree': 0.6863528721815971, 'lambda': 0.3834203452781695, 'alpha': 0.2563595517501787}. Best is trial 21 with value: 0.9717364941341983.\n",
      "[I 2024-07-13 13:16:30,907] Trial 27 finished with value: 0.9656067139113806 and parameters: {'max_depth': 4, 'learning_rate': 0.039049671511482205, 'n_estimators': 131, 'subsample': 0.8773626454148675, 'colsample_bytree': 0.8193528036211313, 'lambda': 0.5388033065397058, 'alpha': 0.3719730946678313}. Best is trial 21 with value: 0.9717364941341983.\n",
      "[I 2024-07-13 13:16:31,665] Trial 28 finished with value: 0.9708216458564654 and parameters: {'max_depth': 9, 'learning_rate': 0.11498159732082108, 'n_estimators': 153, 'subsample': 0.7303240095075718, 'colsample_bytree': 0.8687358421227325, 'lambda': 0.18422772131716186, 'alpha': 0.6529157564569817}. Best is trial 21 with value: 0.9717364941341983.\n",
      "[I 2024-07-13 13:16:32,402] Trial 29 finished with value: 0.969932440568296 and parameters: {'max_depth': 7, 'learning_rate': 0.1532324838508503, 'n_estimators': 164, 'subsample': 0.816130141284594, 'colsample_bytree': 0.7522683182521405, 'lambda': 0.05256739864008653, 'alpha': 0.5627793410123539}. Best is trial 21 with value: 0.9717364941341983.\n",
      "[I 2024-07-13 13:16:32,709] Trial 30 finished with value: 0.9708727373764339 and parameters: {'max_depth': 8, 'learning_rate': 0.18961442874269757, 'n_estimators': 50, 'subsample': 0.8353136687689147, 'colsample_bytree': 0.7237586264739673, 'lambda': 0.7372141599171368, 'alpha': 0.5093629738457693}. Best is trial 21 with value: 0.9717364941341983.\n",
      "[I 2024-07-13 13:16:33,329] Trial 31 finished with value: 0.9711351429455641 and parameters: {'max_depth': 9, 'learning_rate': 0.08084408487750448, 'n_estimators': 119, 'subsample': 0.7818019679632374, 'colsample_bytree': 0.8807776882105376, 'lambda': 0.6887657497979393, 'alpha': 0.4586872806016948}. Best is trial 21 with value: 0.9717364941341983.\n",
      "[I 2024-07-13 13:16:34,043] Trial 32 finished with value: 0.9699587763032224 and parameters: {'max_depth': 9, 'learning_rate': 0.07336607054081312, 'n_estimators': 132, 'subsample': 0.9097418745410436, 'colsample_bytree': 0.9138299713982985, 'lambda': 0.564579195890377, 'alpha': 0.44429026455628123}. Best is trial 21 with value: 0.9717364941341983.\n",
      "[I 2024-07-13 13:16:34,660] Trial 33 finished with value: 0.9704817792103857 and parameters: {'max_depth': 10, 'learning_rate': 0.0641987608362731, 'n_estimators': 99, 'subsample': 0.8162399791974924, 'colsample_bytree': 0.9368623662769757, 'lambda': 0.5937449236128433, 'alpha': 0.29132262119133767}. Best is trial 21 with value: 0.9717364941341983.\n",
      "[I 2024-07-13 13:16:35,085] Trial 34 finished with value: 0.9695646737134351 and parameters: {'max_depth': 7, 'learning_rate': 0.12681386769234312, 'n_estimators': 86, 'subsample': 0.9590700977869341, 'colsample_bytree': 0.8523325793831144, 'lambda': 0.7959502991654921, 'alpha': 0.5131640819270276}. Best is trial 21 with value: 0.9717364941341983.\n",
      "[I 2024-07-13 13:16:35,733] Trial 35 finished with value: 0.9705596007771579 and parameters: {'max_depth': 8, 'learning_rate': 0.08859389232611475, 'n_estimators': 116, 'subsample': 0.7403026119032012, 'colsample_bytree': 0.9510114549761367, 'lambda': 0.6363449027817475, 'alpha': 0.404488854857471}. Best is trial 21 with value: 0.9717364941341983.\n",
      "[I 2024-07-13 13:16:36,629] Trial 36 finished with value: 0.9710841918795614 and parameters: {'max_depth': 8, 'learning_rate': 0.059965643882028186, 'n_estimators': 172, 'subsample': 0.8554827364225013, 'colsample_bytree': 0.7810780703767897, 'lambda': 0.2669234138455552, 'alpha': 0.12264897970179385}. Best is trial 21 with value: 0.9717364941341983.\n",
      "[I 2024-07-13 13:16:37,334] Trial 37 finished with value: 0.9696450813763695 and parameters: {'max_depth': 9, 'learning_rate': 0.22973740475947665, 'n_estimators': 132, 'subsample': 0.7907025525239086, 'colsample_bytree': 0.8725466303163136, 'lambda': 0.41721975028109426, 'alpha': 0.20093638062158592}. Best is trial 21 with value: 0.9717364941341983.\n",
      "[I 2024-07-13 13:16:37,643] Trial 38 finished with value: 0.9659916456693205 and parameters: {'max_depth': 5, 'learning_rate': 0.02695122813636938, 'n_estimators': 65, 'subsample': 0.6509530239292394, 'colsample_bytree': 0.8143901301659896, 'lambda': 0.09579433170779592, 'alpha': 0.6192853190228289}. Best is trial 21 with value: 0.9717364941341983.\n",
      "[I 2024-07-13 13:16:38,596] Trial 39 finished with value: 0.9706108282358867 and parameters: {'max_depth': 8, 'learning_rate': 0.16388916594768366, 'n_estimators': 187, 'subsample': 0.9019539302270034, 'colsample_bytree': 0.9329447835469178, 'lambda': 0.8647771863091402, 'alpha': 0.35304437867213045}. Best is trial 21 with value: 0.9717364941341983.\n",
      "[I 2024-07-13 13:16:39,117] Trial 40 finished with value: 0.9702980502565505 and parameters: {'max_depth': 7, 'learning_rate': 0.11793035271314116, 'n_estimators': 103, 'subsample': 0.7189693106507729, 'colsample_bytree': 0.8902166236633876, 'lambda': 0.4893168509954272, 'alpha': 0.8259048196043244}. Best is trial 21 with value: 0.9717364941341983.\n",
      "[I 2024-07-13 13:16:39,779] Trial 41 finished with value: 0.970220030307114 and parameters: {'max_depth': 9, 'learning_rate': 0.08483258294324028, 'n_estimators': 119, 'subsample': 0.7743927470353229, 'colsample_bytree': 0.8772378332790661, 'lambda': 0.6934006652501533, 'alpha': 0.457907451356088}. Best is trial 21 with value: 0.9717364941341983.\n",
      "[I 2024-07-13 13:16:40,330] Trial 42 finished with value: 0.9716362053323755 and parameters: {'max_depth': 10, 'learning_rate': 0.07696839646135853, 'n_estimators': 93, 'subsample': 0.7914878032405819, 'colsample_bytree': 0.8338681548958301, 'lambda': 0.6677641851070533, 'alpha': 0.4845452082759689}. Best is trial 21 with value: 0.9717364941341983.\n",
      "[I 2024-07-13 13:16:40,864] Trial 43 finished with value: 0.9712959195330308 and parameters: {'max_depth': 10, 'learning_rate': 0.05133151778559383, 'n_estimators': 87, 'subsample': 0.8071164676576068, 'colsample_bytree': 0.8337291420664003, 'lambda': 0.5951318014380397, 'alpha': 0.5657619012060094}. Best is trial 21 with value: 0.9717364941341983.\n",
      "[I 2024-07-13 13:16:41,437] Trial 44 finished with value: 0.969984978922467 and parameters: {'max_depth': 10, 'learning_rate': 0.10560005160047692, 'n_estimators': 94, 'subsample': 0.8352271880249691, 'colsample_bytree': 0.7795795917741373, 'lambda': 0.6616454312804205, 'alpha': 0.5031188327497842}. Best is trial 21 with value: 0.9717364941341983.\n",
      "[I 2024-07-13 13:16:41,859] Trial 45 finished with value: 0.9700459943107769 and parameters: {'max_depth': 10, 'learning_rate': 0.022309307778720124, 'n_estimators': 66, 'subsample': 0.691748948883302, 'colsample_bytree': 0.9770695194691378, 'lambda': 0.1690115351408858, 'alpha': 0.688628472217654}. Best is trial 21 with value: 0.9717364941341983.\n",
      "[I 2024-07-13 13:16:42,293] Trial 46 finished with value: 0.9710841918795614 and parameters: {'max_depth': 8, 'learning_rate': 0.06941846532997344, 'n_estimators': 79, 'subsample': 0.7579153727379302, 'colsample_bytree': 0.8458562923285821, 'lambda': 0.799379910668513, 'alpha': 0.10283470105535102}. Best is trial 21 with value: 0.9717364941341983.\n",
      "[I 2024-07-13 13:16:42,629] Trial 47 finished with value: 0.9656624778569792 and parameters: {'max_depth': 3, 'learning_rate': 0.09930368490249966, 'n_estimators': 109, 'subsample': 0.8514002289982051, 'colsample_bytree': 0.7325762549568932, 'lambda': 0.2905594190811105, 'alpha': 0.3071765085619743}. Best is trial 21 with value: 0.9717364941341983.\n"
     ]
    },
    {
     "name": "stderr",
     "output_type": "stream",
     "text": [
      "[I 2024-07-13 13:16:42,968] Trial 48 finished with value: 0.962869080812873 and parameters: {'max_depth': 2, 'learning_rate': 0.14435570721618757, 'n_estimators': 142, 'subsample': 0.8690200868121337, 'colsample_bytree': 0.6101232117071248, 'lambda': 0.05805890494917676, 'alpha': 0.589724909340963}. Best is trial 21 with value: 0.9717364941341983.\n",
      "[I 2024-07-13 13:16:43,278] Trial 49 finished with value: 0.9704817792103857 and parameters: {'max_depth': 6, 'learning_rate': 0.11623276959659704, 'n_estimators': 59, 'subsample': 0.5804949951569536, 'colsample_bytree': 0.8204955022589798, 'lambda': 0.37993315269910827, 'alpha': 0.40853260003058084}. Best is trial 21 with value: 0.9717364941341983.\n",
      "[I 2024-07-13 13:16:43,673] Trial 50 finished with value: 0.9653824498398846 and parameters: {'max_depth': 4, 'learning_rate': 0.04574312694664128, 'n_estimators': 127, 'subsample': 0.9522148361095377, 'colsample_bytree': 0.7785848041365235, 'lambda': 0.23024163246738477, 'alpha': 0.22883565998194855}. Best is trial 21 with value: 0.9717364941341983.\n",
      "[I 2024-07-13 13:16:44,224] Trial 51 finished with value: 0.9701408135310506 and parameters: {'max_depth': 10, 'learning_rate': 0.050902409564158556, 'n_estimators': 93, 'subsample': 0.8179771715069548, 'colsample_bytree': 0.8268267402415386, 'lambda': 0.5768868525754218, 'alpha': 0.5719037437348395}. Best is trial 21 with value: 0.9717364941341983.\n",
      "[I 2024-07-13 13:16:44,712] Trial 52 finished with value: 0.9705582427690095 and parameters: {'max_depth': 10, 'learning_rate': 0.03176204067500865, 'n_estimators': 77, 'subsample': 0.8078862394351684, 'colsample_bytree': 0.8412813809906388, 'lambda': 0.6515521167104708, 'alpha': 0.5290555181604676}. Best is trial 21 with value: 0.9717364941341983.\n",
      "[I 2024-07-13 13:16:45,152] Trial 53 finished with value: 0.9713216477823005 and parameters: {'max_depth': 9, 'learning_rate': 0.05601677988700978, 'n_estimators': 89, 'subsample': 0.7971453287686536, 'colsample_bytree': 0.8554299856174983, 'lambda': 0.6175453136171464, 'alpha': 0.6182850197658227}. Best is trial 21 with value: 0.9717364941341983.\n",
      "[I 2024-07-13 13:16:45,858] Trial 54 finished with value: 0.9722396903253036 and parameters: {'max_depth': 9, 'learning_rate': 0.09069932619721066, 'n_estimators': 153, 'subsample': 0.7624620027152468, 'colsample_bytree': 0.898174231255344, 'lambda': 0.698535921844781, 'alpha': 0.021904199002805658}. Best is trial 54 with value: 0.9722396903253036.\n",
      "[I 2024-07-13 13:16:46,536] Trial 55 finished with value: 0.9705852793440175 and parameters: {'max_depth': 9, 'learning_rate': 0.09310053212543115, 'n_estimators': 151, 'subsample': 0.5069227013758282, 'colsample_bytree': 0.9308235737164446, 'lambda': 0.7112307113290754, 'alpha': 0.004104323951383701}. Best is trial 54 with value: 0.9722396903253036.\n",
      "[I 2024-07-13 13:16:47,096] Trial 56 finished with value: 0.9692222653606626 and parameters: {'max_depth': 8, 'learning_rate': 0.07493050954985866, 'n_estimators': 137, 'subsample': 0.7537650348341055, 'colsample_bytree': 0.5068492490390686, 'lambda': 0.7934781049177273, 'alpha': 0.056944780640471905}. Best is trial 54 with value: 0.9722396903253036.\n",
      "[I 2024-07-13 13:16:47,717] Trial 57 finished with value: 0.9708472563713647 and parameters: {'max_depth': 5, 'learning_rate': 0.12175261693996146, 'n_estimators': 189, 'subsample': 0.6819907158814815, 'colsample_bytree': 0.9013962327686643, 'lambda': 0.8536955811810354, 'alpha': 0.08670299993406527}. Best is trial 54 with value: 0.9722396903253036.\n",
      "[I 2024-07-13 13:16:48,330] Trial 58 finished with value: 0.9704555740946368 and parameters: {'max_depth': 9, 'learning_rate': 0.10737052613281484, 'n_estimators': 114, 'subsample': 0.8966060113604282, 'colsample_bytree': 0.8004097068260123, 'lambda': 0.7566958891649866, 'alpha': 0.17099621853639974}. Best is trial 54 with value: 0.9722396903253036.\n",
      "[I 2024-07-13 13:16:49,217] Trial 59 finished with value: 0.9713727128987756 and parameters: {'max_depth': 10, 'learning_rate': 0.06899233451077963, 'n_estimators': 172, 'subsample': 0.7187539962311287, 'colsample_bytree': 0.8917626487009168, 'lambda': 0.5234054211196058, 'alpha': 0.039170814901821296}. Best is trial 54 with value: 0.9722396903253036.\n",
      "[I 2024-07-13 13:16:49,898] Trial 60 finished with value: 0.9695208697221388 and parameters: {'max_depth': 7, 'learning_rate': 0.015693724558501404, 'n_estimators': 156, 'subsample': 0.7432207576294506, 'colsample_bytree': 0.9526208738572446, 'lambda': 0.6712775110129613, 'alpha': 0.1398284299854678}. Best is trial 54 with value: 0.9722396903253036.\n",
      "[I 2024-07-13 13:16:50,829] Trial 61 finished with value: 0.9714732994923838 and parameters: {'max_depth': 10, 'learning_rate': 0.06942534246996161, 'n_estimators': 173, 'subsample': 0.7149743105160952, 'colsample_bytree': 0.8917923907303023, 'lambda': 0.5284949402822623, 'alpha': 0.34466331381708526}. Best is trial 54 with value: 0.9722396903253036.\n",
      "[I 2024-07-13 13:16:51,687] Trial 62 finished with value: 0.9701937587640578 and parameters: {'max_depth': 10, 'learning_rate': 0.08154967948100195, 'n_estimators': 162, 'subsample': 0.7779788116078171, 'colsample_bytree': 0.8662127802706958, 'lambda': 0.45789112524724446, 'alpha': 0.3665804059382335}. Best is trial 54 with value: 0.9722396903253036.\n",
      "[I 2024-07-13 13:16:52,646] Trial 63 finished with value: 0.9708472563713647 and parameters: {'max_depth': 9, 'learning_rate': 0.03825615427557703, 'n_estimators': 193, 'subsample': 0.6793256896611577, 'colsample_bytree': 0.9211365139209444, 'lambda': 0.5540473867431258, 'alpha': 0.42742708301897114}. Best is trial 54 with value: 0.9722396903253036.\n",
      "[I 2024-07-13 13:16:53,525] Trial 64 finished with value: 0.9693040903351475 and parameters: {'max_depth': 9, 'learning_rate': 0.09497521357658956, 'n_estimators': 180, 'subsample': 0.7643746225423809, 'colsample_bytree': 0.8859312052787155, 'lambda': 0.611887170998456, 'alpha': 0.48191951644260433}. Best is trial 54 with value: 0.9722396903253036.\n",
      "[I 2024-07-13 13:16:54,315] Trial 65 finished with value: 0.9704555740946368 and parameters: {'max_depth': 10, 'learning_rate': 0.10824420357854057, 'n_estimators': 146, 'subsample': 0.7249541476758938, 'colsample_bytree': 0.9718044333210262, 'lambda': 0.515002959098702, 'alpha': 0.2575946916145777}. Best is trial 54 with value: 0.9722396903253036.\n",
      "[I 2024-07-13 13:16:55,034] Trial 66 finished with value: 0.9707700331703287 and parameters: {'max_depth': 9, 'learning_rate': 0.06560529368983398, 'n_estimators': 137, 'subsample': 0.9220442350108146, 'colsample_bytree': 0.8573263806471862, 'lambda': 0.6199389797904246, 'alpha': 0.3268477099744848}. Best is trial 54 with value: 0.9722396903253036.\n",
      "[I 2024-07-13 13:16:55,912] Trial 67 finished with value: 0.9716866045487371 and parameters: {'max_depth': 8, 'learning_rate': 0.07832187175625108, 'n_estimators': 200, 'subsample': 0.8330703611981779, 'colsample_bytree': 0.8067491775448767, 'lambda': 0.7118005705498428, 'alpha': 0.3782185028758455}. Best is trial 54 with value: 0.9722396903253036.\n",
      "[I 2024-07-13 13:16:56,616] Trial 68 finished with value: 0.969276953872034 and parameters: {'max_depth': 6, 'learning_rate': 0.08941508298575093, 'n_estimators': 200, 'subsample': 0.8322700591932457, 'colsample_bytree': 0.7727166591430952, 'lambda': 0.7156800297574903, 'alpha': 0.37451814912485604}. Best is trial 54 with value: 0.9722396903253036.\n",
      "[I 2024-07-13 13:16:57,435] Trial 69 finished with value: 0.9693846785009163 and parameters: {'max_depth': 8, 'learning_rate': 0.1304532641814781, 'n_estimators': 185, 'subsample': 0.8577437494760974, 'colsample_bytree': 0.7484614156215001, 'lambda': 0.7663875366977817, 'alpha': 0.19476508972522383}. Best is trial 54 with value: 0.9722396903253036.\n",
      "[I 2024-07-13 13:16:57,986] Trial 70 finished with value: 0.9708980896453068 and parameters: {'max_depth': 4, 'learning_rate': 0.296358220053089, 'n_estimators': 174, 'subsample': 0.8856472899945571, 'colsample_bytree': 0.8177029312629909, 'lambda': 0.36058172921929765, 'alpha': 0.3926062650222184}. Best is trial 54 with value: 0.9722396903253036.\n",
      "[I 2024-07-13 13:16:58,907] Trial 71 finished with value: 0.9711097320801388 and parameters: {'max_depth': 8, 'learning_rate': 0.07827604362230992, 'n_estimators': 193, 'subsample': 0.7965972738464632, 'colsample_bytree': 0.8018050705236859, 'lambda': 0.67993429398683, 'alpha': 0.4437138394676069}. Best is trial 54 with value: 0.9722396903253036.\n"
     ]
    },
    {
     "name": "stderr",
     "output_type": "stream",
     "text": [
      "[I 2024-07-13 13:16:59,763] Trial 72 finished with value: 0.9710841918795614 and parameters: {'max_depth': 9, 'learning_rate': 0.09927087457564616, 'n_estimators': 165, 'subsample': 0.7418789692658839, 'colsample_bytree': 0.9002517865962945, 'lambda': 0.6409046810473142, 'alpha': 0.535345787393302}. Best is trial 54 with value: 0.9722396903253036.\n",
      "[I 2024-07-13 13:17:00,495] Trial 73 finished with value: 0.9723134932434664 and parameters: {'max_depth': 8, 'learning_rate': 0.06021403034634606, 'n_estimators': 124, 'subsample': 0.8248578797109365, 'colsample_bytree': 0.8408175611126968, 'lambda': 0.5770029016773061, 'alpha': 0.48265613077567826}. Best is trial 73 with value: 0.9723134932434664.\n",
      "[I 2024-07-13 13:17:01,234] Trial 74 finished with value: 0.9719753926272225 and parameters: {'max_depth': 7, 'learning_rate': 0.05807871995591391, 'n_estimators': 175, 'subsample': 0.8409208122917957, 'colsample_bytree': 0.8409721573851586, 'lambda': 0.46264850993436724, 'alpha': 0.4814483309716473}. Best is trial 73 with value: 0.9723134932434664.\n",
      "[I 2024-07-13 13:17:02,092] Trial 75 finished with value: 0.9713727128987756 and parameters: {'max_depth': 7, 'learning_rate': 0.059942890192647494, 'n_estimators': 195, 'subsample': 0.8484438363917843, 'colsample_bytree': 0.8379913600103748, 'lambda': 0.478623855109131, 'alpha': 0.48401889564834866}. Best is trial 73 with value: 0.9723134932434664.\n",
      "[I 2024-07-13 13:17:02,920] Trial 76 finished with value: 0.9707959050516528 and parameters: {'max_depth': 8, 'learning_rate': 0.04313511120752302, 'n_estimators': 183, 'subsample': 0.8242143927084642, 'colsample_bytree': 0.7916127436779955, 'lambda': 0.9711542419447674, 'alpha': 0.4257165695828839}. Best is trial 73 with value: 0.9723134932434664.\n",
      "[I 2024-07-13 13:17:03,820] Trial 77 finished with value: 0.9715338530983051 and parameters: {'max_depth': 8, 'learning_rate': 0.02335994082992463, 'n_estimators': 176, 'subsample': 0.8717945757251484, 'colsample_bytree': 0.8630912961653264, 'lambda': 0.5750074365874437, 'alpha': 0.4913921863402208}. Best is trial 73 with value: 0.9723134932434664.\n",
      "[I 2024-07-13 13:17:04,684] Trial 78 finished with value: 0.9704292353465189 and parameters: {'max_depth': 8, 'learning_rate': 0.019807949240701624, 'n_estimators': 191, 'subsample': 0.8704141093324704, 'colsample_bytree': 0.8661176049765941, 'lambda': 0.8345857101290882, 'alpha': 0.9782410023783011}. Best is trial 73 with value: 0.9723134932434664.\n",
      "[I 2024-07-13 13:17:05,503] Trial 79 finished with value: 0.9697168649981969 and parameters: {'max_depth': 7, 'learning_rate': 0.0312705195878487, 'n_estimators': 168, 'subsample': 0.8456557970131078, 'colsample_bytree': 0.8292441109753595, 'lambda': 0.5815506809135758, 'alpha': 0.025241460518979283}. Best is trial 73 with value: 0.9723134932434664.\n",
      "[I 2024-07-13 13:17:06,285] Trial 80 finished with value: 0.9695916124764631 and parameters: {'max_depth': 7, 'learning_rate': 0.04871293728524806, 'n_estimators': 177, 'subsample': 0.8280623976394964, 'colsample_bytree': 0.7636422789182568, 'lambda': 0.719361246083011, 'alpha': 0.5406361682968225}. Best is trial 73 with value: 0.9723134932434664.\n",
      "[I 2024-07-13 13:17:07,197] Trial 81 finished with value: 0.9722644164970061 and parameters: {'max_depth': 8, 'learning_rate': 0.05823689355936927, 'n_estimators': 197, 'subsample': 0.7696346965364667, 'colsample_bytree': 0.8466602524738676, 'lambda': 0.5514734950967796, 'alpha': 0.3482197621870341}. Best is trial 73 with value: 0.9723134932434664.\n",
      "[I 2024-07-13 13:17:08,143] Trial 82 finished with value: 0.9701304523276961 and parameters: {'max_depth': 8, 'learning_rate': 0.01248288422027017, 'n_estimators': 198, 'subsample': 0.7676109260880103, 'colsample_bytree': 0.8489305091276789, 'lambda': 0.5468065066099377, 'alpha': 0.4894698878156519}. Best is trial 73 with value: 0.9723134932434664.\n",
      "[I 2024-07-13 13:17:09,114] Trial 83 finished with value: 0.9707178929987698 and parameters: {'max_depth': 8, 'learning_rate': 0.027367652699052936, 'n_estimators': 200, 'subsample': 0.8067805635428773, 'colsample_bytree': 0.8117421698258652, 'lambda': 0.4299409678524765, 'alpha': 0.5076646110568341}. Best is trial 73 with value: 0.9723134932434664.\n",
      "[I 2024-07-13 13:17:09,974] Trial 84 finished with value: 0.9713980513392474 and parameters: {'max_depth': 8, 'learning_rate': 0.05654268416983674, 'n_estimators': 186, 'subsample': 0.7862889321579721, 'colsample_bytree': 0.8394089885279472, 'lambda': 0.597515461774221, 'alpha': 0.6013216003291921}. Best is trial 73 with value: 0.9723134932434664.\n",
      "[I 2024-07-13 13:17:10,840] Trial 85 finished with value: 0.9701937587640578 and parameters: {'max_depth': 7, 'learning_rate': 0.03884283849538256, 'n_estimators': 190, 'subsample': 0.9130285201389097, 'colsample_bytree': 0.8778119545433751, 'lambda': 0.6995834592116836, 'alpha': 0.4524885312393326}. Best is trial 73 with value: 0.9723134932434664.\n",
      "[I 2024-07-13 13:17:11,574] Trial 86 finished with value: 0.9704817792103857 and parameters: {'max_depth': 9, 'learning_rate': 0.0633786186223997, 'n_estimators': 122, 'subsample': 0.8777392450558288, 'colsample_bytree': 0.8556717346075903, 'lambda': 0.6545483031267938, 'alpha': 0.0748036376797393}. Best is trial 73 with value: 0.9723134932434664.\n",
      "[I 2024-07-13 13:17:12,428] Trial 87 finished with value: 0.9705596007771579 and parameters: {'max_depth': 8, 'learning_rate': 0.22511690976441007, 'n_estimators': 159, 'subsample': 0.9381891142100414, 'colsample_bytree': 0.9141748521444667, 'lambda': 0.5073488552610139, 'alpha': 0.40567010039803975}. Best is trial 73 with value: 0.9723134932434664.\n",
      "[I 2024-07-13 13:17:13,398] Trial 88 finished with value: 0.9708472563713647 and parameters: {'max_depth': 8, 'learning_rate': 0.08401335945059633, 'n_estimators': 196, 'subsample': 0.897572098758291, 'colsample_bytree': 0.7896745979122061, 'lambda': 0.7386887947061024, 'alpha': 0.46881345879501113}. Best is trial 73 with value: 0.9723134932434664.\n",
      "[I 2024-07-13 13:17:14,226] Trial 89 finished with value: 0.9699587763032224 and parameters: {'max_depth': 7, 'learning_rate': 0.05452316373044289, 'n_estimators': 183, 'subsample': 0.7738107426454168, 'colsample_bytree': 0.8089777584108394, 'lambda': 0.5593498169389131, 'alpha': 0.6662113240390648}. Best is trial 73 with value: 0.9723134932434664.\n",
      "[I 2024-07-13 13:17:14,809] Trial 90 finished with value: 0.9712959195330308 and parameters: {'max_depth': 9, 'learning_rate': 0.0416294545781008, 'n_estimators': 102, 'subsample': 0.8622723970112011, 'colsample_bytree': 0.8279136429862347, 'lambda': 0.7773327648074144, 'alpha': 0.5240971579725142}. Best is trial 73 with value: 0.9723134932434664.\n",
      "[I 2024-07-13 13:17:15,664] Trial 91 finished with value: 0.9714483438688624 and parameters: {'max_depth': 8, 'learning_rate': 0.07145440524646332, 'n_estimators': 176, 'subsample': 0.7992806874133482, 'colsample_bytree': 0.8944615439979081, 'lambda': 0.4650383551477455, 'alpha': 0.3411678365498096}. Best is trial 73 with value: 0.9723134932434664.\n",
      "[I 2024-07-13 13:17:16,586] Trial 92 finished with value: 0.969276953872034 and parameters: {'max_depth': 10, 'learning_rate': 0.07451784209942702, 'n_estimators': 170, 'subsample': 0.7122322302554668, 'colsample_bytree': 0.8672547194365873, 'lambda': 0.5828503066485227, 'alpha': 0.2848013357409924}. Best is trial 73 with value: 0.9723134932434664.\n",
      "[I 2024-07-13 13:17:17,374] Trial 93 finished with value: 0.9725291573493614 and parameters: {'max_depth': 9, 'learning_rate': 0.033185833228869505, 'n_estimators': 151, 'subsample': 0.8165128906123051, 'colsample_bytree': 0.9074057455011388, 'lambda': 0.4984615512488808, 'alpha': 0.3147121593405147}. Best is trial 93 with value: 0.9725291573493614.\n",
      "[I 2024-07-13 13:17:18,033] Trial 94 finished with value: 0.9719002159639144 and parameters: {'max_depth': 9, 'learning_rate': 0.03355849513320366, 'n_estimators': 129, 'subsample': 0.8395666929181207, 'colsample_bytree': 0.9097715258644951, 'lambda': 0.6370431505640057, 'alpha': 0.2998580235651829}. Best is trial 93 with value: 0.9725291573493614.\n",
      "[I 2024-07-13 13:17:18,759] Trial 95 finished with value: 0.9722396903253036 and parameters: {'max_depth': 9, 'learning_rate': 0.03323082982118809, 'n_estimators': 143, 'subsample': 0.8382932449248917, 'colsample_bytree': 0.9325733574661685, 'lambda': 0.6394449187602769, 'alpha': 0.3150965024507299}. Best is trial 93 with value: 0.9725291573493614.\n"
     ]
    },
    {
     "name": "stderr",
     "output_type": "stream",
     "text": [
      "[I 2024-07-13 13:17:19,444] Trial 96 finished with value: 0.972164751455479 and parameters: {'max_depth': 9, 'learning_rate': 0.03255524753628323, 'n_estimators': 142, 'subsample': 0.8179123550908198, 'colsample_bytree': 0.9634652364707573, 'lambda': 0.6352115203736439, 'alpha': 0.3133389240390435}. Best is trial 93 with value: 0.9725291573493614.\n",
      "[I 2024-07-13 13:17:20,223] Trial 97 finished with value: 0.9725045123947978 and parameters: {'max_depth': 9, 'learning_rate': 0.03181851470797687, 'n_estimators': 143, 'subsample': 0.8201194801899365, 'colsample_bytree': 0.9996470268181936, 'lambda': 0.6318607863230731, 'alpha': 0.31143233954505817}. Best is trial 93 with value: 0.9725291573493614.\n",
      "[I 2024-07-13 13:17:21,004] Trial 98 finished with value: 0.971347245307574 and parameters: {'max_depth': 9, 'learning_rate': 0.0370702284450206, 'n_estimators': 151, 'subsample': 0.8428661928230758, 'colsample_bytree': 0.9385184793969454, 'lambda': 0.6332162363847224, 'alpha': 0.308944589492713}. Best is trial 93 with value: 0.9725291573493614.\n",
      "[I 2024-07-13 13:17:21,826] Trial 99 finished with value: 0.9722148379410219 and parameters: {'max_depth': 9, 'learning_rate': 0.033324157122567054, 'n_estimators': 131, 'subsample': 0.8125268389797043, 'colsample_bytree': 0.9859395688319784, 'lambda': 0.6066480261191326, 'alpha': 0.22571680135039848}. Best is trial 93 with value: 0.9725291573493614.\n"
     ]
    },
    {
     "name": "stdout",
     "output_type": "stream",
     "text": [
      "Best hyperparameters:  {'max_depth': 9, 'learning_rate': 0.033185833228869505, 'n_estimators': 151, 'subsample': 0.8165128906123051, 'colsample_bytree': 0.9074057455011388, 'lambda': 0.4984615512488808, 'alpha': 0.3147121593405147}\n",
      "Best F1 Score:  0.9725291573493614\n",
      "              precision    recall  f1-score   support\n",
      "\n",
      "           0       0.98      0.99      0.98      2866\n",
      "           1       0.94      0.87      0.91       497\n",
      "\n",
      "    accuracy                           0.97      3363\n",
      "   macro avg       0.96      0.93      0.94      3363\n",
      "weighted avg       0.97      0.97      0.97      3363\n",
      "\n"
     ]
    }
   ],
   "source": [
    "import optuna\n",
    "from xgboost import XGBClassifier\n",
    "from sklearn import metrics\n",
    "from sklearn.model_selection import train_test_split\n",
    "\n",
    "# Supposons que train_X, train_y, test_X, test_y soient déjà définis\n",
    "# train_X, train_y = ...\n",
    "# test_X, test_y = ...\n",
    "\n",
    "# Fonction objectif pour Optuna\n",
    "def objective(trial):\n",
    "    param = {\n",
    "        'max_depth': trial.suggest_int('max_depth', 1, 10),\n",
    "        'learning_rate': trial.suggest_float('learning_rate', 0.01, 0.3),\n",
    "        'n_estimators': trial.suggest_int('n_estimators', 50, 200),\n",
    "        'subsample': trial.suggest_float('subsample', 0.5, 1.0),\n",
    "        'colsample_bytree': trial.suggest_float('colsample_bytree', 0.5, 1.0),\n",
    "        'lambda': trial.suggest_float('lambda', 1e-8, 1.0),\n",
    "        'alpha': trial.suggest_float('alpha', 1e-8, 1.0)\n",
    "    }\n",
    "    \n",
    "    model = XGBClassifier(**param)\n",
    "    model.fit(train_X, train_y)\n",
    "    y_pred = model.predict(test_X)\n",
    "    \n",
    "    f1 = metrics.f1_score(test_y, y_pred, average='weighted')\n",
    "    \n",
    "    return f1\n",
    "\n",
    "# Créer une étude et optimiser\n",
    "study = optuna.create_study(direction='maximize')\n",
    "study.optimize(objective, n_trials=100)\n",
    "\n",
    "# Afficher les meilleurs hyperparamètres trouvés\n",
    "print(\"Best hyperparameters: \", study.best_params)\n",
    "print(\"Best F1 Score: \", study.best_value)\n",
    "\n",
    "# Entraîner le modèle final avec les meilleurs hyperparamètres\n",
    "best_params = study.best_params\n",
    "mod2 = XGBClassifier(**best_params)\n",
    "mod2.fit(train_X, train_y)\n",
    "y_pred = mod2.predict(test_X)\n",
    "\n",
    "# Afficher le rapport de classification\n",
    "print(metrics.classification_report(test_y, y_pred))\n"
   ]
  },
  {
   "cell_type": "code",
   "execution_count": 49,
   "id": "777a7399",
   "metadata": {},
   "outputs": [
    {
     "name": "stdout",
     "output_type": "stream",
     "text": [
      "              precision    recall  f1-score   support\n",
      "\n",
      "           0       0.98      0.99      0.98      2866\n",
      "           1       0.94      0.87      0.91       497\n",
      "\n",
      "    accuracy                           0.97      3363\n",
      "   macro avg       0.96      0.93      0.94      3363\n",
      "weighted avg       0.97      0.97      0.97      3363\n",
      "\n"
     ]
    }
   ],
   "source": [
    "from xgboost import XGBClassifier\n",
    "from sklearn import metrics\n",
    "\n",
    "# Meilleurs hyperparamètres trouvés par Optuna\n",
    "\n",
    "best_params = {\n",
    "'max_depth': 9, 'learning_rate': 0.033185833228869505, 'n_estimators': 151, 'subsample': 0.8165128906123051, 'colsample_bytree': 0.9074057455011388, 'lambda': 0.4984615512488808, 'alpha': 0.3147121593405147 }\n",
    "mod1 = XGBClassifier(**best_params)\n",
    "mod1.fit(train_X, train_y)\n",
    "y_pred = mod1.predict(test_X)\n",
    "\n",
    "# Afficher le rapport de classification\n",
    "print(metrics.classification_report(test_y, y_pred))\n"
   ]
  },
  {
   "cell_type": "code",
   "execution_count": null,
   "id": "0ae5710a",
   "metadata": {},
   "outputs": [],
   "source": []
  },
  {
   "cell_type": "code",
   "execution_count": null,
   "id": "730f8596",
   "metadata": {},
   "outputs": [],
   "source": [
    "train.shape"
   ]
  },
  {
   "cell_type": "code",
   "execution_count": null,
   "id": "de80d70f",
   "metadata": {},
   "outputs": [],
   "source": [
    "import pickle\n",
    "\n",
    "file = './App_Model0.pkl'\n",
    "with open(file, 'wb') as f:\n",
    "    pickle.dump(mod1, f)"
   ]
  },
  {
   "cell_type": "code",
   "execution_count": null,
   "id": "f354171a",
   "metadata": {},
   "outputs": [],
   "source": [
    "train3.columns"
   ]
  },
  {
   "cell_type": "code",
   "execution_count": 87,
   "id": "b50d5402",
   "metadata": {},
   "outputs": [],
   "source": [
    "train=pd.read_csv('Base.csv')\n",
    "train=train.drop('Unnamed: 0',axis=1)"
   ]
  },
  {
   "cell_type": "code",
   "execution_count": 88,
   "id": "fc1f1443",
   "metadata": {},
   "outputs": [],
   "source": [
    "\n",
    "#train =train[train['duree_pret_souhaitee']<70]\n",
    "train =train[train['montant_sollicite']<3000000]\n",
    "# Remplace les valeurs nulles dans nbr_credits_octroyes par 1 pour éviter la division par zéro\n",
    "#train['nbr_credits_octroyes'] = train['nbr_credits_octroyes'].replace(0, 1)\n",
    "train['rapport_rembourse'] = train['nbr_credits_rembourses'] /train['nbr_credits_octroyes'].replace(0, 1)\n",
    "#train['rapport_rembour'] = (train['montant_credits_accorde']/train['nbr_credits_octroyes']) - train['montant_sollicite']\n",
    "#train['montant_credits_accorde']=train['montant_credits_accorde']-train['montant_credits_accorde']\n",
    "train['rapport_rembour'] = ((train['montant_credits_accorde']/train['nbr_credits_octroyes'].replace(0, 1)) - train['montant_sollicite'])/train['montant_sollicite']\n",
    "#train=train.drop('nbr_credits_octroyes',axis=1)\n",
    "train=train.drop('nbr_credits_rembourses',axis=1)\n",
    "#train=train.drop('montant_sollicite',axis=1)\n",
    "train=train.drop('montant_credits_accorde',axis=1)\n",
    "#train=train.drop('duree_pret_souhaitee',axis=1)\n",
    "#\n",
    "X=train.drop('a_dette_encours',axis=1)\n",
    "y=train['a_dette_encours']\n",
    "#\n",
    "X=X.drop('anciennete_agence',axis=1)\n",
    "X=X.drop('nbr_echeances',axis=1)\n",
    "X=X.drop('age',axis=1)\n",
    "X=X.drop('r',axis=1)\n",
    "X=X.drop('sexe',axis=1)\n",
    "X=X.drop('profession',axis=1)\n",
    "X=X.drop('secteur_activite',axis=1)\n",
    "#X=X.drop('ssecteur_activite',axis=1)\n",
    "\n",
    "from sklearn.feature_selection import SelectKBest, f_classif\n",
    "#\n",
    "from sklearn.model_selection import train_test_split\n",
    "train_X,test_X,train_y,test_y=train_test_split(X,y,test_size=0.3,random_state=1)"
   ]
  },
  {
   "cell_type": "code",
   "execution_count": 89,
   "id": "b1a0fbb1",
   "metadata": {},
   "outputs": [
    {
     "name": "stdout",
     "output_type": "stream",
     "text": [
      "              precision    recall  f1-score   support\n",
      "\n",
      "           0       0.97      0.98      0.97      2866\n",
      "           1       0.88      0.82      0.85       497\n",
      "\n",
      "    accuracy                           0.96      3363\n",
      "   macro avg       0.92      0.90      0.91      3363\n",
      "weighted avg       0.96      0.96      0.96      3363\n",
      "\n"
     ]
    }
   ],
   "source": [
    "from sklearn import metrics\n",
    "#from sklearn.metrics import classification_report\n",
    "mod2= XGBClassifier()\n",
    "mod2.fit(train_X,train_y)\n",
    "y_pred = mod2.predict(test_X)\n",
    "print(metrics.classification_report(test_y, y_pred))\n",
    "#max_depth=1, learning_rate=0.1, n_estimators=100"
   ]
  },
  {
   "cell_type": "code",
   "execution_count": 90,
   "id": "468dbefc",
   "metadata": {},
   "outputs": [
    {
     "name": "stdout",
     "output_type": "stream",
     "text": [
      "              precision    recall  f1-score   support\n",
      "\n",
      "           0       0.97      0.98      0.98      2866\n",
      "           1       0.89      0.82      0.85       497\n",
      "\n",
      "    accuracy                           0.96      3363\n",
      "   macro avg       0.93      0.90      0.91      3363\n",
      "weighted avg       0.96      0.96      0.96      3363\n",
      "\n"
     ]
    }
   ],
   "source": [
    "from xgboost import XGBClassifier\n",
    "from sklearn import metrics\n",
    "\n",
    "# Meilleurs hyperparamètres trouvés par Optuna\n",
    "best_params = {\n",
    "    #'max_depth': 8, 'learning_rate': 0.1521144137278809, 'n_estimators': 65, 'subsample': 0.7423868279218212, 'colsample_bytree': 0.9557791298962521, 'lambda': 0.7076288035899443, 'alpha': 0.40281399366018356}\n",
    "#'max_depth': 8, 'learning_rate': 0.21948883134326383, 'n_estimators': 94, 'subsample': 0.8634912278625186, 'colsample_bytree': 0.6860639669000079, 'lambda': 0.7840423059482575, 'alpha': 0.6026120914048049}\n",
    "#'max_depth': 10, 'learning_rate': 0.03919290360202057, 'n_estimators': 136, 'subsample': 0.9745742103932439, 'colsample_bytree': 0.9173310957180093, 'lambda': 0.26097543152754765, 'alpha': 0.5400556413655829}\n",
    "#'max_depth': 10, 'learning_rate': 0.1002015553106161, 'n_estimators': 56, 'subsample': 0.9195395426805336, 'colsample_bytree': 0.9379301753651929, 'lambda': 0.05645535740960696, 'alpha': 0.8074184733833735}\n",
    "    # Entraîner le modèle final avec les meilleurs hyperparamètres\n",
    "    'max_depth': 10, 'learning_rate': 0.03919290360202057, 'n_estimators': 136, 'subsample': 0.9745742103932439, 'colsample_bytree': 0.9173310957180093, 'lambda': 0.26097543152754765, 'alpha': 0.5400556413655829}\n",
    "mod3 = XGBClassifier(**best_params)\n",
    "mod3.fit(train_X, train_y)\n",
    "y_pred = mod3.predict(test_X)\n",
    "\n",
    "# Afficher le rapport de classification\n",
    "print(metrics.classification_report(test_y, y_pred))"
   ]
  },
  {
   "cell_type": "code",
   "execution_count": 91,
   "id": "a707948f",
   "metadata": {},
   "outputs": [
    {
     "name": "stdout",
     "output_type": "stream",
     "text": [
      "              precision    recall  f1-score   support\n",
      "\n",
      "           0       0.97      0.98      0.98      2866\n",
      "           1       0.89      0.82      0.85       497\n",
      "\n",
      "    accuracy                           0.96      3363\n",
      "   macro avg       0.93      0.90      0.91      3363\n",
      "weighted avg       0.96      0.96      0.96      3363\n",
      "\n"
     ]
    }
   ],
   "source": [
    "from xgboost import XGBClassifier\n",
    "from sklearn import metrics\n",
    "\n",
    "# Meilleurs hyperparamètres trouvés par Optuna\n",
    "best_params = {\n",
    "    #'max_depth': 8, 'learning_rate': 0.1521144137278809, 'n_estimators': 65, 'subsample': 0.7423868279218212, 'colsample_bytree': 0.9557791298962521, 'lambda': 0.7076288035899443, 'alpha': 0.40281399366018356\n",
    "#'max_depth': 8, 'learning_rate': 0.21948883134326383, 'n_estimators': 94, 'subsample': 0.8634912278625186, 'colsample_bytree': 0.6860639669000079, 'lambda': 0.7840423059482575, 'alpha': 0.6026120914048049\n",
    "'max_depth': 10, 'learning_rate': 0.03919290360202057, 'n_estimators': 136, 'subsample': 0.9745742103932439, 'colsample_bytree': 0.9173310957180093, 'lambda': 0.26097543152754765, 'alpha': 0.5400556413655829}\n",
    "#'max_depth': 10, 'learning_rate': 0.1002015553106161, 'n_estimators': 56, 'subsample': 0.9195395426805336, 'colsample_bytree': 0.9379301753651929, 'lambda': 0.05645535740960696, 'alpha': 0.8074184733833735}\n",
    "    # Entraîner le modèle final avec les meilleurs hyperparamètres\n",
    "mod3 = XGBClassifier(**best_params)\n",
    "mod3.fit(train_X, train_y)\n",
    "y_pred = mod3.predict(test_X)\n",
    "\n",
    "# Afficher le rapport de classification\n",
    "print(metrics.classification_report(test_y, y_pred))"
   ]
  },
  {
   "cell_type": "code",
   "execution_count": 92,
   "id": "39a4e1b5",
   "metadata": {},
   "outputs": [
    {
     "name": "stderr",
     "output_type": "stream",
     "text": [
      "[I 2024-07-13 13:31:06,450] A new study created in memory with name: no-name-353f5a89-80b2-4301-8242-c12dfa21c4d6\n",
      "[I 2024-07-13 13:31:06,812] Trial 0 finished with value: 0.9526584410153764 and parameters: {'max_depth': 2, 'learning_rate': 0.16083720789557235, 'n_estimators': 193, 'subsample': 0.6391889114717673, 'colsample_bytree': 0.9153978149854685, 'lambda': 0.41873305118971577, 'alpha': 0.0721275514031523}. Best is trial 0 with value: 0.9526584410153764.\n",
      "[I 2024-07-13 13:31:07,069] Trial 1 finished with value: 0.9549381644548336 and parameters: {'max_depth': 4, 'learning_rate': 0.21039540265862094, 'n_estimators': 101, 'subsample': 0.9438522405339314, 'colsample_bytree': 0.7756545693803986, 'lambda': 0.9598732699228474, 'alpha': 0.2142292066041444}. Best is trial 1 with value: 0.9549381644548336.\n",
      "[I 2024-07-13 13:31:07,629] Trial 2 finished with value: 0.9546575602457888 and parameters: {'max_depth': 7, 'learning_rate': 0.031239808509189726, 'n_estimators': 173, 'subsample': 0.8075925112209603, 'colsample_bytree': 0.8467076543367815, 'lambda': 0.5649375257128458, 'alpha': 0.9913955435964324}. Best is trial 1 with value: 0.9549381644548336.\n",
      "[I 2024-07-13 13:31:07,844] Trial 3 finished with value: 0.9565348507428784 and parameters: {'max_depth': 5, 'learning_rate': 0.17953974128473482, 'n_estimators': 63, 'subsample': 0.8797247616836101, 'colsample_bytree': 0.9172492512092332, 'lambda': 0.20829378941500593, 'alpha': 0.4621787377808746}. Best is trial 3 with value: 0.9565348507428784.\n",
      "[I 2024-07-13 13:31:08,112] Trial 4 finished with value: 0.955742247861783 and parameters: {'max_depth': 4, 'learning_rate': 0.25227043415470846, 'n_estimators': 111, 'subsample': 0.8130532092377671, 'colsample_bytree': 0.9690284840680758, 'lambda': 0.8155660490710092, 'alpha': 0.7751018561692834}. Best is trial 3 with value: 0.9565348507428784.\n",
      "[I 2024-07-13 13:31:08,422] Trial 5 finished with value: 0.9561885087609417 and parameters: {'max_depth': 5, 'learning_rate': 0.20486761704182424, 'n_estimators': 120, 'subsample': 0.9255642541379439, 'colsample_bytree': 0.644028321118848, 'lambda': 0.5572374328617307, 'alpha': 0.2196823753354231}. Best is trial 3 with value: 0.9565348507428784.\n",
      "[I 2024-07-13 13:31:08,786] Trial 6 finished with value: 0.9495412480212225 and parameters: {'max_depth': 8, 'learning_rate': 0.25581625314675793, 'n_estimators': 97, 'subsample': 0.6139474751346539, 'colsample_bytree': 0.9676665808631326, 'lambda': 0.6466579542112554, 'alpha': 0.3184636309600073}. Best is trial 3 with value: 0.9565348507428784.\n",
      "[I 2024-07-13 13:31:09,015] Trial 7 finished with value: 0.939009923030306 and parameters: {'max_depth': 5, 'learning_rate': 0.029744107491414797, 'n_estimators': 79, 'subsample': 0.8899599778704975, 'colsample_bytree': 0.6233363522925828, 'lambda': 0.6370680895796755, 'alpha': 0.237887633436502}. Best is trial 3 with value: 0.9565348507428784.\n",
      "[I 2024-07-13 13:31:09,310] Trial 8 finished with value: 0.9533747949252795 and parameters: {'max_depth': 7, 'learning_rate': 0.05583016752744373, 'n_estimators': 84, 'subsample': 0.5227304928541536, 'colsample_bytree': 0.8197217138544621, 'lambda': 0.7751558804790406, 'alpha': 0.27395401937845626}. Best is trial 3 with value: 0.9565348507428784.\n",
      "[I 2024-07-13 13:31:09,675] Trial 9 finished with value: 0.9541367735424853 and parameters: {'max_depth': 3, 'learning_rate': 0.19725396965848505, 'n_estimators': 177, 'subsample': 0.7427676917640537, 'colsample_bytree': 0.7450448379651228, 'lambda': 0.07197172577878691, 'alpha': 0.9993019187154916}. Best is trial 3 with value: 0.9565348507428784.\n",
      "[I 2024-07-13 13:31:10,015] Trial 10 finished with value: 0.9546915996679689 and parameters: {'max_depth': 10, 'learning_rate': 0.10298138085926076, 'n_estimators': 56, 'subsample': 0.7184477420423265, 'colsample_bytree': 0.692249528109347, 'lambda': 0.20641519674177713, 'alpha': 0.5603958643711208}. Best is trial 3 with value: 0.9565348507428784.\n",
      "[I 2024-07-13 13:31:10,251] Trial 11 finished with value: 0.9379817632696984 and parameters: {'max_depth': 1, 'learning_rate': 0.13923280036782723, 'n_estimators': 143, 'subsample': 0.9788355899849235, 'colsample_bytree': 0.5177300666338616, 'lambda': 0.34090972198996583, 'alpha': 0.5079361050665064}. Best is trial 3 with value: 0.9565348507428784.\n",
      "[I 2024-07-13 13:31:10,694] Trial 12 finished with value: 0.9545379552865935 and parameters: {'max_depth': 6, 'learning_rate': 0.2077429108694912, 'n_estimators': 134, 'subsample': 0.8978312338367566, 'colsample_bytree': 0.615628135423109, 'lambda': 0.2836068868664816, 'alpha': 0.4156074448999896}. Best is trial 3 with value: 0.9565348507428784.\n",
      "[I 2024-07-13 13:31:10,899] Trial 13 finished with value: 0.9564592465936382 and parameters: {'max_depth': 5, 'learning_rate': 0.29478794613110443, 'n_estimators': 50, 'subsample': 0.8350401915833807, 'colsample_bytree': 0.6403322330147627, 'lambda': 0.09863737077541641, 'alpha': 0.02966292499184503}. Best is trial 3 with value: 0.9565348507428784.\n",
      "[I 2024-07-13 13:31:11,219] Trial 14 finished with value: 0.9464231576578708 and parameters: {'max_depth': 9, 'learning_rate': 0.2730628810875334, 'n_estimators': 55, 'subsample': 0.831703608213496, 'colsample_bytree': 0.5080053939945223, 'lambda': 0.008390394723542804, 'alpha': 0.006973183212333506}. Best is trial 3 with value: 0.9565348507428784.\n",
      "[I 2024-07-13 13:31:11,514] Trial 15 finished with value: 0.954457200436249 and parameters: {'max_depth': 6, 'learning_rate': 0.125139304721588, 'n_estimators': 69, 'subsample': 0.8505666835476332, 'colsample_bytree': 0.9043880262854049, 'lambda': 0.177944563577218, 'alpha': 0.6609156637077541}. Best is trial 3 with value: 0.9565348507428784.\n",
      "[I 2024-07-13 13:31:11,688] Trial 16 finished with value: 0.9402048893847021 and parameters: {'max_depth': 3, 'learning_rate': 0.08876051351626704, 'n_estimators': 52, 'subsample': 0.6803138346163083, 'colsample_bytree': 0.5729252200678835, 'lambda': 0.1202573637936839, 'alpha': 0.799354095549885}. Best is trial 3 with value: 0.9565348507428784.\n",
      "[I 2024-07-13 13:31:11,906] Trial 17 finished with value: 0.9551796415733331 and parameters: {'max_depth': 4, 'learning_rate': 0.29394805240355826, 'n_estimators': 69, 'subsample': 0.7905020343014484, 'colsample_bytree': 0.7065779169908524, 'lambda': 0.2901729616628885, 'alpha': 0.40675594946733}. Best is trial 3 with value: 0.9565348507428784.\n",
      "[I 2024-07-13 13:31:12,531] Trial 18 finished with value: 0.9534564360138892 and parameters: {'max_depth': 7, 'learning_rate': 0.17768978968911647, 'n_estimators': 154, 'subsample': 0.9670768665101687, 'colsample_bytree': 0.8583863405882182, 'lambda': 0.42870056578406057, 'alpha': 0.10238141935701309}. Best is trial 3 with value: 0.9565348507428784.\n",
      "[I 2024-07-13 13:31:12,749] Trial 19 finished with value: 0.9409805221830805 and parameters: {'max_depth': 1, 'learning_rate': 0.23595575256057233, 'n_estimators': 87, 'subsample': 0.8783563562727202, 'colsample_bytree': 0.7835127579254095, 'lambda': 0.20474388199589633, 'alpha': 0.6263608628665036}. Best is trial 3 with value: 0.9565348507428784.\n",
      "[I 2024-07-13 13:31:13,003] Trial 20 finished with value: 0.9544562217363117 and parameters: {'max_depth': 3, 'learning_rate': 0.2951050049165878, 'n_estimators': 71, 'subsample': 0.7858182680395596, 'colsample_bytree': 0.6966035378901174, 'lambda': 0.0023677058352302993, 'alpha': 0.7689852607537033}. Best is trial 3 with value: 0.9565348507428784.\n",
      "[I 2024-07-13 13:31:13,460] Trial 21 finished with value: 0.9538539845479875 and parameters: {'max_depth': 5, 'learning_rate': 0.2291445114854235, 'n_estimators': 127, 'subsample': 0.9325341626005514, 'colsample_bytree': 0.6439218501349243, 'lambda': 0.4884064489144054, 'alpha': 0.1636693859406982}. Best is trial 3 with value: 0.9565348507428784.\n",
      "[I 2024-07-13 13:31:13,879] Trial 22 finished with value: 0.954135140537458 and parameters: {'max_depth': 5, 'learning_rate': 0.18100406768248722, 'n_estimators': 110, 'subsample': 0.9961788201705131, 'colsample_bytree': 0.5634341686320958, 'lambda': 0.5295827817601637, 'alpha': 0.0005522645674606967}. Best is trial 3 with value: 0.9565348507428784.\n",
      "[I 2024-07-13 13:31:14,163] Trial 23 finished with value: 0.9540969867601234 and parameters: {'max_depth': 6, 'learning_rate': 0.15727385902015376, 'n_estimators': 50, 'subsample': 0.9151013993953454, 'colsample_bytree': 0.6567482202887053, 'lambda': 0.36759567514963415, 'alpha': 0.3929995166312055}. Best is trial 3 with value: 0.9565348507428784.\n"
     ]
    },
    {
     "name": "stderr",
     "output_type": "stream",
     "text": [
      "[I 2024-07-13 13:31:14,535] Trial 24 finished with value: 0.9550604163245107 and parameters: {'max_depth': 4, 'learning_rate': 0.2280988031825891, 'n_estimators': 114, 'subsample': 0.8606341321786121, 'colsample_bytree': 0.5702497567858453, 'lambda': 0.1162625175241405, 'alpha': 0.15288093554622045}. Best is trial 3 with value: 0.9565348507428784.\n",
      "[I 2024-07-13 13:31:15,060] Trial 25 finished with value: 0.952282004290016 and parameters: {'max_depth': 5, 'learning_rate': 0.2728033177929607, 'n_estimators': 154, 'subsample': 0.7649556685774692, 'colsample_bytree': 0.7312628424579325, 'lambda': 0.7214654335274113, 'alpha': 0.33833144289274547}. Best is trial 3 with value: 0.9565348507428784.\n",
      "[I 2024-07-13 13:31:15,401] Trial 26 finished with value: 0.955906155862926 and parameters: {'max_depth': 8, 'learning_rate': 0.12481290113627325, 'n_estimators': 64, 'subsample': 0.9407763435842429, 'colsample_bytree': 0.6628247221420219, 'lambda': 0.2779034470530228, 'alpha': 0.09227968061290437}. Best is trial 3 with value: 0.9565348507428784.\n",
      "[I 2024-07-13 13:31:15,790] Trial 27 finished with value: 0.9536878142466341 and parameters: {'max_depth': 6, 'learning_rate': 0.18561916201379383, 'n_estimators': 97, 'subsample': 0.8472624528485322, 'colsample_bytree': 0.5963539159434651, 'lambda': 0.5944210356610528, 'alpha': 0.1702598352574134}. Best is trial 3 with value: 0.9565348507428784.\n",
      "[I 2024-07-13 13:31:16,032] Trial 28 finished with value: 0.9431705805682852 and parameters: {'max_depth': 2, 'learning_rate': 0.08010893855808128, 'n_estimators': 82, 'subsample': 0.9017615769289076, 'colsample_bytree': 0.9228592707391732, 'lambda': 0.4856637994530048, 'alpha': 0.4561965703023487}. Best is trial 3 with value: 0.9565348507428784.\n",
      "[I 2024-07-13 13:31:16,486] Trial 29 finished with value: 0.9533778756537107 and parameters: {'max_depth': 2, 'learning_rate': 0.15909432398877366, 'n_estimators': 182, 'subsample': 0.7016983819329827, 'colsample_bytree': 0.7912056910245906, 'lambda': 0.3931557970637345, 'alpha': 0.0677731549625401}. Best is trial 3 with value: 0.9565348507428784.\n",
      "[I 2024-07-13 13:31:17,041] Trial 30 finished with value: 0.9503667171785234 and parameters: {'max_depth': 4, 'learning_rate': 0.25315503161005887, 'n_estimators': 194, 'subsample': 0.6289757975243963, 'colsample_bytree': 0.9995141003030151, 'lambda': 0.4454125627787467, 'alpha': 0.27176560288107743}. Best is trial 3 with value: 0.9565348507428784.\n",
      "[I 2024-07-13 13:31:17,396] Trial 31 finished with value: 0.9553421105233145 and parameters: {'max_depth': 8, 'learning_rate': 0.13160836609819804, 'n_estimators': 62, 'subsample': 0.9456763526379707, 'colsample_bytree': 0.6703521304309759, 'lambda': 0.285305025218461, 'alpha': 0.09577387418734494}. Best is trial 3 with value: 0.9565348507428784.\n",
      "[I 2024-07-13 13:31:17,751] Trial 32 finished with value: 0.9589262821736847 and parameters: {'max_depth': 8, 'learning_rate': 0.11070718181817646, 'n_estimators': 64, 'subsample': 0.9561542767562008, 'colsample_bytree': 0.7267897636590696, 'lambda': 0.15461938822977284, 'alpha': 0.061605538041775584}. Best is trial 32 with value: 0.9589262821736847.\n",
      "[I 2024-07-13 13:31:18,122] Trial 33 finished with value: 0.954616442590455 and parameters: {'max_depth': 7, 'learning_rate': 0.06353778890773522, 'n_estimators': 75, 'subsample': 0.9550404876441501, 'colsample_bytree': 0.7264708417190356, 'lambda': 0.1785569286648691, 'alpha': 0.03710028269680578}. Best is trial 32 with value: 0.9589262821736847.\n",
      "[I 2024-07-13 13:31:18,477] Trial 34 finished with value: 0.9549774683837003 and parameters: {'max_depth': 5, 'learning_rate': 0.10561542473594818, 'n_estimators': 90, 'subsample': 0.8709350006087934, 'colsample_bytree': 0.7644755135256284, 'lambda': 0.9662284717308134, 'alpha': 0.1982081291890664}. Best is trial 32 with value: 0.9589262821736847.\n",
      "[I 2024-07-13 13:31:18,898] Trial 35 finished with value: 0.9518495534668984 and parameters: {'max_depth': 10, 'learning_rate': 0.14480235469107955, 'n_estimators': 64, 'subsample': 0.8211382829800913, 'colsample_bytree': 0.8173521552092512, 'lambda': 0.11803387362127851, 'alpha': 0.12090236237932722}. Best is trial 32 with value: 0.9589262821736847.\n",
      "[I 2024-07-13 13:31:19,491] Trial 36 finished with value: 0.9460963735705615 and parameters: {'max_depth': 9, 'learning_rate': 0.014162546610092974, 'n_estimators': 106, 'subsample': 0.9199189636903911, 'colsample_bytree': 0.8678974269808915, 'lambda': 0.8681242980017984, 'alpha': 0.33236254187208003}. Best is trial 32 with value: 0.9589262821736847.\n",
      "[I 2024-07-13 13:31:19,850] Trial 37 finished with value: 0.9563291720839322 and parameters: {'max_depth': 4, 'learning_rate': 0.16835074892576188, 'n_estimators': 121, 'subsample': 0.993926836830041, 'colsample_bytree': 0.6173185992953186, 'lambda': 0.06340719743502879, 'alpha': 0.2339439522232406}. Best is trial 32 with value: 0.9589262821736847.\n",
      "[I 2024-07-13 13:31:20,166] Trial 38 finished with value: 0.9525348665590911 and parameters: {'max_depth': 4, 'learning_rate': 0.11144155090553917, 'n_estimators': 92, 'subsample': 0.9872126290034187, 'colsample_bytree': 0.6039125591162978, 'lambda': 0.06710654923864952, 'alpha': 0.2671122401896726}. Best is trial 32 with value: 0.9589262821736847.\n",
      "[I 2024-07-13 13:31:20,418] Trial 39 finished with value: 0.9488851489661031 and parameters: {'max_depth': 3, 'learning_rate': 0.17126139323047046, 'n_estimators': 59, 'subsample': 0.9996695581272075, 'colsample_bytree': 0.5427146671983576, 'lambda': 0.04832429934298001, 'alpha': 0.2152512119187781}. Best is trial 32 with value: 0.9589262821736847.\n",
      "[I 2024-07-13 13:31:21,060] Trial 40 finished with value: 0.9545344805257374 and parameters: {'max_depth': 7, 'learning_rate': 0.04863929669032849, 'n_estimators': 166, 'subsample': 0.5099640627254562, 'colsample_bytree': 0.6252634632998669, 'lambda': 0.2293578528261871, 'alpha': 0.05121558815913534}. Best is trial 32 with value: 0.9589262821736847.\n",
      "[I 2024-07-13 13:31:21,439] Trial 41 finished with value: 0.9541763596771615 and parameters: {'max_depth': 4, 'learning_rate': 0.1958902036474307, 'n_estimators': 122, 'subsample': 0.9621756205441002, 'colsample_bytree': 0.6330446472076702, 'lambda': 0.13974445381689954, 'alpha': 0.22867619622882046}. Best is trial 32 with value: 0.9589262821736847.\n",
      "[I 2024-07-13 13:31:21,894] Trial 42 finished with value: 0.953333662711404 and parameters: {'max_depth': 5, 'learning_rate': 0.21436553340429204, 'n_estimators': 140, 'subsample': 0.8937615415479745, 'colsample_bytree': 0.68480732296066, 'lambda': 0.6747866561143117, 'alpha': 0.31469170796070656}. Best is trial 32 with value: 0.9589262821736847.\n",
      "[I 2024-07-13 13:31:22,317] Trial 43 finished with value: 0.9546178939389286 and parameters: {'max_depth': 5, 'learning_rate': 0.16863453098665118, 'n_estimators': 119, 'subsample': 0.9261370205983855, 'colsample_bytree': 0.5950396465571093, 'lambda': 0.059954697267188994, 'alpha': 0.13111584429604717}. Best is trial 32 with value: 0.9589262821736847.\n",
      "[I 2024-07-13 13:31:22,829] Trial 44 finished with value: 0.9532923210453708 and parameters: {'max_depth': 6, 'learning_rate': 0.1497425245183985, 'n_estimators': 130, 'subsample': 0.9678293561869871, 'colsample_bytree': 0.7166774356045308, 'lambda': 0.23491021174098464, 'alpha': 0.5187509228378719}. Best is trial 32 with value: 0.9589262821736847.\n",
      "[I 2024-07-13 13:31:23,185] Trial 45 finished with value: 0.9564592465936382 and parameters: {'max_depth': 4, 'learning_rate': 0.1940113526932008, 'n_estimators': 102, 'subsample': 0.8358751786709812, 'colsample_bytree': 0.7405552055549464, 'lambda': 0.1584962855671814, 'alpha': 0.044043722908465144}. Best is trial 32 with value: 0.9589262821736847.\n",
      "[I 2024-07-13 13:31:23,484] Trial 46 finished with value: 0.9555777688052511 and parameters: {'max_depth': 3, 'learning_rate': 0.1913166043361051, 'n_estimators': 102, 'subsample': 0.5504112933344145, 'colsample_bytree': 0.7534188541985759, 'lambda': 0.1465454202652143, 'alpha': 0.04836072628533784}. Best is trial 32 with value: 0.9589262821736847.\n",
      "[I 2024-07-13 13:31:23,811] Trial 47 finished with value: 0.9529377349422887 and parameters: {'max_depth': 4, 'learning_rate': 0.08989287146444697, 'n_estimators': 74, 'subsample': 0.8018999402601956, 'colsample_bytree': 0.8347658014428331, 'lambda': 0.09537624248058373, 'alpha': 0.028671773404607873}. Best is trial 32 with value: 0.9589262821736847.\n"
     ]
    },
    {
     "name": "stderr",
     "output_type": "stream",
     "text": [
      "[I 2024-07-13 13:31:24,140] Trial 48 finished with value: 0.9544167948148444 and parameters: {'max_depth': 4, 'learning_rate': 0.21105360406914347, 'n_estimators': 81, 'subsample': 0.8324875488306932, 'colsample_bytree': 0.7956707435092294, 'lambda': 0.33007395871556766, 'alpha': 0.17640367926096517}. Best is trial 32 with value: 0.9589262821736847.\n",
      "[I 2024-07-13 13:31:24,472] Trial 49 finished with value: 0.9509683327278748 and parameters: {'max_depth': 6, 'learning_rate': 0.27162809601911564, 'n_estimators': 57, 'subsample': 0.7603642965395094, 'colsample_bytree': 0.9116208202473245, 'lambda': 0.17351607566209967, 'alpha': 0.5757480916238678}. Best is trial 32 with value: 0.9589262821736847.\n",
      "[I 2024-07-13 13:31:24,645] Trial 50 finished with value: 0.9468502527384413 and parameters: {'max_depth': 3, 'learning_rate': 0.16541690531010142, 'n_estimators': 50, 'subsample': 0.84096632612939, 'colsample_bytree': 0.7390188193149347, 'lambda': 0.031232711571556368, 'alpha': 0.913767739452426}. Best is trial 32 with value: 0.9589262821736847.\n",
      "[I 2024-07-13 13:31:25,011] Trial 51 finished with value: 0.9534564360138892 and parameters: {'max_depth': 5, 'learning_rate': 0.20449148737830045, 'n_estimators': 117, 'subsample': 0.8851618605438173, 'colsample_bytree': 0.6449880742050058, 'lambda': 0.5753980023380155, 'alpha': 0.07580125493181938}. Best is trial 32 with value: 0.9589262821736847.\n",
      "[I 2024-07-13 13:31:25,379] Trial 52 finished with value: 0.9523382156421905 and parameters: {'max_depth': 4, 'learning_rate': 0.24159550069976893, 'n_estimators': 135, 'subsample': 0.9120629744944473, 'colsample_bytree': 0.6743673796478062, 'lambda': 0.22444386997151256, 'alpha': 0.377607958968419}. Best is trial 32 with value: 0.9589262821736847.\n",
      "[I 2024-07-13 13:31:25,878] Trial 53 finished with value: 0.9511177155728171 and parameters: {'max_depth': 6, 'learning_rate': 0.21832575745539493, 'n_estimators': 147, 'subsample': 0.9742946955437612, 'colsample_bytree': 0.7052905147936757, 'lambda': 0.08244432680356298, 'alpha': 0.45075622709834157}. Best is trial 32 with value: 0.9589262821736847.\n",
      "[I 2024-07-13 13:31:26,189] Trial 54 finished with value: 0.9534157189439333 and parameters: {'max_depth': 5, 'learning_rate': 0.13326191084455724, 'n_estimators': 97, 'subsample': 0.8672553503010638, 'colsample_bytree': 0.6897526308765558, 'lambda': 0.1667607761120677, 'alpha': 0.006493259700765926}. Best is trial 32 with value: 0.9589262821736847.\n",
      "[I 2024-07-13 13:31:26,688] Trial 55 finished with value: 0.9529700975384015 and parameters: {'max_depth': 9, 'learning_rate': 0.17789081201843363, 'n_estimators': 110, 'subsample': 0.9408221632436811, 'colsample_bytree': 0.5397554738304318, 'lambda': 0.25027456493207845, 'alpha': 0.13354443265898114}. Best is trial 32 with value: 0.9589262821736847.\n",
      "[I 2024-07-13 13:31:26,942] Trial 56 finished with value: 0.9548589563752171 and parameters: {'max_depth': 5, 'learning_rate': 0.11919514266458026, 'n_estimators': 65, 'subsample': 0.7388188057538089, 'colsample_bytree': 0.8784855834576133, 'lambda': 0.0078399755614115, 'alpha': 0.2453090738208544}. Best is trial 32 with value: 0.9589262821736847.\n",
      "[I 2024-07-13 13:31:27,234] Trial 57 finished with value: 0.9546575602457888 and parameters: {'max_depth': 3, 'learning_rate': 0.19598593054086053, 'n_estimators': 126, 'subsample': 0.8198109274401426, 'colsample_bytree': 0.7656863756563063, 'lambda': 0.32988065731479077, 'alpha': 0.30060985879135926}. Best is trial 32 with value: 0.9589262821736847.\n",
      "[I 2024-07-13 13:31:27,556] Trial 58 finished with value: 0.953333662711404 and parameters: {'max_depth': 6, 'learning_rate': 0.15127936320322385, 'n_estimators': 77, 'subsample': 0.7834947099051877, 'colsample_bytree': 0.5811434520026707, 'lambda': 0.10022172960555896, 'alpha': 0.7213668721148447}. Best is trial 32 with value: 0.9589262821736847.\n",
      "[I 2024-07-13 13:31:27,817] Trial 59 finished with value: 0.9529700975384015 and parameters: {'max_depth': 7, 'learning_rate': 0.26155003752043166, 'n_estimators': 55, 'subsample': 0.904809027850671, 'colsample_bytree': 0.9335482730682051, 'lambda': 0.6206153882247585, 'alpha': 0.19926276561473766}. Best is trial 32 with value: 0.9589262821736847.\n",
      "[I 2024-07-13 13:31:28,087] Trial 60 finished with value: 0.954578026023982 and parameters: {'max_depth': 4, 'learning_rate': 0.22610427224388327, 'n_estimators': 69, 'subsample': 0.8598997696344503, 'colsample_bytree': 0.6467594914865593, 'lambda': 0.5303186029457131, 'alpha': 0.1056813124984932}. Best is trial 32 with value: 0.9589262821736847.\n",
      "[I 2024-07-13 13:31:28,444] Trial 61 finished with value: 0.955746369774382 and parameters: {'max_depth': 8, 'learning_rate': 0.12501014776342426, 'n_estimators': 63, 'subsample': 0.9412586140871415, 'colsample_bytree': 0.6623788230340081, 'lambda': 0.2647212731184248, 'alpha': 0.0965925220677781}. Best is trial 32 with value: 0.9589262821736847.\n",
      "[I 2024-07-13 13:31:28,812] Trial 62 finished with value: 0.9546981053386228 and parameters: {'max_depth': 8, 'learning_rate': 0.0967965379301457, 'n_estimators': 67, 'subsample': 0.9776149230749427, 'colsample_bytree': 0.6173425203397653, 'lambda': 0.14784752322591893, 'alpha': 0.06535289896038575}. Best is trial 32 with value: 0.9589262821736847.\n",
      "[I 2024-07-13 13:31:29,156] Trial 63 finished with value: 0.9557866228973675 and parameters: {'max_depth': 9, 'learning_rate': 0.13816496661317604, 'n_estimators': 58, 'subsample': 0.9495546405216588, 'colsample_bytree': 0.7157133191794871, 'lambda': 0.18623749558925776, 'alpha': 0.1515451057959126}. Best is trial 32 with value: 0.9589262821736847.\n",
      "[I 2024-07-13 13:31:29,582] Trial 64 finished with value: 0.9508816021315837 and parameters: {'max_depth': 8, 'learning_rate': 0.2865988466870664, 'n_estimators': 86, 'subsample': 0.9315668224234811, 'colsample_bytree': 0.6764130008550167, 'lambda': 0.3047157140786068, 'alpha': 0.008532135611609905}. Best is trial 32 with value: 0.9589262821736847.\n",
      "[I 2024-07-13 13:31:30,022] Trial 65 finished with value: 0.9529281705516016 and parameters: {'max_depth': 5, 'learning_rate': 0.18487860831056155, 'n_estimators': 135, 'subsample': 0.8871382627384161, 'colsample_bytree': 0.6349472469890827, 'lambda': 0.20333683491920557, 'alpha': 0.363988243308856}. Best is trial 32 with value: 0.9589262821736847.\n",
      "[I 2024-07-13 13:31:30,290] Trial 66 finished with value: 0.9464231576578708 and parameters: {'max_depth': 4, 'learning_rate': 0.07852924996904974, 'n_estimators': 71, 'subsample': 0.9857346665036691, 'colsample_bytree': 0.6550305035667181, 'lambda': 0.37579126722816975, 'alpha': 0.1804616166349882}. Best is trial 32 with value: 0.9589262821736847.\n",
      "[I 2024-07-13 13:31:30,749] Trial 67 finished with value: 0.9554608369568809 and parameters: {'max_depth': 6, 'learning_rate': 0.11483521262546963, 'n_estimators': 105, 'subsample': 0.9243776165889662, 'colsample_bytree': 0.6010080156500722, 'lambda': 0.4603159584410499, 'alpha': 0.07943735592146732}. Best is trial 32 with value: 0.9589262821736847.\n",
      "[I 2024-07-13 13:31:31,032] Trial 68 finished with value: 0.9528011002940733 and parameters: {'max_depth': 7, 'learning_rate': 0.24025638711051506, 'n_estimators': 53, 'subsample': 0.9608099951224458, 'colsample_bytree': 0.8040338625884375, 'lambda': 0.03454250412865342, 'alpha': 0.034627656524939446}. Best is trial 32 with value: 0.9589262821736847.\n",
      "[I 2024-07-13 13:31:31,384] Trial 69 finished with value: 0.9559848348756833 and parameters: {'max_depth': 5, 'learning_rate': 0.1610365532377471, 'n_estimators': 91, 'subsample': 0.9096191775565673, 'colsample_bytree': 0.7524171343507248, 'lambda': 0.11784841282886097, 'alpha': 0.13607626235274956}. Best is trial 32 with value: 0.9589262821736847.\n",
      "[I 2024-07-13 13:31:31,752] Trial 70 finished with value: 0.9567027144183462 and parameters: {'max_depth': 5, 'learning_rate': 0.16355744536890057, 'n_estimators': 97, 'subsample': 0.8788323415306835, 'colsample_bytree': 0.9501377705080989, 'lambda': 0.09912598663450142, 'alpha': 0.14041404262236695}. Best is trial 32 with value: 0.9589262821736847.\n",
      "[I 2024-07-13 13:31:32,108] Trial 71 finished with value: 0.9557812571226846 and parameters: {'max_depth': 5, 'learning_rate': 0.1574220323647344, 'n_estimators': 95, 'subsample': 0.9025714184403222, 'colsample_bytree': 0.9738042474299313, 'lambda': 0.12002267740594191, 'alpha': 0.13842351907171363}. Best is trial 32 with value: 0.9589262821736847.\n"
     ]
    },
    {
     "name": "stderr",
     "output_type": "stream",
     "text": [
      "[I 2024-07-13 13:31:32,487] Trial 72 finished with value: 0.9550202686269764 and parameters: {'max_depth': 5, 'learning_rate': 0.1739413988394475, 'n_estimators': 102, 'subsample': 0.8519891817713414, 'colsample_bytree': 0.9580507453546299, 'lambda': 0.1449356310227039, 'alpha': 0.24779029721991172}. Best is trial 32 with value: 0.9589262821736847.\n",
      "[I 2024-07-13 13:31:32,843] Trial 73 finished with value: 0.9564971443151496 and parameters: {'max_depth': 4, 'learning_rate': 0.2032928891975362, 'n_estimators': 111, 'subsample': 0.8815016529901157, 'colsample_bytree': 0.9971219579120647, 'lambda': 0.07476247820310272, 'alpha': 0.114468615510079}. Best is trial 32 with value: 0.9589262821736847.\n",
      "[I 2024-07-13 13:31:33,191] Trial 74 finished with value: 0.9553421105233145 and parameters: {'max_depth': 4, 'learning_rate': 0.20685101117877067, 'n_estimators': 114, 'subsample': 0.8358938879423001, 'colsample_bytree': 0.9977252408098075, 'lambda': 0.06043336733723477, 'alpha': 0.18790402786860894}. Best is trial 32 with value: 0.9589262821736847.\n",
      "[I 2024-07-13 13:31:33,540] Trial 75 finished with value: 0.9551003602307114 and parameters: {'max_depth': 4, 'learning_rate': 0.18792797100265193, 'n_estimators': 108, 'subsample': 0.8762156111685804, 'colsample_bytree': 0.937754442785934, 'lambda': 0.029394362756243256, 'alpha': 0.2899192221100474}. Best is trial 32 with value: 0.9589262821736847.\n",
      "[I 2024-07-13 13:31:33,903] Trial 76 finished with value: 0.9554508841733592 and parameters: {'max_depth': 3, 'learning_rate': 0.20344583207945777, 'n_estimators': 114, 'subsample': 0.8775262549517694, 'colsample_bytree': 0.8892510864797107, 'lambda': 0.0007688536912302951, 'alpha': 0.11838084920892847}. Best is trial 32 with value: 0.9589262821736847.\n",
      "[I 2024-07-13 13:31:34,308] Trial 77 finished with value: 0.954135140537458 and parameters: {'max_depth': 4, 'learning_rate': 0.2212555141882418, 'n_estimators': 119, 'subsample': 0.8155769281561969, 'colsample_bytree': 0.9691525904489258, 'lambda': 0.09866573633377879, 'alpha': 0.061220483229396064}. Best is trial 32 with value: 0.9589262821736847.\n",
      "[I 2024-07-13 13:31:34,730] Trial 78 finished with value: 0.9551003602307114 and parameters: {'max_depth': 5, 'learning_rate': 0.1434072507483359, 'n_estimators': 121, 'subsample': 0.7985345582290312, 'colsample_bytree': 0.984984923377975, 'lambda': 0.5228093145376088, 'alpha': 0.2157458174449804}. Best is trial 32 with value: 0.9589262821736847.\n",
      "[I 2024-07-13 13:31:35,224] Trial 79 finished with value: 0.9530118118042873 and parameters: {'max_depth': 6, 'learning_rate': 0.19880724168810468, 'n_estimators': 126, 'subsample': 0.8931019807808618, 'colsample_bytree': 0.9495774986209277, 'lambda': 0.07322419255050677, 'alpha': 0.03140167881499356}. Best is trial 32 with value: 0.9589262821736847.\n",
      "[I 2024-07-13 13:31:35,638] Trial 80 finished with value: 0.9560488588824415 and parameters: {'max_depth': 4, 'learning_rate': 0.16837785362773303, 'n_estimators': 132, 'subsample': 0.852918320732263, 'colsample_bytree': 0.8419700458833592, 'lambda': 0.6958755312309146, 'alpha': 0.4405796435383369}. Best is trial 32 with value: 0.9589262821736847.\n",
      "[I 2024-07-13 13:31:36,082] Trial 81 finished with value: 0.953577357842876 and parameters: {'max_depth': 4, 'learning_rate': 0.17930959660142287, 'n_estimators': 145, 'subsample': 0.8669753638859821, 'colsample_bytree': 0.8485851344168664, 'lambda': 0.7650417378594547, 'alpha': 0.47683035489003944}. Best is trial 32 with value: 0.9589262821736847.\n",
      "[I 2024-07-13 13:31:36,449] Trial 82 finished with value: 0.9533778756537107 and parameters: {'max_depth': 3, 'learning_rate': 0.1684327626289896, 'n_estimators': 133, 'subsample': 0.8601057668293787, 'colsample_bytree': 0.9272852497370765, 'lambda': 0.884500618566472, 'alpha': 0.524744302658429}. Best is trial 32 with value: 0.9589262821736847.\n",
      "[I 2024-07-13 13:31:36,966] Trial 83 finished with value: 0.9548190498118148 and parameters: {'max_depth': 5, 'learning_rate': 0.19060316998755944, 'n_estimators': 129, 'subsample': 0.8463053420036823, 'colsample_bytree': 0.9471827495943966, 'lambda': 0.6822493229514883, 'alpha': 0.5566784610918011}. Best is trial 32 with value: 0.9589262821736847.\n",
      "[I 2024-07-13 13:31:37,411] Trial 84 finished with value: 0.9555777688052511 and parameters: {'max_depth': 4, 'learning_rate': 0.15183628581967812, 'n_estimators': 140, 'subsample': 0.9173227115404662, 'colsample_bytree': 0.81879422747719, 'lambda': 0.7474585115507614, 'alpha': 0.4323608660302567}. Best is trial 32 with value: 0.9589262821736847.\n",
      "[I 2024-07-13 13:31:37,873] Trial 85 finished with value: 0.9534157189439333 and parameters: {'max_depth': 4, 'learning_rate': 0.16414307759601715, 'n_estimators': 114, 'subsample': 0.666811136637299, 'colsample_bytree': 0.9079396177538809, 'lambda': 0.19750742882176625, 'alpha': 0.35260703701897234}. Best is trial 32 with value: 0.9589262821736847.\n",
      "[I 2024-07-13 13:31:38,202] Trial 86 finished with value: 0.9560112072818008 and parameters: {'max_depth': 3, 'learning_rate': 0.1748023540118391, 'n_estimators': 106, 'subsample': 0.8247498697393528, 'colsample_bytree': 0.9821571778925078, 'lambda': 0.7943591894229769, 'alpha': 0.628348783970786}. Best is trial 32 with value: 0.9589262821736847.\n",
      "[I 2024-07-13 13:31:38,499] Trial 87 finished with value: 0.9529783560085908 and parameters: {'max_depth': 5, 'learning_rate': 0.18376494117567657, 'n_estimators': 61, 'subsample': 0.5843001924954052, 'colsample_bytree': 0.8965932491760319, 'lambda': 0.165257808869621, 'alpha': 0.15793273174662642}. Best is trial 32 with value: 0.9589262821736847.\n",
      "[I 2024-07-13 13:31:38,963] Trial 88 finished with value: 0.9531356910330266 and parameters: {'max_depth': 2, 'learning_rate': 0.23407927674545415, 'n_estimators': 200, 'subsample': 0.7812205674024183, 'colsample_bytree': 0.5834612954174451, 'lambda': 0.6730822677479947, 'alpha': 0.4075985590000264}. Best is trial 32 with value: 0.9589262821736847.\n",
      "[I 2024-07-13 13:31:39,498] Trial 89 finished with value: 0.9514842818600304 and parameters: {'max_depth': 5, 'learning_rate': 0.2830226746664362, 'n_estimators': 150, 'subsample': 0.8828791672034269, 'colsample_bytree': 0.7762565485969493, 'lambda': 0.8384409412643412, 'alpha': 0.08484069177650291}. Best is trial 32 with value: 0.9589262821736847.\n",
      "[I 2024-07-13 13:31:40,020] Trial 90 finished with value: 0.9540528098211667 and parameters: {'max_depth': 6, 'learning_rate': 0.1446688203959387, 'n_estimators': 122, 'subsample': 0.9934678547370053, 'colsample_bytree': 0.7390111152873107, 'lambda': 0.0894931155605134, 'alpha': 0.11088720282051732}. Best is trial 32 with value: 0.9589262821736847.\n",
      "[I 2024-07-13 13:31:40,288] Trial 91 finished with value: 0.9530187724030118 and parameters: {'max_depth': 3, 'learning_rate': 0.17351992898366034, 'n_estimators': 100, 'subsample': 0.8269882485472757, 'colsample_bytree': 0.9853686067613967, 'lambda': 0.7209120653833685, 'alpha': 0.6771359565022574}. Best is trial 32 with value: 0.9589262821736847.\n",
      "[I 2024-07-13 13:31:40,659] Trial 92 finished with value: 0.9553743633457327 and parameters: {'max_depth': 3, 'learning_rate': 0.19910631759017197, 'n_estimators': 105, 'subsample': 0.8508513307052472, 'colsample_bytree': 0.9705347906524107, 'lambda': 0.8918013171456072, 'alpha': 0.5452131664219401}. Best is trial 32 with value: 0.9589262821736847.\n",
      "[I 2024-07-13 13:31:41,107] Trial 93 finished with value: 0.9575486867245674 and parameters: {'max_depth': 4, 'learning_rate': 0.17990048333603104, 'n_estimators': 111, 'subsample': 0.8097061742472742, 'colsample_bytree': 0.9901864265400502, 'lambda': 0.04445226078209813, 'alpha': 0.6297781715007698}. Best is trial 32 with value: 0.9589262821736847.\n",
      "[I 2024-07-13 13:31:41,479] Trial 94 finished with value: 0.9557812571226846 and parameters: {'max_depth': 4, 'learning_rate': 0.19229736633753072, 'n_estimators': 117, 'subsample': 0.8119489243567538, 'colsample_bytree': 0.9556991455583539, 'lambda': 0.03891025039938181, 'alpha': 0.590073666224269}. Best is trial 32 with value: 0.9589262821736847.\n",
      "[I 2024-07-13 13:31:41,853] Trial 95 finished with value: 0.9543771679621498 and parameters: {'max_depth': 4, 'learning_rate': 0.21389763590163596, 'n_estimators': 112, 'subsample': 0.8958515312772678, 'colsample_bytree': 0.6123989059377286, 'lambda': 0.13436432136123883, 'alpha': 0.8513940116471135}. Best is trial 32 with value: 0.9589262821736847.\n"
     ]
    },
    {
     "name": "stderr",
     "output_type": "stream",
     "text": [
      "[I 2024-07-13 13:31:42,236] Trial 96 finished with value: 0.9542166371426387 and parameters: {'max_depth': 5, 'learning_rate': 0.15925932559556344, 'n_estimators': 123, 'subsample': 0.8381973952561261, 'colsample_bytree': 0.9973173898826319, 'lambda': 0.04964738185117322, 'alpha': 0.4865103771400683}. Best is trial 32 with value: 0.9589262821736847.\n",
      "[I 2024-07-13 13:31:42,886] Trial 97 finished with value: 0.9524932560979078 and parameters: {'max_depth': 10, 'learning_rate': 0.18210916544629685, 'n_estimators': 131, 'subsample': 0.79602512857032, 'colsample_bytree': 0.9190550211497165, 'lambda': 0.07584107754350577, 'alpha': 0.7074745850746278}. Best is trial 32 with value: 0.9589262821736847.\n",
      "[I 2024-07-13 13:31:43,242] Trial 98 finished with value: 0.953776867540599 and parameters: {'max_depth': 5, 'learning_rate': 0.13488659829551192, 'n_estimators': 99, 'subsample': 0.9561791433896691, 'colsample_bytree': 0.6316597545780844, 'lambda': 0.6157628192662137, 'alpha': 0.6117292777015063}. Best is trial 32 with value: 0.9589262821736847.\n",
      "[I 2024-07-13 13:31:43,605] Trial 99 finished with value: 0.9532923210453708 and parameters: {'max_depth': 4, 'learning_rate': 0.1663576760498324, 'n_estimators': 138, 'subsample': 0.8561627391025451, 'colsample_bytree': 0.6978002744641687, 'lambda': 0.10016081596472029, 'alpha': 0.014971519859347734}. Best is trial 32 with value: 0.9589262821736847.\n"
     ]
    },
    {
     "name": "stdout",
     "output_type": "stream",
     "text": [
      "Best hyperparameters:  {'max_depth': 8, 'learning_rate': 0.11070718181817646, 'n_estimators': 64, 'subsample': 0.9561542767562008, 'colsample_bytree': 0.7267897636590696, 'lambda': 0.15461938822977284, 'alpha': 0.061605538041775584}\n",
      "Best F1 Score:  0.9589262821736847\n",
      "              precision    recall  f1-score   support\n",
      "\n",
      "           0       0.97      0.98      0.97      2866\n",
      "           1       0.88      0.82      0.85       497\n",
      "\n",
      "    accuracy                           0.96      3363\n",
      "   macro avg       0.92      0.90      0.91      3363\n",
      "weighted avg       0.96      0.96      0.96      3363\n",
      "\n"
     ]
    }
   ],
   "source": [
    "import optuna\n",
    "from xgboost import XGBClassifier\n",
    "from sklearn import metrics\n",
    "from sklearn.model_selection import train_test_split\n",
    "\n",
    "# Supposons que train_X, train_y, test_X, test_y soient déjà définis\n",
    "# train_X, train_y = ...\n",
    "# test_X, test_y = ...\n",
    "\n",
    "# Fonction objectif pour Optuna\n",
    "def objective(trial):\n",
    "    param = {\n",
    "        'max_depth': trial.suggest_int('max_depth', 1, 10),\n",
    "        'learning_rate': trial.suggest_float('learning_rate', 0.01, 0.3),\n",
    "        'n_estimators': trial.suggest_int('n_estimators', 50, 200),\n",
    "        'subsample': trial.suggest_float('subsample', 0.5, 1.0),\n",
    "        'colsample_bytree': trial.suggest_float('colsample_bytree', 0.5, 1.0),\n",
    "        'lambda': trial.suggest_float('lambda', 1e-8, 1.0),\n",
    "        'alpha': trial.suggest_float('alpha', 1e-8, 1.0)\n",
    "    }\n",
    "    \n",
    "    model = XGBClassifier(**param)\n",
    "    model.fit(train_X, train_y)\n",
    "    y_pred = model.predict(test_X)\n",
    "    \n",
    "    f1 = metrics.f1_score(test_y, y_pred, average='weighted')\n",
    "    \n",
    "    return f1\n",
    "\n",
    "# Créer une étude et optimiser\n",
    "study = optuna.create_study(direction='maximize')\n",
    "study.optimize(objective, n_trials=100)\n",
    "\n",
    "# Afficher les meilleurs hyperparamètres trouvés\n",
    "print(\"Best hyperparameters: \", study.best_params)\n",
    "print(\"Best F1 Score: \", study.best_value)\n",
    "\n",
    "# Entraîner le modèle final avec les meilleurs hyperparamètres\n",
    "best_params = study.best_params\n",
    "mod3 = XGBClassifier(**best_params)\n",
    "mod3.fit(train_X, train_y)\n",
    "y_pred = mod2.predict(test_X)\n",
    "\n",
    "# Afficher le rapport de classification\n",
    "print(metrics.classification_report(test_y, y_pred))\n"
   ]
  },
  {
   "cell_type": "code",
   "execution_count": null,
   "id": "1a7f2309",
   "metadata": {},
   "outputs": [],
   "source": [
    "d=[[1,12,18,19,10,0.5,-1000000]]\n",
    "dm=[[12,18,19,18,0.75,-10000000000]]\n",
    "mod3.predict(d)"
   ]
  },
  {
   "cell_type": "code",
   "execution_count": null,
   "id": "4d52e71f",
   "metadata": {},
   "outputs": [],
   "source": [
    "A=train6[train6.nbr_credits_octroyes ==0]\n",
    "A=A[A.montant_sollicite==A.montant_credits_accorde]\n",
    "A"
   ]
  },
  {
   "cell_type": "code",
   "execution_count": 69,
   "id": "9aabbee8",
   "metadata": {},
   "outputs": [
    {
     "data": {
      "text/plain": [
       "Index(['Unnamed: 0', 'r', 'profession', 'age', 'sexe', 'anciennete_agence',\n",
       "       'duree_pret_souhaitee', 'nbr_echeances', 'taux_interet',\n",
       "       'secteur_activite', 'ssecteur_activite', 'nbr_mois_cotisation',\n",
       "       'a_dette_encours', 'nbr_credits_octroyes', 'rapport_rembourse',\n",
       "       'rapport_rembour'],\n",
       "      dtype='object')"
      ]
     },
     "execution_count": 69,
     "metadata": {},
     "output_type": "execute_result"
    }
   ],
   "source": [
    "train.columns"
   ]
  },
  {
   "cell_type": "code",
   "execution_count": 96,
   "id": "bd1e33e0",
   "metadata": {},
   "outputs": [],
   "source": [
    "train=pd.read_csv('Base.csv')\n",
    "train=train.drop('Unnamed: 0',axis=1)"
   ]
  },
  {
   "cell_type": "code",
   "execution_count": 97,
   "id": "3ea134cb",
   "metadata": {},
   "outputs": [],
   "source": [
    "\n",
    "#train =train[train['duree_pret_souhaitee']<84]\n",
    "train =train[train['montant_sollicite']<3000000]\n",
    "# Remplace les valeurs nulles dans nbr_credits_octroyes par 1 pour éviter la division par zéro\n",
    "#train['nbr_credits_octroyes'] = train['nbr_credits_octroyes'].replace(0, 1)\n",
    "train['rapport_rembourse'] = train['nbr_credits_rembourses'] /train['nbr_credits_octroyes'].replace(0, 1)\n",
    "#train['rapport_rembour'] = (train['montant_credits_accorde']/train['nbr_credits_octroyes']) - train['montant_sollicite']\n",
    "train['rapport_rembour'] = ((train['montant_credits_accorde']/train['nbr_credits_octroyes'].replace(0, 1)) - train['montant_sollicite'])\n",
    "#train['rapport_rembour'] = (train['montant_sollicite']-((train['montant_credits_accorde']- train['montant_sollicite'])/train['nbr_credits_octroyes'].replace(0, 1))  )/((train['montant_credits_accorde']- train['montant_sollicite'])/train['nbr_credits_octroyes'].replace(0, 1)).replace(0, 1) \n",
    "#train=train.drop('nbr_credits_octroyes',axis=1)\n",
    "train=train.drop('nbr_credits_rembourses',axis=1)\n",
    "train=train.drop('montant_sollicite',axis=1)\n",
    "train=train.drop('montant_credits_accorde',axis=1)\n",
    "#train=train.drop('duree_pret_souhaitee',axis=1)\n",
    "#\n",
    "X=train.drop('a_dette_encours',axis=1)\n",
    "y=train['a_dette_encours']\n",
    "#\n",
    "X=X.drop('anciennete_agence',axis=1)\n",
    "X=X.drop('nbr_echeances',axis=1)\n",
    "X=X.drop('age',axis=1)\n",
    "X=X.drop('r',axis=1)\n",
    "X=X.drop('sexe',axis=1)\n",
    "X=X.drop('profession',axis=1)\n",
    "X=X.drop('secteur_activite',axis=1)\n",
    "#X=X.drop('ssecteur_activite',axis=1)\n",
    "from sklearn.feature_selection import SelectKBest, f_classif\n",
    "#\n",
    "from sklearn.model_selection import train_test_split\n",
    "train_X,test_X,train_y,test_y=train_test_split(X,y,test_size=0.3,random_state=1)"
   ]
  },
  {
   "cell_type": "markdown",
   "id": "f7161c6b",
   "metadata": {},
   "source": [
    "from sklearn.preprocessing import StandardScaler, MinMaxScaler, RobustScaler, MaxAbsScaler\n",
    "# Standardisation des données\n",
    "# Normaliser les données\n",
    "scaler =  RobustScaler()\n",
    "train_X = scaler.fit_transform(train_X)\n",
    "test_X = scaler.fit_transform(test_X)"
   ]
  },
  {
   "cell_type": "code",
   "execution_count": 98,
   "id": "c379e012",
   "metadata": {},
   "outputs": [
    {
     "name": "stdout",
     "output_type": "stream",
     "text": [
      "              precision    recall  f1-score   support\n",
      "\n",
      "           0       0.97      0.98      0.97      2866\n",
      "           1       0.86      0.81      0.84       497\n",
      "\n",
      "    accuracy                           0.95      3363\n",
      "   macro avg       0.91      0.90      0.90      3363\n",
      "weighted avg       0.95      0.95      0.95      3363\n",
      "\n"
     ]
    }
   ],
   "source": [
    "from sklearn import metrics\n",
    "#from sklearn.metrics import classification_report\n",
    "mod2= XGBClassifier()\n",
    "mod2.fit(train_X,train_y)\n",
    "y_pred = mod2.predict(test_X)\n",
    "print(metrics.classification_report(test_y, y_pred))\n",
    "#max_depth=1, learning_rate=0.1, n_estimators=100"
   ]
  },
  {
   "cell_type": "code",
   "execution_count": 99,
   "id": "667928c6",
   "metadata": {},
   "outputs": [
    {
     "name": "stdout",
     "output_type": "stream",
     "text": [
      "              precision    recall  f1-score   support\n",
      "\n",
      "           0       0.97      0.98      0.97      2866\n",
      "           1       0.87      0.81      0.84       497\n",
      "\n",
      "    accuracy                           0.95      3363\n",
      "   macro avg       0.92      0.90      0.91      3363\n",
      "weighted avg       0.95      0.95      0.95      3363\n",
      "\n"
     ]
    }
   ],
   "source": [
    "from xgboost import XGBClassifier\n",
    "from sklearn import metrics\n",
    "\n",
    "# Meilleurs hyperparamètres trouvés par Optuna\n",
    "best_params = {\n",
    "  #'max_depth': 10, 'learning_rate': 0.03919290360202057, 'n_estimators': 136, 'subsample': 0.9745742103932439, 'colsample_bytree': 0.9173310957180093, 'lambda': 0.26097543152754765, 'alpha': 0.5400556413655829} \n",
    " 'max_depth': 8, 'learning_rate': 0.21948883134326383, 'n_estimators': 94, 'subsample': 0.8634912278625186, 'colsample_bytree': 0.6860639669000079, 'lambda': 0.7840423059482575, 'alpha': 0.6026120914048049\n",
    "}\n",
    "   \n",
    "    # Entraîner le modèle final avec les meilleurs hyperparamètres\n",
    "mod3 = XGBClassifier(**best_params)\n",
    "mod3.fit(train_X, train_y)\n",
    "y_pred = mod3.predict(test_X)\n",
    "\n",
    "# Afficher le rapport de classification\n",
    "print(metrics.classification_report(test_y, y_pred))"
   ]
  },
  {
   "cell_type": "code",
   "execution_count": null,
   "id": "24f47f55",
   "metadata": {},
   "outputs": [],
   "source": [
    "dm=[[2000000000000,12,18,19,18,3,0.7,-100]]\n",
    "dm=[[12,18,19,18,18,0.75,-10000000000]]\n",
    "mod3.predict(dm)"
   ]
  },
  {
   "cell_type": "code",
   "execution_count": null,
   "id": "aed8a455",
   "metadata": {},
   "outputs": [],
   "source": [
    "X.columns"
   ]
  },
  {
   "cell_type": "code",
   "execution_count": 100,
   "id": "4288b36f",
   "metadata": {},
   "outputs": [
    {
     "name": "stderr",
     "output_type": "stream",
     "text": [
      "[I 2024-07-13 13:32:34,342] A new study created in memory with name: no-name-d25e0454-4bd2-4cac-8ef3-5548b23985dc\n",
      "[I 2024-07-13 13:32:34,536] Trial 0 finished with value: 0.9483290952415425 and parameters: {'max_depth': 3, 'learning_rate': 0.1084312740098363, 'n_estimators': 66, 'subsample': 0.5312383583766247, 'colsample_bytree': 0.9631924683530338, 'lambda': 0.47745911840540106, 'alpha': 0.22433653811747678}. Best is trial 0 with value: 0.9483290952415425.\n",
      "[I 2024-07-13 13:32:34,716] Trial 1 finished with value: 0.9521415584481449 and parameters: {'max_depth': 5, 'learning_rate': 0.1977210699411489, 'n_estimators': 52, 'subsample': 0.859067925599911, 'colsample_bytree': 0.8200417331268814, 'lambda': 0.09833755383564256, 'alpha': 0.7400306200111051}. Best is trial 1 with value: 0.9521415584481449.\n",
      "[I 2024-07-13 13:32:35,120] Trial 2 finished with value: 0.9550604163245107 and parameters: {'max_depth': 4, 'learning_rate': 0.1646792161409433, 'n_estimators': 146, 'subsample': 0.816870866627585, 'colsample_bytree': 0.9753092101497145, 'lambda': 0.8284314707346677, 'alpha': 0.9102639144155893}. Best is trial 2 with value: 0.9550604163245107.\n",
      "[I 2024-07-13 13:32:35,322] Trial 3 finished with value: 0.9522968685938535 and parameters: {'max_depth': 2, 'learning_rate': 0.1611412874242517, 'n_estimators': 111, 'subsample': 0.7275999827157091, 'colsample_bytree': 0.9160445664706082, 'lambda': 0.42192722288185847, 'alpha': 0.06149404122489472}. Best is trial 2 with value: 0.9550604163245107.\n",
      "[I 2024-07-13 13:32:35,531] Trial 4 finished with value: 0.9319358186140893 and parameters: {'max_depth': 1, 'learning_rate': 0.07799546126648838, 'n_estimators': 149, 'subsample': 0.7549215700650935, 'colsample_bytree': 0.907493390456154, 'lambda': 0.8721852315594263, 'alpha': 0.9041917534891425}. Best is trial 2 with value: 0.9550604163245107.\n",
      "[I 2024-07-13 13:32:35,867] Trial 5 finished with value: 0.9507939851422628 and parameters: {'max_depth': 7, 'learning_rate': 0.20572079391691644, 'n_estimators': 89, 'subsample': 0.8030695952924121, 'colsample_bytree': 0.8714917176044803, 'lambda': 0.3736803214515315, 'alpha': 0.28725515539326374}. Best is trial 2 with value: 0.9550604163245107.\n",
      "[I 2024-07-13 13:32:36,342] Trial 6 finished with value: 0.9473073450968627 and parameters: {'max_depth': 5, 'learning_rate': 0.021809718565197637, 'n_estimators': 179, 'subsample': 0.6109189136248117, 'colsample_bytree': 0.6375949095866285, 'lambda': 0.598987278498597, 'alpha': 0.6244075249056239}. Best is trial 2 with value: 0.9550604163245107.\n",
      "[I 2024-07-13 13:32:36,492] Trial 7 finished with value: 0.9402059157267509 and parameters: {'max_depth': 1, 'learning_rate': 0.2935122740499811, 'n_estimators': 86, 'subsample': 0.500724171525041, 'colsample_bytree': 0.703395169486607, 'lambda': 0.7550929019618912, 'alpha': 0.33386658062844976}. Best is trial 2 with value: 0.9550604163245107.\n",
      "[I 2024-07-13 13:32:37,242] Trial 8 finished with value: 0.9548529094642767 and parameters: {'max_depth': 10, 'learning_rate': 0.07747445250085654, 'n_estimators': 176, 'subsample': 0.7937492146988694, 'colsample_bytree': 0.5256663248037834, 'lambda': 0.3468373574722362, 'alpha': 0.8517690191965687}. Best is trial 2 with value: 0.9550604163245107.\n",
      "[I 2024-07-13 13:32:37,508] Trial 9 finished with value: 0.952461010627947 and parameters: {'max_depth': 3, 'learning_rate': 0.23921042959909966, 'n_estimators': 96, 'subsample': 0.7252718340824245, 'colsample_bytree': 0.9847995204246391, 'lambda': 0.8765182869975718, 'alpha': 0.18502673040129156}. Best is trial 2 with value: 0.9550604163245107.\n",
      "[I 2024-07-13 13:32:38,093] Trial 10 finished with value: 0.9552189814364263 and parameters: {'max_depth': 7, 'learning_rate': 0.13571422489790932, 'n_estimators': 139, 'subsample': 0.9623813643941024, 'colsample_bytree': 0.7513002141618018, 'lambda': 0.6686578984147017, 'alpha': 0.483838584340298}. Best is trial 10 with value: 0.9552189814364263.\n",
      "[I 2024-07-13 13:32:38,731] Trial 11 finished with value: 0.954016806441431 and parameters: {'max_depth': 8, 'learning_rate': 0.15648605054101794, 'n_estimators': 141, 'subsample': 0.9910238885049562, 'colsample_bytree': 0.7718759323868063, 'lambda': 0.7051417252845312, 'alpha': 0.49827516912175895}. Best is trial 10 with value: 0.9552189814364263.\n",
      "[I 2024-07-13 13:32:39,338] Trial 12 finished with value: 0.9559848348756833 and parameters: {'max_depth': 7, 'learning_rate': 0.12123609702571679, 'n_estimators': 144, 'subsample': 0.9954199038303893, 'colsample_bytree': 0.6237826921951312, 'lambda': 0.9829499511108225, 'alpha': 0.4886983425400458}. Best is trial 12 with value: 0.9559848348756833.\n",
      "[I 2024-07-13 13:32:39,845] Trial 13 finished with value: 0.9552189814364263 and parameters: {'max_depth': 7, 'learning_rate': 0.11194500550737131, 'n_estimators': 122, 'subsample': 0.9649120136379057, 'colsample_bytree': 0.6126176972954203, 'lambda': 0.9526741095944993, 'alpha': 0.45477621434033066}. Best is trial 12 with value: 0.9559848348756833.\n",
      "[I 2024-07-13 13:32:40,641] Trial 14 finished with value: 0.944894790637546 and parameters: {'max_depth': 9, 'learning_rate': 0.01177196547376852, 'n_estimators': 168, 'subsample': 0.9179791185606603, 'colsample_bytree': 0.7004638621772691, 'lambda': 0.6177252606760832, 'alpha': 0.6510114107242595}. Best is trial 12 with value: 0.9559848348756833.\n",
      "[I 2024-07-13 13:32:41,294] Trial 15 finished with value: 0.9561013632297121 and parameters: {'max_depth': 7, 'learning_rate': 0.11905341404772735, 'n_estimators': 158, 'subsample': 0.9059017213499538, 'colsample_bytree': 0.5062837697742342, 'lambda': 0.12917740990057874, 'alpha': 0.3896552965416733}. Best is trial 15 with value: 0.9561013632297121.\n",
      "[I 2024-07-13 13:32:42,003] Trial 16 finished with value: 0.9556163528460327 and parameters: {'max_depth': 6, 'learning_rate': 0.06089835686620525, 'n_estimators': 198, 'subsample': 0.8882835636028464, 'colsample_bytree': 0.5013467396524695, 'lambda': 0.004694069103977613, 'alpha': 0.36733020844914677}. Best is trial 15 with value: 0.9561013632297121.\n",
      "[I 2024-07-13 13:32:42,733] Trial 17 finished with value: 0.9542166371426387 and parameters: {'max_depth': 9, 'learning_rate': 0.11710325890560365, 'n_estimators': 161, 'subsample': 0.9203752258032489, 'colsample_bytree': 0.571168989338364, 'lambda': 0.15801446436886854, 'alpha': 0.637904713351679}. Best is trial 15 with value: 0.9561013632297121.\n",
      "[I 2024-07-13 13:32:43,380] Trial 18 finished with value: 0.952739788967543 and parameters: {'max_depth': 6, 'learning_rate': 0.20415258335971165, 'n_estimators': 192, 'subsample': 0.9977944442262128, 'colsample_bytree': 0.5702104322166381, 'lambda': 0.16243054686417313, 'alpha': 0.08127480624672828}. Best is trial 15 with value: 0.9561013632297121.\n",
      "[I 2024-07-13 13:32:43,861] Trial 19 finished with value: 0.9553021306007745 and parameters: {'max_depth': 8, 'learning_rate': 0.05003405036784703, 'n_estimators': 123, 'subsample': 0.6464722409360723, 'colsample_bytree': 0.6493905213806477, 'lambda': 0.27204683904117477, 'alpha': 0.38224474471992015}. Best is trial 15 with value: 0.9561013632297121.\n",
      "[I 2024-07-13 13:32:44,816] Trial 20 finished with value: 0.9511612551360324 and parameters: {'max_depth': 10, 'learning_rate': 0.13120548342179725, 'n_estimators': 159, 'subsample': 0.8630617086700234, 'colsample_bytree': 0.5510144587207658, 'lambda': 0.2744045324074185, 'alpha': 0.5779103487721656}. Best is trial 15 with value: 0.9561013632297121.\n",
      "[I 2024-07-13 13:32:45,420] Trial 21 finished with value: 0.9536172593787694 and parameters: {'max_depth': 6, 'learning_rate': 0.07501338946392136, 'n_estimators': 200, 'subsample': 0.9137864713283217, 'colsample_bytree': 0.5068499002993407, 'lambda': 0.01359120358213467, 'alpha': 0.407138761432584}. Best is trial 15 with value: 0.9561013632297121.\n",
      "[I 2024-07-13 13:32:46,016] Trial 22 finished with value: 0.9560627175385448 and parameters: {'max_depth': 6, 'learning_rate': 0.047162173392959195, 'n_estimators': 185, 'subsample': 0.8736800465550273, 'colsample_bytree': 0.5961025338039116, 'lambda': 0.04540918639338985, 'alpha': 0.2637808750131044}. Best is trial 15 with value: 0.9561013632297121.\n",
      "[I 2024-07-13 13:32:46,718] Trial 23 finished with value: 0.9539358089989985 and parameters: {'max_depth': 8, 'learning_rate': 0.039446446129720675, 'n_estimators': 183, 'subsample': 0.8453349285354907, 'colsample_bytree': 0.6041627704885113, 'lambda': 0.11372733126758616, 'alpha': 0.18572069680347847}. Best is trial 15 with value: 0.9561013632297121.\n"
     ]
    },
    {
     "name": "stderr",
     "output_type": "stream",
     "text": [
      "[I 2024-07-13 13:32:47,171] Trial 24 finished with value: 0.9541763596771615 and parameters: {'max_depth': 5, 'learning_rate': 0.08302471430453257, 'n_estimators': 162, 'subsample': 0.9458547452759746, 'colsample_bytree': 0.6830472290975241, 'lambda': 0.2553386217685669, 'alpha': 0.28850463705868046}. Best is trial 15 with value: 0.9561013632297121.\n",
      "[I 2024-07-13 13:32:47,650] Trial 25 finished with value: 0.9550165738304386 and parameters: {'max_depth': 7, 'learning_rate': 0.10164488740511782, 'n_estimators': 133, 'subsample': 0.9076381424374721, 'colsample_bytree': 0.5929422462042414, 'lambda': 0.5355623986672691, 'alpha': 0.0019171613405561394}. Best is trial 15 with value: 0.9561013632297121.\n",
      "[I 2024-07-13 13:32:48,069] Trial 26 finished with value: 0.9536172593787694 and parameters: {'max_depth': 4, 'learning_rate': 0.18392356424473832, 'n_estimators': 152, 'subsample': 0.9616767983155176, 'colsample_bytree': 0.527290289357713, 'lambda': 0.0852600882650631, 'alpha': 0.5303022709912396}. Best is trial 15 with value: 0.9561013632297121.\n",
      "[I 2024-07-13 13:32:48,908] Trial 27 finished with value: 0.9504102814564452 and parameters: {'max_depth': 9, 'learning_rate': 0.13627905446232885, 'n_estimators': 186, 'subsample': 0.8769865597460118, 'colsample_bytree': 0.6453483270008531, 'lambda': 0.20033018310405232, 'alpha': 0.2339748645680398}. Best is trial 15 with value: 0.9561013632297121.\n",
      "[I 2024-07-13 13:32:49,500] Trial 28 finished with value: 0.9530533146302259 and parameters: {'max_depth': 6, 'learning_rate': 0.03644537805057227, 'n_estimators': 176, 'subsample': 0.7714838607385468, 'colsample_bytree': 0.5505764025455928, 'lambda': 0.9726117132364533, 'alpha': 0.7085905727613204}. Best is trial 15 with value: 0.9561013632297121.\n",
      "[I 2024-07-13 13:32:49,826] Trial 29 finished with value: 0.9530989960122067 and parameters: {'max_depth': 4, 'learning_rate': 0.10215990743504264, 'n_estimators': 111, 'subsample': 0.8317877548416105, 'colsample_bytree': 0.6207485180935608, 'lambda': 0.5237591109954209, 'alpha': 0.2772607257326719}. Best is trial 15 with value: 0.9561013632297121.\n",
      "[I 2024-07-13 13:32:50,562] Trial 30 finished with value: 0.9507753654328458 and parameters: {'max_depth': 8, 'learning_rate': 0.24206854695230878, 'n_estimators': 169, 'subsample': 0.9371123050367018, 'colsample_bytree': 0.6689450690930684, 'lambda': 0.04594580502849955, 'alpha': 0.4292624403475584}. Best is trial 15 with value: 0.9561013632297121.\n",
      "[I 2024-07-13 13:32:51,214] Trial 31 finished with value: 0.9540969867601234 and parameters: {'max_depth': 6, 'learning_rate': 0.0574251308502691, 'n_estimators': 199, 'subsample': 0.8916031016199308, 'colsample_bytree': 0.5134585049898016, 'lambda': 0.013320935608084596, 'alpha': 0.34681374057265846}. Best is trial 15 with value: 0.9561013632297121.\n",
      "[I 2024-07-13 13:32:51,920] Trial 32 finished with value: 0.9546575602457888 and parameters: {'max_depth': 7, 'learning_rate': 0.06154602688695751, 'n_estimators': 186, 'subsample': 0.8724123929214079, 'colsample_bytree': 0.5738905040480655, 'lambda': 0.10764316863289597, 'alpha': 0.5404986681324367}. Best is trial 15 with value: 0.9561013632297121.\n",
      "[I 2024-07-13 13:32:52,540] Trial 33 finished with value: 0.9539362500063394 and parameters: {'max_depth': 5, 'learning_rate': 0.09723124556689905, 'n_estimators': 194, 'subsample': 0.843222249367711, 'colsample_bytree': 0.5057388783014585, 'lambda': 0.20253503706266218, 'alpha': 0.36371268202566515}. Best is trial 15 with value: 0.9561013632297121.\n",
      "[I 2024-07-13 13:32:53,078] Trial 34 finished with value: 0.9487950611331933 and parameters: {'max_depth': 6, 'learning_rate': 0.030214140359217587, 'n_estimators': 154, 'subsample': 0.6779895095196982, 'colsample_bytree': 0.5486837875545859, 'lambda': 0.05699496210930116, 'alpha': 0.12921306286442644}. Best is trial 15 with value: 0.9561013632297121.\n",
      "[I 2024-07-13 13:32:53,388] Trial 35 finished with value: 0.9550202686269764 and parameters: {'max_depth': 7, 'learning_rate': 0.17734605962897562, 'n_estimators': 56, 'subsample': 0.9882266606880339, 'colsample_bytree': 0.5937746456916209, 'lambda': 0.4112143923013535, 'alpha': 0.21662567201593944}. Best is trial 15 with value: 0.9561013632297121.\n",
      "[I 2024-07-13 13:32:53,802] Trial 36 finished with value: 0.9550941939941102 and parameters: {'max_depth': 3, 'learning_rate': 0.12334798638393488, 'n_estimators': 172, 'subsample': 0.8923002702076588, 'colsample_bytree': 0.7841302276816451, 'lambda': 0.32774380463718367, 'alpha': 0.4469676013797511}. Best is trial 15 with value: 0.9561013632297121.\n",
      "[I 2024-07-13 13:32:54,386] Trial 37 finished with value: 0.9541763596771615 and parameters: {'max_depth': 5, 'learning_rate': 0.14966900554491316, 'n_estimators': 190, 'subsample': 0.8165943492360829, 'colsample_bytree': 0.5475047132394344, 'lambda': 0.4414566742526526, 'alpha': 0.31353894988747766}. Best is trial 15 with value: 0.9561013632297121.\n",
      "[I 2024-07-13 13:32:54,820] Trial 38 finished with value: 0.9550941939941102 and parameters: {'max_depth': 4, 'learning_rate': 0.08776126928291111, 'n_estimators': 146, 'subsample': 0.5806722745078576, 'colsample_bytree': 0.8107494430532787, 'lambda': 0.14401429648736594, 'alpha': 0.8203165955608805}. Best is trial 15 with value: 0.9561013632297121.\n",
      "[I 2024-07-13 13:32:55,289] Trial 39 finished with value: 0.9529377349422887 and parameters: {'max_depth': 6, 'learning_rate': 0.06693353688768872, 'n_estimators': 129, 'subsample': 0.7816290023557811, 'colsample_bytree': 0.7357917735888558, 'lambda': 0.0078617813598717, 'alpha': 0.9867766523651962}. Best is trial 15 with value: 0.9561013632297121.\n",
      "[I 2024-07-13 13:32:56,085] Trial 40 finished with value: 0.9529700975384015 and parameters: {'max_depth': 8, 'learning_rate': 0.04399062941829461, 'n_estimators': 169, 'subsample': 0.7332550051855462, 'colsample_bytree': 0.5307048306644592, 'lambda': 0.7679461752938674, 'alpha': 0.2510394300869518}. Best is trial 15 with value: 0.9561013632297121.\n",
      "[I 2024-07-13 13:32:56,719] Trial 41 finished with value: 0.9539764104746309 and parameters: {'max_depth': 8, 'learning_rate': 0.04646244255419523, 'n_estimators': 118, 'subsample': 0.6333131586585764, 'colsample_bytree': 0.6577317643212819, 'lambda': 0.2075073088753303, 'alpha': 0.39730382553228916}. Best is trial 15 with value: 0.9561013632297121.\n",
      "[I 2024-07-13 13:32:57,263] Trial 42 finished with value: 0.9398511459108299 and parameters: {'max_depth': 7, 'learning_rate': 0.014724975207843091, 'n_estimators': 107, 'subsample': 0.7030628083014246, 'colsample_bytree': 0.632733214452171, 'lambda': 0.2619238038375625, 'alpha': 0.3860631626297219}. Best is trial 15 with value: 0.9561013632297121.\n",
      "[I 2024-07-13 13:32:57,902] Trial 43 finished with value: 0.9526992176737962 and parameters: {'max_depth': 7, 'learning_rate': 0.05354514624508326, 'n_estimators': 136, 'subsample': 0.5446172839817736, 'colsample_bytree': 0.7212264437814602, 'lambda': 0.07511381860546473, 'alpha': 0.33137473926966177}. Best is trial 15 with value: 0.9561013632297121.\n",
      "[I 2024-07-13 13:32:58,615] Trial 44 finished with value: 0.955381887408227 and parameters: {'max_depth': 9, 'learning_rate': 0.0692219032457094, 'n_estimators': 142, 'subsample': 0.6410198413654995, 'colsample_bytree': 0.5916452538652449, 'lambda': 0.30952178972929156, 'alpha': 0.5665173741988092}. Best is trial 15 with value: 0.9561013632297121.\n",
      "[I 2024-07-13 13:32:59,425] Trial 45 finished with value: 0.9539764104746309 and parameters: {'max_depth': 10, 'learning_rate': 0.08920320012681908, 'n_estimators': 144, 'subsample': 0.8176812320108635, 'colsample_bytree': 0.5824141088153315, 'lambda': 0.354437569504977, 'alpha': 0.6998219896309092}. Best is trial 15 with value: 0.9561013632297121.\n",
      "[I 2024-07-13 13:33:00,256] Trial 46 finished with value: 0.9527731793759284 and parameters: {'max_depth': 9, 'learning_rate': 0.07071819342522705, 'n_estimators': 156, 'subsample': 0.9463326298425296, 'colsample_bytree': 0.9486946720746118, 'lambda': 0.47963706800867556, 'alpha': 0.5751314361111973}. Best is trial 15 with value: 0.9561013632297121.\n",
      "[I 2024-07-13 13:33:00,784] Trial 47 finished with value: 0.9530589853370295 and parameters: {'max_depth': 5, 'learning_rate': 0.14370914415436856, 'n_estimators': 149, 'subsample': 0.5774860789078964, 'colsample_bytree': 0.6142217516514058, 'lambda': 0.9018788330396045, 'alpha': 0.47513069374600675}. Best is trial 15 with value: 0.9561013632297121.\n"
     ]
    },
    {
     "name": "stderr",
     "output_type": "stream",
     "text": [
      "[I 2024-07-13 13:33:01,675] Trial 48 finished with value: 0.9528146314464359 and parameters: {'max_depth': 9, 'learning_rate': 0.027236744733395594, 'n_estimators': 181, 'subsample': 0.7570151629966377, 'colsample_bytree': 0.8701940954979661, 'lambda': 0.13186351577170774, 'alpha': 0.5319409310316545}. Best is trial 15 with value: 0.9561013632297121.\n",
      "[I 2024-07-13 13:33:02,210] Trial 49 finished with value: 0.9539362500063394 and parameters: {'max_depth': 6, 'learning_rate': 0.1240233772759029, 'n_estimators': 164, 'subsample': 0.9708032911387339, 'colsample_bytree': 0.5601227602170099, 'lambda': 0.3004922829432332, 'alpha': 0.5766080339177571}. Best is trial 15 with value: 0.9561013632297121.\n",
      "[I 2024-07-13 13:33:02,767] Trial 50 finished with value: 0.9520591807750649 and parameters: {'max_depth': 8, 'learning_rate': 0.16672066139643843, 'n_estimators': 132, 'subsample': 0.9329621560063411, 'colsample_bytree': 0.5317473874579998, 'lambda': 0.182103939781846, 'alpha': 0.15939059451057808}. Best is trial 15 with value: 0.9561013632297121.\n",
      "[I 2024-07-13 13:33:03,269] Trial 51 finished with value: 0.9546981053386228 and parameters: {'max_depth': 8, 'learning_rate': 0.05126392635557514, 'n_estimators': 124, 'subsample': 0.6611351831229397, 'colsample_bytree': 0.6853069215445473, 'lambda': 0.2287442606290635, 'alpha': 0.36644121923170037}. Best is trial 15 with value: 0.9561013632297121.\n",
      "[I 2024-07-13 13:33:03,590] Trial 52 finished with value: 0.9559455955162425 and parameters: {'max_depth': 7, 'learning_rate': 0.10739497185019499, 'n_estimators': 76, 'subsample': 0.6596200193815941, 'colsample_bytree': 0.625720576109939, 'lambda': 0.05437029175910665, 'alpha': 0.4205805970740512}. Best is trial 15 with value: 0.9561013632297121.\n",
      "[I 2024-07-13 13:33:04,014] Trial 53 finished with value: 0.9548986608524439 and parameters: {'max_depth': 7, 'learning_rate': 0.11258350150463801, 'n_estimators': 93, 'subsample': 0.6053171084855282, 'colsample_bytree': 0.6239838990198062, 'lambda': 0.03271608833008889, 'alpha': 0.43504312018869706}. Best is trial 15 with value: 0.9561013632297121.\n",
      "[I 2024-07-13 13:33:04,455] Trial 54 finished with value: 0.9537713230374074 and parameters: {'max_depth': 7, 'learning_rate': 0.09318366325333846, 'n_estimators': 68, 'subsample': 0.6814442614363432, 'colsample_bytree': 0.5918809229909847, 'lambda': 0.07278151601679117, 'alpha': 0.4870211828930621}. Best is trial 15 with value: 0.9561013632297121.\n",
      "[I 2024-07-13 13:33:05,010] Trial 55 finished with value: 0.955412720306043 and parameters: {'max_depth': 6, 'learning_rate': 0.1079030651472976, 'n_estimators': 141, 'subsample': 0.6250627347964081, 'colsample_bytree': 0.5180328720042644, 'lambda': 0.10118785936927113, 'alpha': 0.6076683710325477}. Best is trial 15 with value: 0.9561013632297121.\n",
      "[I 2024-07-13 13:33:05,346] Trial 56 finished with value: 0.9511813505057344 and parameters: {'max_depth': 6, 'learning_rate': 0.10844591099633905, 'n_estimators': 72, 'subsample': 0.6143757526146282, 'colsample_bytree': 0.5008308529850999, 'lambda': 0.11161403030882683, 'alpha': 0.29281464749341835}. Best is trial 15 with value: 0.9561013632297121.\n",
      "[I 2024-07-13 13:33:05,753] Trial 57 finished with value: 0.95469702614888 and parameters: {'max_depth': 6, 'learning_rate': 0.1223201621558353, 'n_estimators': 102, 'subsample': 0.8872043762690454, 'colsample_bytree': 0.5256105048528527, 'lambda': 0.8053185326301415, 'alpha': 0.6107411332217814}. Best is trial 15 with value: 0.9561013632297121.\n",
      "[I 2024-07-13 13:33:06,123] Trial 58 finished with value: 0.951470684647986 and parameters: {'max_depth': 5, 'learning_rate': 0.13824012811273823, 'n_estimators': 86, 'subsample': 0.5150149801767345, 'colsample_bytree': 0.5636953757192524, 'lambda': 0.6534879396586672, 'alpha': 0.46559389115564537}. Best is trial 15 with value: 0.9561013632297121.\n",
      "[I 2024-07-13 13:33:06,422] Trial 59 finished with value: 0.9506248244999803 and parameters: {'max_depth': 2, 'learning_rate': 0.1602778852470604, 'n_estimators': 116, 'subsample': 0.7055531795149524, 'colsample_bytree': 0.5411908945164694, 'lambda': 0.16306502742458973, 'alpha': 0.7780252948684009}. Best is trial 15 with value: 0.9561013632297121.\n",
      "[I 2024-07-13 13:33:06,849] Trial 60 finished with value: 0.9522135439489381 and parameters: {'max_depth': 7, 'learning_rate': 0.07613038329517657, 'n_estimators': 79, 'subsample': 0.9787603980091855, 'colsample_bytree': 0.5169519550350594, 'lambda': 0.041739803045182954, 'alpha': 0.6764026761966355}. Best is trial 15 with value: 0.9561013632297121.\n",
      "[I 2024-07-13 13:33:07,399] Trial 61 finished with value: 0.9553358121426817 and parameters: {'max_depth': 6, 'learning_rate': 0.10364730652266174, 'n_estimators': 139, 'subsample': 0.6407134938513577, 'colsample_bytree': 0.6037577801895111, 'lambda': 0.0016038607559613685, 'alpha': 0.5027262426501107}. Best is trial 15 with value: 0.9561013632297121.\n",
      "[I 2024-07-13 13:33:07,673] Trial 62 finished with value: 0.9456693345943576 and parameters: {'max_depth': 5, 'learning_rate': 0.06481102824435897, 'n_estimators': 50, 'subsample': 0.5974200898067228, 'colsample_bytree': 0.585229195323051, 'lambda': 0.09523814086509932, 'alpha': 0.4213380889251359}. Best is trial 15 with value: 0.9561013632297121.\n",
      "[I 2024-07-13 13:33:08,306] Trial 63 finished with value: 0.9541763596771615 and parameters: {'max_depth': 7, 'learning_rate': 0.08038249644678902, 'n_estimators': 142, 'subsample': 0.5653753778192626, 'colsample_bytree': 0.5001824666987735, 'lambda': 0.12732239068780105, 'alpha': 0.6007162158639412}. Best is trial 15 with value: 0.9561013632297121.\n",
      "[I 2024-07-13 13:33:09,087] Trial 64 finished with value: 0.9508816021315837 and parameters: {'max_depth': 10, 'learning_rate': 0.12847737131124928, 'n_estimators': 151, 'subsample': 0.6282905068374753, 'colsample_bytree': 0.6683166669275458, 'lambda': 0.06581496624957678, 'alpha': 0.5131951113646923}. Best is trial 15 with value: 0.9561013632297121.\n",
      "[I 2024-07-13 13:33:09,742] Trial 65 finished with value: 0.9548190498118148 and parameters: {'max_depth': 6, 'learning_rate': 0.11078489656104919, 'n_estimators': 157, 'subsample': 0.6529162709326564, 'colsample_bytree': 0.6386136223095364, 'lambda': 0.5780140383841724, 'alpha': 0.342019945543659}. Best is trial 15 with value: 0.9561013632297121.\n",
      "[I 2024-07-13 13:33:10,358] Trial 66 finished with value: 0.9544976805022646 and parameters: {'max_depth': 8, 'learning_rate': 0.09455431789798327, 'n_estimators': 128, 'subsample': 0.9050237368248454, 'colsample_bytree': 0.5648998282641806, 'lambda': 0.23594023936619174, 'alpha': 0.5537648418412754}. Best is trial 15 with value: 0.9561013632297121.\n",
      "[I 2024-07-13 13:33:11,224] Trial 67 finished with value: 0.9515272238486195 and parameters: {'max_depth': 9, 'learning_rate': 0.03647363878692196, 'n_estimators': 174, 'subsample': 0.678058351799506, 'colsample_bytree': 0.5379611128998116, 'lambda': 0.03573261222824625, 'alpha': 0.6448999705789217}. Best is trial 15 with value: 0.9561013632297121.\n",
      "[I 2024-07-13 13:33:12,001] Trial 68 finished with value: 0.9495747645897443 and parameters: {'max_depth': 7, 'learning_rate': 0.263170462363855, 'n_estimators': 197, 'subsample': 0.8473874515074007, 'colsample_bytree': 0.6081849801158274, 'lambda': 0.39322423298782117, 'alpha': 0.26238649061400826}. Best is trial 15 with value: 0.9561013632297121.\n",
      "[I 2024-07-13 13:33:12,623] Trial 69 finished with value: 0.955500012041078 and parameters: {'max_depth': 5, 'learning_rate': 0.0835404649293297, 'n_estimators': 187, 'subsample': 0.8687725476644735, 'colsample_bytree': 0.5758128125701183, 'lambda': 0.16721234133637242, 'alpha': 0.30402290649240626}. Best is trial 15 with value: 0.9561013632297121.\n",
      "[I 2024-07-13 13:33:13,245] Trial 70 finished with value: 0.955488856088018 and parameters: {'max_depth': 5, 'learning_rate': 0.11825267035986242, 'n_estimators': 189, 'subsample': 0.8713046025528977, 'colsample_bytree': 0.517751046716207, 'lambda': 0.1532676663998186, 'alpha': 0.31078410702331305}. Best is trial 15 with value: 0.9561013632297121.\n",
      "[I 2024-07-13 13:33:13,841] Trial 71 finished with value: 0.9558586844776885 and parameters: {'max_depth': 5, 'learning_rate': 0.1490727751617038, 'n_estimators': 190, 'subsample': 0.863772557845566, 'colsample_bytree': 0.5181114039786818, 'lambda': 0.1029558410487166, 'alpha': 0.2164715807516863}. Best is trial 15 with value: 0.9561013632297121.\n"
     ]
    },
    {
     "name": "stderr",
     "output_type": "stream",
     "text": [
      "[I 2024-07-13 13:33:14,323] Trial 72 finished with value: 0.9537748686510434 and parameters: {'max_depth': 4, 'learning_rate': 0.14830061215663545, 'n_estimators': 188, 'subsample': 0.8620697232278343, 'colsample_bytree': 0.5564688393299719, 'lambda': 0.17319337315742586, 'alpha': 0.22419432078948842}. Best is trial 15 with value: 0.9561013632297121.\n",
      "[I 2024-07-13 13:33:14,860] Trial 73 finished with value: 0.9539362500063394 and parameters: {'max_depth': 4, 'learning_rate': 0.11971932221034337, 'n_estimators': 179, 'subsample': 0.8788590633004496, 'colsample_bytree': 0.5756644118732566, 'lambda': 0.13598659060362694, 'alpha': 0.3046714056393564}. Best is trial 15 with value: 0.9561013632297121.\n",
      "[I 2024-07-13 13:33:15,472] Trial 74 finished with value: 0.9526992176737962 and parameters: {'max_depth': 5, 'learning_rate': 0.17110166323567103, 'n_estimators': 193, 'subsample': 0.9227731402960083, 'colsample_bytree': 0.538118206742382, 'lambda': 0.08002179186194058, 'alpha': 0.1202140602425448}. Best is trial 15 with value: 0.9561013632297121.\n",
      "[I 2024-07-13 13:33:16,067] Trial 75 finished with value: 0.9540969867601234 and parameters: {'max_depth': 5, 'learning_rate': 0.13477871351617593, 'n_estimators': 184, 'subsample': 0.8227074566393384, 'colsample_bytree': 0.514941516050228, 'lambda': 0.042573671506095034, 'alpha': 0.1973693630802406}. Best is trial 15 with value: 0.9561013632297121.\n",
      "[I 2024-07-13 13:33:16,644] Trial 76 finished with value: 0.9542549347551943 and parameters: {'max_depth': 5, 'learning_rate': 0.11641439251346099, 'n_estimators': 196, 'subsample': 0.8001497481601979, 'colsample_bytree': 0.5188905910794077, 'lambda': 0.15151190866672434, 'alpha': 0.24549172228680702}. Best is trial 15 with value: 0.9561013632297121.\n",
      "[I 2024-07-13 13:33:17,156] Trial 77 finished with value: 0.9562916821542674 and parameters: {'max_depth': 4, 'learning_rate': 0.0861320957565263, 'n_estimators': 190, 'subsample': 0.9033493326624157, 'colsample_bytree': 0.6277780694438245, 'lambda': 0.021698909181779108, 'alpha': 0.3677480311612501}. Best is trial 77 with value: 0.9562916821542674.\n",
      "[I 2024-07-13 13:33:17,610] Trial 78 finished with value: 0.9537748686510434 and parameters: {'max_depth': 4, 'learning_rate': 0.084321130089501, 'n_estimators': 178, 'subsample': 0.8960374311606107, 'colsample_bytree': 0.6284596789144887, 'lambda': 0.9984640816099701, 'alpha': 0.40278050152382494}. Best is trial 77 with value: 0.9562916821542674.\n",
      "[I 2024-07-13 13:33:17,963] Trial 79 finished with value: 0.9530989960122067 and parameters: {'max_depth': 3, 'learning_rate': 0.1908406208867871, 'n_estimators': 165, 'subsample': 0.9514337262153488, 'colsample_bytree': 0.7055282837482744, 'lambda': 0.020026102829530962, 'alpha': 0.33150279392161636}. Best is trial 77 with value: 0.9562916821542674.\n",
      "[I 2024-07-13 13:33:18,325] Trial 80 finished with value: 0.9486578527171058 and parameters: {'max_depth': 2, 'learning_rate': 0.05874826185649483, 'n_estimators': 200, 'subsample': 0.8473188079160334, 'colsample_bytree': 0.6558743961672606, 'lambda': 0.7176264760668599, 'alpha': 0.27350137250859835}. Best is trial 77 with value: 0.9562916821542674.\n",
      "[I 2024-07-13 13:33:19,415] Trial 81 finished with value: 0.9560488588824415 and parameters: {'max_depth': 5, 'learning_rate': 0.10375070661818991, 'n_estimators': 190, 'subsample': 0.8700052248409957, 'colsample_bytree': 0.5474358743082898, 'lambda': 0.06486012478586577, 'alpha': 0.3692778206417972}. Best is trial 77 with value: 0.9562916821542674.\n",
      "[I 2024-07-13 13:33:20,022] Trial 82 finished with value: 0.9559353314427798 and parameters: {'max_depth': 6, 'learning_rate': 0.09840944395100557, 'n_estimators': 191, 'subsample': 0.9259506139265908, 'colsample_bytree': 0.5747747579462015, 'lambda': 0.06953624206476074, 'alpha': 0.3681695444322273}. Best is trial 77 with value: 0.9562916821542674.\n",
      "[I 2024-07-13 13:33:20,695] Trial 83 finished with value: 0.9576233314264168 and parameters: {'max_depth': 6, 'learning_rate': 0.09812740813355567, 'n_estimators': 192, 'subsample': 0.9083962170894814, 'colsample_bytree': 0.5992008470689387, 'lambda': 0.058261708055920625, 'alpha': 0.3810017927475036}. Best is trial 83 with value: 0.9576233314264168.\n",
      "[I 2024-07-13 13:33:21,336] Trial 84 finished with value: 0.9541763596771615 and parameters: {'max_depth': 6, 'learning_rate': 0.10181392851777511, 'n_estimators': 192, 'subsample': 0.9246580844081236, 'colsample_bytree': 0.6004939966221818, 'lambda': 0.06383408513146253, 'alpha': 0.37772331700288475}. Best is trial 83 with value: 0.9576233314264168.\n",
      "[I 2024-07-13 13:33:22,023] Trial 85 finished with value: 0.9547362928425834 and parameters: {'max_depth': 7, 'learning_rate': 0.0969691010065432, 'n_estimators': 182, 'subsample': 0.9040711230031507, 'colsample_bytree': 0.6190897376982514, 'lambda': 0.09457598999362277, 'alpha': 0.4113719502885691}. Best is trial 83 with value: 0.9576233314264168.\n",
      "[I 2024-07-13 13:33:22,300] Trial 86 finished with value: 0.9543771679621498 and parameters: {'max_depth': 6, 'learning_rate': 0.12858506425979288, 'n_estimators': 57, 'subsample': 0.9360522889959185, 'colsample_bytree': 0.5583041018124135, 'lambda': 0.04501538010243089, 'alpha': 0.3641746209117876}. Best is trial 83 with value: 0.9576233314264168.\n",
      "[I 2024-07-13 13:33:22,959] Trial 87 finished with value: 0.9519340420851556 and parameters: {'max_depth': 6, 'learning_rate': 0.1456124722180218, 'n_estimators': 194, 'subsample': 0.9528838731751302, 'colsample_bytree': 0.586724532552452, 'lambda': 0.11862620884406207, 'alpha': 0.4434464446489895}. Best is trial 83 with value: 0.9576233314264168.\n",
      "[I 2024-07-13 13:33:23,402] Trial 88 finished with value: 0.9529783560085908 and parameters: {'max_depth': 3, 'learning_rate': 0.09040617247357832, 'n_estimators': 175, 'subsample': 0.9101745254825527, 'colsample_bytree': 0.6724481494368822, 'lambda': 0.01758521290722688, 'alpha': 0.35081586334511106}. Best is trial 83 with value: 0.9576233314264168.\n",
      "[I 2024-07-13 13:33:23,894] Trial 89 finished with value: 0.9527801561108095 and parameters: {'max_depth': 4, 'learning_rate': 0.1415083111597994, 'n_estimators': 184, 'subsample': 0.8331223617137472, 'colsample_bytree': 0.6507695154797097, 'lambda': 0.07211598632980774, 'alpha': 0.1650977050494554}. Best is trial 83 with value: 0.9576233314264168.\n",
      "[I 2024-07-13 13:33:24,677] Trial 90 finished with value: 0.953695958475176 and parameters: {'max_depth': 7, 'learning_rate': 0.1033775115593187, 'n_estimators': 196, 'subsample': 0.8547470244737777, 'colsample_bytree': 0.6386258848367607, 'lambda': 0.9025875119222668, 'alpha': 0.4571148460461205}. Best is trial 83 with value: 0.9576233314264168.\n",
      "[I 2024-07-13 13:33:25,400] Trial 91 finished with value: 0.9561780692268017 and parameters: {'max_depth': 6, 'learning_rate': 0.07624871193200314, 'n_estimators': 191, 'subsample': 0.8825495367368311, 'colsample_bytree': 0.5325322809678402, 'lambda': 0.01145069462345883, 'alpha': 0.3824321447426016}. Best is trial 83 with value: 0.9576233314264168.\n",
      "[I 2024-07-13 13:33:26,078] Trial 92 finished with value: 0.956984488221387 and parameters: {'max_depth': 6, 'learning_rate': 0.1540444940707946, 'n_estimators': 191, 'subsample': 0.8918431514883038, 'colsample_bytree': 0.5463642112757919, 'lambda': 0.004782461032927114, 'alpha': 0.39674636926116136}. Best is trial 83 with value: 0.9576233314264168.\n",
      "[I 2024-07-13 13:33:26,699] Trial 93 finished with value: 0.9545344805257374 and parameters: {'max_depth': 6, 'learning_rate': 0.07289909244184584, 'n_estimators': 173, 'subsample': 0.8819368164432616, 'colsample_bytree': 0.5486481914521949, 'lambda': 0.003150441401218368, 'alpha': 0.38203743049841377}. Best is trial 83 with value: 0.9576233314264168.\n",
      "[I 2024-07-13 13:33:27,336] Trial 94 finished with value: 0.954135140537458 and parameters: {'max_depth': 6, 'learning_rate': 0.09517147335365322, 'n_estimators': 185, 'subsample': 0.9985007969412587, 'colsample_bytree': 0.612337109234101, 'lambda': 0.05437237669936583, 'alpha': 0.4258283672188895}. Best is trial 83 with value: 0.9576233314264168.\n",
      "[I 2024-07-13 13:33:28,024] Trial 95 finished with value: 0.9547753615114472 and parameters: {'max_depth': 7, 'learning_rate': 0.07811767707656772, 'n_estimators': 179, 'subsample': 0.9644126622113945, 'colsample_bytree': 0.5704798004224033, 'lambda': 0.031072291713467336, 'alpha': 0.3940179557334383}. Best is trial 83 with value: 0.9576233314264168.\n"
     ]
    },
    {
     "name": "stderr",
     "output_type": "stream",
     "text": [
      "[I 2024-07-13 13:33:28,717] Trial 96 finished with value: 0.9553358121426817 and parameters: {'max_depth': 6, 'learning_rate': 0.11319337349399414, 'n_estimators': 200, 'subsample': 0.9007376199586766, 'colsample_bytree': 0.542088876204572, 'lambda': 0.001187479666143864, 'alpha': 0.32738266520716336}. Best is trial 83 with value: 0.9576233314264168.\n",
      "[I 2024-07-13 13:33:29,430] Trial 97 finished with value: 0.9546119537138908 and parameters: {'max_depth': 7, 'learning_rate': 0.08813220044772516, 'n_estimators': 190, 'subsample': 0.9185879115296685, 'colsample_bytree': 0.5968998317379054, 'lambda': 0.0868997408115127, 'alpha': 0.47825384203049287}. Best is trial 83 with value: 0.9576233314264168.\n",
      "[I 2024-07-13 13:33:30,029] Trial 98 finished with value: 0.9554508841733592 and parameters: {'max_depth': 6, 'learning_rate': 0.10749715696884513, 'n_estimators': 170, 'subsample': 0.929873162627007, 'colsample_bytree': 0.5828881906112647, 'lambda': 0.024748857734596563, 'alpha': 0.3576306197227446}. Best is trial 83 with value: 0.9576233314264168.\n",
      "[I 2024-07-13 13:33:30,761] Trial 99 finished with value: 0.9544976805022646 and parameters: {'max_depth': 7, 'learning_rate': 0.12906190999573153, 'n_estimators': 181, 'subsample': 0.9795135354965046, 'colsample_bytree': 0.5309627174494976, 'lambda': 0.055697627944830796, 'alpha': 0.4121399465338567}. Best is trial 83 with value: 0.9576233314264168.\n"
     ]
    },
    {
     "name": "stdout",
     "output_type": "stream",
     "text": [
      "Best hyperparameters:  {'max_depth': 6, 'learning_rate': 0.09812740813355567, 'n_estimators': 192, 'subsample': 0.9083962170894814, 'colsample_bytree': 0.5992008470689387, 'lambda': 0.058261708055920625, 'alpha': 0.3810017927475036}\n",
      "Best F1 Score:  0.9576233314264168\n",
      "              precision    recall  f1-score   support\n",
      "\n",
      "           0       0.97      0.98      0.98      2866\n",
      "           1       0.88      0.83      0.85       497\n",
      "\n",
      "    accuracy                           0.96      3363\n",
      "   macro avg       0.92      0.91      0.91      3363\n",
      "weighted avg       0.96      0.96      0.96      3363\n",
      "\n"
     ]
    }
   ],
   "source": [
    "import optuna\n",
    "from xgboost import XGBClassifier\n",
    "from sklearn import metrics\n",
    "from sklearn.model_selection import train_test_split\n",
    "\n",
    "# Supposons que train_X, train_y, test_X, test_y soient déjà définis\n",
    "# train_X, train_y = ...\n",
    "# test_X, test_y = ...\n",
    "\n",
    "# Fonction objectif pour Optuna\n",
    "def objective(trial):\n",
    "    param = {\n",
    "        'max_depth': trial.suggest_int('max_depth', 1, 10),\n",
    "        'learning_rate': trial.suggest_float('learning_rate', 0.01, 0.3),\n",
    "        'n_estimators': trial.suggest_int('n_estimators', 50, 200),\n",
    "        'subsample': trial.suggest_float('subsample', 0.5, 1.0),\n",
    "        'colsample_bytree': trial.suggest_float('colsample_bytree', 0.5, 1.0),\n",
    "        'lambda': trial.suggest_float('lambda', 1e-8, 1.0),\n",
    "        'alpha': trial.suggest_float('alpha', 1e-8, 1.0)\n",
    "    }\n",
    "    \n",
    "    model = XGBClassifier(**param)\n",
    "    model.fit(train_X, train_y)\n",
    "    y_pred = model.predict(test_X)\n",
    "    \n",
    "    f1 = metrics.f1_score(test_y, y_pred, average='weighted')\n",
    "    \n",
    "    return f1\n",
    "\n",
    "# Créer une étude et optimiser\n",
    "study = optuna.create_study(direction='maximize')\n",
    "study.optimize(objective, n_trials=100)\n",
    "\n",
    "# Afficher les meilleurs hyperparamètres trouvés\n",
    "print(\"Best hyperparameters: \", study.best_params)\n",
    "print(\"Best F1 Score: \", study.best_value)\n",
    "\n",
    "# Entraîner le modèle final avec les meilleurs hyperparamètres\n",
    "best_params = study.best_params\n",
    "mod2 = XGBClassifier(**best_params)\n",
    "mod2.fit(train_X, train_y)\n",
    "y_pred = mod2.predict(test_X)\n",
    "\n",
    "# Afficher le rapport de classification\n",
    "print(metrics.classification_report(test_y, y_pred))\n"
   ]
  },
  {
   "cell_type": "code",
   "execution_count": null,
   "id": "1245bc00",
   "metadata": {},
   "outputs": [],
   "source": [
    "X.columns"
   ]
  },
  {
   "cell_type": "code",
   "execution_count": null,
   "id": "b2ba727a",
   "metadata": {},
   "outputs": [],
   "source": [
    "result=test_X.copy()\n",
    "result['test_y']=test_y\n",
    "result['y_pred']=y_pred\n",
    "result['proba']=mod3.predict_proba(test_X)[:,1]\n",
    "mo=result[result['test_y'] != result['y_pred']]\n",
    "#mo=mo[mo['proba']<0.7 ]\n",
    "#mo=mo[mo['proba']>0.3 ]\n",
    "mo.head(1000)"
   ]
  },
  {
   "cell_type": "code",
   "execution_count": null,
   "id": "9ce32fcc",
   "metadata": {},
   "outputs": [],
   "source": [
    "train.shape"
   ]
  },
  {
   "cell_type": "code",
   "execution_count": null,
   "id": "8758e96e",
   "metadata": {},
   "outputs": [],
   "source": [
    "import pickle\n",
    "\n",
    "file = './App_Model1.pkl'\n",
    "with open(file, 'wb') as f:\n",
    "    pickle.dump(mod3, f)"
   ]
  },
  {
   "cell_type": "code",
   "execution_count": null,
   "id": "4b8274c6",
   "metadata": {},
   "outputs": [],
   "source": [
    "train5.columns"
   ]
  },
  {
   "cell_type": "code",
   "execution_count": null,
   "id": "07a3c795",
   "metadata": {},
   "outputs": [],
   "source": [
    "train=train5"
   ]
  },
  {
   "cell_type": "markdown",
   "id": "198f6a52",
   "metadata": {},
   "source": [
    "#train =train[train['duree_pret_souhaitee']<84]\n",
    "#train =train[train['montant_sollicite']<1000000]\n",
    "# Remplace les valeurs nulles dans nbr_credits_octroyes par 1 pour éviter la division par zéro\n",
    "train['premier_ou_non'] =train['nbr_credits_octroyes'].apply(lambda x:0 if x== 0 else 1)\n",
    "train['nbr_credits_octroyes'] = train['nbr_credits_octroyes'].replace(0, 1)\n",
    "train['rapport_rembourse'] = train['nbr_credits_rembourses'] /train['nbr_credits_octroyes']\n",
    "train['rapport_rembour'] = (train['montant_credits_accorde']/train['nbr_credits_octroyes']) - train['montant_sollicite']\n",
    "train=train.drop('nbr_credits_octroyes',axis=1)\n",
    "train=train.drop('nbr_credits_rembourses',axis=1)\n",
    "train=train.drop('montant_sollicite',axis=1)\n",
    "train=train.drop('montant_credits_accorde',axis=1)"
   ]
  },
  {
   "cell_type": "code",
   "execution_count": 101,
   "id": "f86fb893",
   "metadata": {},
   "outputs": [],
   "source": [
    "train=pd.read_csv('Base.csv')\n",
    "train=train.drop('Unnamed: 0',axis=1)"
   ]
  },
  {
   "cell_type": "code",
   "execution_count": 102,
   "id": "80d0f094",
   "metadata": {},
   "outputs": [],
   "source": [
    "train3=train"
   ]
  },
  {
   "cell_type": "code",
   "execution_count": 103,
   "id": "bccad2a1",
   "metadata": {},
   "outputs": [],
   "source": [
    "train2quan=train3.select_dtypes(exclude=[\"object\"])"
   ]
  },
  {
   "cell_type": "code",
   "execution_count": 104,
   "id": "70e62a17",
   "metadata": {},
   "outputs": [
    {
     "name": "stderr",
     "output_type": "stream",
     "text": [
      "C:\\Users\\HOME\\anaconda3\\lib\\site-packages\\sklearn\\base.py:450: UserWarning: X does not have valid feature names, but IsolationForest was fitted with feature names\n",
      "  warnings.warn(\n"
     ]
    },
    {
     "name": "stdout",
     "output_type": "stream",
     "text": [
      "Outliers détectés:\n",
      "       r  profession  age  sexe  anciennete_agence  montant_sollicite  \\\n",
      "4      2           0   13     1           8.196027          1500000.0   \n",
      "5      2           0   56     1           8.196027          2000000.0   \n",
      "7      2          14   83     1           8.196027           200000.0   \n",
      "9      2           0   13     1           8.196027          1500000.0   \n",
      "21     2          14   60     1           8.196027         10000000.0   \n",
      "...   ..         ...  ...   ...                ...                ...   \n",
      "12102  2           0   57     1           8.196027          2000000.0   \n",
      "12125  0           3   44     1           8.196027          4950000.0   \n",
      "12127  3           9   54     1           5.000000           300000.0   \n",
      "12140  2           9   66     1           8.196027           190000.0   \n",
      "12174  2           0   47     1           8.196027          5000000.0   \n",
      "\n",
      "       duree_pret_souhaitee  nbr_echeances  taux_interet  secteur_activite  \\\n",
      "4                      12.0             12          24.0                17   \n",
      "5                      12.0              4          24.0                17   \n",
      "7                      12.0             12          24.0                17   \n",
      "9                      12.0              4          24.0                17   \n",
      "21                     60.0             60           7.2                11   \n",
      "...                     ...            ...           ...               ...   \n",
      "12102                  12.0              4          19.0                 9   \n",
      "12125                  12.0              4          19.0                 9   \n",
      "12127                  10.0             10           9.0                10   \n",
      "12140                  10.0             10           9.0                10   \n",
      "12174                  12.0             12          19.0                 3   \n",
      "\n",
      "       ssecteur_activite  nbr_mois_cotisation  a_dette_encours  \\\n",
      "4                      6                 64.0                0   \n",
      "5                      6                 30.0                0   \n",
      "7                      6                 17.0                0   \n",
      "9                      6                 21.0                0   \n",
      "21                    34                 59.0                0   \n",
      "...                  ...                  ...              ...   \n",
      "12102                 19                  0.0                1   \n",
      "12125                 19                  0.0                1   \n",
      "12127                 23                  0.0                1   \n",
      "12140                 23                  0.0                1   \n",
      "12174                 21                  0.0                1   \n",
      "\n",
      "       nbr_credits_octroyes  nbr_credits_rembourses  montant_credits_accorde  \\\n",
      "4                         1                       1                1500000.0   \n",
      "5                         1                       0                2000000.0   \n",
      "7                         0                       0                 200000.0   \n",
      "9                         3                       3                2300000.0   \n",
      "21                        0                       0               10000000.0   \n",
      "...                     ...                     ...                      ...   \n",
      "12102                    17                      16               54000000.0   \n",
      "12125                    16                      15               69950000.0   \n",
      "12127                     5                       4                1192454.0   \n",
      "12140                    18                      16                7155000.0   \n",
      "12174                     8                       7               26000000.0   \n",
      "\n",
      "       Outlier  \n",
      "4           -1  \n",
      "5           -1  \n",
      "7           -1  \n",
      "9           -1  \n",
      "21          -1  \n",
      "...        ...  \n",
      "12102       -1  \n",
      "12125       -1  \n",
      "12127       -1  \n",
      "12140       -1  \n",
      "12174       -1  \n",
      "\n",
      "[1219 rows x 17 columns]\n"
     ]
    }
   ],
   "source": [
    "from sklearn.ensemble import IsolationForest\n",
    "#trainquan=trainquan.drop('date_dernier_remboursement',axis=1)\n",
    "#trainquan=trainquan.drop('date_fin_remboursement',axis=1)\n",
    "# Appliquer l'Isolation Forest\n",
    "iso_forest = IsolationForest(contamination=0.1, random_state=42)\n",
    "outlier_labels = iso_forest.fit_predict(train2quan)\n",
    "\n",
    "# Ajouter les labels d'anomalie au DataFrame\n",
    "train2quan['Outlier'] = outlier_labels\n",
    "\n",
    "# Afficher les outliers\n",
    "outliers = train2quan[train2quan['Outlier'] == -1]\n",
    "print(\"Outliers détectés:\")\n",
    "print(outliers)"
   ]
  },
  {
   "cell_type": "code",
   "execution_count": 105,
   "id": "f1edda2b",
   "metadata": {},
   "outputs": [],
   "source": [
    "\n",
    "train3=train3[train2quan.Outlier != -1]\n"
   ]
  },
  {
   "cell_type": "code",
   "execution_count": 106,
   "id": "ae448e73",
   "metadata": {},
   "outputs": [],
   "source": [
    "train=train3\n",
    "#train =train[train['duree_pret_souhaitee']<84]\n",
    "#train =train[train['montant_sollicite']<4000000]\n",
    "# Remplace les valeurs nulles dans nbr_credits_octroyes par 1 pour éviter la division par zéro\n",
    "#train['nbr_credits_octroyes'] = train['nbr_credits_octroyes'].replace(0, 1)\n",
    "train['rapport_rembourse'] = train['nbr_credits_rembourses'] /train['nbr_credits_octroyes'].replace(0, 1)\n",
    "train['rapport_rembour'] = (train['montant_credits_accorde']/train['nbr_credits_octroyes'].replace(0, 1)) - train['montant_sollicite']\n",
    "#train=train.drop('nbr_credits_octroyes',axis=1)\n",
    "train=train.drop('nbr_credits_rembourses',axis=1)\n",
    "#train=train.drop('montant_sollicite',axis=1)\n",
    "train=train.drop('montant_credits_accorde',axis=1)\n",
    "#\n",
    "X=train.drop('a_dette_encours',axis=1)\n",
    "y=train['a_dette_encours']\n",
    "#\n",
    "X=X.drop('anciennete_agence',axis=1)\n",
    "X=X.drop('nbr_echeances',axis=1)\n",
    "X=X.drop('age',axis=1)\n",
    "X=X.drop('r',axis=1)\n",
    "X=X.drop('sexe',axis=1)\n",
    "X=X.drop('profession',axis=1)\n",
    "X=X.drop('secteur_activite',axis=1)\n",
    "#X=X.drop('ssecteur_activite',axis=1)\n",
    "from sklearn.feature_selection import SelectKBest, f_classif\n",
    "#\n",
    "from sklearn.model_selection import train_test_split\n",
    "train_X,test_X,train_y,test_y=train_test_split(X,y,test_size=0.3,random_state=1)"
   ]
  },
  {
   "cell_type": "code",
   "execution_count": 107,
   "id": "ed9ac2ea",
   "metadata": {},
   "outputs": [
    {
     "name": "stdout",
     "output_type": "stream",
     "text": [
      "              precision    recall  f1-score   support\n",
      "\n",
      "           0       0.97      0.98      0.97      2782\n",
      "           1       0.86      0.84      0.85       508\n",
      "\n",
      "    accuracy                           0.95      3290\n",
      "   macro avg       0.92      0.91      0.91      3290\n",
      "weighted avg       0.95      0.95      0.95      3290\n",
      "\n"
     ]
    }
   ],
   "source": [
    "from sklearn import metrics\n",
    "#from sklearn.metrics import classification_report\n",
    "mod4= XGBClassifier()\n",
    "mod4.fit(train_X,train_y)\n",
    "y_pred = mod4.predict(test_X)\n",
    "print(metrics.classification_report(test_y, y_pred))\n",
    "#max_depth=1, learning_rate=0.1, n_estimators=100"
   ]
  },
  {
   "cell_type": "code",
   "execution_count": 108,
   "id": "77087319",
   "metadata": {},
   "outputs": [
    {
     "name": "stderr",
     "output_type": "stream",
     "text": [
      "[I 2024-07-13 13:34:06,243] A new study created in memory with name: no-name-99f772f9-9023-4c0e-8870-d90db6714191\n",
      "[I 2024-07-13 13:34:06,529] Trial 0 finished with value: 0.9462107701133717 and parameters: {'max_depth': 2, 'learning_rate': 0.05184908828836398, 'n_estimators': 171, 'subsample': 0.9366335987623312, 'colsample_bytree': 0.7250526449875498, 'lambda': 0.18885922428146545, 'alpha': 0.6867951603138511}. Best is trial 0 with value: 0.9462107701133717.\n",
      "[I 2024-07-13 13:34:06,780] Trial 1 finished with value: 0.9528448390717108 and parameters: {'max_depth': 2, 'learning_rate': 0.20145865489954068, 'n_estimators': 166, 'subsample': 0.8320747947650495, 'colsample_bytree': 0.5177304735144446, 'lambda': 0.23483805493713344, 'alpha': 0.39072920726108723}. Best is trial 1 with value: 0.9528448390717108.\n",
      "[I 2024-07-13 13:34:06,937] Trial 2 finished with value: 0.9520712175833403 and parameters: {'max_depth': 3, 'learning_rate': 0.2153275426110931, 'n_estimators': 72, 'subsample': 0.7664219300238215, 'colsample_bytree': 0.9539787797961121, 'lambda': 0.8152912545833859, 'alpha': 0.107313561662415}. Best is trial 1 with value: 0.9528448390717108.\n",
      "[I 2024-07-13 13:34:07,260] Trial 3 finished with value: 0.9538753891817058 and parameters: {'max_depth': 7, 'learning_rate': 0.13248661867284525, 'n_estimators': 83, 'subsample': 0.7427488758628279, 'colsample_bytree': 0.7221710623282135, 'lambda': 0.7384308726347405, 'alpha': 0.9958984539663538}. Best is trial 3 with value: 0.9538753891817058.\n",
      "[I 2024-07-13 13:34:07,542] Trial 4 finished with value: 0.9520655574201449 and parameters: {'max_depth': 3, 'learning_rate': 0.19376607542940397, 'n_estimators': 132, 'subsample': 0.5723493706126216, 'colsample_bytree': 0.7683807544125081, 'lambda': 0.47874305092539127, 'alpha': 0.16888235038898727}. Best is trial 3 with value: 0.9538753891817058.\n",
      "[I 2024-07-13 13:34:08,093] Trial 5 finished with value: 0.9522735033912665 and parameters: {'max_depth': 10, 'learning_rate': 0.03480818044768264, 'n_estimators': 109, 'subsample': 0.9899338241135451, 'colsample_bytree': 0.8000833122959377, 'lambda': 0.662454299228292, 'alpha': 0.6736143786970413}. Best is trial 3 with value: 0.9538753891817058.\n",
      "[I 2024-07-13 13:34:08,692] Trial 6 finished with value: 0.9495814636986866 and parameters: {'max_depth': 5, 'learning_rate': 0.28672980149210436, 'n_estimators': 188, 'subsample': 0.810089302456431, 'colsample_bytree': 0.9399495063058696, 'lambda': 0.24673974060677817, 'alpha': 0.5049388297814291}. Best is trial 3 with value: 0.9538753891817058.\n",
      "[I 2024-07-13 13:34:09,101] Trial 7 finished with value: 0.9510029977040404 and parameters: {'max_depth': 4, 'learning_rate': 0.05767954008608606, 'n_estimators': 153, 'subsample': 0.8632514941322396, 'colsample_bytree': 0.8129511825134791, 'lambda': 0.5377005661315538, 'alpha': 0.44335108051691646}. Best is trial 3 with value: 0.9538753891817058.\n",
      "[I 2024-07-13 13:34:09,313] Trial 8 finished with value: 0.9512525946038256 and parameters: {'max_depth': 3, 'learning_rate': 0.13880553161086143, 'n_estimators': 101, 'subsample': 0.675871711878713, 'colsample_bytree': 0.904674134408125, 'lambda': 0.004683079756984023, 'alpha': 0.24418983016342172}. Best is trial 3 with value: 0.9538753891817058.\n",
      "[I 2024-07-13 13:34:09,496] Trial 9 finished with value: 0.9471738525216941 and parameters: {'max_depth': 1, 'learning_rate': 0.24667810268049234, 'n_estimators': 138, 'subsample': 0.9449027206894745, 'colsample_bytree': 0.9786533874790204, 'lambda': 0.28054616307209734, 'alpha': 0.647470670267193}. Best is trial 3 with value: 0.9538753891817058.\n",
      "[I 2024-07-13 13:34:09,844] Trial 10 finished with value: 0.9542938322069033 and parameters: {'max_depth': 8, 'learning_rate': 0.11580075565206652, 'n_estimators': 68, 'subsample': 0.6641221037899738, 'colsample_bytree': 0.6080142511867914, 'lambda': 0.9988308390400314, 'alpha': 0.9641958159620059}. Best is trial 10 with value: 0.9542938322069033.\n",
      "[I 2024-07-13 13:34:10,195] Trial 11 finished with value: 0.9528515017010931 and parameters: {'max_depth': 8, 'learning_rate': 0.11052695004093036, 'n_estimators': 62, 'subsample': 0.6630569012518578, 'colsample_bytree': 0.6060293257062489, 'lambda': 0.9973840507237894, 'alpha': 0.9885363911088682}. Best is trial 10 with value: 0.9542938322069033.\n",
      "[I 2024-07-13 13:34:10,590] Trial 12 finished with value: 0.953508260728428 and parameters: {'max_depth': 7, 'learning_rate': 0.10840389081330411, 'n_estimators': 84, 'subsample': 0.6705050575333671, 'colsample_bytree': 0.640405838691482, 'lambda': 0.988762121111155, 'alpha': 0.997394063329006}. Best is trial 10 with value: 0.9542938322069033.\n",
      "[I 2024-07-13 13:34:10,913] Trial 13 finished with value: 0.9531398871927373 and parameters: {'max_depth': 7, 'learning_rate': 0.14435820479918382, 'n_estimators': 57, 'subsample': 0.501604045446212, 'colsample_bytree': 0.6682657884267055, 'lambda': 0.8037287895858184, 'alpha': 0.8797478050539009}. Best is trial 10 with value: 0.9542938322069033.\n",
      "[I 2024-07-13 13:34:11,409] Trial 14 finished with value: 0.9543335401029712 and parameters: {'max_depth': 9, 'learning_rate': 0.0936541197387337, 'n_estimators': 90, 'subsample': 0.7325548216524215, 'colsample_bytree': 0.5495163015134911, 'lambda': 0.8094184363484372, 'alpha': 0.8130977682279359}. Best is trial 14 with value: 0.9543335401029712.\n",
      "[I 2024-07-13 13:34:11,978] Trial 15 finished with value: 0.9514932618700986 and parameters: {'max_depth': 10, 'learning_rate': 0.08657199284983441, 'n_estimators': 111, 'subsample': 0.6092563562325712, 'colsample_bytree': 0.5117962363756343, 'lambda': 0.9018970663676018, 'alpha': 0.7939002618708154}. Best is trial 14 with value: 0.9543335401029712.\n",
      "[I 2024-07-13 13:34:12,275] Trial 16 finished with value: 0.8942481460765663 and parameters: {'max_depth': 9, 'learning_rate': 0.016069322867099778, 'n_estimators': 50, 'subsample': 0.7289251771596148, 'colsample_bytree': 0.5691474097254092, 'lambda': 0.6100858351392762, 'alpha': 0.829878841494023}. Best is trial 14 with value: 0.9543335401029712.\n",
      "[I 2024-07-13 13:34:12,755] Trial 17 finished with value: 0.9526856891527847 and parameters: {'max_depth': 8, 'learning_rate': 0.1699754282968391, 'n_estimators': 90, 'subsample': 0.5912764568118734, 'colsample_bytree': 0.574522490265026, 'lambda': 0.8671760434830773, 'alpha': 0.5841360602991139}. Best is trial 14 with value: 0.9543335401029712.\n",
      "[I 2024-07-13 13:34:13,050] Trial 18 finished with value: 0.9506141426444432 and parameters: {'max_depth': 6, 'learning_rate': 0.07118590459539186, 'n_estimators': 72, 'subsample': 0.7024657813966666, 'colsample_bytree': 0.6658751351080924, 'lambda': 0.39574995706518645, 'alpha': 0.7683254598940414}. Best is trial 14 with value: 0.9543335401029712.\n",
      "[I 2024-07-13 13:34:13,643] Trial 19 finished with value: 0.9532204274542144 and parameters: {'max_depth': 9, 'learning_rate': 0.10027674437645664, 'n_estimators': 119, 'subsample': 0.5258650690372417, 'colsample_bytree': 0.5565430841375493, 'lambda': 0.6897037988153745, 'alpha': 0.8763415315861425}. Best is trial 14 with value: 0.9543335401029712.\n",
      "[I 2024-07-13 13:34:14,156] Trial 20 finished with value: 0.9522766914762009 and parameters: {'max_depth': 9, 'learning_rate': 0.1698752742017622, 'n_estimators': 97, 'subsample': 0.6227349037717789, 'colsample_bytree': 0.6132321346914101, 'lambda': 0.9303716957518285, 'alpha': 0.911870066665024}. Best is trial 14 with value: 0.9543335401029712.\n",
      "[I 2024-07-13 13:34:14,540] Trial 21 finished with value: 0.9538359481456063 and parameters: {'max_depth': 7, 'learning_rate': 0.1237595283439785, 'n_estimators': 79, 'subsample': 0.7617508871961599, 'colsample_bytree': 0.7137768284033125, 'lambda': 0.7296195428717042, 'alpha': 0.9868186303579097}. Best is trial 14 with value: 0.9543335401029712.\n",
      "[I 2024-07-13 13:34:14,883] Trial 22 finished with value: 0.950702093290578 and parameters: {'max_depth': 6, 'learning_rate': 0.08000376953066729, 'n_estimators': 69, 'subsample': 0.7876208083135452, 'colsample_bytree': 0.6831264000264753, 'lambda': 0.7632819665514005, 'alpha': 0.745605254888922}. Best is trial 14 with value: 0.9543335401029712.\n",
      "[I 2024-07-13 13:34:15,347] Trial 23 finished with value: 0.9537052942464006 and parameters: {'max_depth': 8, 'learning_rate': 0.13016845754955914, 'n_estimators': 88, 'subsample': 0.7242150790953509, 'colsample_bytree': 0.8563565678391907, 'lambda': 0.869048219804717, 'alpha': 0.8827540135322587}. Best is trial 14 with value: 0.9543335401029712.\n"
     ]
    },
    {
     "name": "stderr",
     "output_type": "stream",
     "text": [
      "[I 2024-07-13 13:34:15,759] Trial 24 finished with value: 0.9524388993165853 and parameters: {'max_depth': 5, 'learning_rate': 0.16560698094118598, 'n_estimators': 99, 'subsample': 0.8718134183376764, 'colsample_bytree': 0.6035892830867269, 'lambda': 0.5859672528481286, 'alpha': 0.9416469355639505}. Best is trial 14 with value: 0.9543335401029712.\n",
      "[I 2024-07-13 13:34:16,132] Trial 25 finished with value: 0.9526820553314079 and parameters: {'max_depth': 8, 'learning_rate': 0.09370695002446189, 'n_estimators': 60, 'subsample': 0.6580156501833865, 'colsample_bytree': 0.5402645547399947, 'lambda': 0.8013689871463929, 'alpha': 0.8170499056438537}. Best is trial 14 with value: 0.9543335401029712.\n",
      "[I 2024-07-13 13:34:16,581] Trial 26 finished with value: 0.9540050200814348 and parameters: {'max_depth': 10, 'learning_rate': 0.1547167726817973, 'n_estimators': 80, 'subsample': 0.7085307768959357, 'colsample_bytree': 0.7196579036664034, 'lambda': 0.935197748112108, 'alpha': 0.5742662534082033}. Best is trial 14 with value: 0.9543335401029712.\n",
      "[I 2024-07-13 13:34:17,170] Trial 27 finished with value: 0.9534960246647274 and parameters: {'max_depth': 9, 'learning_rate': 0.14816961117029404, 'n_estimators': 121, 'subsample': 0.5559662413116427, 'colsample_bytree': 0.632077544590394, 'lambda': 0.944376886428782, 'alpha': 0.5618152320312046}. Best is trial 14 with value: 0.9543335401029712.\n",
      "[I 2024-07-13 13:34:17,531] Trial 28 finished with value: 0.952030404748974 and parameters: {'max_depth': 10, 'learning_rate': 0.22753905678678288, 'n_estimators': 51, 'subsample': 0.6354736197476314, 'colsample_bytree': 0.7657219039358988, 'lambda': 0.8674337302479037, 'alpha': 0.3186761526478609}. Best is trial 14 with value: 0.9543335401029712.\n",
      "[I 2024-07-13 13:34:17,952] Trial 29 finished with value: 0.9542178470740934 and parameters: {'max_depth': 10, 'learning_rate': 0.06036342586349333, 'n_estimators': 76, 'subsample': 0.7167515201809912, 'colsample_bytree': 0.7075547601685295, 'lambda': 0.9567898670067679, 'alpha': 0.0072930405258946895}. Best is trial 14 with value: 0.9543335401029712.\n",
      "[I 2024-07-13 13:34:18,366] Trial 30 finished with value: 0.9478710562454384 and parameters: {'max_depth': 9, 'learning_rate': 0.03337376442484316, 'n_estimators': 68, 'subsample': 0.6934918595937585, 'colsample_bytree': 0.6905606360901047, 'lambda': 0.9954467174083912, 'alpha': 0.03185854789734371}. Best is trial 14 with value: 0.9543335401029712.\n",
      "[I 2024-07-13 13:34:18,881] Trial 31 finished with value: 0.9539246624147264 and parameters: {'max_depth': 10, 'learning_rate': 0.06070815174318446, 'n_estimators': 93, 'subsample': 0.7137854955192227, 'colsample_bytree': 0.7406358697988433, 'lambda': 0.9267021594693995, 'alpha': 0.704556380060636}. Best is trial 14 with value: 0.9543335401029712.\n",
      "[I 2024-07-13 13:34:19,337] Trial 32 finished with value: 0.9542138118240654 and parameters: {'max_depth': 10, 'learning_rate': 0.10978958185208185, 'n_estimators': 79, 'subsample': 0.7873537696201468, 'colsample_bytree': 0.5011266098442011, 'lambda': 0.9342149352531062, 'alpha': 0.42152532428983713}. Best is trial 14 with value: 0.9543335401029712.\n",
      "[I 2024-07-13 13:34:19,765] Trial 33 finished with value: 0.9481765514096314 and parameters: {'max_depth': 9, 'learning_rate': 0.04313174224675664, 'n_estimators': 75, 'subsample': 0.8440901565271893, 'colsample_bytree': 0.5011998355787509, 'lambda': 0.851350996143067, 'alpha': 0.35491734940436137}. Best is trial 14 with value: 0.9543335401029712.\n",
      "[I 2024-07-13 13:34:20,338] Trial 34 finished with value: 0.9530175427252779 and parameters: {'max_depth': 10, 'learning_rate': 0.1154381464086994, 'n_estimators': 105, 'subsample': 0.7856683074005852, 'colsample_bytree': 0.5359709852256545, 'lambda': 0.7964360834231994, 'alpha': 0.001351012472411226}. Best is trial 14 with value: 0.9543335401029712.\n",
      "[I 2024-07-13 13:34:20,694] Trial 35 finished with value: 0.953304659866521 and parameters: {'max_depth': 8, 'learning_rate': 0.06966032124686865, 'n_estimators': 65, 'subsample': 0.7523725266208184, 'colsample_bytree': 0.5918958277377636, 'lambda': 0.9991480696534999, 'alpha': 0.15902979746748178}. Best is trial 14 with value: 0.9543335401029712.\n",
      "[I 2024-07-13 13:34:21,116] Trial 36 finished with value: 0.9540845701754844 and parameters: {'max_depth': 9, 'learning_rate': 0.09015576445620459, 'n_estimators': 86, 'subsample': 0.8109900967860573, 'colsample_bytree': 0.5318038730209433, 'lambda': 0.42739295086226564, 'alpha': 0.264354860809297}. Best is trial 14 with value: 0.9543335401029712.\n",
      "[I 2024-07-13 13:34:21,670] Trial 37 finished with value: 0.9495378423314688 and parameters: {'max_depth': 10, 'learning_rate': 0.02508267263293945, 'n_estimators': 112, 'subsample': 0.8916889605419456, 'colsample_bytree': 0.6425101740880955, 'lambda': 0.6823224575807472, 'alpha': 0.42782437922435057}. Best is trial 14 with value: 0.9543335401029712.\n",
      "[I 2024-07-13 13:34:22,228] Trial 38 finished with value: 0.9546224023622211 and parameters: {'max_depth': 8, 'learning_rate': 0.05322489650867526, 'n_estimators': 148, 'subsample': 0.7772034341051974, 'colsample_bytree': 0.5703430987450187, 'lambda': 0.8325227850878589, 'alpha': 0.6189338223366727}. Best is trial 38 with value: 0.9546224023622211.\n",
      "[I 2024-07-13 13:34:22,760] Trial 39 finished with value: 0.9526453995598847 and parameters: {'max_depth': 6, 'learning_rate': 0.05106645479025277, 'n_estimators': 170, 'subsample': 0.7400055669013028, 'colsample_bytree': 0.5872373998747306, 'lambda': 0.6215856251175598, 'alpha': 0.6400628240222133}. Best is trial 38 with value: 0.9546224023622211.\n",
      "[I 2024-07-13 13:34:23,329] Trial 40 finished with value: 0.9560839182532375 and parameters: {'max_depth': 7, 'learning_rate': 0.07172342136484713, 'n_estimators': 157, 'subsample': 0.6360208201243935, 'colsample_bytree': 0.794244278594447, 'lambda': 0.8297962842796511, 'alpha': 0.7228915436729114}. Best is trial 40 with value: 0.9560839182532375.\n",
      "[I 2024-07-13 13:34:23,892] Trial 41 finished with value: 0.9539925293470722 and parameters: {'max_depth': 7, 'learning_rate': 0.07034100886763037, 'n_estimators': 157, 'subsample': 0.6439641714477089, 'colsample_bytree': 0.7971679946332793, 'lambda': 0.7441855797481693, 'alpha': 0.7112091982794697}. Best is trial 40 with value: 0.9560839182532375.\n",
      "[I 2024-07-13 13:34:24,506] Trial 42 finished with value: 0.9544123572445381 and parameters: {'max_depth': 8, 'learning_rate': 0.047364820646178016, 'n_estimators': 141, 'subsample': 0.6811121807709221, 'colsample_bytree': 0.7979618359422986, 'lambda': 0.8230074309792713, 'alpha': 0.6146982046851828}. Best is trial 40 with value: 0.9560839182532375.\n",
      "[I 2024-07-13 13:34:25,134] Trial 43 finished with value: 0.9531802587916878 and parameters: {'max_depth': 8, 'learning_rate': 0.038770596471403504, 'n_estimators': 145, 'subsample': 0.6868271369717529, 'colsample_bytree': 0.8460690381295571, 'lambda': 0.8371522783071811, 'alpha': 0.5158033071121547}. Best is trial 40 with value: 0.9560839182532375.\n",
      "[I 2024-07-13 13:34:25,821] Trial 44 finished with value: 0.9523922634947154 and parameters: {'max_depth': 7, 'learning_rate': 0.01752954540119154, 'n_estimators': 182, 'subsample': 0.5894002349378242, 'colsample_bytree': 0.8379501191772368, 'lambda': 0.08375873080563428, 'alpha': 0.6554108740700937}. Best is trial 40 with value: 0.9560839182532375.\n",
      "[I 2024-07-13 13:34:26,388] Trial 45 finished with value: 0.9539536786313142 and parameters: {'max_depth': 8, 'learning_rate': 0.048727831381230345, 'n_estimators': 130, 'subsample': 0.6558669449303982, 'colsample_bytree': 0.8822250793777869, 'lambda': 0.7663025498819551, 'alpha': 0.6154575229813759}. Best is trial 40 with value: 0.9560839182532375.\n",
      "[I 2024-07-13 13:34:26,942] Trial 46 finished with value: 0.9552570206274273 and parameters: {'max_depth': 6, 'learning_rate': 0.08008992892695303, 'n_estimators': 159, 'subsample': 0.6100315034471864, 'colsample_bytree': 0.7996581204753946, 'lambda': 0.5446893670540462, 'alpha': 0.7626187393195495}. Best is trial 40 with value: 0.9560839182532375.\n",
      "[I 2024-07-13 13:34:27,447] Trial 47 finished with value: 0.9533790964050332 and parameters: {'max_depth': 5, 'learning_rate': 0.07928805424108888, 'n_estimators': 158, 'subsample': 0.5459773254917332, 'colsample_bytree': 0.7956674987589537, 'lambda': 0.31222594976938794, 'alpha': 0.7336792126368461}. Best is trial 40 with value: 0.9560839182532375.\n"
     ]
    },
    {
     "name": "stderr",
     "output_type": "stream",
     "text": [
      "[I 2024-07-13 13:34:27,862] Trial 48 finished with value: 0.9534013208225861 and parameters: {'max_depth': 4, 'learning_rate': 0.2859803153509595, 'n_estimators': 141, 'subsample': 0.6120633425389855, 'colsample_bytree': 0.8205679288886158, 'lambda': 0.5573539733351931, 'alpha': 0.5242478900960983}. Best is trial 40 with value: 0.9560839182532375.\n",
      "[I 2024-07-13 13:34:28,511] Trial 49 finished with value: 0.9510771115892811 and parameters: {'max_depth': 6, 'learning_rate': 0.030670454741727485, 'n_estimators': 180, 'subsample': 0.5976128214301359, 'colsample_bytree': 0.7770037285258503, 'lambda': 0.7064436494044533, 'alpha': 0.6777546588488776}. Best is trial 40 with value: 0.9560839182532375.\n",
      "[I 2024-07-13 13:34:29,175] Trial 50 finished with value: 0.9555448189783317 and parameters: {'max_depth': 7, 'learning_rate': 0.09830868609567825, 'n_estimators': 164, 'subsample': 0.56695442910766, 'colsample_bytree': 0.9047443328610159, 'lambda': 0.8909552180916346, 'alpha': 0.838574496075216}. Best is trial 40 with value: 0.9560839182532375.\n",
      "[I 2024-07-13 13:34:29,844] Trial 51 finished with value: 0.9524388993165853 and parameters: {'max_depth': 7, 'learning_rate': 0.09986719441982994, 'n_estimators': 164, 'subsample': 0.5603888696596043, 'colsample_bytree': 0.9245031791862441, 'lambda': 0.8946886013635923, 'alpha': 0.7800527097148346}. Best is trial 40 with value: 0.9560839182532375.\n",
      "[I 2024-07-13 13:34:30,373] Trial 52 finished with value: 0.9546059622891111 and parameters: {'max_depth': 6, 'learning_rate': 0.0598045303401478, 'n_estimators': 146, 'subsample': 0.5268943339269642, 'colsample_bytree': 0.9914888281072496, 'lambda': 0.5146536069318176, 'alpha': 0.832838462004359}. Best is trial 40 with value: 0.9560839182532375.\n",
      "[I 2024-07-13 13:34:30,906] Trial 53 finished with value: 0.9546059622891111 and parameters: {'max_depth': 6, 'learning_rate': 0.05865864492411966, 'n_estimators': 149, 'subsample': 0.524919192644238, 'colsample_bytree': 0.8988115147029911, 'lambda': 0.5087978322114908, 'alpha': 0.8529248485231555}. Best is trial 40 with value: 0.9560839182532375.\n",
      "[I 2024-07-13 13:34:31,432] Trial 54 finished with value: 0.9474222692145668 and parameters: {'max_depth': 6, 'learning_rate': 0.010412173462638702, 'n_estimators': 149, 'subsample': 0.5067539493445187, 'colsample_bytree': 0.986374319630404, 'lambda': 0.5031103787369049, 'alpha': 0.8624507651441038}. Best is trial 40 with value: 0.9560839182532375.\n",
      "[I 2024-07-13 13:34:32,057] Trial 55 finished with value: 0.9539925293470722 and parameters: {'max_depth': 5, 'learning_rate': 0.06419085858671605, 'n_estimators': 197, 'subsample': 0.530724336117163, 'colsample_bytree': 0.9590115849067873, 'lambda': 0.43129006879719234, 'alpha': 0.8360783780240832}. Best is trial 40 with value: 0.9560839182532375.\n",
      "[I 2024-07-13 13:34:32,505] Trial 56 finished with value: 0.9556560832279428 and parameters: {'max_depth': 4, 'learning_rate': 0.07923023576393548, 'n_estimators': 162, 'subsample': 0.5728996873833576, 'colsample_bytree': 0.8957463480728824, 'lambda': 0.348962344590562, 'alpha': 0.9302902800496604}. Best is trial 40 with value: 0.9560839182532375.\n",
      "[I 2024-07-13 13:34:32,965] Trial 57 finished with value: 0.9551815805344792 and parameters: {'max_depth': 4, 'learning_rate': 0.10323242967955683, 'n_estimators': 166, 'subsample': 0.5820890805644351, 'colsample_bytree': 0.8696309122983883, 'lambda': 0.32570203026739486, 'alpha': 0.9261075888191699}. Best is trial 40 with value: 0.9560839182532375.\n",
      "[I 2024-07-13 13:34:33,458] Trial 58 finished with value: 0.9533397276797317 and parameters: {'max_depth': 4, 'learning_rate': 0.07900098225689892, 'n_estimators': 175, 'subsample': 0.574593676407529, 'colsample_bytree': 0.8648730361404071, 'lambda': 0.32003671963550284, 'alpha': 0.9261714361556542}. Best is trial 40 with value: 0.9560839182532375.\n",
      "[I 2024-07-13 13:34:33,800] Trial 59 finished with value: 0.9516609068500873 and parameters: {'max_depth': 2, 'learning_rate': 0.12412415576737339, 'n_estimators': 164, 'subsample': 0.5739394746490973, 'colsample_bytree': 0.9076063023840151, 'lambda': 0.15442997955424376, 'alpha': 0.8998830281246863}. Best is trial 40 with value: 0.9560839182532375.\n",
      "[I 2024-07-13 13:34:34,251] Trial 60 finished with value: 0.9540696484464716 and parameters: {'max_depth': 4, 'learning_rate': 0.10105490446985822, 'n_estimators': 158, 'subsample': 0.625948682628466, 'colsample_bytree': 0.9429900170530756, 'lambda': 0.3571015783843027, 'alpha': 0.9526737783386511}. Best is trial 40 with value: 0.9560839182532375.\n",
      "[I 2024-07-13 13:34:34,668] Trial 61 finished with value: 0.9533790964050332 and parameters: {'max_depth': 4, 'learning_rate': 0.0830811970099678, 'n_estimators': 135, 'subsample': 0.5463157708383007, 'colsample_bytree': 0.965504829687105, 'lambda': 0.20346822154377914, 'alpha': 0.7732569395201495}. Best is trial 40 with value: 0.9560839182532375.\n",
      "[I 2024-07-13 13:34:35,079] Trial 62 finished with value: 0.9529729361130976 and parameters: {'max_depth': 3, 'learning_rate': 0.07145777685651035, 'n_estimators': 169, 'subsample': 0.5831195800009893, 'colsample_bytree': 0.998141986676084, 'lambda': 0.38115649447720035, 'alpha': 0.7426340043771841}. Best is trial 40 with value: 0.9560839182532375.\n",
      "[I 2024-07-13 13:34:35,499] Trial 63 finished with value: 0.9515795154735174 and parameters: {'max_depth': 3, 'learning_rate': 0.08956155430669696, 'n_estimators': 153, 'subsample': 0.6010404364465373, 'colsample_bytree': 0.873828325782931, 'lambda': 0.4341971558233537, 'alpha': 0.8186788147490155}. Best is trial 40 with value: 0.9560839182532375.\n",
      "[I 2024-07-13 13:34:36,166] Trial 64 finished with value: 0.9555448189783317 and parameters: {'max_depth': 7, 'learning_rate': 0.13746144374125047, 'n_estimators': 174, 'subsample': 0.5124955415175865, 'colsample_bytree': 0.8291032780938836, 'lambda': 0.2549317338890197, 'alpha': 0.8938882575024315}. Best is trial 40 with value: 0.9560839182532375.\n",
      "[I 2024-07-13 13:34:36,830] Trial 65 finished with value: 0.9519061283628378 and parameters: {'max_depth': 7, 'learning_rate': 0.1368402985106609, 'n_estimators': 176, 'subsample': 0.5109916745540616, 'colsample_bytree': 0.82660174836451, 'lambda': 0.24508355080710065, 'alpha': 0.9052990344084627}. Best is trial 40 with value: 0.9560839182532375.\n",
      "[I 2024-07-13 13:34:37,475] Trial 66 finished with value: 0.9540696484464716 and parameters: {'max_depth': 7, 'learning_rate': 0.12284408264640578, 'n_estimators': 189, 'subsample': 0.563789820976993, 'colsample_bytree': 0.7419278643639853, 'lambda': 0.2687002532904595, 'alpha': 0.9715548962272775}. Best is trial 40 with value: 0.9560839182532375.\n",
      "[I 2024-07-13 13:34:37,954] Trial 67 finished with value: 0.9535876689743643 and parameters: {'max_depth': 5, 'learning_rate': 0.18574387110138363, 'n_estimators': 164, 'subsample': 0.5429571841497276, 'colsample_bytree': 0.8928677727497448, 'lambda': 0.14851946473913297, 'alpha': 0.935502801524895}. Best is trial 40 with value: 0.9560839182532375.\n",
      "[I 2024-07-13 13:34:38,296] Trial 68 finished with value: 0.9506308541653744 and parameters: {'max_depth': 2, 'learning_rate': 0.10476523971934235, 'n_estimators': 189, 'subsample': 0.6035890424754805, 'colsample_bytree': 0.9237263733902331, 'lambda': 0.33388288463065213, 'alpha': 0.7983075928572557}. Best is trial 40 with value: 0.9560839182532375.\n",
      "[I 2024-07-13 13:34:38,879] Trial 69 finished with value: 0.9532204274542144 and parameters: {'max_depth': 7, 'learning_rate': 0.11634153816206874, 'n_estimators': 161, 'subsample': 0.6358536400004686, 'colsample_bytree': 0.7788597011117196, 'lambda': 0.28147371518290243, 'alpha': 0.8790156836484422}. Best is trial 40 with value: 0.9560839182532375.\n",
      "[I 2024-07-13 13:34:39,378] Trial 70 finished with value: 0.9541079190770339 and parameters: {'max_depth': 5, 'learning_rate': 0.1443809825599367, 'n_estimators': 175, 'subsample': 0.6233176218598365, 'colsample_bytree': 0.8511033758880906, 'lambda': 0.18458889253435934, 'alpha': 0.721374904134233}. Best is trial 40 with value: 0.9560839182532375.\n",
      "[I 2024-07-13 13:34:39,867] Trial 71 finished with value: 0.9558328281731893 and parameters: {'max_depth': 6, 'learning_rate': 0.0757956425508843, 'n_estimators': 152, 'subsample': 0.5232148252933169, 'colsample_bytree': 0.8131717541604107, 'lambda': 0.4805221091993068, 'alpha': 0.8463613490143413}. Best is trial 40 with value: 0.9560839182532375.\n"
     ]
    },
    {
     "name": "stderr",
     "output_type": "stream",
     "text": [
      "[I 2024-07-13 13:34:40,435] Trial 72 finished with value: 0.9536662825600282 and parameters: {'max_depth': 6, 'learning_rate': 0.09479063171500289, 'n_estimators': 152, 'subsample': 0.5161763974044995, 'colsample_bytree': 0.8331895163360381, 'lambda': 0.45907892448974486, 'alpha': 0.8640674751552133}. Best is trial 40 with value: 0.9560839182532375.\n",
      "[I 2024-07-13 13:34:41,124] Trial 73 finished with value: 0.9542024018356312 and parameters: {'max_depth': 7, 'learning_rate': 0.07752591249195907, 'n_estimators': 169, 'subsample': 0.5390795225017249, 'colsample_bytree': 0.8085344113047037, 'lambda': 0.3931654780994495, 'alpha': 0.9090888213337187}. Best is trial 40 with value: 0.9560839182532375.\n",
      "[I 2024-07-13 13:34:41,731] Trial 74 finished with value: 0.9536662825600282 and parameters: {'max_depth': 7, 'learning_rate': 0.13072017853127546, 'n_estimators': 156, 'subsample': 0.9933076571678694, 'colsample_bytree': 0.8649260257579977, 'lambda': 0.2208216693638398, 'alpha': 0.7496963050784323}. Best is trial 40 with value: 0.9560839182532375.\n",
      "[I 2024-07-13 13:34:42,306] Trial 75 finished with value: 0.9539925293470722 and parameters: {'max_depth': 6, 'learning_rate': 0.08733238981590277, 'n_estimators': 161, 'subsample': 0.5596254550829334, 'colsample_bytree': 0.7829658754436328, 'lambda': 0.47150492714754194, 'alpha': 0.9926783380482981}. Best is trial 40 with value: 0.9560839182532375.\n",
      "[I 2024-07-13 13:34:42,876] Trial 76 finished with value: 0.9532095223025879 and parameters: {'max_depth': 5, 'learning_rate': 0.15826299497024404, 'n_estimators': 182, 'subsample': 0.5805941041216962, 'colsample_bytree': 0.8094510530025709, 'lambda': 0.3543708576709653, 'alpha': 0.6930855040363504}. Best is trial 40 with value: 0.9560839182532375.\n",
      "[I 2024-07-13 13:34:43,173] Trial 77 finished with value: 0.9373719894373252 and parameters: {'max_depth': 1, 'learning_rate': 0.06814530337760968, 'n_estimators': 167, 'subsample': 0.8120194690171536, 'colsample_bytree': 0.7535396354029967, 'lambda': 0.6352733273375895, 'alpha': 0.8028418353622151}. Best is trial 40 with value: 0.9560839182532375.\n",
      "[I 2024-07-13 13:34:43,824] Trial 78 finished with value: 0.952030404748974 and parameters: {'max_depth': 8, 'learning_rate': 0.11077326029152273, 'n_estimators': 131, 'subsample': 0.7746825971115642, 'colsample_bytree': 0.8810238474542151, 'lambda': 0.5764670658426607, 'alpha': 0.9557667744862879}. Best is trial 40 with value: 0.9560839182532375.\n",
      "[I 2024-07-13 13:34:44,434] Trial 79 finished with value: 0.9553317079016462 and parameters: {'max_depth': 6, 'learning_rate': 0.0963428339182866, 'n_estimators': 153, 'subsample': 0.5668182760677877, 'colsample_bytree': 0.9259960530908851, 'lambda': 0.2938387064008645, 'alpha': 0.757987102616027}. Best is trial 40 with value: 0.9560839182532375.\n",
      "[I 2024-07-13 13:34:44,919] Trial 80 finished with value: 0.9525584346462174 and parameters: {'max_depth': 3, 'learning_rate': 0.09703624483449833, 'n_estimators': 172, 'subsample': 0.6135718263122568, 'colsample_bytree': 0.9384291461681162, 'lambda': 0.2899719492326168, 'alpha': 0.8472186052095488}. Best is trial 40 with value: 0.9560839182532375.\n",
      "[I 2024-07-13 13:34:45,584] Trial 81 finished with value: 0.9534182680504724 and parameters: {'max_depth': 6, 'learning_rate': 0.08407806026210994, 'n_estimators': 153, 'subsample': 0.5572415827928905, 'colsample_bytree': 0.9146114696738716, 'lambda': 0.9025557687462269, 'alpha': 0.7898158257030261}. Best is trial 40 with value: 0.9560839182532375.\n",
      "[I 2024-07-13 13:34:46,263] Trial 82 finished with value: 0.9528841302524212 and parameters: {'max_depth': 7, 'learning_rate': 0.0711928940067357, 'n_estimators': 161, 'subsample': 0.5678556498348676, 'colsample_bytree': 0.8423930867637476, 'lambda': 0.3703001486586863, 'alpha': 0.926275020415925}. Best is trial 40 with value: 0.9560839182532375.\n",
      "[I 2024-07-13 13:34:46,880] Trial 83 finished with value: 0.9548171346968979 and parameters: {'max_depth': 6, 'learning_rate': 0.05483700629849641, 'n_estimators': 144, 'subsample': 0.5010865269982323, 'colsample_bytree': 0.889790061431248, 'lambda': 0.3033001975255434, 'alpha': 0.8825673040598867}. Best is trial 40 with value: 0.9560839182532375.\n",
      "[I 2024-07-13 13:34:47,425] Trial 84 finished with value: 0.9535876689743643 and parameters: {'max_depth': 6, 'learning_rate': 0.10433555870749991, 'n_estimators': 142, 'subsample': 0.5037746067648196, 'colsample_bytree': 0.888349535562716, 'lambda': 0.26459051818754187, 'alpha': 0.8887582910690556}. Best is trial 40 with value: 0.9560839182532375.\n",
      "[I 2024-07-13 13:34:47,943] Trial 85 finished with value: 0.9522324343843306 and parameters: {'max_depth': 5, 'learning_rate': 0.11900523000436136, 'n_estimators': 155, 'subsample': 0.5189072615280604, 'colsample_bytree': 0.8601116171857749, 'lambda': 0.29365763452961174, 'alpha': 0.7669181583401791}. Best is trial 40 with value: 0.9560839182532375.\n",
      "[I 2024-07-13 13:34:48,470] Trial 86 finished with value: 0.9512055776262889 and parameters: {'max_depth': 6, 'learning_rate': 0.040216554940565356, 'n_estimators': 137, 'subsample': 0.5370896627243553, 'colsample_bytree': 0.9306588412054465, 'lambda': 0.3309459737096719, 'alpha': 0.8288012187812142}. Best is trial 40 with value: 0.9560839182532375.\n",
      "[I 2024-07-13 13:34:49,021] Trial 87 finished with value: 0.9552944578212323 and parameters: {'max_depth': 4, 'learning_rate': 0.07578190560943304, 'n_estimators': 172, 'subsample': 0.551108009631067, 'colsample_bytree': 0.8195187192871451, 'lambda': 0.4043315243868844, 'alpha': 0.8511168069579962}. Best is trial 40 with value: 0.9560839182532375.\n",
      "[I 2024-07-13 13:34:49,613] Trial 88 finished with value: 0.9540696484464716 and parameters: {'max_depth': 4, 'learning_rate': 0.07465720766508335, 'n_estimators': 186, 'subsample': 0.5856611193981165, 'colsample_bytree': 0.8203287227687893, 'lambda': 0.44672940150115464, 'alpha': 0.9703146686333011}. Best is trial 40 with value: 0.9560839182532375.\n",
      "[I 2024-07-13 13:34:50,183] Trial 89 finished with value: 0.9547198134893399 and parameters: {'max_depth': 4, 'learning_rate': 0.09273667517834505, 'n_estimators': 178, 'subsample': 0.5514453300005375, 'colsample_bytree': 0.7896784764821615, 'lambda': 0.405988288865857, 'alpha': 0.8612782425077903}. Best is trial 40 with value: 0.9560839182532375.\n",
      "[I 2024-07-13 13:34:50,756] Trial 90 finished with value: 0.951538797578916 and parameters: {'max_depth': 5, 'learning_rate': 0.11102678324668114, 'n_estimators': 173, 'subsample': 0.5958114585794752, 'colsample_bytree': 0.7657691993532028, 'lambda': 0.4049768130802511, 'alpha': 0.8071554327589482}. Best is trial 40 with value: 0.9560839182532375.\n",
      "[I 2024-07-13 13:34:51,453] Trial 91 finished with value: 0.9545291038611179 and parameters: {'max_depth': 7, 'learning_rate': 0.08608380622062042, 'n_estimators': 166, 'subsample': 0.5195203915044154, 'colsample_bytree': 0.9087638769960503, 'lambda': 0.3519467545249215, 'alpha': 0.9177453964660605}. Best is trial 40 with value: 0.9560839182532375.\n",
      "[I 2024-07-13 13:34:52,044] Trial 92 finished with value: 0.9543948823373314 and parameters: {'max_depth': 6, 'learning_rate': 0.06515661534169044, 'n_estimators': 159, 'subsample': 0.5021803976381572, 'colsample_bytree': 0.8769172163371292, 'lambda': 0.22117972701685723, 'alpha': 0.8761222374929684}. Best is trial 40 with value: 0.9560839182532375.\n",
      "[I 2024-07-13 13:34:52,561] Trial 93 finished with value: 0.953508260728428 and parameters: {'max_depth': 5, 'learning_rate': 0.05514597760388773, 'n_estimators': 151, 'subsample': 0.5310968728718088, 'colsample_bytree': 0.8335181649503947, 'lambda': 0.4811909282069078, 'alpha': 0.7598451912355652}. Best is trial 40 with value: 0.9560839182532375.\n",
      "[I 2024-07-13 13:34:53,084] Trial 94 finished with value: 0.9552570206274273 and parameters: {'max_depth': 6, 'learning_rate': 0.07586360873237996, 'n_estimators': 145, 'subsample': 0.5708073788884059, 'colsample_bytree': 0.8155523843279663, 'lambda': 0.2551351612545462, 'alpha': 0.9393604043419087}. Best is trial 40 with value: 0.9560839182532375.\n",
      "[I 2024-07-13 13:34:53,519] Trial 95 finished with value: 0.9546059622891111 and parameters: {'max_depth': 4, 'learning_rate': 0.08108036455203375, 'n_estimators': 167, 'subsample': 0.5714202518865873, 'colsample_bytree': 0.8090570662318075, 'lambda': 0.25172537731667616, 'alpha': 0.9465632905531312}. Best is trial 40 with value: 0.9560839182532375.\n"
     ]
    },
    {
     "name": "stderr",
     "output_type": "stream",
     "text": [
      "[I 2024-07-13 13:34:54,013] Trial 96 finished with value: 0.9552944578212323 and parameters: {'max_depth': 5, 'learning_rate': 0.0970235768378426, 'n_estimators': 172, 'subsample': 0.5528465720047133, 'colsample_bytree': 0.8200860560734795, 'lambda': 0.1018930022792327, 'alpha': 0.8443486767069533}. Best is trial 40 with value: 0.9560839182532375.\n",
      "[I 2024-07-13 13:34:54,546] Trial 97 finished with value: 0.9551815805344792 and parameters: {'max_depth': 5, 'learning_rate': 0.06427688254067573, 'n_estimators': 185, 'subsample': 0.55110816423708, 'colsample_bytree': 0.7548119898371641, 'lambda': 0.1320913469655957, 'alpha': 0.82722159916493}. Best is trial 40 with value: 0.9560839182532375.\n",
      "[I 2024-07-13 13:34:55,005] Trial 98 finished with value: 0.9539536786313142 and parameters: {'max_depth': 6, 'learning_rate': 0.09100552857385602, 'n_estimators': 127, 'subsample': 0.5355753008576933, 'colsample_bytree': 0.817593684954917, 'lambda': 0.037103755951581, 'alpha': 0.8516747012213091}. Best is trial 40 with value: 0.9560839182532375.\n",
      "[I 2024-07-13 13:34:55,619] Trial 99 finished with value: 0.9533001607222289 and parameters: {'max_depth': 7, 'learning_rate': 0.07592937655830576, 'n_estimators': 172, 'subsample': 0.6439220558916061, 'colsample_bytree': 0.8536856176887019, 'lambda': 0.047326570018412256, 'alpha': 0.4817155586496209}. Best is trial 40 with value: 0.9560839182532375.\n"
     ]
    },
    {
     "name": "stdout",
     "output_type": "stream",
     "text": [
      "Best hyperparameters:  {'max_depth': 7, 'learning_rate': 0.07172342136484713, 'n_estimators': 157, 'subsample': 0.6360208201243935, 'colsample_bytree': 0.794244278594447, 'lambda': 0.8297962842796511, 'alpha': 0.7228915436729114}\n",
      "Best F1 Score:  0.9560839182532375\n",
      "              precision    recall  f1-score   support\n",
      "\n",
      "           0       0.97      0.98      0.97      2782\n",
      "           1       0.88      0.83      0.86       508\n",
      "\n",
      "    accuracy                           0.96      3290\n",
      "   macro avg       0.92      0.91      0.92      3290\n",
      "weighted avg       0.96      0.96      0.96      3290\n",
      "\n"
     ]
    }
   ],
   "source": [
    "import optuna\n",
    "from xgboost import XGBClassifier\n",
    "from sklearn import metrics\n",
    "from sklearn.model_selection import train_test_split\n",
    "\n",
    "# Supposons que train_X, train_y, test_X, test_y soient déjà définis\n",
    "# train_X, train_y = ...\n",
    "# test_X, test_y = ...\n",
    "\n",
    "# Fonction objectif pour Optuna\n",
    "def objective(trial):\n",
    "    param = {\n",
    "        'max_depth': trial.suggest_int('max_depth', 1, 10),\n",
    "        'learning_rate': trial.suggest_float('learning_rate', 0.01, 0.3),\n",
    "        'n_estimators': trial.suggest_int('n_estimators', 50, 200),\n",
    "        'subsample': trial.suggest_float('subsample', 0.5, 1.0),\n",
    "        'colsample_bytree': trial.suggest_float('colsample_bytree', 0.5, 1.0),\n",
    "        'lambda': trial.suggest_float('lambda', 1e-8, 1.0),\n",
    "        'alpha': trial.suggest_float('alpha', 1e-8, 1.0)\n",
    "    }\n",
    "    \n",
    "    model = XGBClassifier(**param)\n",
    "    model.fit(train_X, train_y)\n",
    "    y_pred = model.predict(test_X)\n",
    "    \n",
    "    f1 = metrics.f1_score(test_y, y_pred, average='weighted')\n",
    "    \n",
    "    return f1\n",
    "\n",
    "# Créer une étude et optimiser\n",
    "study = optuna.create_study(direction='maximize')\n",
    "study.optimize(objective, n_trials=100)\n",
    "\n",
    "# Afficher les meilleurs hyperparamètres trouvés\n",
    "print(\"Best hyperparameters: \", study.best_params)\n",
    "print(\"Best F1 Score: \", study.best_value)\n",
    "\n",
    "# Entraîner le modèle final avec les meilleurs hyperparamètres\n",
    "best_params = study.best_params\n",
    "mod2 = XGBClassifier(**best_params)\n",
    "mod2.fit(train_X, train_y)\n",
    "y_pred = mod2.predict(test_X)\n",
    "\n",
    "# Afficher le rapport de classification\n",
    "print(metrics.classification_report(test_y, y_pred))\n"
   ]
  },
  {
   "cell_type": "code",
   "execution_count": 109,
   "id": "89c12647",
   "metadata": {},
   "outputs": [
    {
     "name": "stdout",
     "output_type": "stream",
     "text": [
      "              precision    recall  f1-score   support\n",
      "\n",
      "           0       0.97      0.97      0.97      2782\n",
      "           1       0.86      0.83      0.84       508\n",
      "\n",
      "    accuracy                           0.95      3290\n",
      "   macro avg       0.91      0.90      0.91      3290\n",
      "weighted avg       0.95      0.95      0.95      3290\n",
      "\n"
     ]
    }
   ],
   "source": [
    "from xgboost import XGBClassifier\n",
    "from sklearn import metrics\n",
    "\n",
    "# Meilleurs hyperparamètres trouvés par Optuna\n",
    "best_params = {\n",
    "    'max_depth': 2,\n",
    "    'learning_rate': 0.19993937308031498,\n",
    "    'n_estimators': 200,\n",
    "    'subsample': 0.9312123204871312,\n",
    "    'colsample_bytree': 0.9249166062812004,\n",
    "    'lambda': 0.37362933083612804,\n",
    "    'alpha': 0.2008132231689535\n",
    "}\n",
    "\n",
    "# Entraîner le modèle final avec les meilleurs hyperparamètres\n",
    "mod5= XGBClassifier(**best_params)\n",
    "mod5.fit(train_X, train_y)\n",
    "y_pred = mod5.predict(test_X)\n",
    "\n",
    "# Afficher le rapport de classification\n",
    "print(metrics.classification_report(test_y, y_pred))\n"
   ]
  },
  {
   "cell_type": "code",
   "execution_count": null,
   "id": "99f5bc4c",
   "metadata": {},
   "outputs": [],
   "source": [
    "import pickle\n",
    "\n",
    "file = './App_Model2.pkl'\n",
    "with open(file, 'wb') as f:\n",
    "    pickle.dump(mod5, f)"
   ]
  },
  {
   "cell_type": "code",
   "execution_count": 111,
   "id": "32650bc2",
   "metadata": {},
   "outputs": [],
   "source": [
    "train=pd.read_csv('Base.csv')\n",
    "train4=train.drop('Unnamed: 0',axis=1)"
   ]
  },
  {
   "cell_type": "code",
   "execution_count": 112,
   "id": "682e1744",
   "metadata": {},
   "outputs": [
    {
     "name": "stderr",
     "output_type": "stream",
     "text": [
      "C:\\Users\\HOME\\anaconda3\\lib\\site-packages\\sklearn\\base.py:450: UserWarning: X does not have valid feature names, but IsolationForest was fitted with feature names\n",
      "  warnings.warn(\n"
     ]
    }
   ],
   "source": [
    "train4quan=train4.select_dtypes(exclude=[\"object\"])\n",
    "from sklearn.ensemble import IsolationForest\n",
    "#trainquan=trainquan.drop('date_dernier_remboursement',axis=1)\n",
    "#trainquan=trainquan.drop('date_fin_remboursement',axis=1)\n",
    "# Appliquer l'Isolation Forest\n",
    "iso_forest = IsolationForest(contamination=0.1, random_state=42)\n",
    "outlier_labels = iso_forest.fit_predict(train4quan)\n",
    "\n",
    "# Ajouter les labels d'anomalie au DataFrame\n",
    "train4quan['Outlier'] = outlier_labels\n",
    "\n",
    "# Afficher les outliers\n",
    "outliers = train4quan[train4quan['Outlier'] == -1]\n",
    "train4=train4[train4quan.Outlier != -1]\n"
   ]
  },
  {
   "cell_type": "code",
   "execution_count": 113,
   "id": "f844340c",
   "metadata": {},
   "outputs": [
    {
     "name": "stderr",
     "output_type": "stream",
     "text": [
      "C:\\Users\\HOME\\AppData\\Local\\Temp\\ipykernel_15248\\2163376817.py:6: SettingWithCopyWarning: \n",
      "A value is trying to be set on a copy of a slice from a DataFrame.\n",
      "Try using .loc[row_indexer,col_indexer] = value instead\n",
      "\n",
      "See the caveats in the documentation: https://pandas.pydata.org/pandas-docs/stable/user_guide/indexing.html#returning-a-view-versus-a-copy\n",
      "  train['rapport_rembourse'] = train['nbr_credits_rembourses'] / train['nbr_credits_octroyes'].replace(0, 1)\n",
      "C:\\Users\\HOME\\AppData\\Local\\Temp\\ipykernel_15248\\2163376817.py:7: SettingWithCopyWarning: \n",
      "A value is trying to be set on a copy of a slice from a DataFrame.\n",
      "Try using .loc[row_indexer,col_indexer] = value instead\n",
      "\n",
      "See the caveats in the documentation: https://pandas.pydata.org/pandas-docs/stable/user_guide/indexing.html#returning-a-view-versus-a-copy\n",
      "  train['rapport_rembour'] = (train['montant_credits_accorde']/ train['nbr_credits_octroyes'].replace(0, 1)) - train['montant_sollicite']\n"
     ]
    }
   ],
   "source": [
    "train=train4\n",
    "#train =train[train['duree_pret_souhaitee']<84]\n",
    "train =train[train['montant_sollicite']<3000000]\n",
    "# Remplace les valeurs nulles dans nbr_credits_octroyes par 1 pour éviter la division par zéro\n",
    "\n",
    "train['rapport_rembourse'] = train['nbr_credits_rembourses'] / train['nbr_credits_octroyes'].replace(0, 1)\n",
    "train['rapport_rembour'] = (train['montant_credits_accorde']/ train['nbr_credits_octroyes'].replace(0, 1)) - train['montant_sollicite']\n",
    "#train=train.drop('nbr_credits_octroyes',axis=1)\n",
    "train=train.drop('nbr_credits_rembourses',axis=1)\n",
    "#train=train.drop('montant_sollicite',axis=1)\n",
    "train=train.drop('montant_credits_accorde',axis=1)\n",
    "#\n",
    "X=train.drop('a_dette_encours',axis=1)\n",
    "y=train['a_dette_encours']\n",
    "#\n",
    "X=X.drop('anciennete_agence',axis=1)\n",
    "X=X.drop('nbr_echeances',axis=1)\n",
    "X=X.drop('age',axis=1)\n",
    "X=X.drop('r',axis=1)\n",
    "X=X.drop('sexe',axis=1)\n",
    "X=X.drop('profession',axis=1)\n",
    "X=X.drop('secteur_activite',axis=1)\n",
    "#X=X.drop('ssecteur_activite',axis=1)\n",
    "from sklearn.feature_selection import SelectKBest, f_classif\n",
    "#\n",
    "from sklearn.model_selection import train_test_split\n",
    "train_X,test_X,train_y,test_y=train_test_split(X,y,test_size=0.3,random_state=1)"
   ]
  },
  {
   "cell_type": "code",
   "execution_count": 114,
   "id": "400a16c3",
   "metadata": {},
   "outputs": [
    {
     "name": "stdout",
     "output_type": "stream",
     "text": [
      "              precision    recall  f1-score   support\n",
      "\n",
      "           0       0.97      0.98      0.97      2599\n",
      "           1       0.86      0.82      0.84       459\n",
      "\n",
      "    accuracy                           0.95      3058\n",
      "   macro avg       0.92      0.90      0.91      3058\n",
      "weighted avg       0.95      0.95      0.95      3058\n",
      "\n"
     ]
    }
   ],
   "source": [
    "from sklearn import metrics\n",
    "#from sklearn.metrics import classification_report\n",
    "mod6= XGBClassifier()\n",
    "mod6.fit(train_X,train_y)\n",
    "y_pred = mod6.predict(test_X)\n",
    "print(metrics.classification_report(test_y, y_pred))\n",
    "#max_depth=1, learning_rate=0.1, n_estimators=100"
   ]
  },
  {
   "cell_type": "code",
   "execution_count": 116,
   "id": "b57752e4",
   "metadata": {},
   "outputs": [
    {
     "name": "stderr",
     "output_type": "stream",
     "text": [
      "[I 2024-07-13 13:36:03,653] A new study created in memory with name: no-name-505a137e-ce9c-43b9-95e3-008616bc0eab\n",
      "[I 2024-07-13 13:36:04,188] Trial 0 finished with value: 0.9533563654450627 and parameters: {'max_depth': 8, 'learning_rate': 0.12265672654062426, 'n_estimators': 111, 'subsample': 0.6948758935418831, 'colsample_bytree': 0.9884327713341268, 'lambda': 0.2710363073697114, 'alpha': 0.1382621880464328}. Best is trial 0 with value: 0.9533563654450627.\n",
      "[I 2024-07-13 13:36:04,548] Trial 1 finished with value: 0.9542593950654409 and parameters: {'max_depth': 2, 'learning_rate': 0.23612847343094875, 'n_estimators': 189, 'subsample': 0.9155856359224668, 'colsample_bytree': 0.9507192280754927, 'lambda': 0.2209075152312583, 'alpha': 0.6328076053828028}. Best is trial 1 with value: 0.9542593950654409.\n",
      "[I 2024-07-13 13:36:04,788] Trial 2 finished with value: 0.9541358664874781 and parameters: {'max_depth': 2, 'learning_rate': 0.2891028002380695, 'n_estimators': 125, 'subsample': 0.7842433556942143, 'colsample_bytree': 0.7378951804683378, 'lambda': 0.523790888025176, 'alpha': 0.9863164516039716}. Best is trial 1 with value: 0.9542593950654409.\n",
      "[I 2024-07-13 13:36:05,277] Trial 3 finished with value: 0.9526044127899262 and parameters: {'max_depth': 7, 'learning_rate': 0.25540310307231723, 'n_estimators': 132, 'subsample': 0.821354830690499, 'colsample_bytree': 0.5400798606060591, 'lambda': 0.10492230558507577, 'alpha': 0.7616388654813959}. Best is trial 1 with value: 0.9542593950654409.\n",
      "[I 2024-07-13 13:36:05,626] Trial 4 finished with value: 0.9546364335239073 and parameters: {'max_depth': 9, 'learning_rate': 0.11455722383171038, 'n_estimators': 82, 'subsample': 0.6190838848260934, 'colsample_bytree': 0.637929066149213, 'lambda': 0.7803159913570553, 'alpha': 0.753332177169363}. Best is trial 4 with value: 0.9546364335239073.\n",
      "[I 2024-07-13 13:36:05,899] Trial 5 finished with value: 0.9551584900512383 and parameters: {'max_depth': 4, 'learning_rate': 0.1650394727477557, 'n_estimators': 113, 'subsample': 0.947511109554674, 'colsample_bytree': 0.5856400095267602, 'lambda': 0.8029784524583106, 'alpha': 0.4525549825736328}. Best is trial 5 with value: 0.9551584900512383.\n",
      "[I 2024-07-13 13:36:06,340] Trial 6 finished with value: 0.9539254273486231 and parameters: {'max_depth': 5, 'learning_rate': 0.2255564330794301, 'n_estimators': 161, 'subsample': 0.8884555071430809, 'colsample_bytree': 0.5099494299622818, 'lambda': 0.9913980953090729, 'alpha': 0.13315030758561716}. Best is trial 5 with value: 0.9551584900512383.\n",
      "[I 2024-07-13 13:36:06,705] Trial 7 finished with value: 0.9520645668339279 and parameters: {'max_depth': 10, 'learning_rate': 0.13632304558503114, 'n_estimators': 82, 'subsample': 0.5173959370491211, 'colsample_bytree': 0.8159144058913803, 'lambda': 0.16139595134716736, 'alpha': 0.9273010704892993}. Best is trial 5 with value: 0.9551584900512383.\n",
      "[I 2024-07-13 13:36:06,896] Trial 8 finished with value: 0.9513823123349031 and parameters: {'max_depth': 3, 'learning_rate': 0.13491208889789288, 'n_estimators': 89, 'subsample': 0.8070629309910686, 'colsample_bytree': 0.5905551663753882, 'lambda': 0.3343050669026983, 'alpha': 0.09653831872866409}. Best is trial 5 with value: 0.9551584900512383.\n",
      "[I 2024-07-13 13:36:07,221] Trial 9 finished with value: 0.9504961045922474 and parameters: {'max_depth': 6, 'learning_rate': 0.07416850342000354, 'n_estimators': 101, 'subsample': 0.7536156387000008, 'colsample_bytree': 0.9322987299011873, 'lambda': 0.1584629462332325, 'alpha': 0.5246542910030488}. Best is trial 5 with value: 0.9551584900512383.\n",
      "[I 2024-07-13 13:36:07,478] Trial 10 finished with value: 0.9103673693091782 and parameters: {'max_depth': 4, 'learning_rate': 0.020367054651488414, 'n_estimators': 60, 'subsample': 0.9898403741603975, 'colsample_bytree': 0.6945656822493024, 'lambda': 0.6997122034059416, 'alpha': 0.33054963268300513}. Best is trial 5 with value: 0.9551584900512383.\n",
      "[I 2024-07-13 13:36:07,792] Trial 11 finished with value: 0.9519874661384421 and parameters: {'max_depth': 10, 'learning_rate': 0.1832844297315421, 'n_estimators': 54, 'subsample': 0.6253292881305519, 'colsample_bytree': 0.6385697952566778, 'lambda': 0.8520352444848007, 'alpha': 0.3594922068801496}. Best is trial 5 with value: 0.9551584900512383.\n",
      "[I 2024-07-13 13:36:08,361] Trial 12 finished with value: 0.9544564162248674 and parameters: {'max_depth': 8, 'learning_rate': 0.0786582121162362, 'n_estimators': 141, 'subsample': 0.6157543434090064, 'colsample_bytree': 0.6466303283214864, 'lambda': 0.6771572911119965, 'alpha': 0.7217057906369985}. Best is trial 5 with value: 0.9551584900512383.\n",
      "[I 2024-07-13 13:36:08,699] Trial 13 finished with value: 0.9531363123473274 and parameters: {'max_depth': 5, 'learning_rate': 0.1806361737902336, 'n_estimators': 76, 'subsample': 0.5041736219818358, 'colsample_bytree': 0.8440702105259642, 'lambda': 0.7599339463313397, 'alpha': 0.3780728548990685}. Best is trial 5 with value: 0.9551584900512383.\n",
      "[I 2024-07-13 13:36:08,943] Trial 14 finished with value: 0.9328677274938171 and parameters: {'max_depth': 1, 'learning_rate': 0.09106655883925578, 'n_estimators': 107, 'subsample': 0.671439780257653, 'colsample_bytree': 0.5890735293346566, 'lambda': 0.5148781939779239, 'alpha': 0.8251604985388783}. Best is trial 5 with value: 0.9551584900512383.\n",
      "[I 2024-07-13 13:36:09,701] Trial 15 finished with value: 0.9556930249440206 and parameters: {'max_depth': 8, 'learning_rate': 0.18213181623970656, 'n_estimators': 161, 'subsample': 0.5709362114933005, 'colsample_bytree': 0.6997950933761676, 'lambda': 0.9315155728260871, 'alpha': 0.5604044964128525}. Best is trial 15 with value: 0.9556930249440206.\n",
      "[I 2024-07-13 13:36:10,347] Trial 16 finished with value: 0.9554255514051604 and parameters: {'max_depth': 6, 'learning_rate': 0.18345120196924003, 'n_estimators': 167, 'subsample': 0.9631385946503433, 'colsample_bytree': 0.7584010503431181, 'lambda': 0.9393991108127516, 'alpha': 0.5551072626459145}. Best is trial 15 with value: 0.9556930249440206.\n",
      "[I 2024-07-13 13:36:11,087] Trial 17 finished with value: 0.9560028127956973 and parameters: {'max_depth': 7, 'learning_rate': 0.1999798314304255, 'n_estimators': 176, 'subsample': 0.8587316341968274, 'colsample_bytree': 0.7959109147967145, 'lambda': 0.9690975062179217, 'alpha': 0.5889250254095962}. Best is trial 17 with value: 0.9560028127956973.\n",
      "[I 2024-07-13 13:36:11,910] Trial 18 finished with value: 0.9512925946256873 and parameters: {'max_depth': 8, 'learning_rate': 0.21101404280266325, 'n_estimators': 198, 'subsample': 0.8637858762670338, 'colsample_bytree': 0.8424445502594943, 'lambda': 0.8967540398702603, 'alpha': 0.2738404665064891}. Best is trial 17 with value: 0.9560028127956973.\n",
      "[I 2024-07-13 13:36:12,592] Trial 19 finished with value: 0.9512018862322301 and parameters: {'max_depth': 7, 'learning_rate': 0.274644825174131, 'n_estimators': 171, 'subsample': 0.5502614652741645, 'colsample_bytree': 0.7774138891922434, 'lambda': 0.6459551429032446, 'alpha': 0.6744252256325127}. Best is trial 17 with value: 0.9560028127956973.\n",
      "[I 2024-07-13 13:36:13,178] Trial 20 finished with value: 0.9543704286736928 and parameters: {'max_depth': 7, 'learning_rate': 0.21236866436727816, 'n_estimators': 149, 'subsample': 0.7333421063399326, 'colsample_bytree': 0.9017651963056041, 'lambda': 0.39692699243389296, 'alpha': 0.6094003731346233}. Best is trial 17 with value: 0.9560028127956973.\n",
      "[I 2024-07-13 13:36:13,708] Trial 21 finished with value: 0.9547225071677589 and parameters: {'max_depth': 6, 'learning_rate': 0.1885066737269818, 'n_estimators': 176, 'subsample': 0.9909778682712737, 'colsample_bytree': 0.7366044639384735, 'lambda': 0.9865037782043296, 'alpha': 0.5196877647194992}. Best is trial 17 with value: 0.9560028127956973.\n",
      "[I 2024-07-13 13:36:14,355] Trial 22 finished with value: 0.9545930388267125 and parameters: {'max_depth': 9, 'learning_rate': 0.15298310242390967, 'n_estimators': 156, 'subsample': 0.85714514660692, 'colsample_bytree': 0.6940713863202886, 'lambda': 0.9614800677094183, 'alpha': 0.5857554787871032}. Best is trial 17 with value: 0.9560028127956973.\n",
      "[I 2024-07-13 13:36:14,937] Trial 23 finished with value: 0.9560028127956973 and parameters: {'max_depth': 6, 'learning_rate': 0.19205996119245464, 'n_estimators': 179, 'subsample': 0.9265636185976468, 'colsample_bytree': 0.8069809819954243, 'lambda': 0.883875599231759, 'alpha': 0.4565663648980448}. Best is trial 17 with value: 0.9560028127956973.\n"
     ]
    },
    {
     "name": "stderr",
     "output_type": "stream",
     "text": [
      "[I 2024-07-13 13:36:15,637] Trial 24 finished with value: 0.9525207541718995 and parameters: {'max_depth': 7, 'learning_rate': 0.2596251363368591, 'n_estimators': 186, 'subsample': 0.8438930849249571, 'colsample_bytree': 0.8009458309878179, 'lambda': 0.008810658954649164, 'alpha': 0.44324256767030656}. Best is trial 17 with value: 0.9560028127956973.\n",
      "[I 2024-07-13 13:36:16,558] Trial 25 finished with value: 0.9531363123473274 and parameters: {'max_depth': 9, 'learning_rate': 0.2088726489064374, 'n_estimators': 180, 'subsample': 0.9311874511257004, 'colsample_bytree': 0.8714530968102356, 'lambda': 0.8696194662162001, 'alpha': 0.24323421877862822}. Best is trial 17 with value: 0.9560028127956973.\n",
      "[I 2024-07-13 13:36:17,319] Trial 26 finished with value: 0.9553412009580386 and parameters: {'max_depth': 5, 'learning_rate': 0.24356225053123204, 'n_estimators': 199, 'subsample': 0.9002173500233347, 'colsample_bytree': 0.7059303670474911, 'lambda': 0.6162756643901197, 'alpha': 0.8160549548727418}. Best is trial 17 with value: 0.9560028127956973.\n",
      "[I 2024-07-13 13:36:18,024] Trial 27 finished with value: 0.9553834924645799 and parameters: {'max_depth': 8, 'learning_rate': 0.1561004372688979, 'n_estimators': 147, 'subsample': 0.5683675896692439, 'colsample_bytree': 0.7793455562896607, 'lambda': 0.8502132877371911, 'alpha': 0.4521608374464782}. Best is trial 17 with value: 0.9560028127956973.\n",
      "[I 2024-07-13 13:36:18,693] Trial 28 finished with value: 0.9533563654450627 and parameters: {'max_depth': 6, 'learning_rate': 0.20321241089667358, 'n_estimators': 162, 'subsample': 0.7689632188726137, 'colsample_bytree': 0.8716448280124611, 'lambda': 0.9041014408480079, 'alpha': 0.01292817959861936}. Best is trial 17 with value: 0.9560028127956973.\n",
      "[I 2024-07-13 13:36:19,554] Trial 29 finished with value: 0.9536209289230617 and parameters: {'max_depth': 8, 'learning_rate': 0.1114578725860093, 'n_estimators': 183, 'subsample': 0.6768095535672236, 'colsample_bytree': 0.998425954025991, 'lambda': 0.7372288585117035, 'alpha': 0.6505139021721271}. Best is trial 17 with value: 0.9560028127956973.\n",
      "[I 2024-07-13 13:36:20,083] Trial 30 finished with value: 0.9553412009580386 and parameters: {'max_depth': 7, 'learning_rate': 0.16748997510259242, 'n_estimators': 137, 'subsample': 0.7153663263675648, 'colsample_bytree': 0.7232105692363447, 'lambda': 0.43472141980233575, 'alpha': 0.21454791140188914}. Best is trial 17 with value: 0.9560028127956973.\n",
      "[I 2024-07-13 13:36:20,684] Trial 31 finished with value: 0.9550317268088568 and parameters: {'max_depth': 6, 'learning_rate': 0.18970757407194372, 'n_estimators': 169, 'subsample': 0.9526864765448132, 'colsample_bytree': 0.7658716751465147, 'lambda': 0.9493859632250419, 'alpha': 0.5577443961595849}. Best is trial 17 with value: 0.9560028127956973.\n",
      "[I 2024-07-13 13:36:21,200] Trial 32 finished with value: 0.9538396221115689 and parameters: {'max_depth': 4, 'learning_rate': 0.22570619336592287, 'n_estimators': 165, 'subsample': 0.9632705321945363, 'colsample_bytree': 0.8159592486635963, 'lambda': 0.9219918345594311, 'alpha': 0.4154152460474986}. Best is trial 17 with value: 0.9560028127956973.\n",
      "[I 2024-07-13 13:36:21,914] Trial 33 finished with value: 0.9550317268088568 and parameters: {'max_depth': 6, 'learning_rate': 0.14731817759577281, 'n_estimators': 190, 'subsample': 0.9211902977535582, 'colsample_bytree': 0.663564781439886, 'lambda': 0.8254172762487759, 'alpha': 0.5032402122864795}. Best is trial 17 with value: 0.9560028127956973.\n",
      "[I 2024-07-13 13:36:22,441] Trial 34 finished with value: 0.9540179772827212 and parameters: {'max_depth': 5, 'learning_rate': 0.23343621979305335, 'n_estimators': 154, 'subsample': 0.8874990087037105, 'colsample_bytree': 0.7557786824677257, 'lambda': 0.9957049322284519, 'alpha': 0.6827876050049968}. Best is trial 17 with value: 0.9560028127956973.\n",
      "[I 2024-07-13 13:36:23,137] Trial 35 finished with value: 0.9537091305385291 and parameters: {'max_depth': 7, 'learning_rate': 0.19577076763874643, 'n_estimators': 174, 'subsample': 0.8053489707229918, 'colsample_bytree': 0.7927019859935043, 'lambda': 0.6039414990667201, 'alpha': 0.5781153563201024}. Best is trial 17 with value: 0.9560028127956973.\n",
      "[I 2024-07-13 13:36:23,765] Trial 36 finished with value: 0.9563128571302236 and parameters: {'max_depth': 9, 'learning_rate': 0.1721341038409461, 'n_estimators': 126, 'subsample': 0.9783648363767325, 'colsample_bytree': 0.8386094841352859, 'lambda': 0.9228224359017904, 'alpha': 0.6247433508892112}. Best is trial 36 with value: 0.9563128571302236.\n",
      "[I 2024-07-13 13:36:24,391] Trial 37 finished with value: 0.9542834870813038 and parameters: {'max_depth': 9, 'learning_rate': 0.16531551403866082, 'n_estimators': 127, 'subsample': 0.8302468380565705, 'colsample_bytree': 0.8497846505415189, 'lambda': 0.7609050148342099, 'alpha': 0.8129416867682009}. Best is trial 36 with value: 0.9563128571302236.\n",
      "[I 2024-07-13 13:36:25,064] Trial 38 finished with value: 0.9560444777614009 and parameters: {'max_depth': 10, 'learning_rate': 0.2546789724261704, 'n_estimators': 120, 'subsample': 0.8792209111603438, 'colsample_bytree': 0.917908105645719, 'lambda': 0.823465570880328, 'alpha': 0.62827335720425}. Best is trial 36 with value: 0.9563128571302236.\n",
      "[I 2024-07-13 13:36:25,682] Trial 39 finished with value: 0.9544990560814037 and parameters: {'max_depth': 10, 'learning_rate': 0.29475575492718353, 'n_estimators': 116, 'subsample': 0.8773082027530841, 'colsample_bytree': 0.9444689653668193, 'lambda': 0.7994780832511205, 'alpha': 0.8943928311957647}. Best is trial 36 with value: 0.9563128571302236.\n",
      "[I 2024-07-13 13:36:26,336] Trial 40 finished with value: 0.9543270779088702 and parameters: {'max_depth': 9, 'learning_rate': 0.2644798708464662, 'n_estimators': 120, 'subsample': 0.9137298446271714, 'colsample_bytree': 0.91440650078833, 'lambda': 0.580414855247434, 'alpha': 0.7335926870176498}. Best is trial 36 with value: 0.9563128571302236.\n",
      "[I 2024-07-13 13:36:26,957] Trial 41 finished with value: 0.9538396221115689 and parameters: {'max_depth': 10, 'learning_rate': 0.23663082344567674, 'n_estimators': 103, 'subsample': 0.9999121116988533, 'colsample_bytree': 0.8978113713059626, 'lambda': 0.8993896595211072, 'alpha': 0.6139765419698955}. Best is trial 36 with value: 0.9563128571302236.\n",
      "[I 2024-07-13 13:36:27,600] Trial 42 finished with value: 0.9542834870813038 and parameters: {'max_depth': 9, 'learning_rate': 0.13278748175865773, 'n_estimators': 133, 'subsample': 0.9324966984329088, 'colsample_bytree': 0.9724161914724998, 'lambda': 0.826663930434985, 'alpha': 0.4845778986192133}. Best is trial 36 with value: 0.9563128571302236.\n",
      "[I 2024-07-13 13:36:28,061] Trial 43 finished with value: 0.9530921942920362 and parameters: {'max_depth': 8, 'learning_rate': 0.24510466251838003, 'n_estimators': 97, 'subsample': 0.900119683597716, 'colsample_bytree': 0.8185988253225718, 'lambda': 0.7180145114212868, 'alpha': 0.6918803941794187}. Best is trial 36 with value: 0.9563128571302236.\n",
      "[I 2024-07-13 13:36:28,666] Trial 44 finished with value: 0.9530478324033651 and parameters: {'max_depth': 10, 'learning_rate': 0.27793549938278106, 'n_estimators': 124, 'subsample': 0.9723527187501085, 'colsample_bytree': 0.888741574900744, 'lambda': 0.8756371410431057, 'alpha': 0.7762255038339072}. Best is trial 36 with value: 0.9563128571302236.\n",
      "[I 2024-07-13 13:36:29,523] Trial 45 finished with value: 0.9540615218709378 and parameters: {'max_depth': 8, 'learning_rate': 0.1732525250093648, 'n_estimators': 192, 'subsample': 0.8004086986820697, 'colsample_bytree': 0.9697282218650397, 'lambda': 0.9403717875771448, 'alpha': 0.6330620279530121}. Best is trial 36 with value: 0.9563128571302236.\n",
      "[I 2024-07-13 13:36:30,221] Trial 46 finished with value: 0.9559609172166398 and parameters: {'max_depth': 9, 'learning_rate': 0.11408624852390847, 'n_estimators': 144, 'subsample': 0.8306464428402135, 'colsample_bytree': 0.8386658351873932, 'lambda': 0.825137708363399, 'alpha': 0.5378549088030027}. Best is trial 36 with value: 0.9563128571302236.\n",
      "[I 2024-07-13 13:36:30,908] Trial 47 finished with value: 0.9537528676118666 and parameters: {'max_depth': 10, 'learning_rate': 0.09742603251800039, 'n_estimators': 143, 'subsample': 0.8668827007561243, 'colsample_bytree': 0.8644933578698807, 'lambda': 0.7709295807290926, 'alpha': 0.32805441785538514}. Best is trial 36 with value: 0.9563128571302236.\n"
     ]
    },
    {
     "name": "stderr",
     "output_type": "stream",
     "text": [
      "[I 2024-07-13 13:36:31,473] Trial 48 finished with value: 0.9534005365741168 and parameters: {'max_depth': 9, 'learning_rate': 0.05655615055103237, 'n_estimators': 113, 'subsample': 0.8284472171209186, 'colsample_bytree': 0.9258304083609266, 'lambda': 0.8093870924626484, 'alpha': 0.4130768163315297}. Best is trial 36 with value: 0.9563128571302236.\n",
      "[I 2024-07-13 13:36:32,177] Trial 49 finished with value: 0.9536209289230617 and parameters: {'max_depth': 10, 'learning_rate': 0.12152685117238682, 'n_estimators': 130, 'subsample': 0.7805092606586378, 'colsample_bytree': 0.8344439685602044, 'lambda': 0.6892495171007352, 'alpha': 0.48252013204062083}. Best is trial 36 with value: 0.9563128571302236.\n",
      "[I 2024-07-13 13:36:32,677] Trial 50 finished with value: 0.9526044127899262 and parameters: {'max_depth': 9, 'learning_rate': 0.220258079597936, 'n_estimators': 93, 'subsample': 0.8544636556019529, 'colsample_bytree': 0.7986621781460801, 'lambda': 0.8483871449773952, 'alpha': 0.5185351797242476}. Best is trial 36 with value: 0.9563128571302236.\n",
      "[I 2024-07-13 13:36:33,339] Trial 51 finished with value: 0.9540615218709378 and parameters: {'max_depth': 8, 'learning_rate': 0.1402314609489832, 'n_estimators': 157, 'subsample': 0.9438953247948397, 'colsample_bytree': 0.8254955247684115, 'lambda': 0.9113634388150859, 'alpha': 0.5551601605868282}. Best is trial 36 with value: 0.9563128571302236.\n",
      "[I 2024-07-13 13:36:33,897] Trial 52 finished with value: 0.9546795891203802 and parameters: {'max_depth': 7, 'learning_rate': 0.17633819716715504, 'n_estimators': 141, 'subsample': 0.9018422363184747, 'colsample_bytree': 0.6736770340734882, 'lambda': 0.971821951839462, 'alpha': 0.6149067087665744}. Best is trial 36 with value: 0.9563128571302236.\n",
      "[I 2024-07-13 13:36:34,527] Trial 53 finished with value: 0.9520785659804747 and parameters: {'max_depth': 8, 'learning_rate': 0.19962112598216833, 'n_estimators': 151, 'subsample': 0.9746232942143255, 'colsample_bytree': 0.6145670364580881, 'lambda': 0.25769082990685294, 'alpha': 0.6593031012657034}. Best is trial 36 with value: 0.9563128571302236.\n",
      "[I 2024-07-13 13:36:35,287] Trial 54 finished with value: 0.9544135409316971 and parameters: {'max_depth': 9, 'learning_rate': 0.15521268737064342, 'n_estimators': 161, 'subsample': 0.8384441040879783, 'colsample_bytree': 0.7311598832428121, 'lambda': 0.9978872278442596, 'alpha': 0.5426430429035564}. Best is trial 36 with value: 0.9563128571302236.\n",
      "[I 2024-07-13 13:36:36,171] Trial 55 finished with value: 0.9549460452395458 and parameters: {'max_depth': 10, 'learning_rate': 0.10866398482003455, 'n_estimators': 176, 'subsample': 0.6352744821273831, 'colsample_bytree': 0.8513410433820564, 'lambda': 0.870920995887254, 'alpha': 0.5955311023069483}. Best is trial 36 with value: 0.9563128571302236.\n",
      "[I 2024-07-13 13:36:36,831] Trial 56 finished with value: 0.9522958126065779 and parameters: {'max_depth': 9, 'learning_rate': 0.061060946263195054, 'n_estimators': 134, 'subsample': 0.5716332433043678, 'colsample_bytree': 0.8835671681777427, 'lambda': 0.9360639707699316, 'alpha': 0.7011042103920189}. Best is trial 36 with value: 0.9563128571302236.\n",
      "[I 2024-07-13 13:36:37,328] Trial 57 finished with value: 0.9560859136065653 and parameters: {'max_depth': 7, 'learning_rate': 0.12842505686705763, 'n_estimators': 120, 'subsample': 0.8142069656516265, 'colsample_bytree': 0.7849398787948905, 'lambda': 0.809798055984581, 'alpha': 0.4005622228308493}. Best is trial 36 with value: 0.9563128571302236.\n",
      "[I 2024-07-13 13:36:37,697] Trial 58 finished with value: 0.9547500349315448 and parameters: {'max_depth': 5, 'learning_rate': 0.12687681802666512, 'n_estimators': 108, 'subsample': 0.8101241059963581, 'colsample_bytree': 0.7777211611981528, 'lambda': 0.6654224504621902, 'alpha': 0.37457182288876634}. Best is trial 36 with value: 0.9563128571302236.\n",
      "[I 2024-07-13 13:36:38,021] Trial 59 finished with value: 0.9520393081141612 and parameters: {'max_depth': 3, 'learning_rate': 0.09191673842217472, 'n_estimators': 118, 'subsample': 0.7617325875628166, 'colsample_bytree': 0.8022750060269441, 'lambda': 0.7874519185937097, 'alpha': 0.30860657060644525}. Best is trial 36 with value: 0.9563128571302236.\n",
      "[I 2024-07-13 13:36:38,435] Trial 60 finished with value: 0.9555503477812479 and parameters: {'max_depth': 4, 'learning_rate': 0.13911779648652703, 'n_estimators': 122, 'subsample': 0.8700743946268602, 'colsample_bytree': 0.8583745844254429, 'lambda': 0.8222952182655422, 'alpha': 0.4032944612491945}. Best is trial 36 with value: 0.9563128571302236.\n",
      "[I 2024-07-13 13:36:38,971] Trial 61 finished with value: 0.9545930388267125 and parameters: {'max_depth': 7, 'learning_rate': 0.21801155338801978, 'n_estimators': 136, 'subsample': 0.735504907874482, 'colsample_bytree': 0.7157215087809652, 'lambda': 0.8830396679188327, 'alpha': 0.44306681947978377}. Best is trial 36 with value: 0.9563128571302236.\n",
      "[I 2024-07-13 13:36:39,540] Trial 62 finished with value: 0.9540179772827212 and parameters: {'max_depth': 7, 'learning_rate': 0.1622822845676737, 'n_estimators': 144, 'subsample': 0.786869172102592, 'colsample_bytree': 0.7455492024781448, 'lambda': 0.7347673527220673, 'alpha': 0.49298451262767184}. Best is trial 36 with value: 0.9563128571302236.\n",
      "[I 2024-07-13 13:36:40,088] Trial 63 finished with value: 0.9549460452395458 and parameters: {'max_depth': 8, 'learning_rate': 0.11957244720804218, 'n_estimators': 127, 'subsample': 0.8500634092492293, 'colsample_bytree': 0.8340238081950527, 'lambda': 0.9600595042716882, 'alpha': 0.5364470572923429}. Best is trial 36 with value: 0.9563128571302236.\n",
      "[I 2024-07-13 13:36:40,719] Trial 64 finished with value: 0.9546364335239073 and parameters: {'max_depth': 6, 'learning_rate': 0.19369173343823867, 'n_estimators': 181, 'subsample': 0.8885833281161767, 'colsample_bytree': 0.7860621124989476, 'lambda': 0.8568014847609576, 'alpha': 0.4659144523663475}. Best is trial 36 with value: 0.9563128571302236.\n",
      "[I 2024-07-13 13:36:41,457] Trial 65 finished with value: 0.9549890043159879 and parameters: {'max_depth': 7, 'learning_rate': 0.17969695129512261, 'n_estimators': 194, 'subsample': 0.9374638138261427, 'colsample_bytree': 0.7645492124761677, 'lambda': 0.9251673856980873, 'alpha': 0.571741636733932}. Best is trial 36 with value: 0.9563128571302236.\n",
      "[I 2024-07-13 13:36:42,151] Trial 66 finished with value: 0.9522577809502292 and parameters: {'max_depth': 8, 'learning_rate': 0.20479232476493697, 'n_estimators': 166, 'subsample': 0.8235187398421833, 'colsample_bytree': 0.8088829612793871, 'lambda': 0.47045121526014655, 'alpha': 0.6407301420089856}. Best is trial 36 with value: 0.9563128571302236.\n",
      "[I 2024-07-13 13:36:42,478] Trial 67 finished with value: 0.9392957408810814 and parameters: {'max_depth': 1, 'learning_rate': 0.10347980197978252, 'n_estimators': 172, 'subsample': 0.9236427023384082, 'colsample_bytree': 0.5277457481274618, 'lambda': 0.9055145011350487, 'alpha': 0.755845287790468}. Best is trial 36 with value: 0.9563128571302236.\n",
      "[I 2024-07-13 13:36:42,810] Trial 68 finished with value: 0.9536209289230617 and parameters: {'max_depth': 8, 'learning_rate': 0.1462854138059084, 'n_estimators': 67, 'subsample': 0.5381496814974883, 'colsample_bytree': 0.6904838341223429, 'lambda': 0.8417039030040053, 'alpha': 0.5805216303328866}. Best is trial 36 with value: 0.9563128571302236.\n",
      "[I 2024-07-13 13:36:43,260] Trial 69 finished with value: 0.9557765201024077 and parameters: {'max_depth': 6, 'learning_rate': 0.18647186484018563, 'n_estimators': 111, 'subsample': 0.9102814114888853, 'colsample_bytree': 0.7480644962594297, 'lambda': 0.9697072508555975, 'alpha': 0.34596653459602034}. Best is trial 36 with value: 0.9563128571302236.\n",
      "[I 2024-07-13 13:36:43,684] Trial 70 finished with value: 0.9548918344150442 and parameters: {'max_depth': 6, 'learning_rate': 0.18692964281445545, 'n_estimators': 111, 'subsample': 0.9063990402197715, 'colsample_bytree': 0.7681676103831564, 'lambda': 0.3232619570521083, 'alpha': 0.28960282048790587}. Best is trial 36 with value: 0.9563128571302236.\n",
      "[I 2024-07-13 13:36:44,083] Trial 71 finished with value: 0.9572164682522929 and parameters: {'max_depth': 6, 'learning_rate': 0.17082494413690752, 'n_estimators': 103, 'subsample': 0.889401116965673, 'colsample_bytree': 0.7520841213806747, 'lambda': 0.8831826691792305, 'alpha': 0.19285576512363498}. Best is trial 71 with value: 0.9572164682522929.\n"
     ]
    },
    {
     "name": "stderr",
     "output_type": "stream",
     "text": [
      "[I 2024-07-13 13:36:44,526] Trial 72 finished with value: 0.9562493951736093 and parameters: {'max_depth': 5, 'learning_rate': 0.1712636670606246, 'n_estimators': 104, 'subsample': 0.95257222431625, 'colsample_bytree': 0.826549530181564, 'lambda': 0.9698149542849623, 'alpha': 0.18980662915945723}. Best is trial 71 with value: 0.9572164682522929.\n",
      "[I 2024-07-13 13:36:44,913] Trial 73 finished with value: 0.9541907250657408 and parameters: {'max_depth': 5, 'learning_rate': 0.1729925052144859, 'n_estimators': 100, 'subsample': 0.9790643595337566, 'colsample_bytree': 0.8296953120717899, 'lambda': 0.7944644431184948, 'alpha': 0.17908476376514276}. Best is trial 71 with value: 0.9572164682522929.\n",
      "[I 2024-07-13 13:36:45,275] Trial 74 finished with value: 0.9552831784268617 and parameters: {'max_depth': 5, 'learning_rate': 0.16169638919474438, 'n_estimators': 91, 'subsample': 0.8789078909584302, 'colsample_bytree': 0.815904374157886, 'lambda': 0.8896557584765298, 'alpha': 0.0857904399428524}. Best is trial 71 with value: 0.9572164682522929.\n",
      "[I 2024-07-13 13:36:45,613] Trial 75 finished with value: 0.9560616281219348 and parameters: {'max_depth': 4, 'learning_rate': 0.1474423037421089, 'n_estimators': 83, 'subsample': 0.9548382242820671, 'colsample_bytree': 0.8800112360378581, 'lambda': 0.7412218448655747, 'alpha': 0.14782438271014642}. Best is trial 71 with value: 0.9572164682522929.\n",
      "[I 2024-07-13 13:36:45,894] Trial 76 finished with value: 0.9556324097119319 and parameters: {'max_depth': 4, 'learning_rate': 0.14788646770457783, 'n_estimators': 79, 'subsample': 0.9550217344725841, 'colsample_bytree': 0.8794214175128442, 'lambda': 0.7520626150261852, 'alpha': 0.05110708716576809}. Best is trial 71 with value: 0.9572164682522929.\n",
      "[I 2024-07-13 13:36:46,141] Trial 77 finished with value: 0.9541478942231552 and parameters: {'max_depth': 4, 'learning_rate': 0.1724909147948769, 'n_estimators': 84, 'subsample': 0.9589951858011466, 'colsample_bytree': 0.9051544734573823, 'lambda': 0.9559787342965388, 'alpha': 0.14583291668798082}. Best is trial 71 with value: 0.9572164682522929.\n",
      "[I 2024-07-13 13:36:46,335] Trial 78 finished with value: 0.9482709139193592 and parameters: {'max_depth': 2, 'learning_rate': 0.13208708280445286, 'n_estimators': 72, 'subsample': 0.9265648721078465, 'colsample_bytree': 0.7896305729831399, 'lambda': 0.5421298266568317, 'alpha': 0.1868982479977037}. Best is trial 71 with value: 0.9572164682522929.\n",
      "[I 2024-07-13 13:36:46,575] Trial 79 finished with value: 0.9507704090822077 and parameters: {'max_depth': 5, 'learning_rate': 0.1581012923414494, 'n_estimators': 51, 'subsample': 0.9858388697382641, 'colsample_bytree': 0.9554225027566705, 'lambda': 0.7167313906899758, 'alpha': 0.24100585953387393}. Best is trial 71 with value: 0.9572164682522929.\n",
      "[I 2024-07-13 13:36:46,838] Trial 80 finished with value: 0.936221731495635 and parameters: {'max_depth': 3, 'learning_rate': 0.015092048715727058, 'n_estimators': 105, 'subsample': 0.9473123726285558, 'colsample_bytree': 0.9318588266074445, 'lambda': 0.9156298721803641, 'alpha': 0.11716980470677513}. Best is trial 71 with value: 0.9572164682522929.\n",
      "[I 2024-07-13 13:36:47,156] Trial 81 finished with value: 0.9546672912311935 and parameters: {'max_depth': 6, 'learning_rate': 0.14699158680248114, 'n_estimators': 86, 'subsample': 0.8880319478875669, 'colsample_bytree': 0.8423993299340907, 'lambda': 0.8345034039185404, 'alpha': 0.194414180869244}. Best is trial 71 with value: 0.9572164682522929.\n",
      "[I 2024-07-13 13:36:47,516] Trial 82 finished with value: 0.9526527771578533 and parameters: {'max_depth': 5, 'learning_rate': 0.12867581249987217, 'n_estimators': 96, 'subsample': 0.8480898349168356, 'colsample_bytree': 0.8647404151557582, 'lambda': 0.8745826630878262, 'alpha': 0.15427064250541386}. Best is trial 71 with value: 0.9572164682522929.\n",
      "[I 2024-07-13 13:36:47,847] Trial 83 finished with value: 0.9526963038934193 and parameters: {'max_depth': 4, 'learning_rate': 0.11935514634668251, 'n_estimators': 99, 'subsample': 0.9389010713855095, 'colsample_bytree': 0.8161495448705914, 'lambda': 0.8098722676707744, 'alpha': 0.2608231687859473}. Best is trial 71 with value: 0.9572164682522929.\n",
      "[I 2024-07-13 13:36:48,343] Trial 84 finished with value: 0.9542333210488403 and parameters: {'max_depth': 6, 'learning_rate': 0.08181195084285764, 'n_estimators': 116, 'subsample': 0.8653781260569443, 'colsample_bytree': 0.8413682339898332, 'lambda': 0.7742744913340726, 'alpha': 0.08057593057410929}. Best is trial 71 with value: 0.9572164682522929.\n",
      "[I 2024-07-13 13:36:48,812] Trial 85 finished with value: 0.9545836355293571 and parameters: {'max_depth': 6, 'learning_rate': 0.19633664778584053, 'n_estimators': 107, 'subsample': 0.9973129553125999, 'colsample_bytree': 0.912906007431382, 'lambda': 0.9803207627595528, 'alpha': 0.2327016300971902}. Best is trial 71 with value: 0.9572164682522929.\n",
      "[I 2024-07-13 13:36:49,172] Trial 86 finished with value: 0.9543597148268697 and parameters: {'max_depth': 3, 'learning_rate': 0.1691166559903115, 'n_estimators': 129, 'subsample': 0.967658072941815, 'colsample_bytree': 0.8566777655582904, 'lambda': 0.9374729013610281, 'alpha': 0.12166405933879514}. Best is trial 71 with value: 0.9572164682522929.\n",
      "[I 2024-07-13 13:36:49,734] Trial 87 finished with value: 0.9544564162248674 and parameters: {'max_depth': 7, 'learning_rate': 0.2508615853290222, 'n_estimators': 121, 'subsample': 0.8154974018105802, 'colsample_bytree': 0.805943248092937, 'lambda': 0.8663101016148653, 'alpha': 0.0494930435110687}. Best is trial 71 with value: 0.9572164682522929.\n",
      "[I 2024-07-13 13:36:50,371] Trial 88 finished with value: 0.9528284091648288 and parameters: {'max_depth': 10, 'learning_rate': 0.2301299296975424, 'n_estimators': 116, 'subsample': 0.8955670124353992, 'colsample_bytree': 0.8956188918112422, 'lambda': 0.9999822124932033, 'alpha': 0.6648859950200651}. Best is trial 71 with value: 0.9572164682522929.\n",
      "[I 2024-07-13 13:36:50,970] Trial 89 finished with value: 0.9554255514051604 and parameters: {'max_depth': 5, 'learning_rate': 0.27568591868246783, 'n_estimators': 186, 'subsample': 0.8360865235165681, 'colsample_bytree': 0.7804032175278831, 'lambda': 0.8969617115025702, 'alpha': 0.6183005051526292}. Best is trial 71 with value: 0.9572164682522929.\n",
      "[I 2024-07-13 13:36:51,608] Trial 90 finished with value: 0.9540179772827212 and parameters: {'max_depth': 9, 'learning_rate': 0.14106623120843, 'n_estimators': 124, 'subsample': 0.7957269544442686, 'colsample_bytree': 0.8726450626826296, 'lambda': 0.8514678062279126, 'alpha': 0.5221158281389309}. Best is trial 71 with value: 0.9572164682522929.\n",
      "[I 2024-07-13 13:36:52,113] Trial 91 finished with value: 0.9561271218106447 and parameters: {'max_depth': 6, 'learning_rate': 0.18973729282690516, 'n_estimators': 110, 'subsample': 0.9173346784030877, 'colsample_bytree': 0.7528900634555312, 'lambda': 0.9679692986978895, 'alpha': 0.3611551600768748}. Best is trial 71 with value: 0.9572164682522929.\n",
      "[I 2024-07-13 13:36:52,539] Trial 92 finished with value: 0.9547651892037553 and parameters: {'max_depth': 6, 'learning_rate': 0.2126776541540564, 'n_estimators': 108, 'subsample': 0.9179329050039292, 'colsample_bytree': 0.7612799937607979, 'lambda': 0.9486311556892283, 'alpha': 0.39418202927597445}. Best is trial 71 with value: 0.9572164682522929.\n",
      "[I 2024-07-13 13:36:53,075] Trial 93 finished with value: 0.9549460452395458 and parameters: {'max_depth': 7, 'learning_rate': 0.17863216788934244, 'n_estimators': 114, 'subsample': 0.8732634764932781, 'colsample_bytree': 0.7733743457680202, 'lambda': 0.9756970818589463, 'alpha': 0.7143125470161751}. Best is trial 71 with value: 0.9572164682522929.\n",
      "[I 2024-07-13 13:36:53,455] Trial 94 finished with value: 0.9528284091648288 and parameters: {'max_depth': 5, 'learning_rate': 0.15336031785008455, 'n_estimators': 103, 'subsample': 0.859479024779326, 'colsample_bytree': 0.7383900243841857, 'lambda': 0.924679351224432, 'alpha': 0.4226379468344749}. Best is trial 71 with value: 0.9572164682522929.\n",
      "[I 2024-07-13 13:36:53,774] Trial 95 finished with value: 0.9535315988076942 and parameters: {'max_depth': 6, 'learning_rate': 0.19239781112959473, 'n_estimators': 61, 'subsample': 0.9519680437322596, 'colsample_bytree': 0.8254329950671352, 'lambda': 0.8213898730214378, 'alpha': 0.21070253571402367}. Best is trial 71 with value: 0.9572164682522929.\n"
     ]
    },
    {
     "name": "stderr",
     "output_type": "stream",
     "text": [
      "[I 2024-07-13 13:36:54,175] Trial 96 finished with value: 0.9538826426247977 and parameters: {'max_depth': 7, 'learning_rate': 0.2025146865108635, 'n_estimators': 94, 'subsample': 0.9831414791325824, 'colsample_bytree': 0.7944204363388979, 'lambda': 0.8829130295520387, 'alpha': 0.16454103178645985}. Best is trial 71 with value: 0.9572164682522929.\n",
      "[I 2024-07-13 13:36:54,742] Trial 97 finished with value: 0.9547225071677589 and parameters: {'max_depth': 6, 'learning_rate': 0.16400427693788003, 'n_estimators': 118, 'subsample': 0.9325197274123159, 'colsample_bytree': 0.7092479399399001, 'lambda': 0.7921664871213808, 'alpha': 0.46805344867711063}. Best is trial 71 with value: 0.9572164682522929.\n",
      "[I 2024-07-13 13:36:55,138] Trial 98 finished with value: 0.9544990560814037 and parameters: {'max_depth': 4, 'learning_rate': 0.26870002554280564, 'n_estimators': 88, 'subsample': 0.9174618050308757, 'colsample_bytree': 0.7240419755647067, 'lambda': 0.9052822389556892, 'alpha': 0.3568629858044855}. Best is trial 71 with value: 0.9572164682522929.\n",
      "[I 2024-07-13 13:36:55,948] Trial 99 finished with value: 0.9528284091648288 and parameters: {'max_depth': 10, 'learning_rate': 0.2824332997713093, 'n_estimators': 139, 'subsample': 0.8781289303994575, 'colsample_bytree': 0.7564061755868463, 'lambda': 0.7477555715357584, 'alpha': 0.594766051800252}. Best is trial 71 with value: 0.9572164682522929.\n"
     ]
    },
    {
     "name": "stdout",
     "output_type": "stream",
     "text": [
      "Best hyperparameters:  {'max_depth': 6, 'learning_rate': 0.17082494413690752, 'n_estimators': 103, 'subsample': 0.889401116965673, 'colsample_bytree': 0.7520841213806747, 'lambda': 0.8831826691792305, 'alpha': 0.19285576512363498}\n",
      "Best F1 Score:  0.9572164682522929\n",
      "              precision    recall  f1-score   support\n",
      "\n",
      "           0       0.97      0.98      0.98      2599\n",
      "           1       0.87      0.84      0.86       459\n",
      "\n",
      "    accuracy                           0.96      3058\n",
      "   macro avg       0.92      0.91      0.92      3058\n",
      "weighted avg       0.96      0.96      0.96      3058\n",
      "\n"
     ]
    }
   ],
   "source": [
    "import optuna\n",
    "from xgboost import XGBClassifier\n",
    "from sklearn import metrics\n",
    "from sklearn.model_selection import train_test_split\n",
    "\n",
    "# Supposons que train_X, train_y, test_X, test_y soient déjà définis\n",
    "# train_X, train_y = ...\n",
    "# test_X, test_y = ...\n",
    "\n",
    "# Fonction objectif pour Optuna\n",
    "def objective(trial):\n",
    "    param = {\n",
    "        'max_depth': trial.suggest_int('max_depth', 1, 10),\n",
    "        'learning_rate': trial.suggest_float('learning_rate', 0.01, 0.3),\n",
    "        'n_estimators': trial.suggest_int('n_estimators', 50, 200),\n",
    "        'subsample': trial.suggest_float('subsample', 0.5, 1.0),\n",
    "        'colsample_bytree': trial.suggest_float('colsample_bytree', 0.5, 1.0),\n",
    "        'lambda': trial.suggest_float('lambda', 1e-8, 1.0),\n",
    "        'alpha': trial.suggest_float('alpha', 1e-8, 1.0)\n",
    "    }\n",
    "    \n",
    "    model = XGBClassifier(**param)\n",
    "    model.fit(train_X, train_y)\n",
    "    y_pred = model.predict(test_X)\n",
    "    \n",
    "    f1 = metrics.f1_score(test_y, y_pred, average='weighted')\n",
    "    \n",
    "    return f1\n",
    "\n",
    "# Créer une étude et optimiser\n",
    "study = optuna.create_study(direction='maximize')\n",
    "study.optimize(objective, n_trials=100)\n",
    "\n",
    "# Afficher les meilleurs hyperparamètres trouvés\n",
    "print(\"Best hyperparameters: \", study.best_params)\n",
    "print(\"Best F1 Score: \", study.best_value)\n",
    "\n",
    "# Entraîner le modèle final avec les meilleurs hyperparamètres\n",
    "best_params = study.best_params\n",
    "mod2 = XGBClassifier(**best_params)\n",
    "mod2.fit(train_X, train_y)\n",
    "y_pred = mod2.predict(test_X)\n",
    "\n",
    "# Afficher le rapport de classification\n",
    "print(metrics.classification_report(test_y, y_pred))\n"
   ]
  },
  {
   "cell_type": "code",
   "execution_count": null,
   "id": "5c99c90f",
   "metadata": {},
   "outputs": [],
   "source": [
    "X.columns"
   ]
  },
  {
   "cell_type": "code",
   "execution_count": 115,
   "id": "47d376af",
   "metadata": {},
   "outputs": [
    {
     "name": "stdout",
     "output_type": "stream",
     "text": [
      "              precision    recall  f1-score   support\n",
      "\n",
      "           0       0.97      0.97      0.97      2599\n",
      "           1       0.86      0.85      0.85       459\n",
      "\n",
      "    accuracy                           0.96      3058\n",
      "   macro avg       0.91      0.91      0.91      3058\n",
      "weighted avg       0.96      0.96      0.96      3058\n",
      "\n"
     ]
    }
   ],
   "source": [
    "from xgboost import XGBClassifier\n",
    "from sklearn import metrics\n",
    "\n",
    "# Meilleurs hyperparamètres trouvés par Optuna\n",
    "best_params = {\n",
    "#'max_depth': 2, 'learning_rate': 0.2740780006003557, 'n_estimators': 117, 'subsample': 0.8134669523943612, 'colsample_bytree': 0.8932812355637438, 'lambda': 0.6534866449652548, 'alpha': 0.3900613201038617}\n",
    "#'max_depth': 3, 'learning_rate': 0.10364451989002138, 'n_estimators': 182, 'subsample': 0.9023323246328732, 'colsample_bytree': 0.5002047608052723, 'lambda': 0.9416871815160042, 'alpha': 0.21074793850771617}\n",
    "#'max_depth': 2, 'learning_rate': 0.1468376780264476, 'n_estimators': 147, 'subsample': 0.7141902819964004, 'colsample_bytree': 0.7005928170782816, 'lambda': 0.13765734840667992, 'alpha': 0.6725893525099642}\n",
    " 'max_depth': 4, 'learning_rate': 0.10720971493451222, 'n_estimators': 118, 'subsample': 0.7743265200463172, 'colsample_bytree': 0.9274148071573503, 'lambda': 0.2778779637741136, 'alpha': 0.8296453216452545}\n",
    "    # Entraîner le modèle final avec les meilleurs hyperparamètres\n",
    "mod7= XGBClassifier(**best_params)\n",
    "mod7.fit(train_X, train_y)\n",
    "y_pred = mod7.predict(test_X)\n",
    "\n",
    "# Afficher le rapport de classification\n",
    "print(metrics.classification_report(test_y, y_pred))\n"
   ]
  },
  {
   "cell_type": "code",
   "execution_count": null,
   "id": "06fa6d7d",
   "metadata": {},
   "outputs": [],
   "source": [
    "import pickle\n",
    "\n",
    "file = './App_Model3.pkl'\n",
    "with open(file, 'wb') as f:\n",
    "    pickle.dump(mod5, f)"
   ]
  },
  {
   "cell_type": "code",
   "execution_count": null,
   "id": "d1f99679",
   "metadata": {},
   "outputs": [],
   "source": []
  },
  {
   "cell_type": "code",
   "execution_count": null,
   "id": "2cc8892a",
   "metadata": {},
   "outputs": [],
   "source": []
  },
  {
   "cell_type": "code",
   "execution_count": null,
   "id": "9cc7f138",
   "metadata": {},
   "outputs": [],
   "source": []
  },
  {
   "cell_type": "markdown",
   "id": "c5b94bda",
   "metadata": {},
   "source": [
    "# Reseaux de neurones"
   ]
  },
  {
   "cell_type": "code",
   "execution_count": null,
   "id": "aab96d8d",
   "metadata": {},
   "outputs": [],
   "source": [
    "import optuna\n",
    "import numpy as np\n",
    "from sklearn.model_selection import train_test_split\n",
    "from sklearn.preprocessing import StandardScaler\n",
    "from sklearn.metrics import classification_report\n",
    "from tensorflow.keras.models import Sequential\n",
    "from tensorflow.keras.layers import Dense, Dropout\n",
    "from tensorflow.keras.optimizers import Adam\n",
    "from tensorflow.keras.utils import to_categorical\n",
    "\n",
    "# Supposons que train_X, train_y, test_X, test_y soient déjà définis\n",
    "# Prétraitement des données (normalisation)\n",
    "scaler = StandardScaler()\n",
    "train_X = scaler.fit_transform(train_X)\n",
    "test_X = scaler.transform(test_X)\n",
    "\n",
    "# Convertir les étiquettes en catégories pour la classification multi-classe\n",
    "train_y = to_categorical(train_y)\n",
    "test_y = to_categorical(test_y)\n",
    "\n",
    "# Fonction objectif pour Optuna\n",
    "def objective(trial):\n",
    "    # Définir les hyperparamètres à optimiser\n",
    "    n_layers = trial.suggest_int('n_layers', 1, 3)\n",
    "    activation = trial.suggest_categorical('activation', ['relu', 'sigmoid'])\n",
    "    optimizer = trial.suggest_categorical('optimizer', ['adam', 'rmsprop'])\n",
    "    dropout_rate = trial.suggest_float('dropout_rate', 0.0, 0.5)\n",
    "    \n",
    "    # Construire le modèle de réseau de neurones\n",
    "    model = Sequential()\n",
    "    input_shape = train_X.shape[1]\n",
    "    \n",
    "    for i in range(n_layers):\n",
    "        num_hidden = trial.suggest_int(f'n_units_l{i}', 32, 128)\n",
    "        if i == 0:\n",
    "            model.add(Dense(num_hidden, activation=activation, input_shape=(input_shape,)))\n",
    "        else:\n",
    "            model.add(Dense(num_hidden, activation=activation))\n",
    "        model.add(Dropout(dropout_rate))\n",
    "    \n",
    "    model.add(Dense(train_y.shape[1], activation='softmax'))\n",
    "    \n",
    "    model.compile(optimizer=optimizer, loss='categorical_crossentropy', metrics=['accuracy'])\n",
    "    \n",
    "    model.fit(train_X, train_y, epochs=50, batch_size=32, verbose=0, validation_split=0.2)\n",
    "    \n",
    "    # Évaluer le modèle sur les données de test\n",
    "    loss, accuracy = model.evaluate(test_X, test_y, verbose=0)\n",
    "    \n",
    "    return accuracy\n",
    "\n",
    "# Créer une étude et optimiser\n",
    "study = optuna.create_study(direction='maximize')\n",
    "study.optimize(objective, n_trials=50)\n",
    "\n",
    "# Afficher les meilleurs hyperparamètres trouvés\n",
    "print(\"Best hyperparameters: \", study.best_params)\n",
    "print(\"Best Accuracy: \", study.best_value)\n",
    "\n",
    "# Entraîner le modèle final avec les meilleurs hyperparamètres\n",
    "best_params = study.best_params\n",
    "model = Sequential()\n",
    "input_shape = train_X.shape[1]\n",
    "\n",
    "for i in range(best_params['n_layers']):\n",
    "    num_hidden = best_params[f'n_units_l{i}']\n",
    "    if i == 0:\n",
    "        model.add(Dense(num_hidden, activation=best_params['activation'], input_shape=(input_shape,)))\n",
    "    else:\n",
    "        model.add(Dense(num_hidden, activation=best_params['activation']))\n",
    "    model.add(Dropout(best_params['dropout_rate']))\n",
    "\n",
    "model.add(Dense(train_y.shape[1], activation='softmax'))\n",
    "\n",
    "model.compile(optimizer=best_params['optimizer'], loss='categorical_crossentropy', metrics=['accuracy'])\n",
    "model.fit(train_X, train_y, epochs=50, batch_size=32, verbose=0)\n",
    "\n",
    "# Évaluer le modèle final\n",
    "y_pred = model.predict(test_X)\n",
    "y_pred_classes = np.argmax(y_pred, axis=1)\n",
    "test_y_classes = np.argmax(test_y, axis=1)\n",
    "print(classification_report(test_y_classes, y_pred_classes))\n"
   ]
  },
  {
   "cell_type": "code",
   "execution_count": 117,
   "id": "bc894bad",
   "metadata": {},
   "outputs": [
    {
     "ename": "KeyboardInterrupt",
     "evalue": "",
     "output_type": "error",
     "traceback": [
      "\u001b[1;31m---------------------------------------------------------------------------\u001b[0m",
      "\u001b[1;31mKeyboardInterrupt\u001b[0m                         Traceback (most recent call last)",
      "\u001b[1;32m~\\AppData\\Local\\Temp\\ipykernel_15248\\1651876912.py\u001b[0m in \u001b[0;36m<module>\u001b[1;34m\u001b[0m\n\u001b[0;32m      3\u001b[0m \u001b[1;32mfrom\u001b[0m \u001b[0msklearn\u001b[0m\u001b[1;33m.\u001b[0m\u001b[0mmodel_selection\u001b[0m \u001b[1;32mimport\u001b[0m \u001b[0mtrain_test_split\u001b[0m\u001b[1;33m\u001b[0m\u001b[1;33m\u001b[0m\u001b[0m\n\u001b[0;32m      4\u001b[0m \u001b[1;32mfrom\u001b[0m \u001b[0msklearn\u001b[0m\u001b[1;33m.\u001b[0m\u001b[0mmetrics\u001b[0m \u001b[1;32mimport\u001b[0m \u001b[0mclassification_report\u001b[0m\u001b[1;33m\u001b[0m\u001b[1;33m\u001b[0m\u001b[0m\n\u001b[1;32m----> 5\u001b[1;33m \u001b[1;32mfrom\u001b[0m \u001b[0mtensorflow\u001b[0m\u001b[1;33m.\u001b[0m\u001b[0mkeras\u001b[0m\u001b[1;33m.\u001b[0m\u001b[0mmodels\u001b[0m \u001b[1;32mimport\u001b[0m \u001b[0mSequential\u001b[0m\u001b[1;33m\u001b[0m\u001b[1;33m\u001b[0m\u001b[0m\n\u001b[0m\u001b[0;32m      6\u001b[0m \u001b[1;32mfrom\u001b[0m \u001b[0mtensorflow\u001b[0m\u001b[1;33m.\u001b[0m\u001b[0mkeras\u001b[0m\u001b[1;33m.\u001b[0m\u001b[0mlayers\u001b[0m \u001b[1;32mimport\u001b[0m \u001b[0mDense\u001b[0m\u001b[1;33m,\u001b[0m \u001b[0mDropout\u001b[0m\u001b[1;33m\u001b[0m\u001b[1;33m\u001b[0m\u001b[0m\n\u001b[0;32m      7\u001b[0m \u001b[1;32mfrom\u001b[0m \u001b[0mtensorflow\u001b[0m\u001b[1;33m.\u001b[0m\u001b[0mkeras\u001b[0m\u001b[1;33m.\u001b[0m\u001b[0moptimizers\u001b[0m \u001b[1;32mimport\u001b[0m \u001b[0mAdam\u001b[0m\u001b[1;33m\u001b[0m\u001b[1;33m\u001b[0m\u001b[0m\n",
      "\u001b[1;32m~\\anaconda3\\lib\\site-packages\\tensorflow\\__init__.py\u001b[0m in \u001b[0;36m<module>\u001b[1;34m\u001b[0m\n\u001b[0;32m     52\u001b[0m \u001b[1;32mfrom\u001b[0m \u001b[0mtensorflow\u001b[0m\u001b[1;33m.\u001b[0m\u001b[0m_api\u001b[0m\u001b[1;33m.\u001b[0m\u001b[0mv2\u001b[0m \u001b[1;32mimport\u001b[0m \u001b[0mautograph\u001b[0m\u001b[1;33m\u001b[0m\u001b[1;33m\u001b[0m\u001b[0m\n\u001b[0;32m     53\u001b[0m \u001b[1;32mfrom\u001b[0m \u001b[0mtensorflow\u001b[0m\u001b[1;33m.\u001b[0m\u001b[0m_api\u001b[0m\u001b[1;33m.\u001b[0m\u001b[0mv2\u001b[0m \u001b[1;32mimport\u001b[0m \u001b[0mbitwise\u001b[0m\u001b[1;33m\u001b[0m\u001b[1;33m\u001b[0m\u001b[0m\n\u001b[1;32m---> 54\u001b[1;33m \u001b[1;32mfrom\u001b[0m \u001b[0mtensorflow\u001b[0m\u001b[1;33m.\u001b[0m\u001b[0m_api\u001b[0m\u001b[1;33m.\u001b[0m\u001b[0mv2\u001b[0m \u001b[1;32mimport\u001b[0m \u001b[0mcompat\u001b[0m\u001b[1;33m\u001b[0m\u001b[1;33m\u001b[0m\u001b[0m\n\u001b[0m\u001b[0;32m     55\u001b[0m \u001b[1;32mfrom\u001b[0m \u001b[0mtensorflow\u001b[0m\u001b[1;33m.\u001b[0m\u001b[0m_api\u001b[0m\u001b[1;33m.\u001b[0m\u001b[0mv2\u001b[0m \u001b[1;32mimport\u001b[0m \u001b[0mconfig\u001b[0m\u001b[1;33m\u001b[0m\u001b[1;33m\u001b[0m\u001b[0m\n\u001b[0;32m     56\u001b[0m \u001b[1;32mfrom\u001b[0m \u001b[0mtensorflow\u001b[0m\u001b[1;33m.\u001b[0m\u001b[0m_api\u001b[0m\u001b[1;33m.\u001b[0m\u001b[0mv2\u001b[0m \u001b[1;32mimport\u001b[0m \u001b[0mdata\u001b[0m\u001b[1;33m\u001b[0m\u001b[1;33m\u001b[0m\u001b[0m\n",
      "\u001b[1;32m~\\anaconda3\\lib\\site-packages\\tensorflow\\_api\\v2\\compat\\__init__.py\u001b[0m in \u001b[0;36m<module>\u001b[1;34m\u001b[0m\n\u001b[0;32m      6\u001b[0m \u001b[1;32mimport\u001b[0m \u001b[0msys\u001b[0m \u001b[1;32mas\u001b[0m \u001b[0m_sys\u001b[0m\u001b[1;33m\u001b[0m\u001b[1;33m\u001b[0m\u001b[0m\n\u001b[0;32m      7\u001b[0m \u001b[1;33m\u001b[0m\u001b[0m\n\u001b[1;32m----> 8\u001b[1;33m \u001b[1;32mfrom\u001b[0m \u001b[0mtensorflow\u001b[0m\u001b[1;33m.\u001b[0m\u001b[0m_api\u001b[0m\u001b[1;33m.\u001b[0m\u001b[0mv2\u001b[0m\u001b[1;33m.\u001b[0m\u001b[0mcompat\u001b[0m \u001b[1;32mimport\u001b[0m \u001b[0mv1\u001b[0m\u001b[1;33m\u001b[0m\u001b[1;33m\u001b[0m\u001b[0m\n\u001b[0m\u001b[0;32m      9\u001b[0m \u001b[1;32mfrom\u001b[0m \u001b[0mtensorflow\u001b[0m\u001b[1;33m.\u001b[0m\u001b[0m_api\u001b[0m\u001b[1;33m.\u001b[0m\u001b[0mv2\u001b[0m\u001b[1;33m.\u001b[0m\u001b[0mcompat\u001b[0m \u001b[1;32mimport\u001b[0m \u001b[0mv2\u001b[0m\u001b[1;33m\u001b[0m\u001b[1;33m\u001b[0m\u001b[0m\n\u001b[0;32m     10\u001b[0m \u001b[1;32mfrom\u001b[0m \u001b[0mtensorflow\u001b[0m\u001b[1;33m.\u001b[0m\u001b[0mpython\u001b[0m\u001b[1;33m.\u001b[0m\u001b[0mcompat\u001b[0m\u001b[1;33m.\u001b[0m\u001b[0mcompat\u001b[0m \u001b[1;32mimport\u001b[0m \u001b[0mforward_compatibility_horizon\u001b[0m \u001b[1;31m# line: 125\u001b[0m\u001b[1;33m\u001b[0m\u001b[1;33m\u001b[0m\u001b[0m\n",
      "\u001b[1;32m~\\anaconda3\\lib\\site-packages\\tensorflow\\_api\\v2\\compat\\v1\\__init__.py\u001b[0m in \u001b[0;36m<module>\u001b[1;34m\u001b[0m\n\u001b[0;32m     30\u001b[0m \u001b[1;32mfrom\u001b[0m \u001b[0mtensorflow\u001b[0m\u001b[1;33m.\u001b[0m\u001b[0m_api\u001b[0m\u001b[1;33m.\u001b[0m\u001b[0mv2\u001b[0m\u001b[1;33m.\u001b[0m\u001b[0mcompat\u001b[0m\u001b[1;33m.\u001b[0m\u001b[0mv1\u001b[0m \u001b[1;32mimport\u001b[0m \u001b[0mautograph\u001b[0m\u001b[1;33m\u001b[0m\u001b[1;33m\u001b[0m\u001b[0m\n\u001b[0;32m     31\u001b[0m \u001b[1;32mfrom\u001b[0m \u001b[0mtensorflow\u001b[0m\u001b[1;33m.\u001b[0m\u001b[0m_api\u001b[0m\u001b[1;33m.\u001b[0m\u001b[0mv2\u001b[0m\u001b[1;33m.\u001b[0m\u001b[0mcompat\u001b[0m\u001b[1;33m.\u001b[0m\u001b[0mv1\u001b[0m \u001b[1;32mimport\u001b[0m \u001b[0mbitwise\u001b[0m\u001b[1;33m\u001b[0m\u001b[1;33m\u001b[0m\u001b[0m\n\u001b[1;32m---> 32\u001b[1;33m \u001b[1;32mfrom\u001b[0m \u001b[0mtensorflow\u001b[0m\u001b[1;33m.\u001b[0m\u001b[0m_api\u001b[0m\u001b[1;33m.\u001b[0m\u001b[0mv2\u001b[0m\u001b[1;33m.\u001b[0m\u001b[0mcompat\u001b[0m\u001b[1;33m.\u001b[0m\u001b[0mv1\u001b[0m \u001b[1;32mimport\u001b[0m \u001b[0mcompat\u001b[0m\u001b[1;33m\u001b[0m\u001b[1;33m\u001b[0m\u001b[0m\n\u001b[0m\u001b[0;32m     33\u001b[0m \u001b[1;32mfrom\u001b[0m \u001b[0mtensorflow\u001b[0m\u001b[1;33m.\u001b[0m\u001b[0m_api\u001b[0m\u001b[1;33m.\u001b[0m\u001b[0mv2\u001b[0m\u001b[1;33m.\u001b[0m\u001b[0mcompat\u001b[0m\u001b[1;33m.\u001b[0m\u001b[0mv1\u001b[0m \u001b[1;32mimport\u001b[0m \u001b[0mconfig\u001b[0m\u001b[1;33m\u001b[0m\u001b[1;33m\u001b[0m\u001b[0m\n\u001b[0;32m     34\u001b[0m \u001b[1;32mfrom\u001b[0m \u001b[0mtensorflow\u001b[0m\u001b[1;33m.\u001b[0m\u001b[0m_api\u001b[0m\u001b[1;33m.\u001b[0m\u001b[0mv2\u001b[0m\u001b[1;33m.\u001b[0m\u001b[0mcompat\u001b[0m\u001b[1;33m.\u001b[0m\u001b[0mv1\u001b[0m \u001b[1;32mimport\u001b[0m \u001b[0mdata\u001b[0m\u001b[1;33m\u001b[0m\u001b[1;33m\u001b[0m\u001b[0m\n",
      "\u001b[1;32m~\\anaconda3\\lib\\site-packages\\tensorflow\\_api\\v2\\compat\\v1\\compat\\__init__.py\u001b[0m in \u001b[0;36m<module>\u001b[1;34m\u001b[0m\n\u001b[0;32m      7\u001b[0m \u001b[1;33m\u001b[0m\u001b[0m\n\u001b[0;32m      8\u001b[0m \u001b[1;32mfrom\u001b[0m \u001b[0mtensorflow\u001b[0m\u001b[1;33m.\u001b[0m\u001b[0m_api\u001b[0m\u001b[1;33m.\u001b[0m\u001b[0mv2\u001b[0m\u001b[1;33m.\u001b[0m\u001b[0mcompat\u001b[0m\u001b[1;33m.\u001b[0m\u001b[0mv1\u001b[0m\u001b[1;33m.\u001b[0m\u001b[0mcompat\u001b[0m \u001b[1;32mimport\u001b[0m \u001b[0mv1\u001b[0m\u001b[1;33m\u001b[0m\u001b[1;33m\u001b[0m\u001b[0m\n\u001b[1;32m----> 9\u001b[1;33m \u001b[1;32mfrom\u001b[0m \u001b[0mtensorflow\u001b[0m\u001b[1;33m.\u001b[0m\u001b[0m_api\u001b[0m\u001b[1;33m.\u001b[0m\u001b[0mv2\u001b[0m\u001b[1;33m.\u001b[0m\u001b[0mcompat\u001b[0m\u001b[1;33m.\u001b[0m\u001b[0mv1\u001b[0m\u001b[1;33m.\u001b[0m\u001b[0mcompat\u001b[0m \u001b[1;32mimport\u001b[0m \u001b[0mv2\u001b[0m\u001b[1;33m\u001b[0m\u001b[1;33m\u001b[0m\u001b[0m\n\u001b[0m\u001b[0;32m     10\u001b[0m \u001b[1;32mfrom\u001b[0m \u001b[0mtensorflow\u001b[0m\u001b[1;33m.\u001b[0m\u001b[0mpython\u001b[0m\u001b[1;33m.\u001b[0m\u001b[0mcompat\u001b[0m\u001b[1;33m.\u001b[0m\u001b[0mcompat\u001b[0m \u001b[1;32mimport\u001b[0m \u001b[0mforward_compatibility_horizon\u001b[0m \u001b[1;31m# line: 125\u001b[0m\u001b[1;33m\u001b[0m\u001b[1;33m\u001b[0m\u001b[0m\n\u001b[0;32m     11\u001b[0m \u001b[1;32mfrom\u001b[0m \u001b[0mtensorflow\u001b[0m\u001b[1;33m.\u001b[0m\u001b[0mpython\u001b[0m\u001b[1;33m.\u001b[0m\u001b[0mcompat\u001b[0m\u001b[1;33m.\u001b[0m\u001b[0mcompat\u001b[0m \u001b[1;32mimport\u001b[0m \u001b[0mforward_compatible\u001b[0m \u001b[1;31m# line: 65\u001b[0m\u001b[1;33m\u001b[0m\u001b[1;33m\u001b[0m\u001b[0m\n",
      "\u001b[1;32m~\\anaconda3\\lib\\site-packages\\tensorflow\\_api\\v2\\compat\\v1\\compat\\v2\\__init__.py\u001b[0m in \u001b[0;36m<module>\u001b[1;34m\u001b[0m\n\u001b[0;32m     26\u001b[0m \u001b[1;32mfrom\u001b[0m \u001b[0mtensorflow\u001b[0m\u001b[1;33m.\u001b[0m\u001b[0mpython\u001b[0m\u001b[1;33m.\u001b[0m\u001b[0mutil\u001b[0m\u001b[1;33m.\u001b[0m\u001b[0mlazy_loader\u001b[0m \u001b[1;32mimport\u001b[0m \u001b[0mKerasLazyLoader\u001b[0m \u001b[1;32mas\u001b[0m \u001b[0m_KerasLazyLoader\u001b[0m\u001b[1;33m\u001b[0m\u001b[1;33m\u001b[0m\u001b[0m\n\u001b[0;32m     27\u001b[0m \u001b[1;33m\u001b[0m\u001b[0m\n\u001b[1;32m---> 28\u001b[1;33m \u001b[1;32mfrom\u001b[0m \u001b[0mtensorflow\u001b[0m\u001b[1;33m.\u001b[0m\u001b[0m_api\u001b[0m\u001b[1;33m.\u001b[0m\u001b[0mv2\u001b[0m\u001b[1;33m.\u001b[0m\u001b[0mcompat\u001b[0m\u001b[1;33m.\u001b[0m\u001b[0mv2\u001b[0m \u001b[1;32mimport\u001b[0m \u001b[0m__internal__\u001b[0m\u001b[1;33m\u001b[0m\u001b[1;33m\u001b[0m\u001b[0m\n\u001b[0m\u001b[0;32m     29\u001b[0m \u001b[1;32mfrom\u001b[0m \u001b[0mtensorflow\u001b[0m\u001b[1;33m.\u001b[0m\u001b[0m_api\u001b[0m\u001b[1;33m.\u001b[0m\u001b[0mv2\u001b[0m\u001b[1;33m.\u001b[0m\u001b[0mcompat\u001b[0m\u001b[1;33m.\u001b[0m\u001b[0mv2\u001b[0m \u001b[1;32mimport\u001b[0m \u001b[0m__operators__\u001b[0m\u001b[1;33m\u001b[0m\u001b[1;33m\u001b[0m\u001b[0m\n\u001b[0;32m     30\u001b[0m \u001b[1;32mfrom\u001b[0m \u001b[0mtensorflow\u001b[0m\u001b[1;33m.\u001b[0m\u001b[0m_api\u001b[0m\u001b[1;33m.\u001b[0m\u001b[0mv2\u001b[0m\u001b[1;33m.\u001b[0m\u001b[0mcompat\u001b[0m\u001b[1;33m.\u001b[0m\u001b[0mv2\u001b[0m \u001b[1;32mimport\u001b[0m \u001b[0maudio\u001b[0m\u001b[1;33m\u001b[0m\u001b[1;33m\u001b[0m\u001b[0m\n",
      "\u001b[1;32m~\\anaconda3\\lib\\site-packages\\tensorflow\\_api\\v2\\compat\\v2\\__init__.py\u001b[0m in \u001b[0;36m<module>\u001b[1;34m\u001b[0m\n\u001b[0;32m     32\u001b[0m \u001b[1;32mfrom\u001b[0m \u001b[0mtensorflow\u001b[0m\u001b[1;33m.\u001b[0m\u001b[0m_api\u001b[0m\u001b[1;33m.\u001b[0m\u001b[0mv2\u001b[0m\u001b[1;33m.\u001b[0m\u001b[0mcompat\u001b[0m\u001b[1;33m.\u001b[0m\u001b[0mv2\u001b[0m \u001b[1;32mimport\u001b[0m \u001b[0mautograph\u001b[0m\u001b[1;33m\u001b[0m\u001b[1;33m\u001b[0m\u001b[0m\n\u001b[0;32m     33\u001b[0m \u001b[1;32mfrom\u001b[0m \u001b[0mtensorflow\u001b[0m\u001b[1;33m.\u001b[0m\u001b[0m_api\u001b[0m\u001b[1;33m.\u001b[0m\u001b[0mv2\u001b[0m\u001b[1;33m.\u001b[0m\u001b[0mcompat\u001b[0m\u001b[1;33m.\u001b[0m\u001b[0mv2\u001b[0m \u001b[1;32mimport\u001b[0m \u001b[0mbitwise\u001b[0m\u001b[1;33m\u001b[0m\u001b[1;33m\u001b[0m\u001b[0m\n\u001b[1;32m---> 34\u001b[1;33m \u001b[1;32mfrom\u001b[0m \u001b[0mtensorflow\u001b[0m\u001b[1;33m.\u001b[0m\u001b[0m_api\u001b[0m\u001b[1;33m.\u001b[0m\u001b[0mv2\u001b[0m\u001b[1;33m.\u001b[0m\u001b[0mcompat\u001b[0m\u001b[1;33m.\u001b[0m\u001b[0mv2\u001b[0m \u001b[1;32mimport\u001b[0m \u001b[0mcompat\u001b[0m\u001b[1;33m\u001b[0m\u001b[1;33m\u001b[0m\u001b[0m\n\u001b[0m\u001b[0;32m     35\u001b[0m \u001b[1;32mfrom\u001b[0m \u001b[0mtensorflow\u001b[0m\u001b[1;33m.\u001b[0m\u001b[0m_api\u001b[0m\u001b[1;33m.\u001b[0m\u001b[0mv2\u001b[0m\u001b[1;33m.\u001b[0m\u001b[0mcompat\u001b[0m\u001b[1;33m.\u001b[0m\u001b[0mv2\u001b[0m \u001b[1;32mimport\u001b[0m \u001b[0mconfig\u001b[0m\u001b[1;33m\u001b[0m\u001b[1;33m\u001b[0m\u001b[0m\n\u001b[0;32m     36\u001b[0m \u001b[1;32mfrom\u001b[0m \u001b[0mtensorflow\u001b[0m\u001b[1;33m.\u001b[0m\u001b[0m_api\u001b[0m\u001b[1;33m.\u001b[0m\u001b[0mv2\u001b[0m\u001b[1;33m.\u001b[0m\u001b[0mcompat\u001b[0m\u001b[1;33m.\u001b[0m\u001b[0mv2\u001b[0m \u001b[1;32mimport\u001b[0m \u001b[0mdata\u001b[0m\u001b[1;33m\u001b[0m\u001b[1;33m\u001b[0m\u001b[0m\n",
      "\u001b[1;32m~\\anaconda3\\lib\\site-packages\\tensorflow\\_api\\v2\\compat\\v2\\compat\\__init__.py\u001b[0m in \u001b[0;36m<module>\u001b[1;34m\u001b[0m\n\u001b[0;32m      7\u001b[0m \u001b[1;33m\u001b[0m\u001b[0m\n\u001b[0;32m      8\u001b[0m \u001b[1;32mfrom\u001b[0m \u001b[0mtensorflow\u001b[0m\u001b[1;33m.\u001b[0m\u001b[0m_api\u001b[0m\u001b[1;33m.\u001b[0m\u001b[0mv2\u001b[0m\u001b[1;33m.\u001b[0m\u001b[0mcompat\u001b[0m\u001b[1;33m.\u001b[0m\u001b[0mv2\u001b[0m\u001b[1;33m.\u001b[0m\u001b[0mcompat\u001b[0m \u001b[1;32mimport\u001b[0m \u001b[0mv1\u001b[0m\u001b[1;33m\u001b[0m\u001b[1;33m\u001b[0m\u001b[0m\n\u001b[1;32m----> 9\u001b[1;33m \u001b[1;32mfrom\u001b[0m \u001b[0mtensorflow\u001b[0m\u001b[1;33m.\u001b[0m\u001b[0m_api\u001b[0m\u001b[1;33m.\u001b[0m\u001b[0mv2\u001b[0m\u001b[1;33m.\u001b[0m\u001b[0mcompat\u001b[0m\u001b[1;33m.\u001b[0m\u001b[0mv2\u001b[0m\u001b[1;33m.\u001b[0m\u001b[0mcompat\u001b[0m \u001b[1;32mimport\u001b[0m \u001b[0mv2\u001b[0m\u001b[1;33m\u001b[0m\u001b[1;33m\u001b[0m\u001b[0m\n\u001b[0m\u001b[0;32m     10\u001b[0m \u001b[1;32mfrom\u001b[0m \u001b[0mtensorflow\u001b[0m\u001b[1;33m.\u001b[0m\u001b[0mpython\u001b[0m\u001b[1;33m.\u001b[0m\u001b[0mcompat\u001b[0m\u001b[1;33m.\u001b[0m\u001b[0mcompat\u001b[0m \u001b[1;32mimport\u001b[0m \u001b[0mforward_compatibility_horizon\u001b[0m \u001b[1;31m# line: 125\u001b[0m\u001b[1;33m\u001b[0m\u001b[1;33m\u001b[0m\u001b[0m\n\u001b[0;32m     11\u001b[0m \u001b[1;32mfrom\u001b[0m \u001b[0mtensorflow\u001b[0m\u001b[1;33m.\u001b[0m\u001b[0mpython\u001b[0m\u001b[1;33m.\u001b[0m\u001b[0mcompat\u001b[0m\u001b[1;33m.\u001b[0m\u001b[0mcompat\u001b[0m \u001b[1;32mimport\u001b[0m \u001b[0mforward_compatible\u001b[0m \u001b[1;31m# line: 65\u001b[0m\u001b[1;33m\u001b[0m\u001b[1;33m\u001b[0m\u001b[0m\n",
      "\u001b[1;32m~\\anaconda3\\lib\\site-packages\\tensorflow\\_api\\v2\\compat\\v2\\compat\\v2\\__init__.py\u001b[0m in \u001b[0;36m<module>\u001b[1;34m\u001b[0m\n\u001b[0;32m     39\u001b[0m \u001b[1;32mfrom\u001b[0m \u001b[0mtensorflow\u001b[0m\u001b[1;33m.\u001b[0m\u001b[0m_api\u001b[0m\u001b[1;33m.\u001b[0m\u001b[0mv2\u001b[0m\u001b[1;33m.\u001b[0m\u001b[0mcompat\u001b[0m\u001b[1;33m.\u001b[0m\u001b[0mv2\u001b[0m \u001b[1;32mimport\u001b[0m \u001b[0mdtypes\u001b[0m\u001b[1;33m\u001b[0m\u001b[1;33m\u001b[0m\u001b[0m\n\u001b[0;32m     40\u001b[0m \u001b[1;32mfrom\u001b[0m \u001b[0mtensorflow\u001b[0m\u001b[1;33m.\u001b[0m\u001b[0m_api\u001b[0m\u001b[1;33m.\u001b[0m\u001b[0mv2\u001b[0m\u001b[1;33m.\u001b[0m\u001b[0mcompat\u001b[0m\u001b[1;33m.\u001b[0m\u001b[0mv2\u001b[0m \u001b[1;32mimport\u001b[0m \u001b[0merrors\u001b[0m\u001b[1;33m\u001b[0m\u001b[1;33m\u001b[0m\u001b[0m\n\u001b[1;32m---> 41\u001b[1;33m \u001b[1;32mfrom\u001b[0m \u001b[0mtensorflow\u001b[0m\u001b[1;33m.\u001b[0m\u001b[0m_api\u001b[0m\u001b[1;33m.\u001b[0m\u001b[0mv2\u001b[0m\u001b[1;33m.\u001b[0m\u001b[0mcompat\u001b[0m\u001b[1;33m.\u001b[0m\u001b[0mv2\u001b[0m \u001b[1;32mimport\u001b[0m \u001b[0mexperimental\u001b[0m\u001b[1;33m\u001b[0m\u001b[1;33m\u001b[0m\u001b[0m\n\u001b[0m\u001b[0;32m     42\u001b[0m \u001b[1;32mfrom\u001b[0m \u001b[0mtensorflow\u001b[0m\u001b[1;33m.\u001b[0m\u001b[0m_api\u001b[0m\u001b[1;33m.\u001b[0m\u001b[0mv2\u001b[0m\u001b[1;33m.\u001b[0m\u001b[0mcompat\u001b[0m\u001b[1;33m.\u001b[0m\u001b[0mv2\u001b[0m \u001b[1;32mimport\u001b[0m \u001b[0mfeature_column\u001b[0m\u001b[1;33m\u001b[0m\u001b[1;33m\u001b[0m\u001b[0m\n\u001b[0;32m     43\u001b[0m \u001b[1;32mfrom\u001b[0m \u001b[0mtensorflow\u001b[0m\u001b[1;33m.\u001b[0m\u001b[0m_api\u001b[0m\u001b[1;33m.\u001b[0m\u001b[0mv2\u001b[0m\u001b[1;33m.\u001b[0m\u001b[0mcompat\u001b[0m\u001b[1;33m.\u001b[0m\u001b[0mv2\u001b[0m \u001b[1;32mimport\u001b[0m \u001b[0mgraph_util\u001b[0m\u001b[1;33m\u001b[0m\u001b[1;33m\u001b[0m\u001b[0m\n",
      "\u001b[1;32m~\\anaconda3\\lib\\site-packages\\tensorflow\\_api\\v2\\compat\\v2\\experimental\\__init__.py\u001b[0m in \u001b[0;36m<module>\u001b[1;34m\u001b[0m\n\u001b[0;32m      7\u001b[0m \u001b[1;33m\u001b[0m\u001b[0m\n\u001b[0;32m      8\u001b[0m \u001b[1;32mfrom\u001b[0m \u001b[0mtensorflow\u001b[0m\u001b[1;33m.\u001b[0m\u001b[0m_api\u001b[0m\u001b[1;33m.\u001b[0m\u001b[0mv2\u001b[0m\u001b[1;33m.\u001b[0m\u001b[0mcompat\u001b[0m\u001b[1;33m.\u001b[0m\u001b[0mv2\u001b[0m\u001b[1;33m.\u001b[0m\u001b[0mexperimental\u001b[0m \u001b[1;32mimport\u001b[0m \u001b[0mdlpack\u001b[0m\u001b[1;33m\u001b[0m\u001b[1;33m\u001b[0m\u001b[0m\n\u001b[1;32m----> 9\u001b[1;33m \u001b[1;32mfrom\u001b[0m \u001b[0mtensorflow\u001b[0m\u001b[1;33m.\u001b[0m\u001b[0m_api\u001b[0m\u001b[1;33m.\u001b[0m\u001b[0mv2\u001b[0m\u001b[1;33m.\u001b[0m\u001b[0mcompat\u001b[0m\u001b[1;33m.\u001b[0m\u001b[0mv2\u001b[0m\u001b[1;33m.\u001b[0m\u001b[0mexperimental\u001b[0m \u001b[1;32mimport\u001b[0m \u001b[0mdtensor\u001b[0m\u001b[1;33m\u001b[0m\u001b[1;33m\u001b[0m\u001b[0m\n\u001b[0m\u001b[0;32m     10\u001b[0m \u001b[1;32mfrom\u001b[0m \u001b[0mtensorflow\u001b[0m\u001b[1;33m.\u001b[0m\u001b[0m_api\u001b[0m\u001b[1;33m.\u001b[0m\u001b[0mv2\u001b[0m\u001b[1;33m.\u001b[0m\u001b[0mcompat\u001b[0m\u001b[1;33m.\u001b[0m\u001b[0mv2\u001b[0m\u001b[1;33m.\u001b[0m\u001b[0mexperimental\u001b[0m \u001b[1;32mimport\u001b[0m \u001b[0mextension_type\u001b[0m\u001b[1;33m\u001b[0m\u001b[1;33m\u001b[0m\u001b[0m\n\u001b[0;32m     11\u001b[0m \u001b[1;32mfrom\u001b[0m \u001b[0mtensorflow\u001b[0m\u001b[1;33m.\u001b[0m\u001b[0m_api\u001b[0m\u001b[1;33m.\u001b[0m\u001b[0mv2\u001b[0m\u001b[1;33m.\u001b[0m\u001b[0mcompat\u001b[0m\u001b[1;33m.\u001b[0m\u001b[0mv2\u001b[0m\u001b[1;33m.\u001b[0m\u001b[0mexperimental\u001b[0m \u001b[1;32mimport\u001b[0m \u001b[0mnumpy\u001b[0m\u001b[1;33m\u001b[0m\u001b[1;33m\u001b[0m\u001b[0m\n",
      "\u001b[1;32m~\\anaconda3\\lib\\site-packages\\tensorflow\\_api\\v2\\compat\\v2\\experimental\\dtensor\\__init__.py\u001b[0m in \u001b[0;36m<module>\u001b[1;34m\u001b[0m\n\u001b[0;32m     35\u001b[0m \u001b[1;32mfrom\u001b[0m \u001b[0mtensorflow\u001b[0m\u001b[1;33m.\u001b[0m\u001b[0mdtensor\u001b[0m\u001b[1;33m.\u001b[0m\u001b[0mpython\u001b[0m\u001b[1;33m.\u001b[0m\u001b[0mconfig\u001b[0m \u001b[1;32mimport\u001b[0m \u001b[0mnum_local_devices\u001b[0m \u001b[1;31m# line: 68\u001b[0m\u001b[1;33m\u001b[0m\u001b[1;33m\u001b[0m\u001b[0m\n\u001b[0;32m     36\u001b[0m \u001b[1;32mfrom\u001b[0m \u001b[0mtensorflow\u001b[0m\u001b[1;33m.\u001b[0m\u001b[0mdtensor\u001b[0m\u001b[1;33m.\u001b[0m\u001b[0mpython\u001b[0m\u001b[1;33m.\u001b[0m\u001b[0mconfig\u001b[0m \u001b[1;32mimport\u001b[0m \u001b[0mpreferred_device_type\u001b[0m \u001b[1;31m# line: 192\u001b[0m\u001b[1;33m\u001b[0m\u001b[1;33m\u001b[0m\u001b[0m\n\u001b[1;32m---> 37\u001b[1;33m \u001b[1;32mfrom\u001b[0m \u001b[0mtensorflow\u001b[0m\u001b[1;33m.\u001b[0m\u001b[0mdtensor\u001b[0m\u001b[1;33m.\u001b[0m\u001b[0mpython\u001b[0m\u001b[1;33m.\u001b[0m\u001b[0md_checkpoint\u001b[0m \u001b[1;32mimport\u001b[0m \u001b[0mDTensorCheckpoint\u001b[0m \u001b[1;31m# line: 411\u001b[0m\u001b[1;33m\u001b[0m\u001b[1;33m\u001b[0m\u001b[0m\n\u001b[0m\u001b[0;32m     38\u001b[0m \u001b[1;32mfrom\u001b[0m \u001b[0mtensorflow\u001b[0m\u001b[1;33m.\u001b[0m\u001b[0mdtensor\u001b[0m\u001b[1;33m.\u001b[0m\u001b[0mpython\u001b[0m\u001b[1;33m.\u001b[0m\u001b[0md_variable\u001b[0m \u001b[1;32mimport\u001b[0m \u001b[0mDVariable\u001b[0m \u001b[1;31m# line: 143\u001b[0m\u001b[1;33m\u001b[0m\u001b[1;33m\u001b[0m\u001b[0m\n\u001b[0;32m     39\u001b[0m \u001b[1;32mfrom\u001b[0m \u001b[0mtensorflow\u001b[0m\u001b[1;33m.\u001b[0m\u001b[0mdtensor\u001b[0m\u001b[1;33m.\u001b[0m\u001b[0mpython\u001b[0m\u001b[1;33m.\u001b[0m\u001b[0minput_util\u001b[0m \u001b[1;32mimport\u001b[0m \u001b[0mDTensorDataset\u001b[0m \u001b[1;31m# line: 384\u001b[0m\u001b[1;33m\u001b[0m\u001b[1;33m\u001b[0m\u001b[0m\n",
      "\u001b[1;32m~\\anaconda3\\lib\\importlib\\_bootstrap.py\u001b[0m in \u001b[0;36m_find_and_load\u001b[1;34m(name, import_)\u001b[0m\n",
      "\u001b[1;32m~\\anaconda3\\lib\\importlib\\_bootstrap.py\u001b[0m in \u001b[0;36m_find_and_load_unlocked\u001b[1;34m(name, import_)\u001b[0m\n",
      "\u001b[1;32m~\\anaconda3\\lib\\importlib\\_bootstrap.py\u001b[0m in \u001b[0;36m_load_unlocked\u001b[1;34m(spec)\u001b[0m\n",
      "\u001b[1;32m~\\anaconda3\\lib\\importlib\\_bootstrap_external.py\u001b[0m in \u001b[0;36mexec_module\u001b[1;34m(self, module)\u001b[0m\n",
      "\u001b[1;32m~\\anaconda3\\lib\\importlib\\_bootstrap_external.py\u001b[0m in \u001b[0;36mget_code\u001b[1;34m(self, fullname)\u001b[0m\n",
      "\u001b[1;32m~\\anaconda3\\lib\\importlib\\_bootstrap_external.py\u001b[0m in \u001b[0;36mpath_stats\u001b[1;34m(self, path)\u001b[0m\n",
      "\u001b[1;32m~\\anaconda3\\lib\\importlib\\_bootstrap_external.py\u001b[0m in \u001b[0;36m_path_stat\u001b[1;34m(path)\u001b[0m\n",
      "\u001b[1;31mKeyboardInterrupt\u001b[0m: "
     ]
    }
   ],
   "source": [
    "import numpy as np\n",
    "from sklearn.datasets import make_classification\n",
    "from sklearn.model_selection import train_test_split\n",
    "from sklearn.metrics import classification_report\n",
    "from tensorflow.keras.models import Sequential\n",
    "from tensorflow.keras.layers import Dense, Dropout\n",
    "from tensorflow.keras.optimizers import Adam\n",
    "\n",
    "\n",
    "\n",
    "# Définir les hyperparamètres optimaux trouvés par Optuna\n",
    "best_params = {\n",
    "    'n_layers': 2,\n",
    "    'activation': 'relu',\n",
    "    'optimizer': 'adam',\n",
    "    'dropout_rate': 0.4240365507794085,\n",
    "    'n_units_l0': 97,\n",
    "    'n_units_l1': 83\n",
    "}\n",
    "\n",
    "# Construire le modèle de réseau de neurones\n",
    "model = Sequential()\n",
    "\n",
    "# Ajouter les couches cachées en fonction des hyperparamètres\n",
    "for i in range(best_params['n_layers']):\n",
    "    if i == 0:\n",
    "        model.add(Dense(best_params['n_units_l0'], activation=best_params['activation'], input_shape=(train_X.shape[1],)))\n",
    "    else:\n",
    "        model.add(Dense(best_params[f'n_units_l{i}'], activation=best_params['activation']))\n",
    "    model.add(Dropout(best_params['dropout_rate']))\n",
    "\n",
    "# Ajouter la couche de sortie avec activation sigmoid pour la classification binaire\n",
    "model.add(Dense(1, activation='sigmoid'))\n",
    "\n",
    "# Compiler le modèle avec l'optimiseur Adam et la fonction de perte binary_crossentropy\n",
    "optimizer = Adam()\n",
    "model.compile(optimizer=optimizer, loss='binary_crossentropy', metrics=['accuracy'])\n",
    "\n",
    "# Entraîner le modèle\n",
    "model.fit(train_X, train_y, epochs=50, batch_size=32, validation_data=(test_X, test_y), verbose=1)\n",
    "\n",
    "# Faire des prédictions\n",
    "y_pred = (model.predict(test_X) > 0.5).astype(\"int32\")\n",
    "\n",
    "# Afficher le rapport de classification\n",
    "print(classification_report(test_y, y_pred))\n"
   ]
  },
  {
   "cell_type": "code",
   "execution_count": 119,
   "id": "90abcaa7",
   "metadata": {},
   "outputs": [
    {
     "name": "stdout",
     "output_type": "stream",
     "text": [
      "96/96 [==============================] - 1s 3ms/step\n",
      "              precision    recall  f1-score   support\n",
      "\n",
      "           0       0.97      0.98      0.97      2599\n",
      "           1       0.85      0.80      0.83       459\n",
      "\n",
      "    accuracy                           0.95      3058\n",
      "   macro avg       0.91      0.89      0.90      3058\n",
      "weighted avg       0.95      0.95      0.95      3058\n",
      "\n"
     ]
    }
   ],
   "source": [
    "from tensorflow.keras.models import Sequential\n",
    "from tensorflow.keras.layers import Dense, Dropout\n",
    "from tensorflow.keras.optimizers import Adam, RMSprop\n",
    "from sklearn.preprocessing import StandardScaler\n",
    "from sklearn.metrics import classification_report\n",
    "from tensorflow.keras.utils import to_categorical\n",
    "import numpy as np\n",
    "\n",
    "# Supposons que train_X, train_y, test_X, test_y soient déjà définis\n",
    "# Prétraitement des données (normalisation)\n",
    "scaler = StandardScaler()\n",
    "train_X = scaler.fit_transform(train_X)\n",
    "test_X = scaler.transform(test_X)\n",
    "\n",
    "# Convertir les étiquettes en catégories pour la classification multi-classe\n",
    "train_y = to_categorical(train_y)\n",
    "test_y = to_categorical(test_y)\n",
    "\n",
    "# Meilleurs hyperparamètres trouvés par Optuna (essai 15)\n",
    "best_params = {\n",
    "    'n_layers': 2,\n",
    "    'activation': 'relu',\n",
    "    'optimizer': 'adam',\n",
    "    'dropout_rate': 0.4984445081406467,\n",
    "    'n_units_l0': 104,\n",
    "    'n_units_l1': 127\n",
    "}\n",
    "\n",
    "# Construire le modèle final de réseau de neurones\n",
    "model = Sequential()\n",
    "input_shape = train_X.shape[1]\n",
    "\n",
    "for i in range(best_params['n_layers']):\n",
    "    num_hidden = best_params[f'n_units_l{i}']\n",
    "    if i == 0:\n",
    "        model.add(Dense(num_hidden, activation=best_params['activation'], input_shape=(input_shape,)))\n",
    "    else:\n",
    "        model.add(Dense(num_hidden, activation=best_params['activation']))\n",
    "    model.add(Dropout(best_params['dropout_rate']))\n",
    "\n",
    "model.add(Dense(train_y.shape[1], activation='softmax'))\n",
    "\n",
    "# Choisir l'optimiseur\n",
    "if best_params['optimizer'] == 'adam':\n",
    "    optimizer = Adam()\n",
    "else:\n",
    "    optimizer = RMSprop()\n",
    "\n",
    "model.compile(optimizer=optimizer, loss='categorical_crossentropy', metrics=['accuracy'])\n",
    "\n",
    "# Entraîner le modèle final avec les meilleurs hyperparamètres\n",
    "model.fit(train_X, train_y, epochs=50, batch_size=32, verbose=0)\n",
    "\n",
    "# Évaluer le modèle final\n",
    "y_pred = model.predict(test_X)\n",
    "y_pred_classes = np.argmax(y_pred, axis=1)\n",
    "test_y_classes = np.argmax(test_y, axis=1)\n",
    "print(classification_report(test_y_classes, y_pred_classes))\n"
   ]
  },
  {
   "cell_type": "code",
   "execution_count": 118,
   "id": "972ad59e",
   "metadata": {},
   "outputs": [
    {
     "name": "stdout",
     "output_type": "stream",
     "text": [
      "WARNING:tensorflow:From C:\\Users\\HOME\\anaconda3\\lib\\site-packages\\keras\\src\\losses.py:2976: The name tf.losses.sparse_softmax_cross_entropy is deprecated. Please use tf.compat.v1.losses.sparse_softmax_cross_entropy instead.\n",
      "\n",
      "WARNING:tensorflow:From C:\\Users\\HOME\\anaconda3\\lib\\site-packages\\keras\\src\\backend.py:873: The name tf.get_default_graph is deprecated. Please use tf.compat.v1.get_default_graph instead.\n",
      "\n",
      "Epoch 1/50\n",
      "WARNING:tensorflow:From C:\\Users\\HOME\\anaconda3\\lib\\site-packages\\keras\\src\\utils\\tf_utils.py:492: The name tf.ragged.RaggedTensorValue is deprecated. Please use tf.compat.v1.ragged.RaggedTensorValue instead.\n",
      "\n",
      "WARNING:tensorflow:From C:\\Users\\HOME\\anaconda3\\lib\\site-packages\\keras\\src\\engine\\base_layer_utils.py:384: The name tf.executing_eagerly_outside_functions is deprecated. Please use tf.compat.v1.executing_eagerly_outside_functions instead.\n",
      "\n",
      "223/223 [==============================] - 4s 9ms/step - loss: 10710.2939 - accuracy: 0.7355 - val_loss: 1457.7996 - val_accuracy: 0.8499\n",
      "Epoch 2/50\n",
      "223/223 [==============================] - 1s 6ms/step - loss: 2797.9663 - accuracy: 0.7391 - val_loss: 81.0930 - val_accuracy: 0.8499\n",
      "Epoch 3/50\n",
      "223/223 [==============================] - 1s 6ms/step - loss: 854.2645 - accuracy: 0.7387 - val_loss: 16.1398 - val_accuracy: 0.8499\n",
      "Epoch 4/50\n",
      "223/223 [==============================] - 1s 6ms/step - loss: 386.8411 - accuracy: 0.7401 - val_loss: 15.9924 - val_accuracy: 0.8499\n",
      "Epoch 5/50\n",
      "223/223 [==============================] - 1s 6ms/step - loss: 176.7440 - accuracy: 0.7614 - val_loss: 3.0690 - val_accuracy: 0.8371\n",
      "Epoch 6/50\n",
      "223/223 [==============================] - 1s 6ms/step - loss: 94.9564 - accuracy: 0.7934 - val_loss: 1.8261 - val_accuracy: 0.8499\n",
      "Epoch 7/50\n",
      "223/223 [==============================] - 2s 10ms/step - loss: 64.8637 - accuracy: 0.8084 - val_loss: 0.8127 - val_accuracy: 0.8499\n",
      "Epoch 8/50\n",
      "223/223 [==============================] - 1s 6ms/step - loss: 70.5499 - accuracy: 0.8080 - val_loss: 0.6856 - val_accuracy: 0.8234\n",
      "Epoch 9/50\n",
      "223/223 [==============================] - 1s 5ms/step - loss: 23.5546 - accuracy: 0.8238 - val_loss: 0.5855 - val_accuracy: 0.8492\n",
      "Epoch 10/50\n",
      "223/223 [==============================] - 1s 6ms/step - loss: 16.2313 - accuracy: 0.8237 - val_loss: 0.4865 - val_accuracy: 0.8499\n",
      "Epoch 11/50\n",
      "223/223 [==============================] - 1s 4ms/step - loss: 27.0174 - accuracy: 0.8244 - val_loss: 0.4453 - val_accuracy: 0.8499\n",
      "Epoch 12/50\n",
      "223/223 [==============================] - 1s 5ms/step - loss: 13.8647 - accuracy: 0.8328 - val_loss: 0.6437 - val_accuracy: 0.8381\n",
      "Epoch 13/50\n",
      "223/223 [==============================] - 1s 5ms/step - loss: 8.5382 - accuracy: 0.8361 - val_loss: 0.4552 - val_accuracy: 0.8499\n",
      "Epoch 14/50\n",
      "223/223 [==============================] - 1s 5ms/step - loss: 10.9082 - accuracy: 0.8360 - val_loss: 0.4294 - val_accuracy: 0.8499\n",
      "Epoch 15/50\n",
      "223/223 [==============================] - 1s 5ms/step - loss: 12.7770 - accuracy: 0.8360 - val_loss: 0.4296 - val_accuracy: 0.8499\n",
      "Epoch 16/50\n",
      "223/223 [==============================] - 1s 5ms/step - loss: 6.5476 - accuracy: 0.8360 - val_loss: 0.4241 - val_accuracy: 0.8499\n",
      "Epoch 17/50\n",
      "223/223 [==============================] - 1s 6ms/step - loss: 5.0480 - accuracy: 0.8384 - val_loss: 0.4237 - val_accuracy: 0.8499\n",
      "Epoch 18/50\n",
      "223/223 [==============================] - 1s 6ms/step - loss: 5.8593 - accuracy: 0.8374 - val_loss: 0.4236 - val_accuracy: 0.8499\n",
      "Epoch 19/50\n",
      "223/223 [==============================] - 1s 6ms/step - loss: 1.9355 - accuracy: 0.8374 - val_loss: 0.4233 - val_accuracy: 0.8499\n",
      "Epoch 20/50\n",
      "223/223 [==============================] - 1s 6ms/step - loss: 3.2905 - accuracy: 0.8377 - val_loss: 0.4239 - val_accuracy: 0.8499\n",
      "Epoch 21/50\n",
      "223/223 [==============================] - 2s 11ms/step - loss: 1.8032 - accuracy: 0.8388 - val_loss: 0.4237 - val_accuracy: 0.8499\n",
      "Epoch 22/50\n",
      "223/223 [==============================] - 1s 6ms/step - loss: 4.0663 - accuracy: 0.8377 - val_loss: 0.4236 - val_accuracy: 0.8499\n",
      "Epoch 23/50\n",
      "223/223 [==============================] - 1s 6ms/step - loss: 2.4525 - accuracy: 0.8398 - val_loss: 0.4236 - val_accuracy: 0.8499\n",
      "Epoch 24/50\n",
      "223/223 [==============================] - 1s 5ms/step - loss: 3.9255 - accuracy: 0.8395 - val_loss: 0.4236 - val_accuracy: 0.8499\n",
      "Epoch 25/50\n",
      "223/223 [==============================] - 1s 5ms/step - loss: 5.0698 - accuracy: 0.8392 - val_loss: 0.4235 - val_accuracy: 0.8499\n",
      "Epoch 26/50\n",
      "223/223 [==============================] - 1s 5ms/step - loss: 1.8028 - accuracy: 0.8394 - val_loss: 0.4234 - val_accuracy: 0.8499\n",
      "Epoch 27/50\n",
      "223/223 [==============================] - 1s 5ms/step - loss: 1.2181 - accuracy: 0.8396 - val_loss: 0.4234 - val_accuracy: 0.8499\n",
      "Epoch 28/50\n",
      "223/223 [==============================] - 1s 6ms/step - loss: 5.1725 - accuracy: 0.8392 - val_loss: 0.4234 - val_accuracy: 0.8499\n",
      "Epoch 29/50\n",
      "223/223 [==============================] - 1s 6ms/step - loss: 2.4215 - accuracy: 0.8391 - val_loss: 0.4234 - val_accuracy: 0.8499\n",
      "Epoch 30/50\n",
      "223/223 [==============================] - 1s 6ms/step - loss: 1.4062 - accuracy: 0.8401 - val_loss: 0.4234 - val_accuracy: 0.8499\n",
      "Epoch 31/50\n",
      "223/223 [==============================] - 1s 6ms/step - loss: 3.3185 - accuracy: 0.8394 - val_loss: 0.4233 - val_accuracy: 0.8499\n",
      "Epoch 32/50\n",
      "223/223 [==============================] - 1s 6ms/step - loss: 0.7214 - accuracy: 0.8398 - val_loss: 0.4233 - val_accuracy: 0.8499\n",
      "Epoch 33/50\n",
      "223/223 [==============================] - 2s 7ms/step - loss: 1.3505 - accuracy: 0.8399 - val_loss: 0.4233 - val_accuracy: 0.8499\n",
      "Epoch 34/50\n",
      "223/223 [==============================] - 1s 7ms/step - loss: 0.6399 - accuracy: 0.8396 - val_loss: 0.4233 - val_accuracy: 0.8499\n",
      "Epoch 35/50\n",
      "223/223 [==============================] - 1s 6ms/step - loss: 1.0229 - accuracy: 0.8401 - val_loss: 0.4233 - val_accuracy: 0.8499\n",
      "Epoch 36/50\n",
      "223/223 [==============================] - 1s 5ms/step - loss: 0.4539 - accuracy: 0.8401 - val_loss: 0.4232 - val_accuracy: 0.8499\n",
      "Epoch 37/50\n",
      "223/223 [==============================] - 1s 5ms/step - loss: 0.5913 - accuracy: 0.8399 - val_loss: 0.4233 - val_accuracy: 0.8499\n",
      "Epoch 38/50\n",
      "223/223 [==============================] - 1s 5ms/step - loss: 0.8498 - accuracy: 0.8401 - val_loss: 0.4233 - val_accuracy: 0.8499\n",
      "Epoch 39/50\n",
      "223/223 [==============================] - 1s 5ms/step - loss: 0.7331 - accuracy: 0.8401 - val_loss: 0.4233 - val_accuracy: 0.8499\n",
      "Epoch 40/50\n",
      "223/223 [==============================] - 1s 6ms/step - loss: 0.8597 - accuracy: 0.8395 - val_loss: 0.4233 - val_accuracy: 0.8499\n",
      "Epoch 41/50\n",
      "223/223 [==============================] - 1s 6ms/step - loss: 2.4653 - accuracy: 0.8401 - val_loss: 0.4232 - val_accuracy: 0.8499\n",
      "Epoch 42/50\n",
      "223/223 [==============================] - 1s 6ms/step - loss: 0.5283 - accuracy: 0.8401 - val_loss: 0.4233 - val_accuracy: 0.8499\n",
      "Epoch 43/50\n",
      "223/223 [==============================] - 1s 6ms/step - loss: 0.5152 - accuracy: 0.8399 - val_loss: 0.4232 - val_accuracy: 0.8499\n",
      "Epoch 44/50\n",
      "223/223 [==============================] - 1s 6ms/step - loss: 0.4496 - accuracy: 0.8401 - val_loss: 0.4233 - val_accuracy: 0.8499\n",
      "Epoch 45/50\n",
      "223/223 [==============================] - 1s 6ms/step - loss: 0.6370 - accuracy: 0.8402 - val_loss: 0.4233 - val_accuracy: 0.8499\n",
      "Epoch 46/50\n",
      "223/223 [==============================] - 1s 6ms/step - loss: 0.4385 - accuracy: 0.8403 - val_loss: 0.4233 - val_accuracy: 0.8499\n",
      "Epoch 47/50\n",
      "223/223 [==============================] - 1s 6ms/step - loss: 0.9059 - accuracy: 0.8401 - val_loss: 0.4233 - val_accuracy: 0.8499\n",
      "Epoch 48/50\n",
      "223/223 [==============================] - 1s 5ms/step - loss: 0.4851 - accuracy: 0.8401 - val_loss: 0.4232 - val_accuracy: 0.8499\n",
      "Epoch 49/50\n",
      "223/223 [==============================] - 1s 5ms/step - loss: 0.5714 - accuracy: 0.8402 - val_loss: 0.4233 - val_accuracy: 0.8499\n",
      "Epoch 50/50\n",
      "223/223 [==============================] - 1s 5ms/step - loss: 0.5098 - accuracy: 0.8401 - val_loss: 0.4233 - val_accuracy: 0.8499\n",
      "96/96 [==============================] - 1s 2ms/step\n",
      "              precision    recall  f1-score   support\n",
      "\n",
      "           0       0.85      1.00      0.92      2599\n",
      "           1       0.00      0.00      0.00       459\n",
      "\n",
      "    accuracy                           0.85      3058\n",
      "   macro avg       0.42      0.50      0.46      3058\n",
      "weighted avg       0.72      0.85      0.78      3058\n",
      "\n"
     ]
    },
    {
     "name": "stderr",
     "output_type": "stream",
     "text": [
      "C:\\Users\\HOME\\anaconda3\\lib\\site-packages\\sklearn\\metrics\\_classification.py:1318: UndefinedMetricWarning: Precision and F-score are ill-defined and being set to 0.0 in labels with no predicted samples. Use `zero_division` parameter to control this behavior.\n",
      "  _warn_prf(average, modifier, msg_start, len(result))\n",
      "C:\\Users\\HOME\\anaconda3\\lib\\site-packages\\sklearn\\metrics\\_classification.py:1318: UndefinedMetricWarning: Precision and F-score are ill-defined and being set to 0.0 in labels with no predicted samples. Use `zero_division` parameter to control this behavior.\n",
      "  _warn_prf(average, modifier, msg_start, len(result))\n",
      "C:\\Users\\HOME\\anaconda3\\lib\\site-packages\\sklearn\\metrics\\_classification.py:1318: UndefinedMetricWarning: Precision and F-score are ill-defined and being set to 0.0 in labels with no predicted samples. Use `zero_division` parameter to control this behavior.\n",
      "  _warn_prf(average, modifier, msg_start, len(result))\n"
     ]
    }
   ],
   "source": [
    "import numpy as np\n",
    "from sklearn.datasets import make_classification\n",
    "from sklearn.model_selection import train_test_split\n",
    "from sklearn.metrics import classification_report\n",
    "from tensorflow.keras.models import Sequential\n",
    "from tensorflow.keras.layers import Dense, Dropout\n",
    "from tensorflow.keras.optimizers import Adam\n",
    "\n",
    "\n",
    "\n",
    "# Définir les hyperparamètres optimaux trouvés par Optuna\n",
    "best_params = {\n",
    "    'n_layers': 2,\n",
    "    'activation': 'relu',\n",
    "    'optimizer': 'adam',\n",
    "    'dropout_rate': 0.4240365507794085,\n",
    "    'n_units_l0': 97,\n",
    "    'n_units_l1': 83\n",
    "}\n",
    "\n",
    "# Construire le modèle de réseau de neurones\n",
    "model = Sequential()\n",
    "\n",
    "# Ajouter les couches cachées en fonction des hyperparamètres\n",
    "for i in range(best_params['n_layers']):\n",
    "    if i == 0:\n",
    "        model.add(Dense(best_params['n_units_l0'], activation=best_params['activation'], input_shape=(train_X.shape[1],)))\n",
    "    else:\n",
    "        model.add(Dense(best_params[f'n_units_l{i}'], activation=best_params['activation']))\n",
    "    model.add(Dropout(best_params['dropout_rate']))\n",
    "\n",
    "# Ajouter la couche de sortie\n",
    "model.add(Dense(1, activation='sigmoid'))\n",
    "\n",
    "# Compiler le modèle avec l'optimiseur Adam\n",
    "optimizer = Adam()\n",
    "model.compile(optimizer=optimizer, loss='binary_crossentropy', metrics=['accuracy'])\n",
    "\n",
    "# Entraîner le modèle\n",
    "model.fit(train_X, train_y, epochs=50, batch_size=32, validation_data=(test_X, test_y), verbose=1)\n",
    "\n",
    "# Faire des prédictions\n",
    "y_pred = (model.predict(test_X) > 0.5).astype(\"int32\")\n",
    "\n",
    "# Afficher le rapport de classification\n",
    "print(classification_report(test_y, y_pred))\n"
   ]
  },
  {
   "cell_type": "code",
   "execution_count": null,
   "id": "96b5a097",
   "metadata": {},
   "outputs": [],
   "source": [
    "import pickle\n",
    "\n",
    "file = './App_ModelNN.pkl'\n",
    "with open(file, 'wb') as f:\n",
    "    pickle.dump(mod1, f)"
   ]
  }
 ],
 "metadata": {
  "kernelspec": {
   "display_name": "Python 3 (ipykernel)",
   "language": "python",
   "name": "python3"
  },
  "language_info": {
   "codemirror_mode": {
    "name": "ipython",
    "version": 3
   },
   "file_extension": ".py",
   "mimetype": "text/x-python",
   "name": "python",
   "nbconvert_exporter": "python",
   "pygments_lexer": "ipython3",
   "version": "3.9.13"
  }
 },
 "nbformat": 4,
 "nbformat_minor": 5
}
